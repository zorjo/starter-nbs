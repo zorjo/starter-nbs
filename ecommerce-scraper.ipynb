{
 "cells": [
  {
   "cell_type": "code",
   "execution_count": 8,
   "metadata": {},
   "outputs": [],
   "source": [
    "from selenium import webdriver\n",
    "from selenium.webdriver.common.by import By\n",
    "from selenium.webdriver.common.keys import Keys\n",
    "import os\n",
    "import time\n",
    "from selenium.webdriver.support import expected_conditions as EC\n",
    "from selenium.webdriver.support.ui import WebDriverWait\n",
    "os.chdir('C:/Users/ASUS/Downloads/Win_665004_chrome-win/chrome-win')\n",
    "options1=webdriver.ChromeOptions()\n",
    "options1.binary_location=\"./chrome.exe\";\n",
    "options1.add_argument(\"--no-sandbox\")\n",
    "\n",
    "options1.add_argument(r\"--user-data-dir=C:\\Users\\ASUS\\AppData\\Local\\Chromium\\User Data\") #e.g. C:\\Users\\You\\AppData\\Local\\Google\\Chrome\\User Data\n",
    "options1.add_argument(r'--profile-directory=Default') #e.g. Profile 3\n",
    "driver=webdriver.Chrome(options=options1)\n",
    "wait = WebDriverWait(driver, 5)\n",
    "\n",
    "cosmix_asins=['B0BCWW8C99','B0B257V797','B0B2579LQV','B0B254BYGW','B0BL135876','B0CNTNX44L','B0B253Y351','B0B25BRTJX','B0CNTNFMS9']\n",
    "driver.maximize_window()\n",
    "driver.get(\"https://www.flipkart.com/search?q=cosmix+plant+protein&otracker=search&otracker1=search&marketplace=FLIPKART&as-show=on&as=off&sort=popularity\")\n",
    "time.sleep(10)\n",
    "searchres1=driver.page_source\n",
    "driver.get(\"https://www.flipkart.com/search?q=plant+protein&otracker=search&otracker1=search&marketplace=FLIPKART&as-show=on&as=off&sort=popularity\")\n",
    "time.sleep(10)\n",
    "searchres2=driver.page_source\n",
    "driver.get(\"https://www.amazon.in/gp/bestsellers/hpc/11364599031/ref=zg_bs_unv_hpc_5_11364598031_2\")\n",
    "time.sleep(10)\n",
    "searchres3=driver.page_source\n",
    "driver.close()"
   ]
  },
  {
   "cell_type": "code",
   "execution_count": 14,
   "metadata": {},
   "outputs": [
    {
     "ename": "KeyboardInterrupt",
     "evalue": "",
     "output_type": "error",
     "traceback": [
      "\u001b[1;31m---------------------------------------------------------------------------\u001b[0m",
      "\u001b[1;31mKeyboardInterrupt\u001b[0m                         Traceback (most recent call last)",
      "Cell \u001b[1;32mIn[14], line 1\u001b[0m\n\u001b[1;32m----> 1\u001b[0m driver\u001b[38;5;241m=\u001b[39m\u001b[43mwebdriver\u001b[49m\u001b[38;5;241;43m.\u001b[39;49m\u001b[43mChrome\u001b[49m\u001b[43m(\u001b[49m\u001b[43moptions\u001b[49m\u001b[38;5;241;43m=\u001b[39;49m\u001b[43moptions1\u001b[49m\u001b[43m)\u001b[49m\n\u001b[0;32m      2\u001b[0m driver\u001b[38;5;241m.\u001b[39mmaximize_window()\n",
      "File \u001b[1;32m~\\AppData\\Roaming\\Python\\Python311\\site-packages\\selenium\\webdriver\\chrome\\webdriver.py:45\u001b[0m, in \u001b[0;36mWebDriver.__init__\u001b[1;34m(self, options, service, keep_alive)\u001b[0m\n\u001b[0;32m     42\u001b[0m service \u001b[38;5;241m=\u001b[39m service \u001b[38;5;28;01mif\u001b[39;00m service \u001b[38;5;28;01melse\u001b[39;00m Service()\n\u001b[0;32m     43\u001b[0m options \u001b[38;5;241m=\u001b[39m options \u001b[38;5;28;01mif\u001b[39;00m options \u001b[38;5;28;01melse\u001b[39;00m Options()\n\u001b[1;32m---> 45\u001b[0m \u001b[38;5;28;43msuper\u001b[39;49m\u001b[43m(\u001b[49m\u001b[43m)\u001b[49m\u001b[38;5;241;43m.\u001b[39;49m\u001b[38;5;21;43m__init__\u001b[39;49m\u001b[43m(\u001b[49m\n\u001b[0;32m     46\u001b[0m \u001b[43m    \u001b[49m\u001b[43mbrowser_name\u001b[49m\u001b[38;5;241;43m=\u001b[39;49m\u001b[43mDesiredCapabilities\u001b[49m\u001b[38;5;241;43m.\u001b[39;49m\u001b[43mCHROME\u001b[49m\u001b[43m[\u001b[49m\u001b[38;5;124;43m\"\u001b[39;49m\u001b[38;5;124;43mbrowserName\u001b[39;49m\u001b[38;5;124;43m\"\u001b[39;49m\u001b[43m]\u001b[49m\u001b[43m,\u001b[49m\n\u001b[0;32m     47\u001b[0m \u001b[43m    \u001b[49m\u001b[43mvendor_prefix\u001b[49m\u001b[38;5;241;43m=\u001b[39;49m\u001b[38;5;124;43m\"\u001b[39;49m\u001b[38;5;124;43mgoog\u001b[39;49m\u001b[38;5;124;43m\"\u001b[39;49m\u001b[43m,\u001b[49m\n\u001b[0;32m     48\u001b[0m \u001b[43m    \u001b[49m\u001b[43moptions\u001b[49m\u001b[38;5;241;43m=\u001b[39;49m\u001b[43moptions\u001b[49m\u001b[43m,\u001b[49m\n\u001b[0;32m     49\u001b[0m \u001b[43m    \u001b[49m\u001b[43mservice\u001b[49m\u001b[38;5;241;43m=\u001b[39;49m\u001b[43mservice\u001b[49m\u001b[43m,\u001b[49m\n\u001b[0;32m     50\u001b[0m \u001b[43m    \u001b[49m\u001b[43mkeep_alive\u001b[49m\u001b[38;5;241;43m=\u001b[39;49m\u001b[43mkeep_alive\u001b[49m\u001b[43m,\u001b[49m\n\u001b[0;32m     51\u001b[0m \u001b[43m\u001b[49m\u001b[43m)\u001b[49m\n",
      "File \u001b[1;32m~\\AppData\\Roaming\\Python\\Python311\\site-packages\\selenium\\webdriver\\chromium\\webdriver.py:61\u001b[0m, in \u001b[0;36mChromiumDriver.__init__\u001b[1;34m(self, browser_name, vendor_prefix, options, service, keep_alive)\u001b[0m\n\u001b[0;32m     52\u001b[0m executor \u001b[38;5;241m=\u001b[39m ChromiumRemoteConnection(\n\u001b[0;32m     53\u001b[0m     remote_server_addr\u001b[38;5;241m=\u001b[39m\u001b[38;5;28mself\u001b[39m\u001b[38;5;241m.\u001b[39mservice\u001b[38;5;241m.\u001b[39mservice_url,\n\u001b[0;32m     54\u001b[0m     browser_name\u001b[38;5;241m=\u001b[39mbrowser_name,\n\u001b[1;32m   (...)\u001b[0m\n\u001b[0;32m     57\u001b[0m     ignore_proxy\u001b[38;5;241m=\u001b[39moptions\u001b[38;5;241m.\u001b[39m_ignore_local_proxy,\n\u001b[0;32m     58\u001b[0m )\n\u001b[0;32m     60\u001b[0m \u001b[38;5;28;01mtry\u001b[39;00m:\n\u001b[1;32m---> 61\u001b[0m     \u001b[38;5;28;43msuper\u001b[39;49m\u001b[43m(\u001b[49m\u001b[43m)\u001b[49m\u001b[38;5;241;43m.\u001b[39;49m\u001b[38;5;21;43m__init__\u001b[39;49m\u001b[43m(\u001b[49m\u001b[43mcommand_executor\u001b[49m\u001b[38;5;241;43m=\u001b[39;49m\u001b[43mexecutor\u001b[49m\u001b[43m,\u001b[49m\u001b[43m \u001b[49m\u001b[43moptions\u001b[49m\u001b[38;5;241;43m=\u001b[39;49m\u001b[43moptions\u001b[49m\u001b[43m)\u001b[49m\n\u001b[0;32m     62\u001b[0m \u001b[38;5;28;01mexcept\u001b[39;00m \u001b[38;5;167;01mException\u001b[39;00m:\n\u001b[0;32m     63\u001b[0m     \u001b[38;5;28mself\u001b[39m\u001b[38;5;241m.\u001b[39mquit()\n",
      "File \u001b[1;32m~\\AppData\\Roaming\\Python\\Python311\\site-packages\\selenium\\webdriver\\remote\\webdriver.py:208\u001b[0m, in \u001b[0;36mWebDriver.__init__\u001b[1;34m(self, command_executor, keep_alive, file_detector, options)\u001b[0m\n\u001b[0;32m    206\u001b[0m \u001b[38;5;28mself\u001b[39m\u001b[38;5;241m.\u001b[39m_authenticator_id \u001b[38;5;241m=\u001b[39m \u001b[38;5;28;01mNone\u001b[39;00m\n\u001b[0;32m    207\u001b[0m \u001b[38;5;28mself\u001b[39m\u001b[38;5;241m.\u001b[39mstart_client()\n\u001b[1;32m--> 208\u001b[0m \u001b[38;5;28;43mself\u001b[39;49m\u001b[38;5;241;43m.\u001b[39;49m\u001b[43mstart_session\u001b[49m\u001b[43m(\u001b[49m\u001b[43mcapabilities\u001b[49m\u001b[43m)\u001b[49m\n",
      "File \u001b[1;32m~\\AppData\\Roaming\\Python\\Python311\\site-packages\\selenium\\webdriver\\remote\\webdriver.py:292\u001b[0m, in \u001b[0;36mWebDriver.start_session\u001b[1;34m(self, capabilities)\u001b[0m\n\u001b[0;32m    285\u001b[0m \u001b[38;5;250m\u001b[39m\u001b[38;5;124;03m\"\"\"Creates a new session with the desired capabilities.\u001b[39;00m\n\u001b[0;32m    286\u001b[0m \n\u001b[0;32m    287\u001b[0m \u001b[38;5;124;03m:Args:\u001b[39;00m\n\u001b[0;32m    288\u001b[0m \u001b[38;5;124;03m - capabilities - a capabilities dict to start the session with.\u001b[39;00m\n\u001b[0;32m    289\u001b[0m \u001b[38;5;124;03m\"\"\"\u001b[39;00m\n\u001b[0;32m    291\u001b[0m caps \u001b[38;5;241m=\u001b[39m _create_caps(capabilities)\n\u001b[1;32m--> 292\u001b[0m response \u001b[38;5;241m=\u001b[39m \u001b[38;5;28;43mself\u001b[39;49m\u001b[38;5;241;43m.\u001b[39;49m\u001b[43mexecute\u001b[49m\u001b[43m(\u001b[49m\u001b[43mCommand\u001b[49m\u001b[38;5;241;43m.\u001b[39;49m\u001b[43mNEW_SESSION\u001b[49m\u001b[43m,\u001b[49m\u001b[43m \u001b[49m\u001b[43mcaps\u001b[49m\u001b[43m)\u001b[49m[\u001b[38;5;124m\"\u001b[39m\u001b[38;5;124mvalue\u001b[39m\u001b[38;5;124m\"\u001b[39m]\n\u001b[0;32m    293\u001b[0m \u001b[38;5;28mself\u001b[39m\u001b[38;5;241m.\u001b[39msession_id \u001b[38;5;241m=\u001b[39m response\u001b[38;5;241m.\u001b[39mget(\u001b[38;5;124m\"\u001b[39m\u001b[38;5;124msessionId\u001b[39m\u001b[38;5;124m\"\u001b[39m)\n\u001b[0;32m    294\u001b[0m \u001b[38;5;28mself\u001b[39m\u001b[38;5;241m.\u001b[39mcaps \u001b[38;5;241m=\u001b[39m response\u001b[38;5;241m.\u001b[39mget(\u001b[38;5;124m\"\u001b[39m\u001b[38;5;124mcapabilities\u001b[39m\u001b[38;5;124m\"\u001b[39m)\n",
      "File \u001b[1;32m~\\AppData\\Roaming\\Python\\Python311\\site-packages\\selenium\\webdriver\\remote\\webdriver.py:345\u001b[0m, in \u001b[0;36mWebDriver.execute\u001b[1;34m(self, driver_command, params)\u001b[0m\n\u001b[0;32m    342\u001b[0m     \u001b[38;5;28;01melif\u001b[39;00m \u001b[38;5;124m\"\u001b[39m\u001b[38;5;124msessionId\u001b[39m\u001b[38;5;124m\"\u001b[39m \u001b[38;5;129;01mnot\u001b[39;00m \u001b[38;5;129;01min\u001b[39;00m params:\n\u001b[0;32m    343\u001b[0m         params[\u001b[38;5;124m\"\u001b[39m\u001b[38;5;124msessionId\u001b[39m\u001b[38;5;124m\"\u001b[39m] \u001b[38;5;241m=\u001b[39m \u001b[38;5;28mself\u001b[39m\u001b[38;5;241m.\u001b[39msession_id\n\u001b[1;32m--> 345\u001b[0m response \u001b[38;5;241m=\u001b[39m \u001b[38;5;28;43mself\u001b[39;49m\u001b[38;5;241;43m.\u001b[39;49m\u001b[43mcommand_executor\u001b[49m\u001b[38;5;241;43m.\u001b[39;49m\u001b[43mexecute\u001b[49m\u001b[43m(\u001b[49m\u001b[43mdriver_command\u001b[49m\u001b[43m,\u001b[49m\u001b[43m \u001b[49m\u001b[43mparams\u001b[49m\u001b[43m)\u001b[49m\n\u001b[0;32m    346\u001b[0m \u001b[38;5;28;01mif\u001b[39;00m response:\n\u001b[0;32m    347\u001b[0m     \u001b[38;5;28mself\u001b[39m\u001b[38;5;241m.\u001b[39merror_handler\u001b[38;5;241m.\u001b[39mcheck_response(response)\n",
      "File \u001b[1;32m~\\AppData\\Roaming\\Python\\Python311\\site-packages\\selenium\\webdriver\\remote\\remote_connection.py:302\u001b[0m, in \u001b[0;36mRemoteConnection.execute\u001b[1;34m(self, command, params)\u001b[0m\n\u001b[0;32m    300\u001b[0m trimmed \u001b[38;5;241m=\u001b[39m \u001b[38;5;28mself\u001b[39m\u001b[38;5;241m.\u001b[39m_trim_large_entries(params)\n\u001b[0;32m    301\u001b[0m LOGGER\u001b[38;5;241m.\u001b[39mdebug(\u001b[38;5;124m\"\u001b[39m\u001b[38;5;132;01m%s\u001b[39;00m\u001b[38;5;124m \u001b[39m\u001b[38;5;132;01m%s\u001b[39;00m\u001b[38;5;124m \u001b[39m\u001b[38;5;132;01m%s\u001b[39;00m\u001b[38;5;124m\"\u001b[39m, command_info[\u001b[38;5;241m0\u001b[39m], url, \u001b[38;5;28mstr\u001b[39m(trimmed))\n\u001b[1;32m--> 302\u001b[0m \u001b[38;5;28;01mreturn\u001b[39;00m \u001b[38;5;28;43mself\u001b[39;49m\u001b[38;5;241;43m.\u001b[39;49m\u001b[43m_request\u001b[49m\u001b[43m(\u001b[49m\u001b[43mcommand_info\u001b[49m\u001b[43m[\u001b[49m\u001b[38;5;241;43m0\u001b[39;49m\u001b[43m]\u001b[49m\u001b[43m,\u001b[49m\u001b[43m \u001b[49m\u001b[43murl\u001b[49m\u001b[43m,\u001b[49m\u001b[43m \u001b[49m\u001b[43mbody\u001b[49m\u001b[38;5;241;43m=\u001b[39;49m\u001b[43mdata\u001b[49m\u001b[43m)\u001b[49m\n",
      "File \u001b[1;32m~\\AppData\\Roaming\\Python\\Python311\\site-packages\\selenium\\webdriver\\remote\\remote_connection.py:322\u001b[0m, in \u001b[0;36mRemoteConnection._request\u001b[1;34m(self, method, url, body)\u001b[0m\n\u001b[0;32m    319\u001b[0m     body \u001b[38;5;241m=\u001b[39m \u001b[38;5;28;01mNone\u001b[39;00m\n\u001b[0;32m    321\u001b[0m \u001b[38;5;28;01mif\u001b[39;00m \u001b[38;5;28mself\u001b[39m\u001b[38;5;241m.\u001b[39mkeep_alive:\n\u001b[1;32m--> 322\u001b[0m     response \u001b[38;5;241m=\u001b[39m \u001b[38;5;28;43mself\u001b[39;49m\u001b[38;5;241;43m.\u001b[39;49m\u001b[43m_conn\u001b[49m\u001b[38;5;241;43m.\u001b[39;49m\u001b[43mrequest\u001b[49m\u001b[43m(\u001b[49m\u001b[43mmethod\u001b[49m\u001b[43m,\u001b[49m\u001b[43m \u001b[49m\u001b[43murl\u001b[49m\u001b[43m,\u001b[49m\u001b[43m \u001b[49m\u001b[43mbody\u001b[49m\u001b[38;5;241;43m=\u001b[39;49m\u001b[43mbody\u001b[49m\u001b[43m,\u001b[49m\u001b[43m \u001b[49m\u001b[43mheaders\u001b[49m\u001b[38;5;241;43m=\u001b[39;49m\u001b[43mheaders\u001b[49m\u001b[43m)\u001b[49m\n\u001b[0;32m    323\u001b[0m     statuscode \u001b[38;5;241m=\u001b[39m response\u001b[38;5;241m.\u001b[39mstatus\n\u001b[0;32m    324\u001b[0m \u001b[38;5;28;01melse\u001b[39;00m:\n",
      "File \u001b[1;32m~\\AppData\\Roaming\\Python\\Python311\\site-packages\\urllib3\\_request_methods.py:144\u001b[0m, in \u001b[0;36mRequestMethods.request\u001b[1;34m(self, method, url, body, fields, headers, json, **urlopen_kw)\u001b[0m\n\u001b[0;32m    136\u001b[0m     \u001b[38;5;28;01mreturn\u001b[39;00m \u001b[38;5;28mself\u001b[39m\u001b[38;5;241m.\u001b[39mrequest_encode_url(\n\u001b[0;32m    137\u001b[0m         method,\n\u001b[0;32m    138\u001b[0m         url,\n\u001b[1;32m   (...)\u001b[0m\n\u001b[0;32m    141\u001b[0m         \u001b[38;5;241m*\u001b[39m\u001b[38;5;241m*\u001b[39murlopen_kw,\n\u001b[0;32m    142\u001b[0m     )\n\u001b[0;32m    143\u001b[0m \u001b[38;5;28;01melse\u001b[39;00m:\n\u001b[1;32m--> 144\u001b[0m     \u001b[38;5;28;01mreturn\u001b[39;00m \u001b[38;5;28;43mself\u001b[39;49m\u001b[38;5;241;43m.\u001b[39;49m\u001b[43mrequest_encode_body\u001b[49m\u001b[43m(\u001b[49m\n\u001b[0;32m    145\u001b[0m \u001b[43m        \u001b[49m\u001b[43mmethod\u001b[49m\u001b[43m,\u001b[49m\u001b[43m \u001b[49m\u001b[43murl\u001b[49m\u001b[43m,\u001b[49m\u001b[43m \u001b[49m\u001b[43mfields\u001b[49m\u001b[38;5;241;43m=\u001b[39;49m\u001b[43mfields\u001b[49m\u001b[43m,\u001b[49m\u001b[43m \u001b[49m\u001b[43mheaders\u001b[49m\u001b[38;5;241;43m=\u001b[39;49m\u001b[43mheaders\u001b[49m\u001b[43m,\u001b[49m\u001b[43m \u001b[49m\u001b[38;5;241;43m*\u001b[39;49m\u001b[38;5;241;43m*\u001b[39;49m\u001b[43murlopen_kw\u001b[49m\n\u001b[0;32m    146\u001b[0m \u001b[43m    \u001b[49m\u001b[43m)\u001b[49m\n",
      "File \u001b[1;32m~\\AppData\\Roaming\\Python\\Python311\\site-packages\\urllib3\\_request_methods.py:279\u001b[0m, in \u001b[0;36mRequestMethods.request_encode_body\u001b[1;34m(self, method, url, fields, headers, encode_multipart, multipart_boundary, **urlopen_kw)\u001b[0m\n\u001b[0;32m    275\u001b[0m     extra_kw[\u001b[38;5;124m\"\u001b[39m\u001b[38;5;124mheaders\u001b[39m\u001b[38;5;124m\"\u001b[39m]\u001b[38;5;241m.\u001b[39msetdefault(\u001b[38;5;124m\"\u001b[39m\u001b[38;5;124mContent-Type\u001b[39m\u001b[38;5;124m\"\u001b[39m, content_type)\n\u001b[0;32m    277\u001b[0m extra_kw\u001b[38;5;241m.\u001b[39mupdate(urlopen_kw)\n\u001b[1;32m--> 279\u001b[0m \u001b[38;5;28;01mreturn\u001b[39;00m \u001b[38;5;28;43mself\u001b[39;49m\u001b[38;5;241;43m.\u001b[39;49m\u001b[43murlopen\u001b[49m\u001b[43m(\u001b[49m\u001b[43mmethod\u001b[49m\u001b[43m,\u001b[49m\u001b[43m \u001b[49m\u001b[43murl\u001b[49m\u001b[43m,\u001b[49m\u001b[43m \u001b[49m\u001b[38;5;241;43m*\u001b[39;49m\u001b[38;5;241;43m*\u001b[39;49m\u001b[43mextra_kw\u001b[49m\u001b[43m)\u001b[49m\n",
      "File \u001b[1;32m~\\AppData\\Roaming\\Python\\Python311\\site-packages\\urllib3\\poolmanager.py:444\u001b[0m, in \u001b[0;36mPoolManager.urlopen\u001b[1;34m(self, method, url, redirect, **kw)\u001b[0m\n\u001b[0;32m    442\u001b[0m     response \u001b[38;5;241m=\u001b[39m conn\u001b[38;5;241m.\u001b[39murlopen(method, url, \u001b[38;5;241m*\u001b[39m\u001b[38;5;241m*\u001b[39mkw)\n\u001b[0;32m    443\u001b[0m \u001b[38;5;28;01melse\u001b[39;00m:\n\u001b[1;32m--> 444\u001b[0m     response \u001b[38;5;241m=\u001b[39m \u001b[43mconn\u001b[49m\u001b[38;5;241;43m.\u001b[39;49m\u001b[43murlopen\u001b[49m\u001b[43m(\u001b[49m\u001b[43mmethod\u001b[49m\u001b[43m,\u001b[49m\u001b[43m \u001b[49m\u001b[43mu\u001b[49m\u001b[38;5;241;43m.\u001b[39;49m\u001b[43mrequest_uri\u001b[49m\u001b[43m,\u001b[49m\u001b[43m \u001b[49m\u001b[38;5;241;43m*\u001b[39;49m\u001b[38;5;241;43m*\u001b[39;49m\u001b[43mkw\u001b[49m\u001b[43m)\u001b[49m\n\u001b[0;32m    446\u001b[0m redirect_location \u001b[38;5;241m=\u001b[39m redirect \u001b[38;5;129;01mand\u001b[39;00m response\u001b[38;5;241m.\u001b[39mget_redirect_location()\n\u001b[0;32m    447\u001b[0m \u001b[38;5;28;01mif\u001b[39;00m \u001b[38;5;129;01mnot\u001b[39;00m redirect_location:\n",
      "File \u001b[1;32m~\\AppData\\Roaming\\Python\\Python311\\site-packages\\urllib3\\connectionpool.py:793\u001b[0m, in \u001b[0;36mHTTPConnectionPool.urlopen\u001b[1;34m(self, method, url, body, headers, retries, redirect, assert_same_host, timeout, pool_timeout, release_conn, chunked, body_pos, preload_content, decode_content, **response_kw)\u001b[0m\n\u001b[0;32m    790\u001b[0m response_conn \u001b[38;5;241m=\u001b[39m conn \u001b[38;5;28;01mif\u001b[39;00m \u001b[38;5;129;01mnot\u001b[39;00m release_conn \u001b[38;5;28;01melse\u001b[39;00m \u001b[38;5;28;01mNone\u001b[39;00m\n\u001b[0;32m    792\u001b[0m \u001b[38;5;66;03m# Make the request on the HTTPConnection object\u001b[39;00m\n\u001b[1;32m--> 793\u001b[0m response \u001b[38;5;241m=\u001b[39m \u001b[38;5;28;43mself\u001b[39;49m\u001b[38;5;241;43m.\u001b[39;49m\u001b[43m_make_request\u001b[49m\u001b[43m(\u001b[49m\n\u001b[0;32m    794\u001b[0m \u001b[43m    \u001b[49m\u001b[43mconn\u001b[49m\u001b[43m,\u001b[49m\n\u001b[0;32m    795\u001b[0m \u001b[43m    \u001b[49m\u001b[43mmethod\u001b[49m\u001b[43m,\u001b[49m\n\u001b[0;32m    796\u001b[0m \u001b[43m    \u001b[49m\u001b[43murl\u001b[49m\u001b[43m,\u001b[49m\n\u001b[0;32m    797\u001b[0m \u001b[43m    \u001b[49m\u001b[43mtimeout\u001b[49m\u001b[38;5;241;43m=\u001b[39;49m\u001b[43mtimeout_obj\u001b[49m\u001b[43m,\u001b[49m\n\u001b[0;32m    798\u001b[0m \u001b[43m    \u001b[49m\u001b[43mbody\u001b[49m\u001b[38;5;241;43m=\u001b[39;49m\u001b[43mbody\u001b[49m\u001b[43m,\u001b[49m\n\u001b[0;32m    799\u001b[0m \u001b[43m    \u001b[49m\u001b[43mheaders\u001b[49m\u001b[38;5;241;43m=\u001b[39;49m\u001b[43mheaders\u001b[49m\u001b[43m,\u001b[49m\n\u001b[0;32m    800\u001b[0m \u001b[43m    \u001b[49m\u001b[43mchunked\u001b[49m\u001b[38;5;241;43m=\u001b[39;49m\u001b[43mchunked\u001b[49m\u001b[43m,\u001b[49m\n\u001b[0;32m    801\u001b[0m \u001b[43m    \u001b[49m\u001b[43mretries\u001b[49m\u001b[38;5;241;43m=\u001b[39;49m\u001b[43mretries\u001b[49m\u001b[43m,\u001b[49m\n\u001b[0;32m    802\u001b[0m \u001b[43m    \u001b[49m\u001b[43mresponse_conn\u001b[49m\u001b[38;5;241;43m=\u001b[39;49m\u001b[43mresponse_conn\u001b[49m\u001b[43m,\u001b[49m\n\u001b[0;32m    803\u001b[0m \u001b[43m    \u001b[49m\u001b[43mpreload_content\u001b[49m\u001b[38;5;241;43m=\u001b[39;49m\u001b[43mpreload_content\u001b[49m\u001b[43m,\u001b[49m\n\u001b[0;32m    804\u001b[0m \u001b[43m    \u001b[49m\u001b[43mdecode_content\u001b[49m\u001b[38;5;241;43m=\u001b[39;49m\u001b[43mdecode_content\u001b[49m\u001b[43m,\u001b[49m\n\u001b[0;32m    805\u001b[0m \u001b[43m    \u001b[49m\u001b[38;5;241;43m*\u001b[39;49m\u001b[38;5;241;43m*\u001b[39;49m\u001b[43mresponse_kw\u001b[49m\u001b[43m,\u001b[49m\n\u001b[0;32m    806\u001b[0m \u001b[43m\u001b[49m\u001b[43m)\u001b[49m\n\u001b[0;32m    808\u001b[0m \u001b[38;5;66;03m# Everything went great!\u001b[39;00m\n\u001b[0;32m    809\u001b[0m clean_exit \u001b[38;5;241m=\u001b[39m \u001b[38;5;28;01mTrue\u001b[39;00m\n",
      "File \u001b[1;32m~\\AppData\\Roaming\\Python\\Python311\\site-packages\\urllib3\\connectionpool.py:537\u001b[0m, in \u001b[0;36mHTTPConnectionPool._make_request\u001b[1;34m(self, conn, method, url, body, headers, retries, timeout, chunked, response_conn, preload_content, decode_content, enforce_content_length)\u001b[0m\n\u001b[0;32m    535\u001b[0m \u001b[38;5;66;03m# Receive the response from the server\u001b[39;00m\n\u001b[0;32m    536\u001b[0m \u001b[38;5;28;01mtry\u001b[39;00m:\n\u001b[1;32m--> 537\u001b[0m     response \u001b[38;5;241m=\u001b[39m \u001b[43mconn\u001b[49m\u001b[38;5;241;43m.\u001b[39;49m\u001b[43mgetresponse\u001b[49m\u001b[43m(\u001b[49m\u001b[43m)\u001b[49m\n\u001b[0;32m    538\u001b[0m \u001b[38;5;28;01mexcept\u001b[39;00m (BaseSSLError, \u001b[38;5;167;01mOSError\u001b[39;00m) \u001b[38;5;28;01mas\u001b[39;00m e:\n\u001b[0;32m    539\u001b[0m     \u001b[38;5;28mself\u001b[39m\u001b[38;5;241m.\u001b[39m_raise_timeout(err\u001b[38;5;241m=\u001b[39me, url\u001b[38;5;241m=\u001b[39murl, timeout_value\u001b[38;5;241m=\u001b[39mread_timeout)\n",
      "File \u001b[1;32m~\\AppData\\Roaming\\Python\\Python311\\site-packages\\urllib3\\connection.py:466\u001b[0m, in \u001b[0;36mHTTPConnection.getresponse\u001b[1;34m(self)\u001b[0m\n\u001b[0;32m    463\u001b[0m \u001b[38;5;28;01mfrom\u001b[39;00m \u001b[38;5;21;01m.\u001b[39;00m\u001b[38;5;21;01mresponse\u001b[39;00m \u001b[38;5;28;01mimport\u001b[39;00m HTTPResponse\n\u001b[0;32m    465\u001b[0m \u001b[38;5;66;03m# Get the response from http.client.HTTPConnection\u001b[39;00m\n\u001b[1;32m--> 466\u001b[0m httplib_response \u001b[38;5;241m=\u001b[39m \u001b[38;5;28;43msuper\u001b[39;49m\u001b[43m(\u001b[49m\u001b[43m)\u001b[49m\u001b[38;5;241;43m.\u001b[39;49m\u001b[43mgetresponse\u001b[49m\u001b[43m(\u001b[49m\u001b[43m)\u001b[49m\n\u001b[0;32m    468\u001b[0m \u001b[38;5;28;01mtry\u001b[39;00m:\n\u001b[0;32m    469\u001b[0m     assert_header_parsing(httplib_response\u001b[38;5;241m.\u001b[39mmsg)\n",
      "File \u001b[1;32mc:\\Python311\\Lib\\http\\client.py:1390\u001b[0m, in \u001b[0;36mHTTPConnection.getresponse\u001b[1;34m(self)\u001b[0m\n\u001b[0;32m   1388\u001b[0m \u001b[38;5;28;01mtry\u001b[39;00m:\n\u001b[0;32m   1389\u001b[0m     \u001b[38;5;28;01mtry\u001b[39;00m:\n\u001b[1;32m-> 1390\u001b[0m         \u001b[43mresponse\u001b[49m\u001b[38;5;241;43m.\u001b[39;49m\u001b[43mbegin\u001b[49m\u001b[43m(\u001b[49m\u001b[43m)\u001b[49m\n\u001b[0;32m   1391\u001b[0m     \u001b[38;5;28;01mexcept\u001b[39;00m \u001b[38;5;167;01mConnectionError\u001b[39;00m:\n\u001b[0;32m   1392\u001b[0m         \u001b[38;5;28mself\u001b[39m\u001b[38;5;241m.\u001b[39mclose()\n",
      "File \u001b[1;32mc:\\Python311\\Lib\\http\\client.py:325\u001b[0m, in \u001b[0;36mHTTPResponse.begin\u001b[1;34m(self)\u001b[0m\n\u001b[0;32m    323\u001b[0m \u001b[38;5;66;03m# read until we get a non-100 response\u001b[39;00m\n\u001b[0;32m    324\u001b[0m \u001b[38;5;28;01mwhile\u001b[39;00m \u001b[38;5;28;01mTrue\u001b[39;00m:\n\u001b[1;32m--> 325\u001b[0m     version, status, reason \u001b[38;5;241m=\u001b[39m \u001b[38;5;28;43mself\u001b[39;49m\u001b[38;5;241;43m.\u001b[39;49m\u001b[43m_read_status\u001b[49m\u001b[43m(\u001b[49m\u001b[43m)\u001b[49m\n\u001b[0;32m    326\u001b[0m     \u001b[38;5;28;01mif\u001b[39;00m status \u001b[38;5;241m!=\u001b[39m CONTINUE:\n\u001b[0;32m    327\u001b[0m         \u001b[38;5;28;01mbreak\u001b[39;00m\n",
      "File \u001b[1;32mc:\\Python311\\Lib\\http\\client.py:286\u001b[0m, in \u001b[0;36mHTTPResponse._read_status\u001b[1;34m(self)\u001b[0m\n\u001b[0;32m    285\u001b[0m \u001b[38;5;28;01mdef\u001b[39;00m \u001b[38;5;21m_read_status\u001b[39m(\u001b[38;5;28mself\u001b[39m):\n\u001b[1;32m--> 286\u001b[0m     line \u001b[38;5;241m=\u001b[39m \u001b[38;5;28mstr\u001b[39m(\u001b[38;5;28mself\u001b[39m\u001b[38;5;241m.\u001b[39mfp\u001b[38;5;241m.\u001b[39mreadline(_MAXLINE \u001b[38;5;241m+\u001b[39m \u001b[38;5;241m1\u001b[39m), \u001b[38;5;124m\"\u001b[39m\u001b[38;5;124miso-8859-1\u001b[39m\u001b[38;5;124m\"\u001b[39m)\n\u001b[0;32m    287\u001b[0m     \u001b[38;5;28;01mif\u001b[39;00m \u001b[38;5;28mlen\u001b[39m(line) \u001b[38;5;241m>\u001b[39m _MAXLINE:\n\u001b[0;32m    288\u001b[0m         \u001b[38;5;28;01mraise\u001b[39;00m LineTooLong(\u001b[38;5;124m\"\u001b[39m\u001b[38;5;124mstatus line\u001b[39m\u001b[38;5;124m\"\u001b[39m)\n",
      "File \u001b[1;32mc:\\Python311\\Lib\\socket.py:706\u001b[0m, in \u001b[0;36mSocketIO.readinto\u001b[1;34m(self, b)\u001b[0m\n\u001b[0;32m    704\u001b[0m \u001b[38;5;28;01mwhile\u001b[39;00m \u001b[38;5;28;01mTrue\u001b[39;00m:\n\u001b[0;32m    705\u001b[0m     \u001b[38;5;28;01mtry\u001b[39;00m:\n\u001b[1;32m--> 706\u001b[0m         \u001b[38;5;28;01mreturn\u001b[39;00m \u001b[38;5;28;43mself\u001b[39;49m\u001b[38;5;241;43m.\u001b[39;49m\u001b[43m_sock\u001b[49m\u001b[38;5;241;43m.\u001b[39;49m\u001b[43mrecv_into\u001b[49m\u001b[43m(\u001b[49m\u001b[43mb\u001b[49m\u001b[43m)\u001b[49m\n\u001b[0;32m    707\u001b[0m     \u001b[38;5;28;01mexcept\u001b[39;00m timeout:\n\u001b[0;32m    708\u001b[0m         \u001b[38;5;28mself\u001b[39m\u001b[38;5;241m.\u001b[39m_timeout_occurred \u001b[38;5;241m=\u001b[39m \u001b[38;5;28;01mTrue\u001b[39;00m\n",
      "\u001b[1;31mKeyboardInterrupt\u001b[0m: "
     ]
    }
   ],
   "source": []
  },
  {
   "cell_type": "code",
   "execution_count": 57,
   "metadata": {},
   "outputs": [
    {
     "name": "stdout",
     "output_type": "stream",
     "text": [
      "₹1,550 1,472 500.0 gram #274 in Health & Personal Care (See Top 100 in Health & Personal Care)\n"
     ]
    },
    {
     "ename": "TimeoutException",
     "evalue": "Message: \n",
     "output_type": "error",
     "traceback": [
      "\u001b[1;31m---------------------------------------------------------------------------\u001b[0m",
      "\u001b[1;31mTimeoutException\u001b[0m                          Traceback (most recent call last)",
      "Cell \u001b[1;32mIn[57], line 18\u001b[0m\n\u001b[0;32m     16\u001b[0m Price \u001b[38;5;241m=\u001b[39mWebDriverWait(driver, \u001b[38;5;241m5\u001b[39m)\u001b[38;5;241m.\u001b[39muntil(EC\u001b[38;5;241m.\u001b[39mvisibility_of_all_elements_located((By\u001b[38;5;241m.\u001b[39mXPATH, price2)))[\u001b[38;5;241m0\u001b[39m]\u001b[38;5;241m.\u001b[39mtext\n\u001b[0;32m     17\u001b[0m Netq \u001b[38;5;241m=\u001b[39mWebDriverWait(driver, \u001b[38;5;241m5\u001b[39m)\u001b[38;5;241m.\u001b[39muntil(EC\u001b[38;5;241m.\u001b[39mvisibility_of_all_elements_located((By\u001b[38;5;241m.\u001b[39mXPATH, qty)))[\u001b[38;5;241m0\u001b[39m]\u001b[38;5;241m.\u001b[39mtext\n\u001b[1;32m---> 18\u001b[0m Pack_Size \u001b[38;5;241m=\u001b[39m \u001b[43mWebDriverWait\u001b[49m\u001b[43m(\u001b[49m\u001b[43mdriver\u001b[49m\u001b[43m,\u001b[49m\u001b[43m \u001b[49m\u001b[38;5;241;43m5\u001b[39;49m\u001b[43m)\u001b[49m\u001b[38;5;241;43m.\u001b[39;49m\u001b[43muntil\u001b[49m\u001b[43m(\u001b[49m\u001b[43mEC\u001b[49m\u001b[38;5;241;43m.\u001b[39;49m\u001b[43mvisibility_of_all_elements_located\u001b[49m\u001b[43m(\u001b[49m\u001b[43m(\u001b[49m\u001b[43mBy\u001b[49m\u001b[38;5;241;43m.\u001b[39;49m\u001b[43mXPATH\u001b[49m\u001b[43m,\u001b[49m\u001b[43m \u001b[49m\u001b[43mpackz\u001b[49m\u001b[43m)\u001b[49m\u001b[43m)\u001b[49m\u001b[43m)\u001b[49m[\u001b[38;5;241m0\u001b[39m]\u001b[38;5;241m.\u001b[39mtext\n\u001b[0;32m     19\u001b[0m \u001b[38;5;28mprint\u001b[39m(MRP,Price,Netq,Pack_Size)\n",
      "File \u001b[1;32m~\\AppData\\Roaming\\Python\\Python311\\site-packages\\selenium\\webdriver\\support\\wait.py:105\u001b[0m, in \u001b[0;36mWebDriverWait.until\u001b[1;34m(self, method, message)\u001b[0m\n\u001b[0;32m    103\u001b[0m     \u001b[38;5;28;01mif\u001b[39;00m time\u001b[38;5;241m.\u001b[39mmonotonic() \u001b[38;5;241m>\u001b[39m end_time:\n\u001b[0;32m    104\u001b[0m         \u001b[38;5;28;01mbreak\u001b[39;00m\n\u001b[1;32m--> 105\u001b[0m \u001b[38;5;28;01mraise\u001b[39;00m TimeoutException(message, screen, stacktrace)\n",
      "\u001b[1;31mTimeoutException\u001b[0m: Message: \n"
     ]
    }
   ],
   "source": [
    "price1='//*[@id=\"corePriceDisplay_desktop_feature_div\"]/div[2]/span/span[1]/span[2]/span/span[2]'\n",
    "price2='//*[@id=\"corePrice_feature_div\"]/div/div/span[1]/span[2]/span[2]'\n",
    "qty='//*[@id=\"productDetails_detailBullets_sections1\"]/tbody/tr[3]/td'\n",
    "packz='//*[@id=\"productDetails_detailBullets_sections1\"]/tbody/tr[last()]/td/span/span[1]'\n",
    "driver=webdriver.Chrome(options=options1)\n",
    "driver.maximize_window()\n",
    "#driver.get('https://amazon.in/dp/'+cosmix_asins[0])\n",
    "#WebDriverWait(driver, 5).until(EC.visibility_of_all_elements_located((By.XPATH, price1)))\n",
    "\n",
    "for x in cosmix_asins:\n",
    "    url='https://amazon.in/dp/'+x\n",
    "    driver.get(url)\n",
    "    time.sleep(5)\n",
    "    \n",
    "    MRP = WebDriverWait(driver, 5).until(EC.visibility_of_all_elements_located((By.XPATH, price1)))[0].text\n",
    "    Price =WebDriverWait(driver, 5).until(EC.visibility_of_all_elements_located((By.XPATH, price2)))[0].text\n",
    "    Netq =WebDriverWait(driver, 5).until(EC.visibility_of_all_elements_located((By.XPATH, qty)))[0].text\n",
    "    #Pack_Size = WebDriverWait(driver, 5).until(EC.visibility_of_all_elements_located((By.XPATH, packz)))[0].text\n",
    "    print(MRP,Price,Netq,Pack_Size)\n",
    "    \n"
   ]
  },
  {
   "cell_type": "code",
   "execution_count": 4,
   "metadata": {},
   "outputs": [],
   "source": [
    "pracks='//*[@id=\"productDetails_detailBullets_sections1\"]/tbody/tr[last()]/td/span/span[1]'\n",
    "#WebDriverWait(driver, 5).until(EC.visibility_of_all_elements_located((By.XPATH, pracks)))[0].text\n",
    "from bs4 import BeautifulSoup"
   ]
  },
  {
   "cell_type": "code",
   "execution_count": 10,
   "metadata": {},
   "outputs": [
    {
     "name": "stdout",
     "output_type": "stream",
     "text": [
      "COSMIX No-Nonsense | Organic Rice & Pea Isolate| 24g Protein/Serving| Vegan|Gluten Free Plant-Based Protein\n",
      "PSLGZNYUZGFHHGCZ\n",
      "₹2,610\n",
      "1 kg, Indonesian Cacao\n",
      "₹2,900\n",
      "COSMIX No-Nonsense | Organic Rice & Pea Isolate| 24g Protein/Serving| Vegan|Gluten Free Plant-Based Protein\n",
      "PSLGZNYUKHUG2XGZ\n",
      "₹1,283\n",
      "500 g, Unflavoured Protein\n",
      "₹1,350\n",
      "COSMIX No-Nonsense | Organic Rice & Pea Isolate| 24g Protein/Serving| Vegan|Gluten Free Plant-Based Protein\n",
      "PSLGNVUDPTVXW9GW\n",
      "₹1,473\n",
      "500 g, Chikmagalur Mocha\n",
      "₹1,550\n",
      "COSMIX No-Nonsense | Organic Rice & Pea Isolate| 24g Protein/Serving| Vegan|Gluten Free Plant-Based Protein\n",
      "PSLGZNYUWJHJ2HRV\n",
      "₹2,790\n",
      "1 kg, Real Kerala Vanilla\n",
      "₹3,100\n",
      "COSMIX No-Nonsense | Organic Rice & Pea Isolate| 24g Protein/Serving| Vegan|Gluten Free Plant-Based Protein\n",
      "PSLGZNYUPE3XW28P\n",
      "₹1,473\n",
      "500 g, Real Kerala Vanilla\n",
      "₹1,550\n",
      "COSMIX No-Nonsense | Organic Rice & Pea Isolate| 24g Protein/Serving| Vegan|Gluten Free Plant-Based Protein\n",
      "PSLGZNYUMSNF8DBT\n",
      "₹2,430\n",
      "1 kg, Unflavoured Protein\n",
      "₹2,700\n",
      "COSMIX No-Nonsense | Organic Rice & Pea Isolate| 24g Protein/Serving| Vegan|Gluten Free Plant-Based Protein\n",
      "PSLGZNZGAHFVUYM7\n",
      "₹2,790\n",
      "1 kg, Japanese Ceremonial Matcha\n",
      "₹3,100\n",
      "COSMIX No-Nonsense | Organic Rice & Pea Isolate| 24g Protein/Serving| Vegan|Gluten Free Plant-Based Protein\n",
      "PSLGZNYURJFGYNBK\n",
      "₹1,378\n",
      "500 g, Indonesian Cacao\n",
      "₹1,450\n",
      "COSMIX No-Nonsense | Organic Rice & Pea Isolate| 24g Protein/Serving| Vegan|Gluten Free Plant-Based Protein\n",
      "PSLGZNZGKWUBTQVF\n",
      "₹2,790\n",
      "1 kg, Mint Cacao\n",
      "₹3,100\n",
      "COSMIX No-Nonsense | Organic Rice & Pea Isolate| 24g Protein/Serving| Vegan|Gluten Free Plant-Based Protein\n",
      "PSLGZNYUNTJRA3HE\n",
      "₹1,378\n",
      "500 g, Cocoa Beet\n",
      "₹1,450\n",
      "COSMIX No-Nonsense | Organic Rice & Pea Isolate| 24g Protein/Serving| Vegan|Gluten Free Plant-Based Protein\n",
      "PSLGNVUX8SZH5UPG\n",
      "₹2,790\n",
      "1 kg, Chikmagalur Mocha\n",
      "₹3,100\n",
      "COSMIX No-Nonsense | Organic Rice & Pea Isolate| 24g Protein/Serving| Vegan|Gluten Free Plant-Based Protein\n",
      "PSLGZNZGAGHTYDS3\n",
      "₹1,473\n",
      "500 g, Mint Cacao\n",
      "₹1,550\n",
      "COSMIX No-Nonsense | Organic Rice & Pea Isolate| 24g Protein/Serving| Vegan|Gluten Free Plant-Based Protein\n",
      "PSLGZNYUGS4UHMKN\n",
      "₹2,610\n",
      "1 kg, Cocoa Beet\n",
      "₹2,900\n",
      "COSMIX No-Nonsense | Organic Rice & Pea Isolate| 24g Protein/Serving| Vegan|Gluten Free Plant-Based Protein\n",
      "PSLGZNZGSGGBR7WE\n",
      "₹1,473\n",
      "500 g, Japanese Ceremonial Matcha\n",
      "₹1,550\n",
      "COSMIX No Nonsense Plant Protein-Organic Pea & Rice Isolate,Daily Vegan Protein Powder Plant-Based Protein\n",
      "PSLGWY4PP3HHVHRP\n",
      "₹941\n",
      "228 g, Vanilla Latte\n",
      "₹990\n"
     ]
    }
   ],
   "source": [
    "#Flipkart \n",
    "soup = BeautifulSoup(searchres1, \"html.parser\" )\n",
    "outer_divs=soup.select('div._4ddWXP')\n",
    "for div1 in outer_divs:\n",
    "    print(div1.select_one(\"a.s1Q9rs\")['title'])\n",
    "    print(div1.parent['data-id'])\n",
    "    print(div1.select_one(\"a._8VNy32>div>div\").text)\n",
    "    print(div1.select_one(\"div._3Djpdu\").text)\n",
    "    print(div1.select_one(\"a._8VNy32>div>div._3I9_wc\").text)\n",
    "    "
   ]
  },
  {
   "cell_type": "code",
   "execution_count": 11,
   "metadata": {},
   "outputs": [
    {
     "name": "stdout",
     "output_type": "stream",
     "text": [
      "Cosmix No Nonsense Plant Protein | Organic Pea & Rice Isolate | Vegan | 24g Protein/Serving | Easy To Digest | All Essential \n",
      "B0CNTNX44L\n",
      "₹1,580.00\n",
      "Mypro Sport Nutrition Plant Protein Powder Pea & Brown Rice Protein (23g protein,22 Vitamins & minerals,5g BCAA) Plant Based \n",
      "B09GFYSXZX\n",
      "₹1,397.00\n",
      "Amway NUTRILITE® All Plant Protein Powder\n",
      "B014F366D2\n",
      "₹2,654.36\n",
      "Plantigo Clean Plant Protein Powder | No Preservatives, No Banned Substances |Super Protein Blend- Pea, Brown Rice, Flax, Pum\n",
      "B09L5XTGN9\n",
      "₹1,299.00\n",
      "OZiva Organic Plant Protein for Everyday Fitness | 30g Protein - Pea Isolate || Complete Plant Protein Powder | No Added Suga\n",
      "B07GTNLNLM\n",
      "₹1,195.00\n",
      "Organic India Quinoa Nutritious Food - 500 grams\n",
      "B00Q4TBM7G\n",
      "₹280.00\n",
      "Origin Nutrition 100% Natural Vegan Protein Powder (European Pea Protein Isolate & Pumpkin Seed Protein) Easy to Digest Choco\n",
      "B08J44L8V1\n",
      "₹2,200.00\n",
      "GREEN PROTEIN Pea Protein Isolate Powder, Vegan Plant Protein, Dairy Free With No Added Sugar, Pineapple, Black Currant, and \n",
      "B091T78Q9F\n",
      "₹1,580.00\n",
      "Wellbeing Nutrition Organic Vegan Plant Protein Isolate Powder | 22g Protein, 5g BCAA European Pea & Brown Rice Protein | Sup\n",
      "B0B34SJBM3\n",
      "₹1,665.00\n",
      "Carbamide Forte Plant Protein Powder - Plant Based Pea Protein Powder with Multivitamin, Minerals, Superfoods, Digestive Enzy\n",
      "B0BF6677NX\n",
      "₹1,445.00\n",
      "MYHERB Plant Protein Powder | Pea And Brown Rice Protein Powder | Vegan High Protein Powder | 27 gm Protien,21 Vital,6 gm BCC\n",
      "B0BMWQ69VB\n",
      "₹1,349.00\n",
      "AS-IT-IS Nutrition Pea Protein Isolate | Designed for Meal Supplementation | Vegan Plant Protein | Easy To Digest - Vegan & G\n",
      "B07NSS562D\n",
      "₹1,137.00\n",
      "Cosmix No Nonsense Plant Protein - Organic Pea & Rice Isolate | Daily Vegan Protein Powder with Gut Friendly Superfoods | Com\n",
      "B0CQTJCBCJ\n",
      "₹1,254.00\n",
      "MuscleBlaze Plant Protein, 24 g Vegan Protein, 4.15 g BCAAs, No Added Sugars (Rich Chocolate, 1 kg / 2.2 lb)\n",
      "B0B2RV8LH8\n",
      "₹2,159.00\n",
      "Sparkfusion Vegan Plant Protein Powder|Organic Isolated Pea & Brown Rice Protein|25 gm Protein & All Essential Amino Acids|Ea\n",
      "B0CGHK55ZN\n",
      "₹649.00\n"
     ]
    }
   ],
   "source": [
    "soup = BeautifulSoup(searchres3, \"html.parser\" )\n",
    "outer_divs=soup.select('div.p13n-sc-uncoverable-faceout')\n",
    "for div1 in outer_divs[:15]:\n",
    "    print(div1.select_one(\"img\")['alt'])\n",
    "    print(div1['id'])\n",
    "\n",
    "    print(div1.select_one(\"div._cDEzb_p13n-sc-price-animation-wrapper_3PzN2\").text)\n",
    "    #print(div1.select_one(\"div._3Djpdu\").text)\n",
    "    #print(div1.select_one(\"a._8VNy32>div>div._3I9_wc\").text)\n",
    "    "
   ]
  },
  {
   "cell_type": "code",
   "execution_count": 65,
   "metadata": {},
   "outputs": [],
   "source": [
    "soup = BeautifulSoup(searchres3, \"html.parser\" )\n",
    "outer_divs = soup.select('div.s-asin.s-result-item')\n",
    "outer_divs=outer_divs[0:5]\n",
    "udata=[]\n",
    "for div1 in outer_divs:\n",
    "    if div1.has_attr('data-asin'):\n",
    "        asin_text=div1[\"data-asin\"]\n",
    "        indx=div1[\"data-index\"]\n",
    "        name=div1.select_one(\"img.s-image\")[\"alt\"]\n",
    "        spons_text=\"Not Sponsored\"\n",
    "        SellingPrice = div1.select_one(\"span.a-price-whole\").text\n",
    "        Mrp=div1.select_one(\"span.a-text-price>.a-offscreen\").text\n",
    "        sponst = div1.select_one('a.puis-sponsored-label-text>span>span')\n",
    "        if sponst:\n",
    "            spons_text = sponst.get_text()\n",
    "        udata.append([indx,asin_text,spons_text,name,SellingPrice,Mrp])"
   ]
  },
  {
   "cell_type": "code",
   "execution_count": 66,
   "metadata": {},
   "outputs": [
    {
     "data": {
      "text/plain": [
       "[]"
      ]
     },
     "execution_count": 66,
     "metadata": {},
     "output_type": "execute_result"
    }
   ],
   "source": [
    "udata"
   ]
  },
  {
   "cell_type": "code",
   "execution_count": null,
   "metadata": {},
   "outputs": [],
   "source": [
    "driver.get(\"https://www.flipkart.com/search?q=cosmix+plant+protein&otracker=search&otracker1=search&marketplace=FLIPKART&as-show=on&as=off&sort=popularity\")\n",
    "time.sleep(10)\n",
    "searchres1=driver.page_source\n",
    "driver.get(\"https://www.flipkart.com/search?q=plant+protein&otracker=search&otracker1=search&marketplace=FLIPKART&as-show=on&as=off&sort=popularity\")\n",
    "time.sleep(10)\n",
    "searchres2=driver.page_source\n",
    "driver.get(\"https://www.amazon.in/gp/bestsellers/hpc/11364599031/ref=zg_bs_unv_hpc_5_11364598031_2\")\n",
    "time.sleep(10)\n",
    "searchres3=driver.page_source"
   ]
  },
  {
   "cell_type": "code",
   "execution_count": 5,
   "metadata": {},
   "outputs": [],
   "source": [
    "from selenium import webdriver\n",
    "from selenium.webdriver.common.by import By\n",
    "from selenium.webdriver.common.keys import Keys\n",
    "import os\n",
    "\n",
    "os.chdir('C:/Users/ASUS/Downloads/Win_665004_chrome-win/chrome-win')\n",
    "\n",
    "options1=webdriver.ChromeOptions()\n",
    "options1.binary_location=\"./chrome.exe\";\n",
    "options1.add_argument(\"--no-sandbox\")\n",
    "options1.add_argument(\"--no-sandbox\")\n",
    "\n",
    "options1.add_argument(r\"--user-data-dir=C:\\Users\\ASUS\\AppData\\Local\\Chromium\\User Data\") #e.g. C:\\Users\\You\\AppData\\Local\\Google\\Chrome\\User Data\n",
    "options1.add_argument(r'--profile-directory=Default') #e.g. Profile 3\n",
    "\n",
    "driver=webdriver.Chrome(options=options1)\n",
    "driver.maximize_window()\n",
    "driver.get(\"https://primarc.orcablue.app/auth/login\")\n",
    "#browser = webdriver.Chrome(executable_path=\"~/Desktop/\")\n",
    "#browser.get('https://automatetheboringstuff.com')\n",
    "#driver.quit()"
   ]
  },
  {
   "cell_type": "code",
   "execution_count": 9,
   "metadata": {},
   "outputs": [],
   "source": [
    "driver.get(\"https://primarc.orcablue.app/auth/login\")\n",
    "try:wait.until(EC.element_to_be_clickable((By.CSS_SELECTOR, '#id_username'))).send_keys(UName)\n",
    "except:pass\n",
    "time.sleep(2)\n",
    "try:wait.until(EC.element_to_be_clickable((By.CSS_SELECTOR, '#id_password'))).send_keys(Pword)\n",
    "except:pass\n",
    "try:wait.until(EC.element_to_be_clickable((By.CSS_SELECTOR, 'body > div.pb-5 > div > form > button'))).click()\n",
    "except:pass\n",
    "time.sleep(2)\n",
    "driver.get(\"https://primarc.orcablue.app/dive/charts/chartId/523/flatTable\")"
   ]
  },
  {
   "cell_type": "code",
   "execution_count": 10,
   "metadata": {},
   "outputs": [],
   "source": [
    "from selenium.webdriver.common.by import By\n",
    "from selenium.webdriver.support.ui import WebDriverWait\n",
    "from selenium.webdriver.support import expected_conditions as EC\n"
   ]
  },
  {
   "cell_type": "code",
   "execution_count": 11,
   "metadata": {},
   "outputs": [],
   "source": [
    "driver.get(\"https://primarc.orcablue.app/auth/login\")\n",
    "try:wait.until(EC.element_to_be_clickable((By.CSS_SELECTOR, '#id_username'))).send_keys(UName)\n",
    "except:pass\n",
    "time.sleep(2)\n",
    "try:wait.until(EC.element_to_be_clickable((By.CSS_SELECTOR, '#id_password'))).send_keys(Pword)\n",
    "except:pass\n",
    "try:wait.until(EC.element_to_be_clickable((By.CSS_SELECTOR, 'body > div.pb-5 > div > form > button'))).click()\n",
    "except:pass\n",
    "time.sleep(2)\n",
    "driver.get(\"https://primarc.orcablue.app/dive/charts/chartId/523/flatTable\")"
   ]
  },
  {
   "cell_type": "code",
   "execution_count": 13,
   "metadata": {},
   "outputs": [],
   "source": [
    "wait = WebDriverWait(driver, 5)\n"
   ]
  },
  {
   "cell_type": "code",
   "execution_count": 14,
   "metadata": {},
   "outputs": [],
   "source": [
    "driver.get(\"https://primarc.orcablue.app/auth/login\")\n",
    "try:wait.until(EC.element_to_be_clickable((By.CSS_SELECTOR, '#id_username'))).send_keys(UName)\n",
    "except:pass\n",
    "time.sleep(2)\n",
    "try:wait.until(EC.element_to_be_clickable((By.CSS_SELECTOR, '#id_password'))).send_keys(Pword)\n",
    "except:pass\n",
    "try:wait.until(EC.element_to_be_clickable((By.CSS_SELECTOR, 'body > div.pb-5 > div > form > button'))).click()\n",
    "except:pass\n",
    "time.sleep(2)\n",
    "driver.get(\"https://primarc.orcablue.app/dive/charts/chartId/523/flatTable\")"
   ]
  },
  {
   "cell_type": "code",
   "execution_count": 15,
   "metadata": {},
   "outputs": [],
   "source": [
    "driver.quit()"
   ]
  },
  {
   "cell_type": "code",
   "execution_count": 16,
   "metadata": {},
   "outputs": [],
   "source": [
    "from selenium import webdriver\n",
    "from selenium.webdriver.common.by import By\n",
    "from selenium.webdriver.common.keys import Keys\n",
    "import os\n",
    "\n",
    "os.chdir('C:/Users/ASUS/Downloads/Win_665004_chrome-win/chrome-win')\n",
    "\n",
    "options1=webdriver.ChromeOptions()\n",
    "options1.binary_location=\"./chrome.exe\";\n",
    "options1.add_argument(\"--no-sandbox\")\n",
    "options1.add_argument(\"--no-sandbox\")\n",
    "\n",
    "options1.add_argument(r\"--user-data-dir=C:\\Users\\ASUS\\AppData\\Local\\Chromium\\User Data\") #e.g. C:\\Users\\You\\AppData\\Local\\Google\\Chrome\\User Data\n",
    "options1.add_argument(r'--profile-directory=Default') #e.g. Profile 3\n",
    "\n",
    "driver=webdriver.Chrome(options=options1)\n",
    "driver.maximize_window()\n",
    "driver.get(\"https://primarc.orcablue.app/\")\n",
    "#browser = webdriver.Chrome(executable_path=\"~/Desktop/\")\n",
    "#browser.get('https://automatetheboringstuff.com')\n",
    "#driver.quit()"
   ]
  },
  {
   "cell_type": "code",
   "execution_count": 17,
   "metadata": {},
   "outputs": [],
   "source": [
    "from selenium import webdriver\n",
    "from selenium.webdriver.common.by import By\n",
    "from selenium.webdriver.common.keys import Keys\n",
    "import os\n",
    "\n",
    "os.chdir('C:/Users/ASUS/Downloads/Win_665004_chrome-win/chrome-win')\n",
    "\n",
    "options1=webdriver.ChromeOptions()\n",
    "options1.binary_location=\"./chrome.exe\";\n",
    "options1.add_argument(\"--no-sandbox\")\n",
    "options1.add_argument(\"--no-sandbox\")\n",
    "\n",
    "options1.add_argument(r\"--user-data-dir=C:\\Users\\ASUS\\AppData\\Local\\Chromium\\User Data\") #e.g. C:\\Users\\You\\AppData\\Local\\Google\\Chrome\\User Data\n",
    "options1.add_argument(r'--profile-directory=Default') #e.g. Profile 3\n",
    "\n",
    "driver=webdriver.Chrome(options=options1)\n",
    "driver.maximize_window()\n",
    "driver.get(\"https://primarc.orcablue.app/\")\n",
    "#browser = webdriver.Chrome(executable_path=\"~/Desktop/\")\n",
    "#browser.get('https://automatetheboringstuff.com')\n",
    "driver.quit()"
   ]
  },
  {
   "cell_type": "code",
   "execution_count": 18,
   "metadata": {},
   "outputs": [],
   "source": [
    "from selenium import webdriver\n",
    "from selenium.webdriver.common.by import By\n",
    "from selenium.webdriver.common.keys import Keys\n",
    "import os\n",
    "\n",
    "os.chdir('C:/Users/ASUS/Downloads/Win_665004_chrome-win/chrome-win')\n",
    "\n",
    "options1=webdriver.ChromeOptions()\n",
    "options1.binary_location=\"./chrome.exe\";\n",
    "options1.add_argument(\"--no-sandbox\")\n",
    "\n",
    "\n",
    "options1.add_argument(r\"--user-data-dir=C:\\Users\\ASUS\\AppData\\Local\\Chromium\\User Data\") #e.g. C:\\Users\\You\\AppData\\Local\\Google\\Chrome\\User Data\n",
    "options1.add_argument(r'--profile-directory=Default') #e.g. Profile 3\n",
    "\n",
    "driver=webdriver.Chrome(options=options1)\n",
    "driver.maximize_window()\n",
    "driver.get(\"https://primarc.orcablue.app/\")\n",
    "#browser = webdriver.Chrome(executable_path=\"~/Desktop/\")\n",
    "#browser.get('https://automatetheboringstuff.com')\n",
    "driver.close()"
   ]
  },
  {
   "cell_type": "code",
   "execution_count": null,
   "metadata": {},
   "outputs": [],
   "source": []
  }
 ],
 "metadata": {
  "kernelspec": {
   "display_name": "Python 3",
   "language": "python",
   "name": "python3"
  },
  "language_info": {
   "codemirror_mode": {
    "name": "ipython",
    "version": 3
   },
   "file_extension": ".py",
   "mimetype": "text/x-python",
   "name": "python",
   "nbconvert_exporter": "python",
   "pygments_lexer": "ipython3",
   "version": "3.11.8"
  }
 },
 "nbformat": 4,
 "nbformat_minor": 2
}
