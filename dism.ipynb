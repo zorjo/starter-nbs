{
 "cells": [
  {
   "cell_type": "markdown",
   "metadata": {},
   "source": []
  },
  {
   "cell_type": "code",
   "execution_count": 2,
   "metadata": {},
   "outputs": [],
   "source": [
    "from seleniumwire import webdriver  "
   ]
  },
  {
   "cell_type": "code",
   "execution_count": 24,
   "metadata": {},
   "outputs": [],
   "source": [
    "from selenium import webdriver\n",
    "import time "
   ]
  },
  {
   "cell_type": "markdown",
   "metadata": {},
   "source": [
    "No kernel connected"
   ]
  },
  {
   "cell_type": "markdown",
   "metadata": {},
   "source": [
    "No kernel connected"
   ]
  },
  {
   "cell_type": "code",
   "execution_count": 11,
   "metadata": {},
   "outputs": [],
   "source": [
    "import os\n",
    "os.chdir('../temp')\n",
    "from bs4 import BeautifulSoup\n"
   ]
  },
  {
   "cell_type": "code",
   "execution_count": 40,
   "metadata": {},
   "outputs": [
    {
     "name": "stderr",
     "output_type": "stream",
     "text": [
      "The chromedriver version (117.0.5938.92) detected in PATH at f:\\temp\\chromedriver.exe might not be compatible with the detected chrome version (117.0.5938.150); currently, chromedriver 117.0.5938.149 is recommended for chrome 117.*, so it is advised to delete the driver in PATH and retry\n"
     ]
    }
   ],
   "source": [
    "options1=webdriver.ChromeOptions()\n",
    "#options1.add_argument(\"--headless\")\n",
    "options1.add_argument(\"--no-sandbox\")\n",
    "driver=webdriver.Chrome(options=options1)\n",
    "driver.maximize_window()\n",
    "driver.get(\"https://www.amazon.in/s?k=protein+powder\")\n",
    "time.sleep(10)\n",
    "searchres1=driver.page_source\n",
    "driver.get(\"https://www.amazon.in/s?k=probiotics\")\n",
    "time.sleep(10)\n",
    "searchres2=driver.page_source\n",
    "driver.get(\"https://www.amazon.in/s?k=biotin\")\n",
    "time.sleep(10)\n",
    "searchres3=driver.page_source\n",
    "driver.quit()\n"
   ]
  },
  {
   "cell_type": "code",
   "execution_count": 62,
   "metadata": {},
   "outputs": [],
   "source": [
    "import pygsheets\n",
    "path1='../mx18/SOURJYA/Desktop/Hmm/New Folder/key_s.json'\n",
    "client=pygsheets.authorize(service_account_file=path1)\n",
    "spreadsht=client.open(\"search rankings\")"
   ]
  },
  {
   "cell_type": "code",
   "execution_count": 69,
   "metadata": {},
   "outputs": [],
   "source": [
    "soup = BeautifulSoup(searchres3, \"html.parser\" )\n",
    "outer_divs = soup.select('div.s-asin.s-result-item')\n",
    "outer_divs=outer_divs[0:25]\n"
   ]
  },
  {
   "cell_type": "code",
   "execution_count": 70,
   "metadata": {},
   "outputs": [],
   "source": [
    "udata=[]\n",
    "for div1 in outer_divs:\n",
    "    if div1.has_attr('data-asin'):\n",
    "        asin_text=div1[\"data-asin\"]\n",
    "        indx=div1[\"data-index\"]\n",
    "        name=div1.select_one(\"img.s-image\")[\"alt\"]\n",
    "        spons_text=\"Not Sponsored\"\n",
    "        SellingPrice = div1.select_one(\"span.a-price-whole\").text\n",
    "        Mrp=div1.select_one(\"span.a-text-price>.a-offscreen\").text\n",
    "        sponst = div1.select_one('a.puis-sponsored-label-text>span>span')\n",
    "        if sponst:\n",
    "            spons_text = sponst.get_text()\n",
    "        udata.append([indx,asin_text,spons_text,name,SellingPrice,Mrp])\n",
    "    \n"
   ]
  },
  {
   "cell_type": "code",
   "execution_count": 71,
   "metadata": {},
   "outputs": [
    {
     "data": {
      "text/plain": [
       "{'tableRange': <GridRange 'biotin'!D5:J6>,\n",
       " 'updates': {'updatedRange': <GridRange 'biotin'!D7:I31>,\n",
       "  'updatedCells': 150,\n",
       "  'updatedColumns': 6,\n",
       "  'updatedRows': 25}}"
      ]
     },
     "execution_count": 71,
     "metadata": {},
     "output_type": "execute_result"
    }
   ],
   "source": [
    "spreadsht[2].append_table(values=udata,start='D6',dimension=\"ROWS\",overwrite=True,end=None)"
   ]
  },
  {
   "cell_type": "code",
   "execution_count": null,
   "metadata": {},
   "outputs": [],
   "source": []
  },
  {
   "cell_type": "code",
   "execution_count": 6,
   "metadata": {},
   "outputs": [
    {
     "name": "stderr",
     "output_type": "stream",
     "text": [
      "The chromedriver version (117.0.5938.92) detected in PATH at f:\\temp\\chromedriver.exe might not be compatible with the detected chrome version (117.0.5938.150); currently, chromedriver 117.0.5938.149 is recommended for chrome 117.*, so it is advised to delete the driver in PATH and retry\n"
     ]
    },
    {
     "ename": "AttributeError",
     "evalue": "'WebDriver' object has no attribute 'requests'",
     "output_type": "error",
     "traceback": [
      "\u001b[1;31m---------------------------------------------------------------------------\u001b[0m",
      "\u001b[1;31mAttributeError\u001b[0m                            Traceback (most recent call last)",
      "\u001b[1;32m<ipython-input-6-891171952caa>\u001b[0m in \u001b[0;36m<module>\u001b[1;34m\u001b[0m\n\u001b[0;32m     10\u001b[0m \u001b[0mdriver\u001b[0m\u001b[1;33m.\u001b[0m\u001b[0mmaximize_window\u001b[0m\u001b[1;33m(\u001b[0m\u001b[1;33m)\u001b[0m\u001b[1;33m\u001b[0m\u001b[1;33m\u001b[0m\u001b[0m\n\u001b[0;32m     11\u001b[0m \u001b[0mdriver\u001b[0m\u001b[1;33m.\u001b[0m\u001b[0mget\u001b[0m\u001b[1;33m(\u001b[0m\u001b[1;34m\"https://google.com\"\u001b[0m\u001b[1;33m)\u001b[0m\u001b[1;33m\u001b[0m\u001b[1;33m\u001b[0m\u001b[0m\n\u001b[1;32m---> 12\u001b[1;33m \u001b[1;32mfor\u001b[0m \u001b[0mrequest\u001b[0m \u001b[1;32min\u001b[0m \u001b[0mdriver\u001b[0m\u001b[1;33m.\u001b[0m\u001b[0mrequests\u001b[0m\u001b[1;33m:\u001b[0m\u001b[1;33m\u001b[0m\u001b[1;33m\u001b[0m\u001b[0m\n\u001b[0m\u001b[0;32m     13\u001b[0m     \u001b[1;32mif\u001b[0m \u001b[0mrequest\u001b[0m\u001b[1;33m.\u001b[0m\u001b[0mresponse\u001b[0m\u001b[1;33m:\u001b[0m\u001b[1;33m\u001b[0m\u001b[1;33m\u001b[0m\u001b[0m\n\u001b[0;32m     14\u001b[0m         print(\n",
      "\u001b[1;31mAttributeError\u001b[0m: 'WebDriver' object has no attribute 'requests'"
     ]
    }
   ],
   "source": [
    "options1=webdriver.ChromeOptions()\n",
    "options1.add_argument(r'--user-data-dir=C:\\User\\SOURJYA\\AppData\\Local\\Google Chrome\\User Data')\n",
    "#options1.add_argument(r'--proxy-bypass-list=<-loopback>')\n",
    "#options1.add_argument(r'--proxy-server=http=127.0.0.1:63760;https=127.0.0.1:63760')\n",
    "options1.add_argument(r'--profile-directory=Default')\n",
    "#options1.add_argument(\"--headless\")\n",
    "#options1.add_argument(\"--no-sandbox\")\n",
    "\n",
    "driver = webdriver.Chrome(options=options1)\n",
    "driver.maximize_window()\n"
   ]
  },
  {
   "cell_type": "code",
   "execution_count": null,
   "metadata": {},
   "outputs": [],
   "source": []
  },
  {
   "cell_type": "code",
   "execution_count": null,
   "metadata": {},
   "outputs": [],
   "source": []
  },
  {
   "cell_type": "code",
   "execution_count": 13,
   "metadata": {},
   "outputs": [],
   "source": [
    "import requests\n",
    "\n",
    "cookies = {\n",
    "    'v:a:3': '%7B%22d3139a5c14022da8161b0567c8fa8153%22%3A%7B%22variant%22%3A%22control%22%2C%22createdAt%22%3A1694757933191%7D%7D',\n",
    "    'master_device_id': '18819397-c7af-469b-901a-58485f8bc031',\n",
    "    'is_shopify_merchant': '1',\n",
    "    '_shopify_y': '11325745-56a6-4a56-8c82-9edbb34575d1',\n",
    "    '_y': '11325745-56a6-4a56-8c82-9edbb34575d1',\n",
    "    'utag_main': 'v_id:018a97764f57001f65239911b02f0506f002d06700978$_sn:6$_se:2$_ss:0$_st:1695805010961$ses_id:1695802043505%3Bexp-session$_pn:2%3Bexp-session',\n",
    "    '_s': 'f015f18c-5200-47BB-81C6-7FC856A31F0B',\n",
    "    '_shopify_s': 'f015f18c-5200-47BB-81C6-7FC856A31F0B',\n",
    "}\n",
    "\n",
    "headers = {\n",
    "    'authority': 'analytics.shopify.com',\n",
    "    'accept': '*/*',\n",
    "    'accept-language': 'en-US,en;q=0.9',\n",
    "    'content-type': 'application/x-www-form-urlencoded;charset=UTF-8',\n",
    "    # 'cookie': 'v:a:3=%7B%22d3139a5c14022da8161b0567c8fa8153%22%3A%7B%22variant%22%3A%22control%22%2C%22createdAt%22%3A1694757933191%7D%7D; master_device_id=18819397-c7af-469b-901a-58485f8bc031; is_shopify_merchant=1; _shopify_y=11325745-56a6-4a56-8c82-9edbb34575d1; _y=11325745-56a6-4a56-8c82-9edbb34575d1; utag_main=v_id:018a97764f57001f65239911b02f0506f002d06700978$_sn:6$_se:2$_ss:0$_st:1695805010961$ses_id:1695802043505%3Bexp-session$_pn:2%3Bexp-session; _s=f015f18c-5200-47BB-81C6-7FC856A31F0B; _shopify_s=f015f18c-5200-47BB-81C6-7FC856A31F0B',\n",
    "    'origin': 'https://admin.shopify.com',\n",
    "    'sec-ch-ua': '\"Google Chrome\";v=\"117\", \"Not;A=Brand\";v=\"8\", \"Chromium\";v=\"117\"',\n",
    "    'sec-ch-ua-mobile': '?0',\n",
    "    'sec-ch-ua-platform': '\"Windows\"',\n",
    "    'sec-fetch-dest': 'empty',\n",
    "    'sec-fetch-mode': 'cors',\n",
    "    'sec-fetch-site': 'same-site',\n",
    "    'user-agent': 'Mozilla/5.0 (Windows NT 10.0; Win64; x64) AppleWebKit/537.36 (KHTML, like Gecko) Chrome/117.0.0.0 Safari/537.36',\n",
    "}\n",
    "\n",
    "data = {\n",
    "    'q': 'SHOW total_visitors, total_sessions, total_pageviews, total_carts, total_checkouts, total_orders_placed, total_conversion OVER day BY referring_traffic FROM visits  SINCE 2023-06-01 UNTIL 2023-09-26 ORDER BY \"day\" ASC',\n",
    "    'source': 'new-admin',\n",
    "    'token': 'WyIyODE3NTA3MzM3MyIsIjIwMjMtMTAtMDJUMTc6NDc6MDcrMDU6MzAiLHsiZWRpdGluZyI6dHJ1ZSwidXNlcl9pZCI6NzkwNzMxMTYyNTMsImFwaV9jbGllbnRfaWQiOjE4MzAyNzl9XQ==--85cb8689ce8e306f45ad9758e31426c0ef12d874',\n",
    "    'format': 'csv',\n",
    "    'beta': 'true',\n",
    "    'request_metadata[path]': '/store/cosmix-superfood/reports/2777383005',\n",
    "}\n",
    "\n",
    "response1 = requests.post('https://analytics.shopify.com/query',  headers=headers, data=data)\n"
   ]
  },
  {
   "cell_type": "code",
   "execution_count": 15,
   "metadata": {},
   "outputs": [
    {
     "data": {
      "text/plain": [
       "'day,referring_traffic,total_visitors,total_sessions,total_pageviews,total_carts,total_checkouts,total_orders_placed,total_conversion\\n2023-06-01,organic,369,408,1497,72,0,0,0\\n2023-06-01,paid,2276,2412,6914,367,1,1,0.00041\\n2023-06-01,unknown,527,548,2657,149,0,0,0\\n2023-06-01,direct,784,961,2592,98,1,0,0\\n2023-06-02,organic,395,424,1457,74,1,1,0.00235\\n2023-06-02,unknown,583,612,3174,170,0,0,0\\n2023-06-02,direct,716,922,2570,83,1,0,0\\n2023-06-02,paid,2678,2819,7705,393,5,4,0.00141\\n2023-06-03,paid,3017,3151,6867,373,2,0,0\\n2023-06-03,direct,666,866,2340,75,0,0,0\\n2023-06-03,organic,405,434,1858,96,0,0,0\\n2023-06-03,unknown,611,636,3208,158,0,0,0\\n2023-06-04,organic,425,465,1924,100,1,0,0\\n2023-06-04,direct,588,727,2081,71,1,0,0\\n2023-06-04,paid,3155,3286,7567,390,1,0,0\\n2023-06-04,unknown,751,781,3909,207,0,0,0\\n2023-06-05,direct,782,1013,2685,83,5,3,0.00296\\n2023-06-05,organic,513,568,1988,79,0,0,0\\n2023-06-05,unknown,962,1017,4778,241,0,0,0\\n2023-06-05,paid,2894,3066,7459,380,3,3,0.00097\\n2023-06-06,organic,541,592,1966,80,1,1,0.00168\\n2023-06-06,unknown,1054,1095,5349,258,0,0,0\\n2023-06-06,paid,3091,3252,8961,428,1,0,0\\n2023-06-06,direct,736,919,2591,91,5,3,0.00326\\n2023-06-07,direct,791,987,2842,90,2,0,0\\n2023-06-07,paid,2917,3084,7753,416,1,1,0.00032\\n2023-06-07,unknown,825,852,4254,222,0,0,0\\n2023-06-07,organic,548,593,1698,80,1,0,0\\n2023-06-08,paid,3291,3454,8511,426,4,4,0.00115\\n2023-06-08,direct,804,1005,2588,102,1,0,0\\n2023-06-08,organic,586,613,1932,75,0,0,0\\n2023-06-08,unknown,734,761,3581,192,0,0,0\\n2023-06-09,unknown,889,919,4692,255,1,1,0.00108\\n2023-06-09,paid,3380,3548,8652,444,0,0,0\\n2023-06-09,direct,822,1022,2783,96,2,0,0\\n2023-06-09,organic,579,626,2260,115,0,0,0\\n2023-06-10,organic,471,513,1884,78,0,0,0\\n2023-06-10,direct,724,885,2398,79,0,0,0\\n2023-06-10,paid,3393,3519,8545,418,1,1,0.00028\\n2023-06-10,unknown,760,780,4251,208,0,0,0\\n2023-06-11,organic,494,517,1690,79,0,0,0\\n2023-06-11,direct,696,860,2609,88,2,0,0\\n2023-06-11,unknown,788,813,4393,248,0,0,0\\n2023-06-11,paid,4152,4364,10479,495,0,0,0\\n2023-06-12,organic,582,629,2083,93,0,0,0\\n2023-06-12,direct,990,1225,3254,116,2,0,0\\n2023-06-12,unknown,876,905,4769,262,0,0,0\\n2023-06-12,paid,4216,4414,10913,529,1,1,0.00022\\n2023-06-13,unknown,756,785,4091,215,0,0,0\\n2023-06-13,organic,532,575,1939,81,0,0,0\\n2023-06-13,direct,899,1132,2917,90,1,0,0\\n2023-06-13,paid,4168,4387,11271,538,0,0,0\\n2023-06-14,organic,552,575,2062,105,0,0,0\\n2023-06-14,unknown,754,781,3860,197,0,0,0\\n2023-06-14,paid,3788,4002,9858,483,0,0,0\\n2023-06-14,direct,855,1060,2784,79,2,1,0.00094\\n2023-06-15,paid,3499,3663,8960,457,1,0,0\\n2023-06-15,direct,853,1051,2698,94,4,2,0.0019\\n2023-06-15,unknown,578,596,3164,156,2,1,0.00167\\n2023-06-15,organic,536,560,1784,64,0,0,0\\n2023-06-16,direct,741,918,2421,64,5,1,0.00108\\n2023-06-16,unknown,564,594,3080,152,1,0,0\\n2023-06-16,paid,2903,3050,7314,368,2,1,0.00032\\n2023-06-16,organic,422,438,1346,49,2,0,0\\n2023-06-17,direct,691,864,2263,74,5,2,0.00231\\n2023-06-17,organic,400,418,1379,56,0,0,0\\n2023-06-17,paid,2633,2763,7056,363,7,6,0.00217\\n2023-06-17,unknown,606,623,3189,164,8,2,0.00321\\n2023-06-18,paid,2730,2853,7010,349,0,0,0\\n2023-06-18,direct,709,866,2299,70,3,0,0\\n2023-06-18,unknown,568,594,3288,167,7,0,0\\n2023-06-18,organic,350,373,1494,68,5,0,0\\n2023-06-19,organic,468,505,1976,103,3,1,0.00198\\n2023-06-19,direct,991,1204,3216,96,4,2,0.00166\\n2023-06-19,paid,2788,2943,7578,414,3,0,0\\n2023-06-19,unknown,670,706,4004,199,0,0,0\\n2023-06-20,unknown,675,710,3738,172,4,1,0.0014\\n2023-06-20,direct,1315,1502,3681,93,2,0,0\\n2023-06-20,paid,2925,3064,7916,381,1,0,0\\n2023-06-20,organic,492,536,1769,94,5,0,0\\n2023-06-21,paid,3241,3402,9026,497,6,1,0.00029\\n2023-06-21,organic,498,519,1771,82,5,2,0.00385\\n2023-06-21,unknown,823,850,4040,222,2,1,0.00117\\n2023-06-21,direct,855,1044,2688,95,4,2,0.00191\\n2023-06-22,unknown,628,655,3371,186,7,3,0.00458\\n2023-06-22,paid,3109,3274,8247,435,6,4,0.00122\\n2023-06-22,direct,919,1111,2995,105,2,0,0\\n2023-06-22,organic,460,502,1765,86,2,1,0.00199\\n2023-06-23,direct,808,965,2424,72,3,0,0\\n2023-06-23,organic,469,508,1628,75,4,1,0.00196\\n2023-06-23,paid,2898,3055,7780,446,1,1,0.00032\\n2023-06-23,unknown,614,649,3202,147,2,0,0\\n2023-06-24,organic,449,469,1511,74,3,0,0\\n2023-06-24,paid,2875,3021,7172,360,2,0,0\\n2023-06-24,direct,671,810,2257,73,4,2,0.00246\\n2023-06-24,unknown,635,667,3322,158,3,0,0\\n2023-06-25,paid,2937,3070,7916,420,3,1,0.00032\\n2023-06-25,direct,604,731,1838,70,1,0,0\\n2023-06-25,organic,461,487,1736,86,2,0,0\\n2023-06-25,unknown,635,667,3520,170,0,0,0\\n2023-06-26,paid,2964,3092,8060,447,3,1,0.00032\\n2023-06-26,unknown,619,642,3292,154,0,0,0\\n2023-06-26,organic,561,594,2160,99,2,1,0.00168\\n2023-06-26,direct,953,1169,2906,94,1,0,0\\n2023-06-27,direct,797,969,2546,86,2,0,0\\n2023-06-27,paid,3024,3148,7969,421,0,0,0\\n2023-06-27,unknown,627,659,3190,165,0,0,0\\n2023-06-27,organic,513,536,1616,83,1,0,0\\n2023-06-28,unknown,679,707,3433,182,1,0,0\\n2023-06-28,direct,742,912,2641,93,1,0,0\\n2023-06-28,organic,561,588,1778,86,0,0,0\\n2023-06-28,paid,3334,3469,8252,444,2,2,0.00057\\n2023-06-29,direct,780,938,2687,128,4,1,0.00106\\n2023-06-29,organic,572,608,1986,97,1,1,0.00164\\n2023-06-29,paid,4052,4225,9938,518,1,1,0.00023\\n2023-06-29,unknown,743,769,3808,196,1,1,0.0013\\n2023-06-30,paid,3674,3846,9267,502,1,1,0.00026\\n2023-06-30,unknown,673,695,3315,190,1,0,0\\n2023-06-30,organic,511,544,1758,95,0,0,0\\n2023-06-30,direct,775,942,2586,113,1,0,0\\n2023-07-01,unknown,664,693,3562,186,0,0,0\\n2023-07-01,direct,658,796,2177,100,1,0,0\\n2023-07-01,organic,502,527,1657,98,1,1,0.00189\\n2023-07-01,paid,3656,3826,8933,495,0,0,0\\n2023-07-02,paid,3532,3668,8802,458,2,2,0.00054\\n2023-07-02,direct,671,824,2282,95,1,0,0\\n2023-07-02,unknown,572,600,2892,167,0,0,0\\n2023-07-02,organic,513,545,1829,91,1,1,0.00183\\n2023-07-03,organic,532,568,1881,101,0,0,0\\n2023-07-03,unknown,669,690,3320,180,4,2,0.00289\\n2023-07-03,paid,3947,4126,9844,538,6,4,0.00096\\n2023-07-03,direct,912,1084,2911,119,4,0,0\\n2023-07-04,paid,3752,3916,9977,577,2,0,0\\n2023-07-04,unknown,661,688,3346,165,0,0,0\\n2023-07-04,direct,894,1085,2874,106,2,1,0.00092\\n2023-07-04,organic,535,582,1891,93,0,0,0\\n2023-07-05,paid,3730,3854,9231,456,1,0,0\\n2023-07-05,unknown,733,770,3540,187,1,0,0\\n2023-07-05,organic,566,603,2035,92,0,0,0\\n2023-07-05,direct,804,1005,2821,114,4,1,0.00099\\n2023-07-06,paid,3575,3737,9152,481,2,2,0.00053\\n2023-07-06,organic,528,554,1764,81,0,0,0\\n2023-07-06,unknown,780,811,4044,190,0,0,0\\n2023-07-06,direct,1090,1304,3122,112,3,1,0.00076\\n2023-07-07,paid,3579,3726,8817,424,0,0,0\\n2023-07-07,organic,507,536,1777,80,0,0,0\\n2023-07-07,direct,876,1074,2909,113,2,1,0.00093\\n2023-07-07,unknown,699,716,3230,177,1,0,0\\n2023-07-08,organic,438,465,1547,76,0,0,0\\n2023-07-08,unknown,697,722,3166,161,0,0,0\\n2023-07-08,paid,3721,3880,8894,443,2,2,0.00051\\n2023-07-08,direct,725,877,2538,101,1,0,0\\n2023-07-09,paid,3838,4004,9728,438,5,1,0.00024\\n2023-07-09,direct,713,894,2617,97,3,0,0\\n2023-07-09,unknown,696,724,3205,190,0,0,0\\n2023-07-09,organic,463,490,1618,68,0,0,0\\n2023-07-10,unknown,724,748,3383,171,0,0,0\\n2023-07-10,direct,1014,1230,3376,111,2,1,0.00081\\n2023-07-10,paid,3858,4030,10313,489,1,0,0\\n2023-07-10,organic,549,588,2235,105,1,1,0.0017\\n2023-07-11,paid,3675,3843,9404,454,3,1,0.00026\\n2023-07-11,organic,557,599,2074,93,1,0,0\\n2023-07-11,unknown,701,741,3802,195,0,0,0\\n2023-07-11,direct,974,1198,3077,99,5,3,0.0025\\n2023-07-12,organic,431,481,1471,50,0,0,0\\n2023-07-12,unknown,315,325,1477,82,0,0,0\\n2023-07-12,paid,1029,1105,3393,153,2,1,0.0009\\n2023-07-12,direct,759,926,2568,92,1,0,0\\n2023-07-13,direct,981,1189,3265,114,3,1,0.00084\\n2023-07-13,organic,610,657,2346,117,1,0,0\\n2023-07-13,unknown,1122,1166,5020,237,0,0,0\\n2023-07-13,paid,6513,6700,13655,682,0,0,0\\n2023-07-14,paid,5702,5960,13455,640,2,1,0.00016\\n2023-07-14,unknown,946,981,4579,242,0,0,0\\n2023-07-14,organic,562,607,2098,91,0,0,0\\n2023-07-14,direct,903,1071,2868,104,6,1,0.00093\\n2023-07-15,direct,789,969,2469,92,1,0,0\\n2023-07-15,paid,4836,5017,11335,553,0,0,0\\n2023-07-15,organic,548,588,1843,92,0,0,0\\n2023-07-15,unknown,847,882,4263,221,0,0,0\\n2023-07-16,unknown,698,727,3798,195,1,0,0\\n2023-07-16,organic,499,524,1724,91,0,0,0\\n2023-07-16,paid,4753,4943,11264,547,1,1,0.0002\\n2023-07-16,direct,632,768,2239,83,3,1,0.0013\\n2023-07-17,organic,612,657,2623,114,1,1,0.00152\\n2023-07-17,direct,1004,1202,3114,100,4,0,0\\n2023-07-17,paid,4938,5151,11533,552,2,1,0.00019\\n2023-07-17,unknown,713,754,3676,189,0,0,0\\n2023-07-18,direct,937,1141,3080,122,2,1,0.00087\\n2023-07-18,organic,628,675,2339,112,0,0,0\\n2023-07-18,unknown,762,802,4118,206,0,0,0\\n2023-07-18,paid,5111,5358,12105,563,1,1,0.00018\\n2023-07-19,paid,4840,5078,10874,538,0,0,0\\n2023-07-19,direct,900,1115,3222,124,2,1,0.00089\\n2023-07-19,unknown,664,694,3180,189,0,0,0\\n2023-07-19,organic,616,669,2324,109,0,0,0\\n2023-07-20,paid,4790,4987,10685,541,0,0,0\\n2023-07-20,organic,639,686,2589,124,0,0,0\\n2023-07-20,direct,1032,1234,3344,126,2,0,0\\n2023-07-20,unknown,749,775,3539,178,0,0,0\\n2023-07-21,paid,4675,4873,10578,472,1,0,0\\n2023-07-21,unknown,647,681,3186,173,0,0,0\\n2023-07-21,direct,852,1060,2596,79,1,0,0\\n2023-07-21,organic,548,578,2106,99,0,0,0\\n2023-07-22,organic,522,550,1938,92,0,0,0\\n2023-07-22,direct,797,972,2402,90,2,1,0.00102\\n2023-07-22,paid,5243,5454,11310,451,3,2,0.00036\\n2023-07-22,unknown,640,669,3066,160,0,0,0\\n2023-07-23,unknown,620,646,3144,168,0,0,0\\n2023-07-23,organic,489,512,1719,94,0,0,0\\n2023-07-23,direct,759,915,2630,116,1,0,0\\n2023-07-23,paid,4908,5103,11066,455,4,1,0.00019\\n2023-07-24,organic,527,560,2049,88,1,1,0.00178\\n2023-07-24,direct,945,1167,3093,122,1,0,0\\n2023-07-24,paid,4333,4545,9656,406,2,2,0.00044\\n2023-07-24,unknown,573,592,2861,138,0,0,0\\n2023-07-25,paid,4052,4228,9390,440,2,0,0\\n2023-07-25,organic,493,526,1660,58,3,1,0.0019\\n2023-07-25,unknown,585,614,2930,155,2,0,0\\n2023-07-25,direct,932,1151,2932,115,1,0,0\\n2023-07-26,direct,919,1155,3029,104,3,1,0.00086\\n2023-07-26,organic,577,619,2154,86,0,0,0\\n2023-07-26,unknown,590,617,2805,139,1,0,0\\n2023-07-26,paid,4271,4454,9445,398,3,3,0.00067\\n2023-07-27,direct,876,1057,3167,101,1,0,0\\n2023-07-27,organic,551,591,1953,88,0,0,0\\n2023-07-27,unknown,643,664,3215,191,2,1,0.0015\\n2023-07-27,paid,4054,4235,9312,404,3,3,0.0007\\n2023-07-28,paid,3746,3941,8568,342,0,0,0\\n2023-07-28,organic,500,529,1886,82,0,0,0\\n2023-07-28,unknown,577,604,2930,143,0,0,0\\n2023-07-28,direct,812,986,2567,79,1,0,0\\n2023-07-29,organic,429,465,1494,62,0,0,0\\n2023-07-29,paid,3928,4120,8651,359,1,1,0.00024\\n2023-07-29,unknown,544,560,2666,139,0,0,0\\n2023-07-29,direct,697,863,2230,91,2,0,0\\n2023-07-30,unknown,513,539,2970,133,0,0,0\\n2023-07-30,organic,464,494,1748,82,0,0,0\\n2023-07-30,paid,3858,4086,8695,345,0,0,0\\n2023-07-30,direct,613,761,2128,81,1,0,0\\n2023-07-31,paid,4023,4262,9658,465,1,1,0.00023\\n2023-07-31,organic,624,651,2166,89,0,0,0\\n2023-07-31,direct,818,1041,2977,119,1,0,0\\n2023-07-31,unknown,571,602,3039,156,0,0,0\\n2023-08-01,direct,898,1101,3228,130,1,1,0.0009\\n2023-08-01,organic,687,729,2539,115,0,0,0\\n2023-08-01,paid,3983,4185,9800,466,1,0,0\\n2023-08-01,unknown,536,556,2644,141,0,0,0\\n2023-08-02,unknown,571,594,2830,151,1,1,0.00168\\n2023-08-02,direct,885,1101,2884,117,4,1,0.0009\\n2023-08-02,paid,4123,4324,9814,456,3,0,0\\n2023-08-02,organic,632,672,2288,117,1,0,0\\n2023-08-03,direct,922,1137,3301,120,1,0,0\\n2023-08-03,paid,3948,4147,8892,446,0,0,0\\n2023-08-03,organic,583,621,2104,102,0,0,0\\n2023-08-03,unknown,573,594,2419,114,0,0,0\\n2023-08-04,direct,811,990,2927,100,1,1,0.00101\\n2023-08-04,organic,589,626,2097,84,0,0,0\\n2023-08-04,unknown,583,617,2709,129,0,0,0\\n2023-08-04,paid,4248,4456,9533,400,0,0,0\\n2023-08-05,unknown,675,713,3400,159,1,1,0.0014\\n2023-08-05,paid,4648,4884,9775,428,0,0,0\\n2023-08-05,direct,800,975,2630,108,1,0,0\\n2023-08-05,organic,517,545,1628,92,0,0,0\\n2023-08-06,organic,516,551,1860,85,0,0,0\\n2023-08-06,direct,726,886,2408,84,1,0,0\\n2023-08-06,paid,4962,5163,10893,471,3,1,0.00019\\n2023-08-06,unknown,732,750,3414,162,2,1,0.00133\\n2023-08-07,organic,629,670,2076,90,0,0,0\\n2023-08-07,unknown,883,930,4072,178,0,0,0\\n2023-08-07,direct,960,1210,3523,147,2,0,0\\n2023-08-07,paid,4824,5055,11627,536,1,1,0.00019\\n2023-08-08,organic,561,598,1916,70,0,0,0\\n2023-08-08,paid,4819,5029,10730,444,1,0,0\\n2023-08-08,unknown,891,932,4185,181,2,1,0.00107\\n2023-08-08,direct,899,1075,2924,96,2,1,0.00093\\n2023-08-09,unknown,796,827,3820,163,0,0,0\\n2023-08-09,organic,515,556,2212,92,0,0,0\\n2023-08-09,paid,4833,5044,11176,528,2,1,0.00019\\n2023-08-09,direct,908,1090,3117,129,3,0,0\\n2023-08-10,unknown,788,828,3604,172,0,0,0\\n2023-08-10,paid,4964,5179,10638,452,0,0,0\\n2023-08-10,direct,932,1145,2974,103,1,0,0\\n2023-08-10,organic,499,525,1743,72,0,0,0\\n2023-08-11,organic,497,521,1796,88,1,1,0.00191\\n2023-08-11,unknown,719,748,3466,197,0,0,0\\n2023-08-11,direct,844,1052,2764,110,3,2,0.0019\\n2023-08-11,paid,4727,4945,10198,490,5,3,0.0006\\n2023-08-12,paid,4306,4523,10075,474,2,0,0\\n2023-08-12,organic,420,448,1364,55,0,0,0\\n2023-08-12,direct,748,921,2514,114,2,0,0\\n2023-08-12,unknown,650,675,3052,154,0,0,0\\n2023-08-13,organic,430,449,1499,80,3,1,0.00222\\n2023-08-13,direct,734,874,2610,111,3,0,0\\n2023-08-13,paid,4326,4515,9470,471,3,1,0.00022\\n2023-08-13,unknown,891,914,3365,162,0,0,0\\n2023-08-14,paid,3817,3984,8646,396,0,0,0\\n2023-08-14,organic,493,539,1733,74,0,0,0\\n2023-08-14,direct,889,1095,2843,92,4,0,0\\n2023-08-14,unknown,825,860,3163,175,2,0,0\\n2023-08-15,organic,422,463,1549,72,2,0,0\\n2023-08-15,unknown,822,859,3379,177,1,0,0\\n2023-08-15,direct,860,1010,2736,98,2,1,0.00099\\n2023-08-15,paid,3601,3767,8440,431,1,1,0.00026\\n2023-08-16,unknown,828,861,3343,185,0,0,0\\n2023-08-16,organic,540,578,2038,80,1,1,0.00173\\n2023-08-16,direct,1209,1414,3262,100,1,0,0\\n2023-08-16,paid,3811,3995,8917,467,0,0,0\\n2023-08-17,paid,3710,3867,8705,399,0,0,0\\n2023-08-17,direct,1329,1525,3162,100,1,0,0\\n2023-08-17,unknown,1013,1046,3657,234,1,0,0\\n2023-08-17,organic,468,504,1770,60,1,0,0\\n2023-08-18,paid,3661,3837,8100,390,2,1,0.00026\\n2023-08-18,direct,1043,1246,3264,109,2,1,0.0008\\n2023-08-18,organic,514,543,1697,77,0,0,0\\n2023-08-18,unknown,1270,1309,4277,215,0,0,0\\n2023-08-19,organic,401,422,1322,72,0,0,0\\n2023-08-19,direct,968,1136,2664,91,2,1,0.00088\\n2023-08-19,unknown,1110,1145,3875,224,0,0,0\\n2023-08-19,paid,3513,3646,7421,337,1,0,0\\n2023-08-20,paid,3577,3721,7758,370,1,1,0.00026\\n2023-08-20,direct,693,829,2160,97,2,1,0.0012\\n2023-08-20,organic,439,465,1571,79,0,0,0\\n2023-08-20,unknown,1197,1227,4248,253,2,1,0.00081\\n2023-08-21,direct,1024,1227,3120,100,1,0,0\\n2023-08-21,organic,494,521,1744,83,0,0,0\\n2023-08-21,paid,3678,3859,8144,315,2,1,0.00025\\n2023-08-21,unknown,1209,1250,4232,231,1,0,0\\n2023-08-22,direct,898,1110,2953,107,4,2,0.0018\\n2023-08-22,paid,3287,3438,7007,309,1,1,0.00029\\n2023-08-22,organic,463,474,1566,80,0,0,0\\n2023-08-22,unknown,1220,1260,4005,232,0,0,0\\n2023-08-23,direct,867,1050,2846,112,1,0,0\\n2023-08-23,unknown,1928,1984,5146,283,0,0,0\\n2023-08-23,organic,441,467,1583,69,0,0,0\\n2023-08-23,paid,3021,3192,6810,299,2,1,0.00031\\n2023-08-24,paid,2468,2602,5461,233,2,1,0.00038\\n2023-08-24,direct,798,959,2684,106,2,0,0\\n2023-08-24,organic,467,501,1679,89,0,0,0\\n2023-08-24,unknown,2561,2653,6094,346,1,0,0\\n2023-08-25,direct,1025,1179,2884,96,3,1,0.00084\\n2023-08-25,organic,420,452,1458,69,1,0,0\\n2023-08-25,paid,2133,2288,4532,170,1,1,0.00043\\n2023-08-25,unknown,2526,2641,6419,368,1,0,0\\n2023-08-26,direct,811,979,2452,94,2,1,0.00102\\n2023-08-26,unknown,2757,2872,6831,358,0,0,0\\n2023-08-26,paid,2028,2150,4423,203,1,1,0.00046\\n2023-08-26,organic,368,400,1092,65,0,0,0\\n2023-08-27,paid,2349,2492,5604,229,2,1,0.0004\\n2023-08-27,direct,792,945,2431,109,1,0,0\\n2023-08-27,unknown,3700,3863,9570,570,0,0,0\\n2023-08-27,organic,447,484,1390,75,0,0,0\\n2023-08-28,paid,2863,3057,11903,661,4,2,0.00065\\n2023-08-28,unknown,4624,5015,19080,1069,2,0,0\\n2023-08-28,organic,781,844,3853,217,2,0,0\\n2023-08-28,direct,1643,2148,9946,433,11,6,0.00279\\n2023-08-29,direct,1990,2488,8257,345,9,3,0.0012\\n2023-08-29,unknown,7485,8071,28826,1992,4,3,0.00037\\n2023-08-29,organic,796,857,3168,175,2,2,0.00233\\n2023-08-29,paid,2574,2727,9625,528,5,3,0.0011\\n2023-08-30,direct,1775,2196,7014,305,3,1,0.00045\\n2023-08-30,unknown,6062,6538,22884,1387,3,2,0.0003\\n2023-08-30,paid,2313,2476,8334,418,2,2,0.0008\\n2023-08-30,organic,727,786,2753,135,1,1,0.00127\\n2023-08-31,direct,1745,2187,7050,243,2,1,0.00045\\n2023-08-31,unknown,5431,5799,17887,1038,8,6,0.00103\\n2023-08-31,organic,709,775,3019,138,3,2,0.00258\\n2023-08-31,paid,2109,2257,8063,402,2,2,0.00088\\n2023-09-01,unknown,4205,4507,14658,770,1,0,0\\n2023-09-01,paid,1916,2046,5805,278,1,1,0.00048\\n2023-09-01,direct,1895,2320,7037,241,5,2,0.00086\\n2023-09-01,organic,931,1012,4076,211,2,2,0.00197\\n2023-09-02,organic,926,1028,4366,202,1,1,0.00097\\n2023-09-02,direct,1490,1836,5744,179,2,0,0\\n2023-09-02,unknown,4146,4435,14395,805,0,0,0\\n2023-09-02,paid,1248,1338,5147,268,1,0,0\\n2023-09-03,organic,806,879,3154,148,1,1,0.00113\\n2023-09-03,direct,1406,1789,6230,223,0,0,0\\n2023-09-03,paid,1508,1625,7320,391,2,1,0.00061\\n2023-09-03,unknown,4720,5030,16226,894,2,1,0.00019\\n2023-09-04,organic,942,1022,3769,180,1,1,0.00097\\n2023-09-04,direct,1922,2487,8770,272,5,3,0.0012\\n2023-09-04,paid,1713,1881,9154,463,4,3,0.00159\\n2023-09-04,unknown,4772,5139,16867,881,2,2,0.00038\\n2023-09-05,organic,784,847,2680,104,0,0,0\\n2023-09-05,direct,1779,2183,6348,160,3,1,0.00045\\n2023-09-05,paid,1414,1528,5980,292,5,0,0\\n2023-09-05,unknown,3630,3926,11774,570,1,1,0.00025\\n2023-09-06,organic,583,623,1658,80,0,0,0\\n2023-09-06,unknown,2949,3079,7754,418,0,0,0\\n2023-09-06,paid,1384,1512,5269,195,2,1,0.00066\\n2023-09-06,direct,1401,1730,4482,119,1,0,0\\n2023-09-07,direct,1131,1370,3404,66,2,0,0\\n2023-09-07,unknown,3445,3630,8832,447,2,1,0.00027\\n2023-09-07,organic,526,573,1488,57,1,0,0\\n2023-09-07,paid,1202,1294,4186,186,0,0,0\\n2023-09-08,direct,1194,1473,3356,92,2,1,0.00067\\n2023-09-08,unknown,3329,3507,8564,450,1,0,0\\n2023-09-08,paid,1259,1368,4707,216,0,0,0\\n2023-09-08,organic,530,572,1686,71,0,0,0\\n2023-09-09,unknown,2920,3069,7595,385,1,0,0\\n2023-09-09,paid,1234,1344,4145,184,1,0,0\\n2023-09-09,direct,1029,1255,3112,72,0,0,0\\n2023-09-09,organic,402,426,1005,46,0,0,0\\n2023-09-10,direct,902,1096,2814,103,1,0,0\\n2023-09-10,unknown,3122,3269,7981,407,1,1,0.0003\\n2023-09-10,paid,1202,1293,4555,226,0,0,0\\n2023-09-10,organic,397,432,1019,27,0,0,0\\n2023-09-11,unknown,2979,3102,7394,368,0,0,0\\n2023-09-11,paid,1134,1231,4377,201,0,0,0\\n2023-09-11,organic,495,549,1716,54,0,0,0\\n2023-09-11,direct,1233,1544,3784,98,1,0,0\\n2023-09-12,direct,1284,1534,3582,97,1,0,0\\n2023-09-12,organic,500,531,1208,49,0,0,0\\n2023-09-12,unknown,2931,3037,7838,418,1,0,0\\n2023-09-12,paid,1233,1335,4198,214,0,0,0\\n2023-09-13,organic,408,438,1288,48,0,0,0\\n2023-09-13,paid,1372,1469,4422,192,1,1,0.00068\\n2023-09-13,unknown,3040,3147,7738,414,0,0,0\\n2023-09-13,direct,1020,1232,3220,98,4,2,0.00162\\n2023-09-14,paid,1522,1630,4984,223,0,0,0\\n2023-09-14,organic,467,486,1348,60,0,0,0\\n2023-09-14,unknown,2805,2948,8019,411,0,0,0\\n2023-09-14,direct,998,1181,3012,111,3,0,0\\n2023-09-15,direct,848,1029,2614,101,3,1,0.00097\\n2023-09-15,organic,406,429,1165,58,0,0,0\\n2023-09-15,unknown,2405,2499,6478,348,0,0,0\\n2023-09-15,paid,1281,1390,4287,195,4,2,0.00143\\n2023-09-16,direct,686,849,2170,71,1,0,0\\n2023-09-16,unknown,2570,2646,6658,348,0,0,0\\n2023-09-16,paid,1108,1199,3413,177,0,0,0\\n2023-09-16,organic,377,402,1080,45,0,0,0\\n2023-09-17,direct,749,916,2254,84,1,0,0\\n2023-09-17,unknown,2488,2593,6641,354,0,0,0\\n2023-09-17,paid,1299,1412,4188,172,1,0,0\\n2023-09-17,organic,358,386,980,46,0,0,0\\n2023-09-18,organic,373,407,1061,55,0,0,0\\n2023-09-18,unknown,2301,2425,6316,343,0,0,0\\n2023-09-18,paid,1624,1748,4729,218,2,0,0\\n2023-09-18,direct,800,955,2367,88,1,1,0.00104\\n2023-09-19,paid,1622,1745,5047,219,0,0,0\\n2023-09-19,unknown,2277,2409,6944,368,0,0,0\\n2023-09-19,organic,485,527,1635,74,0,0,0\\n2023-09-19,direct,762,953,2949,115,3,1,0.00104\\n2023-09-20,organic,396,427,1287,56,1,1,0.00234\\n2023-09-20,direct,802,985,2799,94,2,1,0.00101\\n2023-09-20,paid,3009,3143,7009,254,2,2,0.00063\\n2023-09-20,unknown,2050,2159,6359,360,2,2,0.00092\\n2023-09-21,direct,872,1054,3077,106,2,1,0.00094\\n2023-09-21,unknown,1146,1210,4217,213,0,0,0\\n2023-09-21,paid,2876,2999,5834,237,0,0,0\\n2023-09-21,organic,760,817,3293,134,2,0,0\\n2023-09-22,unknown,782,828,3151,170,0,0,0\\n2023-09-22,direct,802,973,3130,88,3,2,0.00205\\n2023-09-22,paid,2257,2395,4798,191,0,0,0\\n2023-09-22,organic,754,803,3517,167,0,0,0\\n2023-09-23,paid,1976,2101,4821,225,2,0,0\\n2023-09-23,direct,707,867,2546,89,1,0,0\\n2023-09-23,unknown,544,587,2225,122,0,0,0\\n2023-09-23,organic,587,625,2660,146,1,1,0.0016\\n2023-09-24,paid,2127,2291,6261,322,1,1,0.00043\\n2023-09-24,unknown,556,605,2331,131,0,0,0\\n2023-09-24,organic,397,417,1248,65,0,0,0\\n2023-09-24,direct,625,769,2238,84,0,0,0\\n2023-09-25,paid,2271,2405,6193,329,0,0,0\\n2023-09-25,unknown,677,704,2476,148,0,0,0\\n2023-09-25,direct,841,1011,2458,107,2,0,0\\n2023-09-25,organic,458,495,1310,59,0,0,0\\n2023-09-26,organic,419,444,1341,49,0,0,0\\n2023-09-26,unknown,629,668,2452,163,1,0,0\\n2023-09-26,paid,2266,2427,6321,374,0,0,0\\n2023-09-26,direct,783,971,2938,128,1,0,0\\n'"
      ]
     },
     "execution_count": 15,
     "metadata": {},
     "output_type": "execute_result"
    }
   ],
   "source": [
    "response.text"
   ]
  },
  {
   "cell_type": "code",
   "execution_count": 3,
   "metadata": {},
   "outputs": [],
   "source": [
    "with open('asin.txt') as user_file:\n",
    "  ufile = user_file.read()\n",
    "urls=ufile.split('\\n')\n",
    "with open('name.txt') as user_file:\n",
    "  ufile = user_file.read()\n",
    "names=ufile.split('\\n')"
   ]
  },
  {
   "cell_type": "code",
   "execution_count": 3,
   "metadata": {},
   "outputs": [],
   "source": [
    "import pandas as pd"
   ]
  },
  {
   "cell_type": "code",
   "execution_count": 5,
   "metadata": {},
   "outputs": [
    {
     "ename": "SyntaxError",
     "evalue": "invalid syntax (<ipython-input-5-080e01315afa>, line 9)",
     "output_type": "error",
     "traceback": [
      "\u001b[1;36m  File \u001b[1;32m\"<ipython-input-5-080e01315afa>\"\u001b[1;36m, line \u001b[1;32m9\u001b[0m\n\u001b[1;33m    MRP = elem.get_text() for elem in WebDriverWait(driver, 5).until(EC.visibility_of_all_elements_located((By.XPATH, price1)))\u001b[0m\n\u001b[1;37m                            ^\u001b[0m\n\u001b[1;31mSyntaxError\u001b[0m\u001b[1;31m:\u001b[0m invalid syntax\n"
     ]
    }
   ],
   "source": [
    "price1=\"//*[@id='corePriceDisplay_desktop_feature_div']/div[2]/span/span[1]/span/span/span[1]\"\n",
    "price2='//*[@id=\"corePriceDisplay_desktop_feature_div\"]/div[1]/span[2]/span[2]/span[2]'\n",
    "qty='//*[@id=\"productDetails_detailBullets_sections1\"]/tbody/tr[3]/td'\n",
    "packz='//*[@id=\"inline-twister-expanded-dimension-text-size_name\"]'\n",
    "for x in urls:\n",
    "    url='https://amazon.in/dp/'+x\n",
    "    driver.get(url)\n",
    "    time.sleep(3);\n",
    "    MRP = elem.get_text() for elem in WebDriverWait(driver, 5).until(EC.visibility_of_all_elements_located((By.XPATH, price1)))\n",
    "    Price =elem.get_text() for elem in WebDriverWait(driver, 5).until(EC.visibility_of_all_elements_located((By.XPATH, price2)))\n",
    "    Netq =elem.get_text() for elem in WebDriverWait(driver, 5).until(EC.visibility_of_all_elements_located((By.XPATH, qty)))\n",
    "    Pack_Size =elem.get_text() for elem in WebDriverWait(driver, 5).until(EC.visibility_of_all_elements_located((By.XPATH, packz)))\n",
    "    \n"
   ]
  },
  {
   "cell_type": "code",
   "execution_count": 3,
   "metadata": {},
   "outputs": [],
   "source": [
    "from selenium.webdriver.common.by import By\n",
    "from selenium.webdriver.support.ui import WebDriverWait\n",
    "from selenium.webdriver.support import expected_conditions as EC"
   ]
  },
  {
   "cell_type": "code",
   "execution_count": null,
   "metadata": {},
   "outputs": [],
   "source": []
  },
  {
   "cell_type": "code",
   "execution_count": 6,
   "metadata": {},
   "outputs": [
    {
     "ename": "SyntaxError",
     "evalue": "invalid syntax (<ipython-input-6-080e01315afa>, line 9)",
     "output_type": "error",
     "traceback": [
      "\u001b[1;36m  File \u001b[1;32m\"<ipython-input-6-080e01315afa>\"\u001b[1;36m, line \u001b[1;32m9\u001b[0m\n\u001b[1;33m    MRP = elem.get_text() for elem in WebDriverWait(driver, 5).until(EC.visibility_of_all_elements_located((By.XPATH, price1)))\u001b[0m\n\u001b[1;37m                            ^\u001b[0m\n\u001b[1;31mSyntaxError\u001b[0m\u001b[1;31m:\u001b[0m invalid syntax\n"
     ]
    }
   ],
   "source": [
    "price1=\"//*[@id='corePriceDisplay_desktop_feature_div']/div[2]/span/span[1]/span/span/span[1]\"\n",
    "price2='//*[@id=\"corePriceDisplay_desktop_feature_div\"]/div[1]/span[2]/span[2]/span[2]'\n",
    "qty='//*[@id=\"productDetails_detailBullets_sections1\"]/tbody/tr[3]/td'\n",
    "packz='//*[@id=\"inline-twister-expanded-dimension-text-size_name\"]'\n",
    "for x in urls:\n",
    "    url='https://amazon.in/dp/'+x\n",
    "    driver.get(url)\n",
    "    time.sleep(3);\n",
    "    MRP = elem.get_text() for elem in WebDriverWait(driver, 5).until(EC.visibility_of_all_elements_located((By.XPATH, price1)))\n",
    "    Price =elem.get_text() for elem in WebDriverWait(driver, 5).until(EC.visibility_of_all_elements_located((By.XPATH, price2)))\n",
    "    Netq =elem.get_text() for elem in WebDriverWait(driver, 5).until(EC.visibility_of_all_elements_located((By.XPATH, qty)))\n",
    "    Pack_Size =elem.get_text() for elem in WebDriverWait(driver, 5).until(EC.visibility_of_all_elements_located((By.XPATH, packz)))\n",
    "    \n"
   ]
  },
  {
   "cell_type": "code",
   "execution_count": 7,
   "metadata": {},
   "outputs": [
    {
     "ename": "SyntaxError",
     "evalue": "invalid syntax (<ipython-input-7-a514b330b635>, line 10)",
     "output_type": "error",
     "traceback": [
      "\u001b[1;36m  File \u001b[1;32m\"<ipython-input-7-a514b330b635>\"\u001b[1;36m, line \u001b[1;32m10\u001b[0m\n\u001b[1;33m    Price =elem.get_text() for elem in WebDriverWait(driver, 5).until(EC.visibility_of_all_elements_located((By.XPATH, price2)))\u001b[0m\n\u001b[1;37m                             ^\u001b[0m\n\u001b[1;31mSyntaxError\u001b[0m\u001b[1;31m:\u001b[0m invalid syntax\n"
     ]
    }
   ],
   "source": [
    "price1=\"//*[@id='corePriceDisplay_desktop_feature_div']/div[2]/span/span[1]/span/span/span[1]\"\n",
    "price2='//*[@id=\"corePriceDisplay_desktop_feature_div\"]/div[1]/span[2]/span[2]/span[2]'\n",
    "qty='//*[@id=\"productDetails_detailBullets_sections1\"]/tbody/tr[3]/td'\n",
    "packz='//*[@id=\"inline-twister-expanded-dimension-text-size_name\"]'\n",
    "for x in urls:\n",
    "    url='https://amazon.in/dp/'+x\n",
    "    driver.get(url)\n",
    "    time.sleep(3);\n",
    "    MRP = WebDriverWait(driver, 5).until(EC.visibility_of_all_elements_located((By.XPATH, price1))).get_text()\n",
    "    Price =elem.get_text() for elem in WebDriverWait(driver, 5).until(EC.visibility_of_all_elements_located((By.XPATH, price2)))\n",
    "    Netq =elem.get_text() for elem in WebDriverWait(driver, 5).until(EC.visibility_of_all_elements_located((By.XPATH, qty)))\n",
    "    Pack_Size =elem.get_text() for elem in WebDriverWait(driver, 5).until(EC.visibility_of_all_elements_located((By.XPATH, packz)))\n",
    "    \n"
   ]
  },
  {
   "cell_type": "code",
   "execution_count": 8,
   "metadata": {},
   "outputs": [
    {
     "ename": "NameError",
     "evalue": "name 'driver' is not defined",
     "output_type": "error",
     "traceback": [
      "\u001b[1;31m---------------------------------------------------------------------------\u001b[0m",
      "\u001b[1;31mNameError\u001b[0m                                 Traceback (most recent call last)",
      "\u001b[1;32m<ipython-input-8-48c2f223c16a>\u001b[0m in \u001b[0;36m<module>\u001b[1;34m\u001b[0m\n\u001b[0;32m      5\u001b[0m \u001b[1;32mfor\u001b[0m \u001b[0mx\u001b[0m \u001b[1;32min\u001b[0m \u001b[0murls\u001b[0m\u001b[1;33m:\u001b[0m\u001b[1;33m\u001b[0m\u001b[1;33m\u001b[0m\u001b[0m\n\u001b[0;32m      6\u001b[0m     \u001b[0murl\u001b[0m\u001b[1;33m=\u001b[0m\u001b[1;34m'https://amazon.in/dp/'\u001b[0m\u001b[1;33m+\u001b[0m\u001b[0mx\u001b[0m\u001b[1;33m\u001b[0m\u001b[1;33m\u001b[0m\u001b[0m\n\u001b[1;32m----> 7\u001b[1;33m     \u001b[0mdriver\u001b[0m\u001b[1;33m.\u001b[0m\u001b[0mget\u001b[0m\u001b[1;33m(\u001b[0m\u001b[0murl\u001b[0m\u001b[1;33m)\u001b[0m\u001b[1;33m\u001b[0m\u001b[1;33m\u001b[0m\u001b[0m\n\u001b[0m\u001b[0;32m      8\u001b[0m     \u001b[0mtime\u001b[0m\u001b[1;33m.\u001b[0m\u001b[0msleep\u001b[0m\u001b[1;33m(\u001b[0m\u001b[1;36m3\u001b[0m\u001b[1;33m)\u001b[0m\u001b[1;33m;\u001b[0m\u001b[1;33m\u001b[0m\u001b[1;33m\u001b[0m\u001b[0m\n\u001b[0;32m      9\u001b[0m     \u001b[0mMRP\u001b[0m \u001b[1;33m=\u001b[0m \u001b[0mWebDriverWait\u001b[0m\u001b[1;33m(\u001b[0m\u001b[0mdriver\u001b[0m\u001b[1;33m,\u001b[0m \u001b[1;36m5\u001b[0m\u001b[1;33m)\u001b[0m\u001b[1;33m.\u001b[0m\u001b[0muntil\u001b[0m\u001b[1;33m(\u001b[0m\u001b[0mEC\u001b[0m\u001b[1;33m.\u001b[0m\u001b[0mvisibility_of_all_elements_located\u001b[0m\u001b[1;33m(\u001b[0m\u001b[1;33m(\u001b[0m\u001b[0mBy\u001b[0m\u001b[1;33m.\u001b[0m\u001b[0mXPATH\u001b[0m\u001b[1;33m,\u001b[0m \u001b[0mprice1\u001b[0m\u001b[1;33m)\u001b[0m\u001b[1;33m)\u001b[0m\u001b[1;33m)\u001b[0m\u001b[1;33m.\u001b[0m\u001b[0mget_text\u001b[0m\u001b[1;33m(\u001b[0m\u001b[1;33m)\u001b[0m\u001b[1;33m\u001b[0m\u001b[1;33m\u001b[0m\u001b[0m\n",
      "\u001b[1;31mNameError\u001b[0m: name 'driver' is not defined"
     ]
    }
   ],
   "source": [
    "price1=\"//*[@id='corePriceDisplay_desktop_feature_div']/div[2]/span/span[1]/span/span/span[1]\"\n",
    "price2='//*[@id=\"corePriceDisplay_desktop_feature_div\"]/div[1]/span[2]/span[2]/span[2]'\n",
    "qty='//*[@id=\"productDetails_detailBullets_sections1\"]/tbody/tr[3]/td'\n",
    "packz='//*[@id=\"inline-twister-expanded-dimension-text-size_name\"]'\n",
    "for x in urls:\n",
    "    url='https://amazon.in/dp/'+x\n",
    "    driver.get(url)\n",
    "    time.sleep(3);\n",
    "    MRP = WebDriverWait(driver, 5).until(EC.visibility_of_all_elements_located((By.XPATH, price1))).get_text()\n",
    "    Price =WebDriverWait(driver, 5).until(EC.visibility_of_all_elements_located((By.XPATH, price2))).get_text()\n",
    "    Netq =WebDriverWait(driver, 5).until(EC.visibility_of_all_elements_located((By.XPATH, qty))).get_text()\n",
    "    Pack_Size = WebDriverWait(driver, 5).until(EC.visibility_of_all_elements_located((By.XPATH, packz))).get_text()\n",
    "    \n"
   ]
  },
  {
   "cell_type": "code",
   "execution_count": 16,
   "metadata": {},
   "outputs": [
    {
     "ename": "WebDriverException",
     "evalue": "Message: unknown command: 'Performance.startNetworkMonitoring' wasn't found\n  (Session info: chrome=117.0.5938.132)\n",
     "output_type": "error",
     "traceback": [
      "\u001b[1;31m---------------------------------------------------------------------------\u001b[0m",
      "\u001b[1;31mWebDriverException\u001b[0m                        Traceback (most recent call last)",
      "\u001b[1;32m<ipython-input-16-d14955411a4a>\u001b[0m in \u001b[0;36m<module>\u001b[1;34m\u001b[0m\n\u001b[0;32m      7\u001b[0m \u001b[1;33m\u001b[0m\u001b[0m\n\u001b[0;32m      8\u001b[0m   \u001b[1;31m# Start recording network events.\u001b[0m\u001b[1;33m\u001b[0m\u001b[1;33m\u001b[0m\u001b[1;33m\u001b[0m\u001b[0m\n\u001b[1;32m----> 9\u001b[1;33m \u001b[0mdriver\u001b[0m\u001b[1;33m.\u001b[0m\u001b[0mexecute_cdp_cmd\u001b[0m\u001b[1;33m(\u001b[0m\u001b[1;34m\"Performance.startNetworkMonitoring\"\u001b[0m\u001b[1;33m,\u001b[0m \u001b[1;33m{\u001b[0m\u001b[1;33m}\u001b[0m\u001b[1;33m)\u001b[0m\u001b[1;33m\u001b[0m\u001b[1;33m\u001b[0m\u001b[0m\n\u001b[0m\u001b[0;32m     10\u001b[0m \u001b[0mWebDriverWait\u001b[0m\u001b[1;33m(\u001b[0m\u001b[0mdriver\u001b[0m\u001b[1;33m,\u001b[0m \u001b[1;36m5\u001b[0m\u001b[1;33m)\u001b[0m\u001b[1;33m;\u001b[0m\u001b[1;33m\u001b[0m\u001b[1;33m\u001b[0m\u001b[0m\n\u001b[0;32m     11\u001b[0m \u001b[0mdriver\u001b[0m\u001b[1;33m.\u001b[0m\u001b[0mexecute_cdp_cmd\u001b[0m\u001b[1;33m(\u001b[0m\u001b[1;34m\"Performance.stopNetworkMonitoring\"\u001b[0m\u001b[1;33m,\u001b[0m \u001b[1;33m{\u001b[0m\u001b[1;33m}\u001b[0m\u001b[1;33m)\u001b[0m\u001b[1;33m\u001b[0m\u001b[1;33m\u001b[0m\u001b[0m\n",
      "\u001b[1;32mc:\\Users\\SOURJYA\\anaconda3\\lib\\site-packages\\selenium\\webdriver\\chrome\\webdriver.py\u001b[0m in \u001b[0;36mexecute_cdp_cmd\u001b[1;34m(self, cmd, cmd_args)\u001b[0m\n\u001b[0;32m    143\u001b[0m \u001b[1;33m\u001b[0m\u001b[0m\n\u001b[0;32m    144\u001b[0m         \"\"\"\n\u001b[1;32m--> 145\u001b[1;33m         \u001b[1;32mreturn\u001b[0m \u001b[0mself\u001b[0m\u001b[1;33m.\u001b[0m\u001b[0mexecute\u001b[0m\u001b[1;33m(\u001b[0m\u001b[1;34m\"executeCdpCommand\"\u001b[0m\u001b[1;33m,\u001b[0m \u001b[1;33m{\u001b[0m\u001b[1;34m'cmd'\u001b[0m\u001b[1;33m:\u001b[0m \u001b[0mcmd\u001b[0m\u001b[1;33m,\u001b[0m \u001b[1;34m'params'\u001b[0m\u001b[1;33m:\u001b[0m \u001b[0mcmd_args\u001b[0m\u001b[1;33m}\u001b[0m\u001b[1;33m)\u001b[0m\u001b[1;33m[\u001b[0m\u001b[1;34m'value'\u001b[0m\u001b[1;33m]\u001b[0m\u001b[1;33m\u001b[0m\u001b[1;33m\u001b[0m\u001b[0m\n\u001b[0m\u001b[0;32m    146\u001b[0m \u001b[1;33m\u001b[0m\u001b[0m\n\u001b[0;32m    147\u001b[0m     \u001b[1;32mdef\u001b[0m \u001b[0mquit\u001b[0m\u001b[1;33m(\u001b[0m\u001b[0mself\u001b[0m\u001b[1;33m)\u001b[0m\u001b[1;33m:\u001b[0m\u001b[1;33m\u001b[0m\u001b[1;33m\u001b[0m\u001b[0m\n",
      "\u001b[1;32mc:\\Users\\SOURJYA\\anaconda3\\lib\\site-packages\\selenium\\webdriver\\remote\\webdriver.py\u001b[0m in \u001b[0;36mexecute\u001b[1;34m(self, driver_command, params)\u001b[0m\n\u001b[0;32m    319\u001b[0m         \u001b[0mresponse\u001b[0m \u001b[1;33m=\u001b[0m \u001b[0mself\u001b[0m\u001b[1;33m.\u001b[0m\u001b[0mcommand_executor\u001b[0m\u001b[1;33m.\u001b[0m\u001b[0mexecute\u001b[0m\u001b[1;33m(\u001b[0m\u001b[0mdriver_command\u001b[0m\u001b[1;33m,\u001b[0m \u001b[0mparams\u001b[0m\u001b[1;33m)\u001b[0m\u001b[1;33m\u001b[0m\u001b[1;33m\u001b[0m\u001b[0m\n\u001b[0;32m    320\u001b[0m         \u001b[1;32mif\u001b[0m \u001b[0mresponse\u001b[0m\u001b[1;33m:\u001b[0m\u001b[1;33m\u001b[0m\u001b[1;33m\u001b[0m\u001b[0m\n\u001b[1;32m--> 321\u001b[1;33m             \u001b[0mself\u001b[0m\u001b[1;33m.\u001b[0m\u001b[0merror_handler\u001b[0m\u001b[1;33m.\u001b[0m\u001b[0mcheck_response\u001b[0m\u001b[1;33m(\u001b[0m\u001b[0mresponse\u001b[0m\u001b[1;33m)\u001b[0m\u001b[1;33m\u001b[0m\u001b[1;33m\u001b[0m\u001b[0m\n\u001b[0m\u001b[0;32m    322\u001b[0m             response['value'] = self._unwrap_value(\n\u001b[0;32m    323\u001b[0m                 response.get('value', None))\n",
      "\u001b[1;32mc:\\Users\\SOURJYA\\anaconda3\\lib\\site-packages\\selenium\\webdriver\\remote\\errorhandler.py\u001b[0m in \u001b[0;36mcheck_response\u001b[1;34m(self, response)\u001b[0m\n\u001b[0;32m    240\u001b[0m                 \u001b[0malert_text\u001b[0m \u001b[1;33m=\u001b[0m \u001b[0mvalue\u001b[0m\u001b[1;33m[\u001b[0m\u001b[1;34m'alert'\u001b[0m\u001b[1;33m]\u001b[0m\u001b[1;33m.\u001b[0m\u001b[0mget\u001b[0m\u001b[1;33m(\u001b[0m\u001b[1;34m'text'\u001b[0m\u001b[1;33m)\u001b[0m\u001b[1;33m\u001b[0m\u001b[1;33m\u001b[0m\u001b[0m\n\u001b[0;32m    241\u001b[0m             \u001b[1;32mraise\u001b[0m \u001b[0mexception_class\u001b[0m\u001b[1;33m(\u001b[0m\u001b[0mmessage\u001b[0m\u001b[1;33m,\u001b[0m \u001b[0mscreen\u001b[0m\u001b[1;33m,\u001b[0m \u001b[0mstacktrace\u001b[0m\u001b[1;33m,\u001b[0m \u001b[0malert_text\u001b[0m\u001b[1;33m)\u001b[0m\u001b[1;33m\u001b[0m\u001b[1;33m\u001b[0m\u001b[0m\n\u001b[1;32m--> 242\u001b[1;33m         \u001b[1;32mraise\u001b[0m \u001b[0mexception_class\u001b[0m\u001b[1;33m(\u001b[0m\u001b[0mmessage\u001b[0m\u001b[1;33m,\u001b[0m \u001b[0mscreen\u001b[0m\u001b[1;33m,\u001b[0m \u001b[0mstacktrace\u001b[0m\u001b[1;33m)\u001b[0m\u001b[1;33m\u001b[0m\u001b[1;33m\u001b[0m\u001b[0m\n\u001b[0m\u001b[0;32m    243\u001b[0m \u001b[1;33m\u001b[0m\u001b[0m\n\u001b[0;32m    244\u001b[0m     \u001b[1;32mdef\u001b[0m \u001b[0m_value_or_default\u001b[0m\u001b[1;33m(\u001b[0m\u001b[0mself\u001b[0m\u001b[1;33m,\u001b[0m \u001b[0mobj\u001b[0m\u001b[1;33m,\u001b[0m \u001b[0mkey\u001b[0m\u001b[1;33m,\u001b[0m \u001b[0mdefault\u001b[0m\u001b[1;33m)\u001b[0m\u001b[1;33m:\u001b[0m\u001b[1;33m\u001b[0m\u001b[1;33m\u001b[0m\u001b[0m\n",
      "\u001b[1;31mWebDriverException\u001b[0m: Message: unknown command: 'Performance.startNetworkMonitoring' wasn't found\n  (Session info: chrome=117.0.5938.132)\n"
     ]
    }
   ],
   "source": [
    "from selenium import webdriver\n",
    "options1=webdriver.ChromeOptions()\n",
    "driver = webdriver.Chrome(options=options1)\n",
    "driver.maximize_window()\n",
    "driver.get(\"https://www.google.com\")\n",
    "driver.execute_cdp_cmd(\"Performance.enable\", {})\n",
    "\n",
    "  # Start recording network events.\n",
    "driver.execute_cdp_cmd(\"Performance.startNetworkMonitoring\", {})\n",
    "WebDriverWait(driver, 5);\n",
    "driver.execute_cdp_cmd(\"Performance.stopNetworkMonitoring\", {})\n",
    "\n",
    "  # Get the performance log entries.\n",
    "performance_log_entries = driver.execute_cdp_cmd(\"Performance.getEntries\", {})\n",
    "\n",
    "print(performance_log_entries)"
   ]
  },
  {
   "cell_type": "code",
   "execution_count": 10,
   "metadata": {},
   "outputs": [],
   "source": [
    "from selenium import webdriver\n",
    "options1=webdriver.ChromeOptions()\n",
    "driver = webdriver.Chrome(options=options1)\n"
   ]
  },
  {
   "cell_type": "code",
   "execution_count": 31,
   "metadata": {},
   "outputs": [],
   "source": [
    "from selenium import webdriver\n",
    "options1=webdriver.ChromeOptions()\n",
    "driver = webdriver.Chrome(options=options1)\n",
    "driver.get(\"https://admin.shopify.com/store/cosmix-superfood/reports/2777383005?since=2023-06-01&until=2023-09-26&over=day\")\n"
   ]
  },
  {
   "cell_type": "code",
   "execution_count": 6,
   "metadata": {},
   "outputs": [
    {
     "ename": "SessionNotCreatedException",
     "evalue": "Message: session not created: This version of ChromeDriver only supports Chrome version 114\nCurrent browser version is 117.0.5938.132 with binary path C:\\Program Files (x86)\\Google\\Chrome\\Application\\chrome.exe\n",
     "output_type": "error",
     "traceback": [
      "\u001b[1;31m---------------------------------------------------------------------------\u001b[0m",
      "\u001b[1;31mSessionNotCreatedException\u001b[0m                Traceback (most recent call last)",
      "\u001b[1;32m<ipython-input-6-dfedde6afd2b>\u001b[0m in \u001b[0;36m<module>\u001b[1;34m\u001b[0m\n\u001b[1;32m----> 1\u001b[1;33m \u001b[0mdriver\u001b[0m \u001b[1;33m=\u001b[0m \u001b[0mwebdriver\u001b[0m\u001b[1;33m.\u001b[0m\u001b[0mChrome\u001b[0m\u001b[1;33m(\u001b[0m\u001b[0moptions\u001b[0m\u001b[1;33m=\u001b[0m\u001b[0moptions1\u001b[0m\u001b[1;33m)\u001b[0m\u001b[1;33m\u001b[0m\u001b[1;33m\u001b[0m\u001b[0m\n\u001b[0m\u001b[0;32m      2\u001b[0m \u001b[0mdriver\u001b[0m\u001b[1;33m.\u001b[0m\u001b[0mmaximize_window\u001b[0m\u001b[1;33m(\u001b[0m\u001b[1;33m)\u001b[0m\u001b[1;33m\u001b[0m\u001b[1;33m\u001b[0m\u001b[0m\n\u001b[0;32m      3\u001b[0m \u001b[0mprice1\u001b[0m\u001b[1;33m=\u001b[0m\u001b[1;34m\"//*[@id='corePriceDisplay_desktop_feature_div']/div[2]/span/span[1]/span/span/span[1]\"\u001b[0m\u001b[1;33m\u001b[0m\u001b[1;33m\u001b[0m\u001b[0m\n\u001b[0;32m      4\u001b[0m \u001b[0mprice2\u001b[0m\u001b[1;33m=\u001b[0m\u001b[1;34m'//*[@id=\"corePriceDisplay_desktop_feature_div\"]/div[1]/span[2]/span[2]/span[2]'\u001b[0m\u001b[1;33m\u001b[0m\u001b[1;33m\u001b[0m\u001b[0m\n\u001b[0;32m      5\u001b[0m \u001b[0mqty\u001b[0m\u001b[1;33m=\u001b[0m\u001b[1;34m'//*[@id=\"productDetails_detailBullets_sections1\"]/tbody/tr[3]/td'\u001b[0m\u001b[1;33m\u001b[0m\u001b[1;33m\u001b[0m\u001b[0m\n",
      "\u001b[1;32mc:\\Users\\SOURJYA\\anaconda3\\lib\\site-packages\\selenium\\webdriver\\chrome\\webdriver.py\u001b[0m in \u001b[0;36m__init__\u001b[1;34m(self, executable_path, port, options, service_args, desired_capabilities, service_log_path, chrome_options, keep_alive)\u001b[0m\n\u001b[0;32m     79\u001b[0m                     \u001b[0mremote_server_addr\u001b[0m\u001b[1;33m=\u001b[0m\u001b[0mself\u001b[0m\u001b[1;33m.\u001b[0m\u001b[0mservice\u001b[0m\u001b[1;33m.\u001b[0m\u001b[0mservice_url\u001b[0m\u001b[1;33m,\u001b[0m\u001b[1;33m\u001b[0m\u001b[1;33m\u001b[0m\u001b[0m\n\u001b[0;32m     80\u001b[0m                     keep_alive=keep_alive),\n\u001b[1;32m---> 81\u001b[1;33m                 desired_capabilities=desired_capabilities)\n\u001b[0m\u001b[0;32m     82\u001b[0m         \u001b[1;32mexcept\u001b[0m \u001b[0mException\u001b[0m\u001b[1;33m:\u001b[0m\u001b[1;33m\u001b[0m\u001b[1;33m\u001b[0m\u001b[0m\n\u001b[0;32m     83\u001b[0m             \u001b[0mself\u001b[0m\u001b[1;33m.\u001b[0m\u001b[0mquit\u001b[0m\u001b[1;33m(\u001b[0m\u001b[1;33m)\u001b[0m\u001b[1;33m\u001b[0m\u001b[1;33m\u001b[0m\u001b[0m\n",
      "\u001b[1;32mc:\\Users\\SOURJYA\\anaconda3\\lib\\site-packages\\selenium\\webdriver\\remote\\webdriver.py\u001b[0m in \u001b[0;36m__init__\u001b[1;34m(self, command_executor, desired_capabilities, browser_profile, proxy, keep_alive, file_detector, options)\u001b[0m\n\u001b[0;32m    155\u001b[0m             warnings.warn(\"Please use FirefoxOptions to set browser profile\",\n\u001b[0;32m    156\u001b[0m                           DeprecationWarning, stacklevel=2)\n\u001b[1;32m--> 157\u001b[1;33m         \u001b[0mself\u001b[0m\u001b[1;33m.\u001b[0m\u001b[0mstart_session\u001b[0m\u001b[1;33m(\u001b[0m\u001b[0mcapabilities\u001b[0m\u001b[1;33m,\u001b[0m \u001b[0mbrowser_profile\u001b[0m\u001b[1;33m)\u001b[0m\u001b[1;33m\u001b[0m\u001b[1;33m\u001b[0m\u001b[0m\n\u001b[0m\u001b[0;32m    158\u001b[0m         \u001b[0mself\u001b[0m\u001b[1;33m.\u001b[0m\u001b[0m_switch_to\u001b[0m \u001b[1;33m=\u001b[0m \u001b[0mSwitchTo\u001b[0m\u001b[1;33m(\u001b[0m\u001b[0mself\u001b[0m\u001b[1;33m)\u001b[0m\u001b[1;33m\u001b[0m\u001b[1;33m\u001b[0m\u001b[0m\n\u001b[0;32m    159\u001b[0m         \u001b[0mself\u001b[0m\u001b[1;33m.\u001b[0m\u001b[0m_mobile\u001b[0m \u001b[1;33m=\u001b[0m \u001b[0mMobile\u001b[0m\u001b[1;33m(\u001b[0m\u001b[0mself\u001b[0m\u001b[1;33m)\u001b[0m\u001b[1;33m\u001b[0m\u001b[1;33m\u001b[0m\u001b[0m\n",
      "\u001b[1;32mc:\\Users\\SOURJYA\\anaconda3\\lib\\site-packages\\selenium\\webdriver\\remote\\webdriver.py\u001b[0m in \u001b[0;36mstart_session\u001b[1;34m(self, capabilities, browser_profile)\u001b[0m\n\u001b[0;32m    250\u001b[0m         parameters = {\"capabilities\": w3c_caps,\n\u001b[0;32m    251\u001b[0m                       \"desiredCapabilities\": capabilities}\n\u001b[1;32m--> 252\u001b[1;33m         \u001b[0mresponse\u001b[0m \u001b[1;33m=\u001b[0m \u001b[0mself\u001b[0m\u001b[1;33m.\u001b[0m\u001b[0mexecute\u001b[0m\u001b[1;33m(\u001b[0m\u001b[0mCommand\u001b[0m\u001b[1;33m.\u001b[0m\u001b[0mNEW_SESSION\u001b[0m\u001b[1;33m,\u001b[0m \u001b[0mparameters\u001b[0m\u001b[1;33m)\u001b[0m\u001b[1;33m\u001b[0m\u001b[1;33m\u001b[0m\u001b[0m\n\u001b[0m\u001b[0;32m    253\u001b[0m         \u001b[1;32mif\u001b[0m \u001b[1;34m'sessionId'\u001b[0m \u001b[1;32mnot\u001b[0m \u001b[1;32min\u001b[0m \u001b[0mresponse\u001b[0m\u001b[1;33m:\u001b[0m\u001b[1;33m\u001b[0m\u001b[1;33m\u001b[0m\u001b[0m\n\u001b[0;32m    254\u001b[0m             \u001b[0mresponse\u001b[0m \u001b[1;33m=\u001b[0m \u001b[0mresponse\u001b[0m\u001b[1;33m[\u001b[0m\u001b[1;34m'value'\u001b[0m\u001b[1;33m]\u001b[0m\u001b[1;33m\u001b[0m\u001b[1;33m\u001b[0m\u001b[0m\n",
      "\u001b[1;32mc:\\Users\\SOURJYA\\anaconda3\\lib\\site-packages\\selenium\\webdriver\\remote\\webdriver.py\u001b[0m in \u001b[0;36mexecute\u001b[1;34m(self, driver_command, params)\u001b[0m\n\u001b[0;32m    319\u001b[0m         \u001b[0mresponse\u001b[0m \u001b[1;33m=\u001b[0m \u001b[0mself\u001b[0m\u001b[1;33m.\u001b[0m\u001b[0mcommand_executor\u001b[0m\u001b[1;33m.\u001b[0m\u001b[0mexecute\u001b[0m\u001b[1;33m(\u001b[0m\u001b[0mdriver_command\u001b[0m\u001b[1;33m,\u001b[0m \u001b[0mparams\u001b[0m\u001b[1;33m)\u001b[0m\u001b[1;33m\u001b[0m\u001b[1;33m\u001b[0m\u001b[0m\n\u001b[0;32m    320\u001b[0m         \u001b[1;32mif\u001b[0m \u001b[0mresponse\u001b[0m\u001b[1;33m:\u001b[0m\u001b[1;33m\u001b[0m\u001b[1;33m\u001b[0m\u001b[0m\n\u001b[1;32m--> 321\u001b[1;33m             \u001b[0mself\u001b[0m\u001b[1;33m.\u001b[0m\u001b[0merror_handler\u001b[0m\u001b[1;33m.\u001b[0m\u001b[0mcheck_response\u001b[0m\u001b[1;33m(\u001b[0m\u001b[0mresponse\u001b[0m\u001b[1;33m)\u001b[0m\u001b[1;33m\u001b[0m\u001b[1;33m\u001b[0m\u001b[0m\n\u001b[0m\u001b[0;32m    322\u001b[0m             response['value'] = self._unwrap_value(\n\u001b[0;32m    323\u001b[0m                 response.get('value', None))\n",
      "\u001b[1;32mc:\\Users\\SOURJYA\\anaconda3\\lib\\site-packages\\selenium\\webdriver\\remote\\errorhandler.py\u001b[0m in \u001b[0;36mcheck_response\u001b[1;34m(self, response)\u001b[0m\n\u001b[0;32m    240\u001b[0m                 \u001b[0malert_text\u001b[0m \u001b[1;33m=\u001b[0m \u001b[0mvalue\u001b[0m\u001b[1;33m[\u001b[0m\u001b[1;34m'alert'\u001b[0m\u001b[1;33m]\u001b[0m\u001b[1;33m.\u001b[0m\u001b[0mget\u001b[0m\u001b[1;33m(\u001b[0m\u001b[1;34m'text'\u001b[0m\u001b[1;33m)\u001b[0m\u001b[1;33m\u001b[0m\u001b[1;33m\u001b[0m\u001b[0m\n\u001b[0;32m    241\u001b[0m             \u001b[1;32mraise\u001b[0m \u001b[0mexception_class\u001b[0m\u001b[1;33m(\u001b[0m\u001b[0mmessage\u001b[0m\u001b[1;33m,\u001b[0m \u001b[0mscreen\u001b[0m\u001b[1;33m,\u001b[0m \u001b[0mstacktrace\u001b[0m\u001b[1;33m,\u001b[0m \u001b[0malert_text\u001b[0m\u001b[1;33m)\u001b[0m\u001b[1;33m\u001b[0m\u001b[1;33m\u001b[0m\u001b[0m\n\u001b[1;32m--> 242\u001b[1;33m         \u001b[1;32mraise\u001b[0m \u001b[0mexception_class\u001b[0m\u001b[1;33m(\u001b[0m\u001b[0mmessage\u001b[0m\u001b[1;33m,\u001b[0m \u001b[0mscreen\u001b[0m\u001b[1;33m,\u001b[0m \u001b[0mstacktrace\u001b[0m\u001b[1;33m)\u001b[0m\u001b[1;33m\u001b[0m\u001b[1;33m\u001b[0m\u001b[0m\n\u001b[0m\u001b[0;32m    243\u001b[0m \u001b[1;33m\u001b[0m\u001b[0m\n\u001b[0;32m    244\u001b[0m     \u001b[1;32mdef\u001b[0m \u001b[0m_value_or_default\u001b[0m\u001b[1;33m(\u001b[0m\u001b[0mself\u001b[0m\u001b[1;33m,\u001b[0m \u001b[0mobj\u001b[0m\u001b[1;33m,\u001b[0m \u001b[0mkey\u001b[0m\u001b[1;33m,\u001b[0m \u001b[0mdefault\u001b[0m\u001b[1;33m)\u001b[0m\u001b[1;33m:\u001b[0m\u001b[1;33m\u001b[0m\u001b[1;33m\u001b[0m\u001b[0m\n",
      "\u001b[1;31mSessionNotCreatedException\u001b[0m: Message: session not created: This version of ChromeDriver only supports Chrome version 114\nCurrent browser version is 117.0.5938.132 with binary path C:\\Program Files (x86)\\Google\\Chrome\\Application\\chrome.exe\n"
     ]
    }
   ],
   "source": [
    "driver = webdriver.Chrome(options=options1)\n",
    "driver.maximize_window()\n",
    "price1=\"//*[@id='corePriceDisplay_desktop_feature_div']/div[2]/span/span[1]/span/span/span[1]\"\n",
    "price2='//*[@id=\"corePriceDisplay_desktop_feature_div\"]/div[1]/span[2]/span[2]/span[2]'\n",
    "qty='//*[@id=\"productDetails_detailBullets_sections1\"]/tbody/tr[3]/td'\n",
    "packz='//*[@id=\"inline-twister-expanded-dimension-text-size_name\"]'\n",
    "for x in urls:\n",
    "    url='https://amazon.in/dp/'+x\n",
    "    driver.get(url)\n",
    "    time.sleep(3);\n",
    "    MRP = WebDriverWait(driver, 5).until(EC.visibility_of_all_elements_located((By.XPATH, price1))).get_text()\n",
    "    Price =WebDriverWait(driver, 5).until(EC.visibility_of_all_elements_located((By.XPATH, price2))).get_text()\n",
    "    Netq =WebDriverWait(driver, 5).until(EC.visibility_of_all_elements_located((By.XPATH, qty))).get_text()\n",
    "    Pack_Size = WebDriverWait(driver, 5).until(EC.visibility_of_all_elements_located((By.XPATH, packz))).get_text()\n",
    "    print(MRP,Price,Netq,Pack_Size)\n"
   ]
  },
  {
   "cell_type": "code",
   "execution_count": 13,
   "metadata": {},
   "outputs": [],
   "source": [
    "import time"
   ]
  },
  {
   "cell_type": "code",
   "execution_count": 14,
   "metadata": {},
   "outputs": [
    {
     "ename": "WebDriverException",
     "evalue": "Message: unknown error: Chrome failed to start: exited normally.\n  (chrome not reachable)\n  (The process started from chrome location C:\\Program Files (x86)\\Google\\Chrome\\Application\\chrome.exe is no longer running, so ChromeDriver is assuming that Chrome has crashed.)\n",
     "output_type": "error",
     "traceback": [
      "\u001b[1;31m---------------------------------------------------------------------------\u001b[0m",
      "\u001b[1;31mWebDriverException\u001b[0m                        Traceback (most recent call last)",
      "\u001b[1;32m<ipython-input-14-dfedde6afd2b>\u001b[0m in \u001b[0;36m<module>\u001b[1;34m\u001b[0m\n\u001b[1;32m----> 1\u001b[1;33m \u001b[0mdriver\u001b[0m \u001b[1;33m=\u001b[0m \u001b[0mwebdriver\u001b[0m\u001b[1;33m.\u001b[0m\u001b[0mChrome\u001b[0m\u001b[1;33m(\u001b[0m\u001b[0moptions\u001b[0m\u001b[1;33m=\u001b[0m\u001b[0moptions1\u001b[0m\u001b[1;33m)\u001b[0m\u001b[1;33m\u001b[0m\u001b[1;33m\u001b[0m\u001b[0m\n\u001b[0m\u001b[0;32m      2\u001b[0m \u001b[0mdriver\u001b[0m\u001b[1;33m.\u001b[0m\u001b[0mmaximize_window\u001b[0m\u001b[1;33m(\u001b[0m\u001b[1;33m)\u001b[0m\u001b[1;33m\u001b[0m\u001b[1;33m\u001b[0m\u001b[0m\n\u001b[0;32m      3\u001b[0m \u001b[0mprice1\u001b[0m\u001b[1;33m=\u001b[0m\u001b[1;34m\"//*[@id='corePriceDisplay_desktop_feature_div']/div[2]/span/span[1]/span/span/span[1]\"\u001b[0m\u001b[1;33m\u001b[0m\u001b[1;33m\u001b[0m\u001b[0m\n\u001b[0;32m      4\u001b[0m \u001b[0mprice2\u001b[0m\u001b[1;33m=\u001b[0m\u001b[1;34m'//*[@id=\"corePriceDisplay_desktop_feature_div\"]/div[1]/span[2]/span[2]/span[2]'\u001b[0m\u001b[1;33m\u001b[0m\u001b[1;33m\u001b[0m\u001b[0m\n\u001b[0;32m      5\u001b[0m \u001b[0mqty\u001b[0m\u001b[1;33m=\u001b[0m\u001b[1;34m'//*[@id=\"productDetails_detailBullets_sections1\"]/tbody/tr[3]/td'\u001b[0m\u001b[1;33m\u001b[0m\u001b[1;33m\u001b[0m\u001b[0m\n",
      "\u001b[1;32mc:\\Users\\SOURJYA\\anaconda3\\lib\\site-packages\\selenium\\webdriver\\chrome\\webdriver.py\u001b[0m in \u001b[0;36m__init__\u001b[1;34m(self, executable_path, port, options, service_args, desired_capabilities, service_log_path, chrome_options, keep_alive)\u001b[0m\n\u001b[0;32m     79\u001b[0m                     \u001b[0mremote_server_addr\u001b[0m\u001b[1;33m=\u001b[0m\u001b[0mself\u001b[0m\u001b[1;33m.\u001b[0m\u001b[0mservice\u001b[0m\u001b[1;33m.\u001b[0m\u001b[0mservice_url\u001b[0m\u001b[1;33m,\u001b[0m\u001b[1;33m\u001b[0m\u001b[1;33m\u001b[0m\u001b[0m\n\u001b[0;32m     80\u001b[0m                     keep_alive=keep_alive),\n\u001b[1;32m---> 81\u001b[1;33m                 desired_capabilities=desired_capabilities)\n\u001b[0m\u001b[0;32m     82\u001b[0m         \u001b[1;32mexcept\u001b[0m \u001b[0mException\u001b[0m\u001b[1;33m:\u001b[0m\u001b[1;33m\u001b[0m\u001b[1;33m\u001b[0m\u001b[0m\n\u001b[0;32m     83\u001b[0m             \u001b[0mself\u001b[0m\u001b[1;33m.\u001b[0m\u001b[0mquit\u001b[0m\u001b[1;33m(\u001b[0m\u001b[1;33m)\u001b[0m\u001b[1;33m\u001b[0m\u001b[1;33m\u001b[0m\u001b[0m\n",
      "\u001b[1;32mc:\\Users\\SOURJYA\\anaconda3\\lib\\site-packages\\selenium\\webdriver\\remote\\webdriver.py\u001b[0m in \u001b[0;36m__init__\u001b[1;34m(self, command_executor, desired_capabilities, browser_profile, proxy, keep_alive, file_detector, options)\u001b[0m\n\u001b[0;32m    155\u001b[0m             warnings.warn(\"Please use FirefoxOptions to set browser profile\",\n\u001b[0;32m    156\u001b[0m                           DeprecationWarning, stacklevel=2)\n\u001b[1;32m--> 157\u001b[1;33m         \u001b[0mself\u001b[0m\u001b[1;33m.\u001b[0m\u001b[0mstart_session\u001b[0m\u001b[1;33m(\u001b[0m\u001b[0mcapabilities\u001b[0m\u001b[1;33m,\u001b[0m \u001b[0mbrowser_profile\u001b[0m\u001b[1;33m)\u001b[0m\u001b[1;33m\u001b[0m\u001b[1;33m\u001b[0m\u001b[0m\n\u001b[0m\u001b[0;32m    158\u001b[0m         \u001b[0mself\u001b[0m\u001b[1;33m.\u001b[0m\u001b[0m_switch_to\u001b[0m \u001b[1;33m=\u001b[0m \u001b[0mSwitchTo\u001b[0m\u001b[1;33m(\u001b[0m\u001b[0mself\u001b[0m\u001b[1;33m)\u001b[0m\u001b[1;33m\u001b[0m\u001b[1;33m\u001b[0m\u001b[0m\n\u001b[0;32m    159\u001b[0m         \u001b[0mself\u001b[0m\u001b[1;33m.\u001b[0m\u001b[0m_mobile\u001b[0m \u001b[1;33m=\u001b[0m \u001b[0mMobile\u001b[0m\u001b[1;33m(\u001b[0m\u001b[0mself\u001b[0m\u001b[1;33m)\u001b[0m\u001b[1;33m\u001b[0m\u001b[1;33m\u001b[0m\u001b[0m\n",
      "\u001b[1;32mc:\\Users\\SOURJYA\\anaconda3\\lib\\site-packages\\selenium\\webdriver\\remote\\webdriver.py\u001b[0m in \u001b[0;36mstart_session\u001b[1;34m(self, capabilities, browser_profile)\u001b[0m\n\u001b[0;32m    250\u001b[0m         parameters = {\"capabilities\": w3c_caps,\n\u001b[0;32m    251\u001b[0m                       \"desiredCapabilities\": capabilities}\n\u001b[1;32m--> 252\u001b[1;33m         \u001b[0mresponse\u001b[0m \u001b[1;33m=\u001b[0m \u001b[0mself\u001b[0m\u001b[1;33m.\u001b[0m\u001b[0mexecute\u001b[0m\u001b[1;33m(\u001b[0m\u001b[0mCommand\u001b[0m\u001b[1;33m.\u001b[0m\u001b[0mNEW_SESSION\u001b[0m\u001b[1;33m,\u001b[0m \u001b[0mparameters\u001b[0m\u001b[1;33m)\u001b[0m\u001b[1;33m\u001b[0m\u001b[1;33m\u001b[0m\u001b[0m\n\u001b[0m\u001b[0;32m    253\u001b[0m         \u001b[1;32mif\u001b[0m \u001b[1;34m'sessionId'\u001b[0m \u001b[1;32mnot\u001b[0m \u001b[1;32min\u001b[0m \u001b[0mresponse\u001b[0m\u001b[1;33m:\u001b[0m\u001b[1;33m\u001b[0m\u001b[1;33m\u001b[0m\u001b[0m\n\u001b[0;32m    254\u001b[0m             \u001b[0mresponse\u001b[0m \u001b[1;33m=\u001b[0m \u001b[0mresponse\u001b[0m\u001b[1;33m[\u001b[0m\u001b[1;34m'value'\u001b[0m\u001b[1;33m]\u001b[0m\u001b[1;33m\u001b[0m\u001b[1;33m\u001b[0m\u001b[0m\n",
      "\u001b[1;32mc:\\Users\\SOURJYA\\anaconda3\\lib\\site-packages\\selenium\\webdriver\\remote\\webdriver.py\u001b[0m in \u001b[0;36mexecute\u001b[1;34m(self, driver_command, params)\u001b[0m\n\u001b[0;32m    319\u001b[0m         \u001b[0mresponse\u001b[0m \u001b[1;33m=\u001b[0m \u001b[0mself\u001b[0m\u001b[1;33m.\u001b[0m\u001b[0mcommand_executor\u001b[0m\u001b[1;33m.\u001b[0m\u001b[0mexecute\u001b[0m\u001b[1;33m(\u001b[0m\u001b[0mdriver_command\u001b[0m\u001b[1;33m,\u001b[0m \u001b[0mparams\u001b[0m\u001b[1;33m)\u001b[0m\u001b[1;33m\u001b[0m\u001b[1;33m\u001b[0m\u001b[0m\n\u001b[0;32m    320\u001b[0m         \u001b[1;32mif\u001b[0m \u001b[0mresponse\u001b[0m\u001b[1;33m:\u001b[0m\u001b[1;33m\u001b[0m\u001b[1;33m\u001b[0m\u001b[0m\n\u001b[1;32m--> 321\u001b[1;33m             \u001b[0mself\u001b[0m\u001b[1;33m.\u001b[0m\u001b[0merror_handler\u001b[0m\u001b[1;33m.\u001b[0m\u001b[0mcheck_response\u001b[0m\u001b[1;33m(\u001b[0m\u001b[0mresponse\u001b[0m\u001b[1;33m)\u001b[0m\u001b[1;33m\u001b[0m\u001b[1;33m\u001b[0m\u001b[0m\n\u001b[0m\u001b[0;32m    322\u001b[0m             response['value'] = self._unwrap_value(\n\u001b[0;32m    323\u001b[0m                 response.get('value', None))\n",
      "\u001b[1;32mc:\\Users\\SOURJYA\\anaconda3\\lib\\site-packages\\selenium\\webdriver\\remote\\errorhandler.py\u001b[0m in \u001b[0;36mcheck_response\u001b[1;34m(self, response)\u001b[0m\n\u001b[0;32m    240\u001b[0m                 \u001b[0malert_text\u001b[0m \u001b[1;33m=\u001b[0m \u001b[0mvalue\u001b[0m\u001b[1;33m[\u001b[0m\u001b[1;34m'alert'\u001b[0m\u001b[1;33m]\u001b[0m\u001b[1;33m.\u001b[0m\u001b[0mget\u001b[0m\u001b[1;33m(\u001b[0m\u001b[1;34m'text'\u001b[0m\u001b[1;33m)\u001b[0m\u001b[1;33m\u001b[0m\u001b[1;33m\u001b[0m\u001b[0m\n\u001b[0;32m    241\u001b[0m             \u001b[1;32mraise\u001b[0m \u001b[0mexception_class\u001b[0m\u001b[1;33m(\u001b[0m\u001b[0mmessage\u001b[0m\u001b[1;33m,\u001b[0m \u001b[0mscreen\u001b[0m\u001b[1;33m,\u001b[0m \u001b[0mstacktrace\u001b[0m\u001b[1;33m,\u001b[0m \u001b[0malert_text\u001b[0m\u001b[1;33m)\u001b[0m\u001b[1;33m\u001b[0m\u001b[1;33m\u001b[0m\u001b[0m\n\u001b[1;32m--> 242\u001b[1;33m         \u001b[1;32mraise\u001b[0m \u001b[0mexception_class\u001b[0m\u001b[1;33m(\u001b[0m\u001b[0mmessage\u001b[0m\u001b[1;33m,\u001b[0m \u001b[0mscreen\u001b[0m\u001b[1;33m,\u001b[0m \u001b[0mstacktrace\u001b[0m\u001b[1;33m)\u001b[0m\u001b[1;33m\u001b[0m\u001b[1;33m\u001b[0m\u001b[0m\n\u001b[0m\u001b[0;32m    243\u001b[0m \u001b[1;33m\u001b[0m\u001b[0m\n\u001b[0;32m    244\u001b[0m     \u001b[1;32mdef\u001b[0m \u001b[0m_value_or_default\u001b[0m\u001b[1;33m(\u001b[0m\u001b[0mself\u001b[0m\u001b[1;33m,\u001b[0m \u001b[0mobj\u001b[0m\u001b[1;33m,\u001b[0m \u001b[0mkey\u001b[0m\u001b[1;33m,\u001b[0m \u001b[0mdefault\u001b[0m\u001b[1;33m)\u001b[0m\u001b[1;33m:\u001b[0m\u001b[1;33m\u001b[0m\u001b[1;33m\u001b[0m\u001b[0m\n",
      "\u001b[1;31mWebDriverException\u001b[0m: Message: unknown error: Chrome failed to start: exited normally.\n  (chrome not reachable)\n  (The process started from chrome location C:\\Program Files (x86)\\Google\\Chrome\\Application\\chrome.exe is no longer running, so ChromeDriver is assuming that Chrome has crashed.)\n"
     ]
    }
   ],
   "source": [
    "driver = webdriver.Chrome(options=options1)\n",
    "driver.maximize_window()\n",
    "price1=\"//*[@id='corePriceDisplay_desktop_feature_div']/div[2]/span/span[1]/span/span/span[1]\"\n",
    "price2='//*[@id=\"corePriceDisplay_desktop_feature_div\"]/div[1]/span[2]/span[2]/span[2]'\n",
    "qty='//*[@id=\"productDetails_detailBullets_sections1\"]/tbody/tr[3]/td'\n",
    "packz='//*[@id=\"inline-twister-expanded-dimension-text-size_name\"]'\n",
    "for x in urls:\n",
    "    url='https://amazon.in/dp/'+x\n",
    "    driver.get(url)\n",
    "    time.sleep(3);\n",
    "    MRP = WebDriverWait(driver, 5).until(EC.visibility_of_all_elements_located((By.XPATH, price1))).get_text()\n",
    "    Price =WebDriverWait(driver, 5).until(EC.visibility_of_all_elements_located((By.XPATH, price2))).get_text()\n",
    "    Netq =WebDriverWait(driver, 5).until(EC.visibility_of_all_elements_located((By.XPATH, qty))).get_text()\n",
    "    Pack_Size = WebDriverWait(driver, 5).until(EC.visibility_of_all_elements_located((By.XPATH, packz))).get_text()\n",
    "    print(MRP,Price,Netq,Pack_Size)\n"
   ]
  },
  {
   "cell_type": "code",
   "execution_count": 15,
   "metadata": {},
   "outputs": [
    {
     "ename": "TimeoutException",
     "evalue": "Message: \n",
     "output_type": "error",
     "traceback": [
      "\u001b[1;31m---------------------------------------------------------------------------\u001b[0m",
      "\u001b[1;31mTimeoutException\u001b[0m                          Traceback (most recent call last)",
      "\u001b[1;32m<ipython-input-15-dfedde6afd2b>\u001b[0m in \u001b[0;36m<module>\u001b[1;34m\u001b[0m\n\u001b[0;32m      9\u001b[0m     \u001b[0mdriver\u001b[0m\u001b[1;33m.\u001b[0m\u001b[0mget\u001b[0m\u001b[1;33m(\u001b[0m\u001b[0murl\u001b[0m\u001b[1;33m)\u001b[0m\u001b[1;33m\u001b[0m\u001b[1;33m\u001b[0m\u001b[0m\n\u001b[0;32m     10\u001b[0m     \u001b[0mtime\u001b[0m\u001b[1;33m.\u001b[0m\u001b[0msleep\u001b[0m\u001b[1;33m(\u001b[0m\u001b[1;36m3\u001b[0m\u001b[1;33m)\u001b[0m\u001b[1;33m;\u001b[0m\u001b[1;33m\u001b[0m\u001b[1;33m\u001b[0m\u001b[0m\n\u001b[1;32m---> 11\u001b[1;33m     \u001b[0mMRP\u001b[0m \u001b[1;33m=\u001b[0m \u001b[0mWebDriverWait\u001b[0m\u001b[1;33m(\u001b[0m\u001b[0mdriver\u001b[0m\u001b[1;33m,\u001b[0m \u001b[1;36m5\u001b[0m\u001b[1;33m)\u001b[0m\u001b[1;33m.\u001b[0m\u001b[0muntil\u001b[0m\u001b[1;33m(\u001b[0m\u001b[0mEC\u001b[0m\u001b[1;33m.\u001b[0m\u001b[0mvisibility_of_all_elements_located\u001b[0m\u001b[1;33m(\u001b[0m\u001b[1;33m(\u001b[0m\u001b[0mBy\u001b[0m\u001b[1;33m.\u001b[0m\u001b[0mXPATH\u001b[0m\u001b[1;33m,\u001b[0m \u001b[0mprice1\u001b[0m\u001b[1;33m)\u001b[0m\u001b[1;33m)\u001b[0m\u001b[1;33m)\u001b[0m\u001b[1;33m.\u001b[0m\u001b[0mget_text\u001b[0m\u001b[1;33m(\u001b[0m\u001b[1;33m)\u001b[0m\u001b[1;33m\u001b[0m\u001b[1;33m\u001b[0m\u001b[0m\n\u001b[0m\u001b[0;32m     12\u001b[0m     \u001b[0mPrice\u001b[0m \u001b[1;33m=\u001b[0m\u001b[0mWebDriverWait\u001b[0m\u001b[1;33m(\u001b[0m\u001b[0mdriver\u001b[0m\u001b[1;33m,\u001b[0m \u001b[1;36m5\u001b[0m\u001b[1;33m)\u001b[0m\u001b[1;33m.\u001b[0m\u001b[0muntil\u001b[0m\u001b[1;33m(\u001b[0m\u001b[0mEC\u001b[0m\u001b[1;33m.\u001b[0m\u001b[0mvisibility_of_all_elements_located\u001b[0m\u001b[1;33m(\u001b[0m\u001b[1;33m(\u001b[0m\u001b[0mBy\u001b[0m\u001b[1;33m.\u001b[0m\u001b[0mXPATH\u001b[0m\u001b[1;33m,\u001b[0m \u001b[0mprice2\u001b[0m\u001b[1;33m)\u001b[0m\u001b[1;33m)\u001b[0m\u001b[1;33m)\u001b[0m\u001b[1;33m.\u001b[0m\u001b[0mget_text\u001b[0m\u001b[1;33m(\u001b[0m\u001b[1;33m)\u001b[0m\u001b[1;33m\u001b[0m\u001b[1;33m\u001b[0m\u001b[0m\n\u001b[0;32m     13\u001b[0m     \u001b[0mNetq\u001b[0m \u001b[1;33m=\u001b[0m\u001b[0mWebDriverWait\u001b[0m\u001b[1;33m(\u001b[0m\u001b[0mdriver\u001b[0m\u001b[1;33m,\u001b[0m \u001b[1;36m5\u001b[0m\u001b[1;33m)\u001b[0m\u001b[1;33m.\u001b[0m\u001b[0muntil\u001b[0m\u001b[1;33m(\u001b[0m\u001b[0mEC\u001b[0m\u001b[1;33m.\u001b[0m\u001b[0mvisibility_of_all_elements_located\u001b[0m\u001b[1;33m(\u001b[0m\u001b[1;33m(\u001b[0m\u001b[0mBy\u001b[0m\u001b[1;33m.\u001b[0m\u001b[0mXPATH\u001b[0m\u001b[1;33m,\u001b[0m \u001b[0mqty\u001b[0m\u001b[1;33m)\u001b[0m\u001b[1;33m)\u001b[0m\u001b[1;33m)\u001b[0m\u001b[1;33m.\u001b[0m\u001b[0mget_text\u001b[0m\u001b[1;33m(\u001b[0m\u001b[1;33m)\u001b[0m\u001b[1;33m\u001b[0m\u001b[1;33m\u001b[0m\u001b[0m\n",
      "\u001b[1;32mc:\\Users\\SOURJYA\\anaconda3\\lib\\site-packages\\selenium\\webdriver\\support\\wait.py\u001b[0m in \u001b[0;36muntil\u001b[1;34m(self, method, message)\u001b[0m\n\u001b[0;32m     78\u001b[0m             \u001b[1;32mif\u001b[0m \u001b[0mtime\u001b[0m\u001b[1;33m.\u001b[0m\u001b[0mtime\u001b[0m\u001b[1;33m(\u001b[0m\u001b[1;33m)\u001b[0m \u001b[1;33m>\u001b[0m \u001b[0mend_time\u001b[0m\u001b[1;33m:\u001b[0m\u001b[1;33m\u001b[0m\u001b[1;33m\u001b[0m\u001b[0m\n\u001b[0;32m     79\u001b[0m                 \u001b[1;32mbreak\u001b[0m\u001b[1;33m\u001b[0m\u001b[1;33m\u001b[0m\u001b[0m\n\u001b[1;32m---> 80\u001b[1;33m         \u001b[1;32mraise\u001b[0m \u001b[0mTimeoutException\u001b[0m\u001b[1;33m(\u001b[0m\u001b[0mmessage\u001b[0m\u001b[1;33m,\u001b[0m \u001b[0mscreen\u001b[0m\u001b[1;33m,\u001b[0m \u001b[0mstacktrace\u001b[0m\u001b[1;33m)\u001b[0m\u001b[1;33m\u001b[0m\u001b[1;33m\u001b[0m\u001b[0m\n\u001b[0m\u001b[0;32m     81\u001b[0m \u001b[1;33m\u001b[0m\u001b[0m\n\u001b[0;32m     82\u001b[0m     \u001b[1;32mdef\u001b[0m \u001b[0muntil_not\u001b[0m\u001b[1;33m(\u001b[0m\u001b[0mself\u001b[0m\u001b[1;33m,\u001b[0m \u001b[0mmethod\u001b[0m\u001b[1;33m,\u001b[0m \u001b[0mmessage\u001b[0m\u001b[1;33m=\u001b[0m\u001b[1;34m''\u001b[0m\u001b[1;33m)\u001b[0m\u001b[1;33m:\u001b[0m\u001b[1;33m\u001b[0m\u001b[1;33m\u001b[0m\u001b[0m\n",
      "\u001b[1;31mTimeoutException\u001b[0m: Message: \n"
     ]
    }
   ],
   "source": [
    "driver = webdriver.Chrome(options=options1)\n",
    "driver.maximize_window()\n",
    "price1=\"//*[@id='corePriceDisplay_desktop_feature_div']/div[2]/span/span[1]/span/span/span[1]\"\n",
    "price2='//*[@id=\"corePriceDisplay_desktop_feature_div\"]/div[1]/span[2]/span[2]/span[2]'\n",
    "qty='//*[@id=\"productDetails_detailBullets_sections1\"]/tbody/tr[3]/td'\n",
    "packz='//*[@id=\"inline-twister-expanded-dimension-text-size_name\"]'\n",
    "for x in urls:\n",
    "    url='https://amazon.in/dp/'+x\n",
    "    driver.get(url)\n",
    "    time.sleep(3);\n",
    "    MRP = WebDriverWait(driver, 5).until(EC.visibility_of_all_elements_located((By.XPATH, price1))).get_text()\n",
    "    Price =WebDriverWait(driver, 5).until(EC.visibility_of_all_elements_located((By.XPATH, price2))).get_text()\n",
    "    Netq =WebDriverWait(driver, 5).until(EC.visibility_of_all_elements_located((By.XPATH, qty))).get_text()\n",
    "    Pack_Size = WebDriverWait(driver, 5).until(EC.visibility_of_all_elements_located((By.XPATH, packz))).get_text()\n",
    "    print(MRP,Price,Netq,Pack_Size)\n"
   ]
  },
  {
   "cell_type": "code",
   "execution_count": 16,
   "metadata": {},
   "outputs": [
    {
     "ename": "TimeoutException",
     "evalue": "Message: \n",
     "output_type": "error",
     "traceback": [
      "\u001b[1;31m---------------------------------------------------------------------------\u001b[0m",
      "\u001b[1;31mTimeoutException\u001b[0m                          Traceback (most recent call last)",
      "\u001b[1;32m<ipython-input-16-0caf4cad701f>\u001b[0m in \u001b[0;36m<module>\u001b[1;34m\u001b[0m\n\u001b[0;32m      9\u001b[0m     \u001b[0mdriver\u001b[0m\u001b[1;33m.\u001b[0m\u001b[0mget\u001b[0m\u001b[1;33m(\u001b[0m\u001b[0murl\u001b[0m\u001b[1;33m)\u001b[0m\u001b[1;33m\u001b[0m\u001b[1;33m\u001b[0m\u001b[0m\n\u001b[0;32m     10\u001b[0m     \u001b[0mtime\u001b[0m\u001b[1;33m.\u001b[0m\u001b[0msleep\u001b[0m\u001b[1;33m(\u001b[0m\u001b[1;36m3\u001b[0m\u001b[1;33m)\u001b[0m\u001b[1;33m;\u001b[0m\u001b[1;33m\u001b[0m\u001b[1;33m\u001b[0m\u001b[0m\n\u001b[1;32m---> 11\u001b[1;33m     \u001b[0mMRP\u001b[0m \u001b[1;33m=\u001b[0m \u001b[0mWebDriverWait\u001b[0m\u001b[1;33m(\u001b[0m\u001b[0mdriver\u001b[0m\u001b[1;33m,\u001b[0m \u001b[1;36m5\u001b[0m\u001b[1;33m)\u001b[0m\u001b[1;33m.\u001b[0m\u001b[0muntil\u001b[0m\u001b[1;33m(\u001b[0m\u001b[0mEC\u001b[0m\u001b[1;33m.\u001b[0m\u001b[0mvisibility_of_element_located\u001b[0m\u001b[1;33m(\u001b[0m\u001b[1;33m(\u001b[0m\u001b[0mBy\u001b[0m\u001b[1;33m.\u001b[0m\u001b[0mXPATH\u001b[0m\u001b[1;33m,\u001b[0m \u001b[0mprice1\u001b[0m\u001b[1;33m)\u001b[0m\u001b[1;33m)\u001b[0m\u001b[1;33m)\u001b[0m\u001b[1;33m.\u001b[0m\u001b[0mget_text\u001b[0m\u001b[1;33m(\u001b[0m\u001b[1;33m)\u001b[0m\u001b[1;33m\u001b[0m\u001b[1;33m\u001b[0m\u001b[0m\n\u001b[0m\u001b[0;32m     12\u001b[0m     \u001b[0mPrice\u001b[0m \u001b[1;33m=\u001b[0m\u001b[0mWebDriverWait\u001b[0m\u001b[1;33m(\u001b[0m\u001b[0mdriver\u001b[0m\u001b[1;33m,\u001b[0m \u001b[1;36m5\u001b[0m\u001b[1;33m)\u001b[0m\u001b[1;33m.\u001b[0m\u001b[0muntil\u001b[0m\u001b[1;33m(\u001b[0m\u001b[0mEC\u001b[0m\u001b[1;33m.\u001b[0m\u001b[0mvisibility_of_element_located\u001b[0m\u001b[1;33m(\u001b[0m\u001b[1;33m(\u001b[0m\u001b[0mBy\u001b[0m\u001b[1;33m.\u001b[0m\u001b[0mXPATH\u001b[0m\u001b[1;33m,\u001b[0m \u001b[0mprice2\u001b[0m\u001b[1;33m)\u001b[0m\u001b[1;33m)\u001b[0m\u001b[1;33m)\u001b[0m\u001b[1;33m.\u001b[0m\u001b[0mget_text\u001b[0m\u001b[1;33m(\u001b[0m\u001b[1;33m)\u001b[0m\u001b[1;33m\u001b[0m\u001b[1;33m\u001b[0m\u001b[0m\n\u001b[0;32m     13\u001b[0m     \u001b[0mNetq\u001b[0m \u001b[1;33m=\u001b[0m\u001b[0mWebDriverWait\u001b[0m\u001b[1;33m(\u001b[0m\u001b[0mdriver\u001b[0m\u001b[1;33m,\u001b[0m \u001b[1;36m5\u001b[0m\u001b[1;33m)\u001b[0m\u001b[1;33m.\u001b[0m\u001b[0muntil\u001b[0m\u001b[1;33m(\u001b[0m\u001b[0mEC\u001b[0m\u001b[1;33m.\u001b[0m\u001b[0mvisibility_of_element_located\u001b[0m\u001b[1;33m(\u001b[0m\u001b[1;33m(\u001b[0m\u001b[0mBy\u001b[0m\u001b[1;33m.\u001b[0m\u001b[0mXPATH\u001b[0m\u001b[1;33m,\u001b[0m \u001b[0mqty\u001b[0m\u001b[1;33m)\u001b[0m\u001b[1;33m)\u001b[0m\u001b[1;33m)\u001b[0m\u001b[1;33m.\u001b[0m\u001b[0mget_text\u001b[0m\u001b[1;33m(\u001b[0m\u001b[1;33m)\u001b[0m\u001b[1;33m\u001b[0m\u001b[1;33m\u001b[0m\u001b[0m\n",
      "\u001b[1;32mc:\\Users\\SOURJYA\\anaconda3\\lib\\site-packages\\selenium\\webdriver\\support\\wait.py\u001b[0m in \u001b[0;36muntil\u001b[1;34m(self, method, message)\u001b[0m\n\u001b[0;32m     78\u001b[0m             \u001b[1;32mif\u001b[0m \u001b[0mtime\u001b[0m\u001b[1;33m.\u001b[0m\u001b[0mtime\u001b[0m\u001b[1;33m(\u001b[0m\u001b[1;33m)\u001b[0m \u001b[1;33m>\u001b[0m \u001b[0mend_time\u001b[0m\u001b[1;33m:\u001b[0m\u001b[1;33m\u001b[0m\u001b[1;33m\u001b[0m\u001b[0m\n\u001b[0;32m     79\u001b[0m                 \u001b[1;32mbreak\u001b[0m\u001b[1;33m\u001b[0m\u001b[1;33m\u001b[0m\u001b[0m\n\u001b[1;32m---> 80\u001b[1;33m         \u001b[1;32mraise\u001b[0m \u001b[0mTimeoutException\u001b[0m\u001b[1;33m(\u001b[0m\u001b[0mmessage\u001b[0m\u001b[1;33m,\u001b[0m \u001b[0mscreen\u001b[0m\u001b[1;33m,\u001b[0m \u001b[0mstacktrace\u001b[0m\u001b[1;33m)\u001b[0m\u001b[1;33m\u001b[0m\u001b[1;33m\u001b[0m\u001b[0m\n\u001b[0m\u001b[0;32m     81\u001b[0m \u001b[1;33m\u001b[0m\u001b[0m\n\u001b[0;32m     82\u001b[0m     \u001b[1;32mdef\u001b[0m \u001b[0muntil_not\u001b[0m\u001b[1;33m(\u001b[0m\u001b[0mself\u001b[0m\u001b[1;33m,\u001b[0m \u001b[0mmethod\u001b[0m\u001b[1;33m,\u001b[0m \u001b[0mmessage\u001b[0m\u001b[1;33m=\u001b[0m\u001b[1;34m''\u001b[0m\u001b[1;33m)\u001b[0m\u001b[1;33m:\u001b[0m\u001b[1;33m\u001b[0m\u001b[1;33m\u001b[0m\u001b[0m\n",
      "\u001b[1;31mTimeoutException\u001b[0m: Message: \n"
     ]
    }
   ],
   "source": [
    "driver = webdriver.Chrome(options=options1)\n",
    "driver.maximize_window()\n",
    "price1=\"//*[@id='corePriceDisplay_desktop_feature_div']/div[2]/span/span[1]/span/span/span[1]\"\n",
    "price2='//*[@id=\"corePriceDisplay_desktop_feature_div\"]/div[1]/span[2]/span[2]/span[2]'\n",
    "qty='//*[@id=\"productDetails_detailBullets_sections1\"]/tbody/tr[3]/td'\n",
    "packz='//*[@id=\"inline-twister-expanded-dimension-text-size_name\"]'\n",
    "for x in urls:\n",
    "    url='https://amazon.in/dp/'+x\n",
    "    driver.get(url)\n",
    "    time.sleep(3);\n",
    "    MRP = WebDriverWait(driver, 5).until(EC.visibility_of_element_located((By.XPATH, price1))).get_text()\n",
    "    Price =WebDriverWait(driver, 5).until(EC.visibility_of_element_located((By.XPATH, price2))).get_text()\n",
    "    Netq =WebDriverWait(driver, 5).until(EC.visibility_of_element_located((By.XPATH, qty))).get_text()\n",
    "    Pack_Size = WebDriverWait(driver, 5).until(EC.visibility_of_element_located((By.XPATH, packz))).get_text()\n",
    "    print(MRP,Price,Netq,Pack_Size)\n"
   ]
  },
  {
   "cell_type": "code",
   "execution_count": 17,
   "metadata": {},
   "outputs": [
    {
     "name": "stdout",
     "output_type": "stream",
     "text": [
      " 272 9.8 x 9.8 x 6.1 Centimeters 300 ml (Pack of 1)\n"
     ]
    },
    {
     "ename": "NoSuchElementException",
     "evalue": "Message: no such element: Unable to locate element: {\"method\":\"xpath\",\"selector\":\"//*[@id='corePriceDisplay_desktop_feature_div']/div[2]/span/span[1]/span/span/span[1]\"}\n  (Session info: chrome=114.0.5735.248)\n",
     "output_type": "error",
     "traceback": [
      "\u001b[1;31m---------------------------------------------------------------------------\u001b[0m",
      "\u001b[1;31mNoSuchElementException\u001b[0m                    Traceback (most recent call last)",
      "\u001b[1;32m<ipython-input-17-7a088e159435>\u001b[0m in \u001b[0;36m<module>\u001b[1;34m\u001b[0m\n\u001b[0;32m      9\u001b[0m     \u001b[0mdriver\u001b[0m\u001b[1;33m.\u001b[0m\u001b[0mget\u001b[0m\u001b[1;33m(\u001b[0m\u001b[0murl\u001b[0m\u001b[1;33m)\u001b[0m\u001b[1;33m\u001b[0m\u001b[1;33m\u001b[0m\u001b[0m\n\u001b[0;32m     10\u001b[0m     \u001b[0mtime\u001b[0m\u001b[1;33m.\u001b[0m\u001b[0msleep\u001b[0m\u001b[1;33m(\u001b[0m\u001b[1;36m3\u001b[0m\u001b[1;33m)\u001b[0m\u001b[1;33m;\u001b[0m\u001b[1;33m\u001b[0m\u001b[1;33m\u001b[0m\u001b[0m\n\u001b[1;32m---> 11\u001b[1;33m     \u001b[0mMRP\u001b[0m \u001b[1;33m=\u001b[0m \u001b[0mdriver\u001b[0m\u001b[1;33m.\u001b[0m\u001b[0mfind_element\u001b[0m\u001b[1;33m(\u001b[0m\u001b[0mBy\u001b[0m\u001b[1;33m.\u001b[0m\u001b[0mXPATH\u001b[0m\u001b[1;33m,\u001b[0m \u001b[0mprice1\u001b[0m\u001b[1;33m)\u001b[0m\u001b[1;33m.\u001b[0m\u001b[0mtext\u001b[0m\u001b[1;33m\u001b[0m\u001b[1;33m\u001b[0m\u001b[0m\n\u001b[0m\u001b[0;32m     12\u001b[0m     \u001b[0mPrice\u001b[0m \u001b[1;33m=\u001b[0m\u001b[0mdriver\u001b[0m\u001b[1;33m.\u001b[0m\u001b[0mfind_element\u001b[0m\u001b[1;33m(\u001b[0m\u001b[0mBy\u001b[0m\u001b[1;33m.\u001b[0m\u001b[0mXPATH\u001b[0m\u001b[1;33m,\u001b[0m \u001b[0mprice2\u001b[0m\u001b[1;33m)\u001b[0m\u001b[1;33m.\u001b[0m\u001b[0mtext\u001b[0m\u001b[1;33m\u001b[0m\u001b[1;33m\u001b[0m\u001b[0m\n\u001b[0;32m     13\u001b[0m     \u001b[0mNetq\u001b[0m \u001b[1;33m=\u001b[0m\u001b[0mdriver\u001b[0m\u001b[1;33m.\u001b[0m\u001b[0mfind_element\u001b[0m\u001b[1;33m(\u001b[0m\u001b[0mBy\u001b[0m\u001b[1;33m.\u001b[0m\u001b[0mXPATH\u001b[0m\u001b[1;33m,\u001b[0m \u001b[0mqty\u001b[0m\u001b[1;33m)\u001b[0m\u001b[1;33m.\u001b[0m\u001b[0mtext\u001b[0m\u001b[1;33m\u001b[0m\u001b[1;33m\u001b[0m\u001b[0m\n",
      "\u001b[1;32mc:\\Users\\SOURJYA\\anaconda3\\lib\\site-packages\\selenium\\webdriver\\remote\\webdriver.py\u001b[0m in \u001b[0;36mfind_element\u001b[1;34m(self, by, value)\u001b[0m\n\u001b[0;32m    976\u001b[0m         return self.execute(Command.FIND_ELEMENT, {\n\u001b[0;32m    977\u001b[0m             \u001b[1;34m'using'\u001b[0m\u001b[1;33m:\u001b[0m \u001b[0mby\u001b[0m\u001b[1;33m,\u001b[0m\u001b[1;33m\u001b[0m\u001b[1;33m\u001b[0m\u001b[0m\n\u001b[1;32m--> 978\u001b[1;33m             'value': value})['value']\n\u001b[0m\u001b[0;32m    979\u001b[0m \u001b[1;33m\u001b[0m\u001b[0m\n\u001b[0;32m    980\u001b[0m     \u001b[1;32mdef\u001b[0m \u001b[0mfind_elements\u001b[0m\u001b[1;33m(\u001b[0m\u001b[0mself\u001b[0m\u001b[1;33m,\u001b[0m \u001b[0mby\u001b[0m\u001b[1;33m=\u001b[0m\u001b[0mBy\u001b[0m\u001b[1;33m.\u001b[0m\u001b[0mID\u001b[0m\u001b[1;33m,\u001b[0m \u001b[0mvalue\u001b[0m\u001b[1;33m=\u001b[0m\u001b[1;32mNone\u001b[0m\u001b[1;33m)\u001b[0m\u001b[1;33m:\u001b[0m\u001b[1;33m\u001b[0m\u001b[1;33m\u001b[0m\u001b[0m\n",
      "\u001b[1;32mc:\\Users\\SOURJYA\\anaconda3\\lib\\site-packages\\selenium\\webdriver\\remote\\webdriver.py\u001b[0m in \u001b[0;36mexecute\u001b[1;34m(self, driver_command, params)\u001b[0m\n\u001b[0;32m    319\u001b[0m         \u001b[0mresponse\u001b[0m \u001b[1;33m=\u001b[0m \u001b[0mself\u001b[0m\u001b[1;33m.\u001b[0m\u001b[0mcommand_executor\u001b[0m\u001b[1;33m.\u001b[0m\u001b[0mexecute\u001b[0m\u001b[1;33m(\u001b[0m\u001b[0mdriver_command\u001b[0m\u001b[1;33m,\u001b[0m \u001b[0mparams\u001b[0m\u001b[1;33m)\u001b[0m\u001b[1;33m\u001b[0m\u001b[1;33m\u001b[0m\u001b[0m\n\u001b[0;32m    320\u001b[0m         \u001b[1;32mif\u001b[0m \u001b[0mresponse\u001b[0m\u001b[1;33m:\u001b[0m\u001b[1;33m\u001b[0m\u001b[1;33m\u001b[0m\u001b[0m\n\u001b[1;32m--> 321\u001b[1;33m             \u001b[0mself\u001b[0m\u001b[1;33m.\u001b[0m\u001b[0merror_handler\u001b[0m\u001b[1;33m.\u001b[0m\u001b[0mcheck_response\u001b[0m\u001b[1;33m(\u001b[0m\u001b[0mresponse\u001b[0m\u001b[1;33m)\u001b[0m\u001b[1;33m\u001b[0m\u001b[1;33m\u001b[0m\u001b[0m\n\u001b[0m\u001b[0;32m    322\u001b[0m             response['value'] = self._unwrap_value(\n\u001b[0;32m    323\u001b[0m                 response.get('value', None))\n",
      "\u001b[1;32mc:\\Users\\SOURJYA\\anaconda3\\lib\\site-packages\\selenium\\webdriver\\remote\\errorhandler.py\u001b[0m in \u001b[0;36mcheck_response\u001b[1;34m(self, response)\u001b[0m\n\u001b[0;32m    240\u001b[0m                 \u001b[0malert_text\u001b[0m \u001b[1;33m=\u001b[0m \u001b[0mvalue\u001b[0m\u001b[1;33m[\u001b[0m\u001b[1;34m'alert'\u001b[0m\u001b[1;33m]\u001b[0m\u001b[1;33m.\u001b[0m\u001b[0mget\u001b[0m\u001b[1;33m(\u001b[0m\u001b[1;34m'text'\u001b[0m\u001b[1;33m)\u001b[0m\u001b[1;33m\u001b[0m\u001b[1;33m\u001b[0m\u001b[0m\n\u001b[0;32m    241\u001b[0m             \u001b[1;32mraise\u001b[0m \u001b[0mexception_class\u001b[0m\u001b[1;33m(\u001b[0m\u001b[0mmessage\u001b[0m\u001b[1;33m,\u001b[0m \u001b[0mscreen\u001b[0m\u001b[1;33m,\u001b[0m \u001b[0mstacktrace\u001b[0m\u001b[1;33m,\u001b[0m \u001b[0malert_text\u001b[0m\u001b[1;33m)\u001b[0m\u001b[1;33m\u001b[0m\u001b[1;33m\u001b[0m\u001b[0m\n\u001b[1;32m--> 242\u001b[1;33m         \u001b[1;32mraise\u001b[0m \u001b[0mexception_class\u001b[0m\u001b[1;33m(\u001b[0m\u001b[0mmessage\u001b[0m\u001b[1;33m,\u001b[0m \u001b[0mscreen\u001b[0m\u001b[1;33m,\u001b[0m \u001b[0mstacktrace\u001b[0m\u001b[1;33m)\u001b[0m\u001b[1;33m\u001b[0m\u001b[1;33m\u001b[0m\u001b[0m\n\u001b[0m\u001b[0;32m    243\u001b[0m \u001b[1;33m\u001b[0m\u001b[0m\n\u001b[0;32m    244\u001b[0m     \u001b[1;32mdef\u001b[0m \u001b[0m_value_or_default\u001b[0m\u001b[1;33m(\u001b[0m\u001b[0mself\u001b[0m\u001b[1;33m,\u001b[0m \u001b[0mobj\u001b[0m\u001b[1;33m,\u001b[0m \u001b[0mkey\u001b[0m\u001b[1;33m,\u001b[0m \u001b[0mdefault\u001b[0m\u001b[1;33m)\u001b[0m\u001b[1;33m:\u001b[0m\u001b[1;33m\u001b[0m\u001b[1;33m\u001b[0m\u001b[0m\n",
      "\u001b[1;31mNoSuchElementException\u001b[0m: Message: no such element: Unable to locate element: {\"method\":\"xpath\",\"selector\":\"//*[@id='corePriceDisplay_desktop_feature_div']/div[2]/span/span[1]/span/span/span[1]\"}\n  (Session info: chrome=114.0.5735.248)\n"
     ]
    }
   ],
   "source": [
    "driver = webdriver.Chrome(options=options1)\n",
    "driver.maximize_window()\n",
    "price1=\"//*[@id='corePriceDisplay_desktop_feature_div']/div[2]/span/span[1]/span/span/span[1]\"\n",
    "price2='//*[@id=\"corePriceDisplay_desktop_feature_div\"]/div[1]/span[2]/span[2]/span[2]'\n",
    "qty='//*[@id=\"productDetails_detailBullets_sections1\"]/tbody/tr[3]/td'\n",
    "packz='//*[@id=\"inline-twister-expanded-dimension-text-size_name\"]'\n",
    "for x in urls:\n",
    "    url='https://amazon.in/dp/'+x\n",
    "    driver.get(url)\n",
    "    time.sleep(3);\n",
    "    MRP = driver.find_element(By.XPATH, price1).text\n",
    "    Price =driver.find_element(By.XPATH, price2).text\n",
    "    Netq =driver.find_element(By.XPATH, qty).text\n",
    "    Pack_Size =driver.find_element(By.XPATH, packz).text\n",
    "    print(MRP,Price,Netq,Pack_Size)\n"
   ]
  },
  {
   "cell_type": "code",
   "execution_count": 18,
   "metadata": {},
   "outputs": [
    {
     "name": "stdout",
     "output_type": "stream",
     "text": [
      "₹465 272 9.8 x 9.8 x 6.1 Centimeters 300 ml (Pack of 1)\n"
     ]
    },
    {
     "ename": "NoSuchElementException",
     "evalue": "Message: no such element: Unable to locate element: {\"method\":\"xpath\",\"selector\":\"//*[@id=\"corePriceDisplay_desktop_feature_div\"]/div[2]/span/span[1]/span/span\"}\n  (Session info: chrome=114.0.5735.248)\n",
     "output_type": "error",
     "traceback": [
      "\u001b[1;31m---------------------------------------------------------------------------\u001b[0m",
      "\u001b[1;31mNoSuchElementException\u001b[0m                    Traceback (most recent call last)",
      "\u001b[1;32m<ipython-input-18-a46749264461>\u001b[0m in \u001b[0;36m<module>\u001b[1;34m\u001b[0m\n\u001b[0;32m     11\u001b[0m     \u001b[0mWebDriverWait\u001b[0m\u001b[1;33m(\u001b[0m\u001b[0mdriver\u001b[0m\u001b[1;33m,\u001b[0m \u001b[1;36m10\u001b[0m\u001b[1;33m)\u001b[0m\u001b[1;33m.\u001b[0m\u001b[0muntil\u001b[0m\u001b[1;33m(\u001b[0m\u001b[0mEC\u001b[0m\u001b[1;33m.\u001b[0m\u001b[0mvisibility_of_all_elements_located\u001b[0m\u001b[1;33m(\u001b[0m\u001b[1;33m(\u001b[0m\u001b[0mBy\u001b[0m\u001b[1;33m.\u001b[0m\u001b[0mXPATH\u001b[0m\u001b[1;33m,\u001b[0m \u001b[0mpackz\u001b[0m\u001b[1;33m)\u001b[0m\u001b[1;33m)\u001b[0m\u001b[1;33m)\u001b[0m\u001b[1;33m\u001b[0m\u001b[1;33m\u001b[0m\u001b[0m\n\u001b[0;32m     12\u001b[0m \u001b[1;33m\u001b[0m\u001b[0m\n\u001b[1;32m---> 13\u001b[1;33m     \u001b[0mMRP\u001b[0m \u001b[1;33m=\u001b[0m \u001b[0mdriver\u001b[0m\u001b[1;33m.\u001b[0m\u001b[0mfind_element\u001b[0m\u001b[1;33m(\u001b[0m\u001b[0mBy\u001b[0m\u001b[1;33m.\u001b[0m\u001b[0mXPATH\u001b[0m\u001b[1;33m,\u001b[0m \u001b[0mprice1\u001b[0m\u001b[1;33m)\u001b[0m\u001b[1;33m.\u001b[0m\u001b[0mtext\u001b[0m\u001b[1;33m\u001b[0m\u001b[1;33m\u001b[0m\u001b[0m\n\u001b[0m\u001b[0;32m     14\u001b[0m     \u001b[0mPrice\u001b[0m \u001b[1;33m=\u001b[0m\u001b[0mdriver\u001b[0m\u001b[1;33m.\u001b[0m\u001b[0mfind_element\u001b[0m\u001b[1;33m(\u001b[0m\u001b[0mBy\u001b[0m\u001b[1;33m.\u001b[0m\u001b[0mXPATH\u001b[0m\u001b[1;33m,\u001b[0m \u001b[0mprice2\u001b[0m\u001b[1;33m)\u001b[0m\u001b[1;33m.\u001b[0m\u001b[0mtext\u001b[0m\u001b[1;33m\u001b[0m\u001b[1;33m\u001b[0m\u001b[0m\n\u001b[0;32m     15\u001b[0m     \u001b[0mNetq\u001b[0m \u001b[1;33m=\u001b[0m\u001b[0mdriver\u001b[0m\u001b[1;33m.\u001b[0m\u001b[0mfind_element\u001b[0m\u001b[1;33m(\u001b[0m\u001b[0mBy\u001b[0m\u001b[1;33m.\u001b[0m\u001b[0mXPATH\u001b[0m\u001b[1;33m,\u001b[0m \u001b[0mqty\u001b[0m\u001b[1;33m)\u001b[0m\u001b[1;33m.\u001b[0m\u001b[0mtext\u001b[0m\u001b[1;33m\u001b[0m\u001b[1;33m\u001b[0m\u001b[0m\n",
      "\u001b[1;32mc:\\Users\\SOURJYA\\anaconda3\\lib\\site-packages\\selenium\\webdriver\\remote\\webdriver.py\u001b[0m in \u001b[0;36mfind_element\u001b[1;34m(self, by, value)\u001b[0m\n\u001b[0;32m    976\u001b[0m         return self.execute(Command.FIND_ELEMENT, {\n\u001b[0;32m    977\u001b[0m             \u001b[1;34m'using'\u001b[0m\u001b[1;33m:\u001b[0m \u001b[0mby\u001b[0m\u001b[1;33m,\u001b[0m\u001b[1;33m\u001b[0m\u001b[1;33m\u001b[0m\u001b[0m\n\u001b[1;32m--> 978\u001b[1;33m             'value': value})['value']\n\u001b[0m\u001b[0;32m    979\u001b[0m \u001b[1;33m\u001b[0m\u001b[0m\n\u001b[0;32m    980\u001b[0m     \u001b[1;32mdef\u001b[0m \u001b[0mfind_elements\u001b[0m\u001b[1;33m(\u001b[0m\u001b[0mself\u001b[0m\u001b[1;33m,\u001b[0m \u001b[0mby\u001b[0m\u001b[1;33m=\u001b[0m\u001b[0mBy\u001b[0m\u001b[1;33m.\u001b[0m\u001b[0mID\u001b[0m\u001b[1;33m,\u001b[0m \u001b[0mvalue\u001b[0m\u001b[1;33m=\u001b[0m\u001b[1;32mNone\u001b[0m\u001b[1;33m)\u001b[0m\u001b[1;33m:\u001b[0m\u001b[1;33m\u001b[0m\u001b[1;33m\u001b[0m\u001b[0m\n",
      "\u001b[1;32mc:\\Users\\SOURJYA\\anaconda3\\lib\\site-packages\\selenium\\webdriver\\remote\\webdriver.py\u001b[0m in \u001b[0;36mexecute\u001b[1;34m(self, driver_command, params)\u001b[0m\n\u001b[0;32m    319\u001b[0m         \u001b[0mresponse\u001b[0m \u001b[1;33m=\u001b[0m \u001b[0mself\u001b[0m\u001b[1;33m.\u001b[0m\u001b[0mcommand_executor\u001b[0m\u001b[1;33m.\u001b[0m\u001b[0mexecute\u001b[0m\u001b[1;33m(\u001b[0m\u001b[0mdriver_command\u001b[0m\u001b[1;33m,\u001b[0m \u001b[0mparams\u001b[0m\u001b[1;33m)\u001b[0m\u001b[1;33m\u001b[0m\u001b[1;33m\u001b[0m\u001b[0m\n\u001b[0;32m    320\u001b[0m         \u001b[1;32mif\u001b[0m \u001b[0mresponse\u001b[0m\u001b[1;33m:\u001b[0m\u001b[1;33m\u001b[0m\u001b[1;33m\u001b[0m\u001b[0m\n\u001b[1;32m--> 321\u001b[1;33m             \u001b[0mself\u001b[0m\u001b[1;33m.\u001b[0m\u001b[0merror_handler\u001b[0m\u001b[1;33m.\u001b[0m\u001b[0mcheck_response\u001b[0m\u001b[1;33m(\u001b[0m\u001b[0mresponse\u001b[0m\u001b[1;33m)\u001b[0m\u001b[1;33m\u001b[0m\u001b[1;33m\u001b[0m\u001b[0m\n\u001b[0m\u001b[0;32m    322\u001b[0m             response['value'] = self._unwrap_value(\n\u001b[0;32m    323\u001b[0m                 response.get('value', None))\n",
      "\u001b[1;32mc:\\Users\\SOURJYA\\anaconda3\\lib\\site-packages\\selenium\\webdriver\\remote\\errorhandler.py\u001b[0m in \u001b[0;36mcheck_response\u001b[1;34m(self, response)\u001b[0m\n\u001b[0;32m    240\u001b[0m                 \u001b[0malert_text\u001b[0m \u001b[1;33m=\u001b[0m \u001b[0mvalue\u001b[0m\u001b[1;33m[\u001b[0m\u001b[1;34m'alert'\u001b[0m\u001b[1;33m]\u001b[0m\u001b[1;33m.\u001b[0m\u001b[0mget\u001b[0m\u001b[1;33m(\u001b[0m\u001b[1;34m'text'\u001b[0m\u001b[1;33m)\u001b[0m\u001b[1;33m\u001b[0m\u001b[1;33m\u001b[0m\u001b[0m\n\u001b[0;32m    241\u001b[0m             \u001b[1;32mraise\u001b[0m \u001b[0mexception_class\u001b[0m\u001b[1;33m(\u001b[0m\u001b[0mmessage\u001b[0m\u001b[1;33m,\u001b[0m \u001b[0mscreen\u001b[0m\u001b[1;33m,\u001b[0m \u001b[0mstacktrace\u001b[0m\u001b[1;33m,\u001b[0m \u001b[0malert_text\u001b[0m\u001b[1;33m)\u001b[0m\u001b[1;33m\u001b[0m\u001b[1;33m\u001b[0m\u001b[0m\n\u001b[1;32m--> 242\u001b[1;33m         \u001b[1;32mraise\u001b[0m \u001b[0mexception_class\u001b[0m\u001b[1;33m(\u001b[0m\u001b[0mmessage\u001b[0m\u001b[1;33m,\u001b[0m \u001b[0mscreen\u001b[0m\u001b[1;33m,\u001b[0m \u001b[0mstacktrace\u001b[0m\u001b[1;33m)\u001b[0m\u001b[1;33m\u001b[0m\u001b[1;33m\u001b[0m\u001b[0m\n\u001b[0m\u001b[0;32m    243\u001b[0m \u001b[1;33m\u001b[0m\u001b[0m\n\u001b[0;32m    244\u001b[0m     \u001b[1;32mdef\u001b[0m \u001b[0m_value_or_default\u001b[0m\u001b[1;33m(\u001b[0m\u001b[0mself\u001b[0m\u001b[1;33m,\u001b[0m \u001b[0mobj\u001b[0m\u001b[1;33m,\u001b[0m \u001b[0mkey\u001b[0m\u001b[1;33m,\u001b[0m \u001b[0mdefault\u001b[0m\u001b[1;33m)\u001b[0m\u001b[1;33m:\u001b[0m\u001b[1;33m\u001b[0m\u001b[1;33m\u001b[0m\u001b[0m\n",
      "\u001b[1;31mNoSuchElementException\u001b[0m: Message: no such element: Unable to locate element: {\"method\":\"xpath\",\"selector\":\"//*[@id=\"corePriceDisplay_desktop_feature_div\"]/div[2]/span/span[1]/span/span\"}\n  (Session info: chrome=114.0.5735.248)\n"
     ]
    }
   ],
   "source": [
    "driver = webdriver.Chrome(options=options1)\n",
    "driver.maximize_window()\n",
    "price1='//*[@id=\"corePriceDisplay_desktop_feature_div\"]/div[2]/span/span[1]/span/span'\n",
    "price2='//*[@id=\"corePriceDisplay_desktop_feature_div\"]/div[1]/span[2]/span[2]/span[2]'\n",
    "qty='//*[@id=\"productDetails_detailBullets_sections1\"]/tbody/tr[3]/td'\n",
    "packz='//*[@id=\"inline-twister-expanded-dimension-text-size_name\"]'\n",
    "for x in urls:\n",
    "    url='https://amazon.in/dp/'+x\n",
    "    driver.get(url)\n",
    "    #time.sleep(3);\n",
    "    WebDriverWait(driver, 10).until(EC.visibility_of_all_elements_located((By.XPATH, packz)))\n",
    "\n",
    "    MRP = driver.find_element(By.XPATH, price1).text\n",
    "    Price =driver.find_element(By.XPATH, price2).text\n",
    "    Netq =driver.find_element(By.XPATH, qty).text\n",
    "    Pack_Size =driver.find_element(By.XPATH, packz).text\n",
    "    print(MRP,Price,Netq,Pack_Size)\n"
   ]
  },
  {
   "cell_type": "code",
   "execution_count": 19,
   "metadata": {},
   "outputs": [
    {
     "ename": "SyntaxError",
     "evalue": "invalid syntax (<ipython-input-19-30e8ae621b39>, line 20)",
     "output_type": "error",
     "traceback": [
      "\u001b[1;36m  File \u001b[1;32m\"<ipython-input-19-30e8ae621b39>\"\u001b[1;36m, line \u001b[1;32m20\u001b[0m\n\u001b[1;33m    Netq =filtered_line.split(':')[1] if \"Net Quantity\" in elem for elem in driver.find_element(By.XPATH, qty).text.split(\"\\n\")\u001b[0m\n\u001b[1;37m                                                                  ^\u001b[0m\n\u001b[1;31mSyntaxError\u001b[0m\u001b[1;31m:\u001b[0m invalid syntax\n"
     ]
    }
   ],
   "source": [
    "driver = webdriver.Chrome(options=options1)\n",
    "driver.maximize_window()\n",
    "price1='//*[@id=\"corePriceDisplay_desktop_feature_div\"]/div[2]/span/span[1]/span/span'\n",
    "price2='//*[@id=\"corePriceDisplay_desktop_feature_div\"]/div[1]/span[2]/span[2]/span[2]'\n",
    "qty='//*[@id=\"detailBullets_feature_div\"]'\n",
    "packz='//*[@id=\"inline-twister-expanded-dimension-text-size_name\"]'\n",
    "for i,x in urls:\n",
    "    url='https://amazon.in/dp/'+x\n",
    "    Name=names[i]\n",
    "    driver.get(url)\n",
    "    time.sleep(3);\n",
    "    WebDriverWait(driver, 10).until(EC.visibility_of_all_elements_located((By.XPATH, packz)))\n",
    "\n",
    "    try:\n",
    "        MRP = driver.find_element(By.XPATH, price1).text\n",
    "        Price =driver.find_element(By.XPATH, price2).text\n",
    "    except:\n",
    "        MRP = driver.find_element(By.XPATH, '//*[@id=\"corePrice_desktop\"]/div/table/tbody/tr[1]/td[2]/span[1]/span[1]').text\n",
    "        Price =driver.find_element(By.XPATH, '//*[@id=\"corePrice_desktop\"]/div/table/tbody/tr[2]/td[2]/span[1]/span[1]').text\n",
    "    Netq =filtered_line.split(':')[1] if \"Net Quantity\" in elem for elem in driver.find_element(By.XPATH, qty).text.split(\"\\n\")\n",
    "    Pack_Size =driver.find_element(By.XPATH, packz).text\n",
    "    print(MRP,Price,Pack_Size,Name)\n"
   ]
  },
  {
   "cell_type": "code",
   "execution_count": 20,
   "metadata": {},
   "outputs": [
    {
     "ename": "SyntaxError",
     "evalue": "invalid syntax (<ipython-input-20-982991d2e69a>, line 20)",
     "output_type": "error",
     "traceback": [
      "\u001b[1;36m  File \u001b[1;32m\"<ipython-input-20-982991d2e69a>\"\u001b[1;36m, line \u001b[1;32m20\u001b[0m\n\u001b[1;33m    Netq =elem.split(':')[1] if \"Net Quantity\" in elem for elem in driver.find_element(By.XPATH, qty).text.split(\"\\n\")\u001b[0m\n\u001b[1;37m                                                         ^\u001b[0m\n\u001b[1;31mSyntaxError\u001b[0m\u001b[1;31m:\u001b[0m invalid syntax\n"
     ]
    }
   ],
   "source": [
    "driver = webdriver.Chrome(options=options1)\n",
    "driver.maximize_window()\n",
    "price1='//*[@id=\"corePriceDisplay_desktop_feature_div\"]/div[2]/span/span[1]/span/span'\n",
    "price2='//*[@id=\"corePriceDisplay_desktop_feature_div\"]/div[1]/span[2]/span[2]/span[2]'\n",
    "qty='//*[@id=\"detailBullets_feature_div\"]'\n",
    "packz='//*[@id=\"inline-twister-expanded-dimension-text-size_name\"]'\n",
    "for i,x in urls:\n",
    "    url='https://amazon.in/dp/'+x\n",
    "    Name=names[i]\n",
    "    driver.get(url)\n",
    "    time.sleep(3);\n",
    "    WebDriverWait(driver, 10).until(EC.visibility_of_all_elements_located((By.XPATH, packz)))\n",
    "\n",
    "    try:\n",
    "        MRP = driver.find_element(By.XPATH, price1).text\n",
    "        Price =driver.find_element(By.XPATH, price2).text\n",
    "    except:\n",
    "        MRP = driver.find_element(By.XPATH, '//*[@id=\"corePrice_desktop\"]/div/table/tbody/tr[1]/td[2]/span[1]/span[1]').text\n",
    "        Price =driver.find_element(By.XPATH, '//*[@id=\"corePrice_desktop\"]/div/table/tbody/tr[2]/td[2]/span[1]/span[1]').text\n",
    "    Netq =elem.split(':')[1] if \"Net Quantity\" in elem for elem in driver.find_element(By.XPATH, qty).text.split(\"\\n\")\n",
    "    Pack_Size =driver.find_element(By.XPATH, packz).text\n",
    "    print(MRP,Price,Pack_Size,Name)\n"
   ]
  },
  {
   "cell_type": "code",
   "execution_count": 21,
   "metadata": {},
   "outputs": [
    {
     "ename": "SyntaxError",
     "evalue": "invalid syntax (<ipython-input-21-721d3794c935>, line 20)",
     "output_type": "error",
     "traceback": [
      "\u001b[1;36m  File \u001b[1;32m\"<ipython-input-21-721d3794c935>\"\u001b[1;36m, line \u001b[1;32m20\u001b[0m\n\u001b[1;33m    Netq =line.split(':')[1] for line in  driver.find_element(By.XPATH, qty).text.split(\"\\n\") if  \"Net Quantity\" in line\u001b[0m\n\u001b[1;37m                               ^\u001b[0m\n\u001b[1;31mSyntaxError\u001b[0m\u001b[1;31m:\u001b[0m invalid syntax\n"
     ]
    }
   ],
   "source": [
    "driver = webdriver.Chrome(options=options1)\n",
    "driver.maximize_window()\n",
    "price1='//*[@id=\"corePriceDisplay_desktop_feature_div\"]/div[2]/span/span[1]/span/span'\n",
    "price2='//*[@id=\"corePriceDisplay_desktop_feature_div\"]/div[1]/span[2]/span[2]/span[2]'\n",
    "qty='//*[@id=\"detailBullets_feature_div\"]'\n",
    "packz='//*[@id=\"inline-twister-expanded-dimension-text-size_name\"]'\n",
    "for i,x in urls:\n",
    "    url='https://amazon.in/dp/'+x\n",
    "    Name=names[i]\n",
    "    driver.get(url)\n",
    "    time.sleep(3);\n",
    "    WebDriverWait(driver, 10).until(EC.visibility_of_all_elements_located((By.XPATH, packz)))\n",
    "\n",
    "    try:\n",
    "        MRP = driver.find_element(By.XPATH, price1).text\n",
    "        Price =driver.find_element(By.XPATH, price2).text\n",
    "    except:\n",
    "        MRP = driver.find_element(By.XPATH, '//*[@id=\"corePrice_desktop\"]/div/table/tbody/tr[1]/td[2]/span[1]/span[1]').text\n",
    "        Price =driver.find_element(By.XPATH, '//*[@id=\"corePrice_desktop\"]/div/table/tbody/tr[2]/td[2]/span[1]/span[1]').text\n",
    "    Netq =line.split(':')[1] for line in  driver.find_element(By.XPATH, qty).text.split(\"\\n\") if  \"Net Quantity\" in line\n",
    "    Pack_Size =driver.find_element(By.XPATH, packz).text\n",
    "    print(MRP,Price,Pack_Size,Name)\n"
   ]
  },
  {
   "cell_type": "code",
   "execution_count": 22,
   "metadata": {},
   "outputs": [
    {
     "ename": "SyntaxError",
     "evalue": "invalid syntax (<ipython-input-22-3dead7e0c93e>, line 18)",
     "output_type": "error",
     "traceback": [
      "\u001b[1;36m  File \u001b[1;32m\"<ipython-input-22-3dead7e0c93e>\"\u001b[1;36m, line \u001b[1;32m18\u001b[0m\n\u001b[1;33m    Netq = line.split(':')[1] for line in  ux if  \"Net Quantity\" in line\u001b[0m\n\u001b[1;37m                                ^\u001b[0m\n\u001b[1;31mSyntaxError\u001b[0m\u001b[1;31m:\u001b[0m invalid syntax\n"
     ]
    }
   ],
   "source": [
    "ux=\"\"\"\n",
    "Is Discontinued By Manufacturer ‏ : ‎ No\n",
    "Product Dimensions ‏ : ‎ 9.8 x 9.8 x 6.1 cm; 0.3 Grams\n",
    "Date First Available ‏ : ‎ 1 January 2017\n",
    "Manufacturer ‏ : ‎ Beiersdorf Manufacturing Gujarat\n",
    "ASIN ‏ : ‎ B00E96N6O8\n",
    "Item model number ‏ : ‎ 890630981526\n",
    "Country of Origin ‏ : ‎ India\n",
    "Manufacturer ‏ : ‎ Beiersdorf Manufacturing Gujarat, NIVEA INDIA PVT LTD, SM-9/1, SANAND II,IND. ESTATE,VILL.BOL,SANAND,AHMEDABAD; Phone: 022 6248 7999\n",
    "Packer ‏ : ‎ Nivea India Pvt. Ltd., 4th Floor, A Wing, Art Guild House, Phoenix Market City, Kurla West, Mumbai, Maharashtra 400070; Phone: 022 6248 7999\n",
    "Item Dimensions LxWxH ‏ : ‎ 9.8 x 9.8 x 6.1 Centimeters\n",
    "Net Quantity ‏ : ‎ 300 millilitre\n",
    "Included Components ‏ : ‎ Moisturiser\n",
    "Generic Name ‏ : ‎ NIVEA Soft Light Moisturizer\n",
    "Best Sellers Rank: #48 in Beauty (See Top 100 in Beauty)\n",
    "\n",
    "\"\"\"\n",
    "Netq = line.split(':')[1] for line in  ux if  \"Net Quantity\" in line"
   ]
  },
  {
   "cell_type": "code",
   "execution_count": 23,
   "metadata": {},
   "outputs": [
    {
     "ename": "NameError",
     "evalue": "name 'ux' is not defined",
     "output_type": "error",
     "traceback": [
      "\u001b[1;31m---------------------------------------------------------------------------\u001b[0m",
      "\u001b[1;31mNameError\u001b[0m                                 Traceback (most recent call last)",
      "\u001b[1;32m<ipython-input-23-1f9821179a29>\u001b[0m in \u001b[0;36m<module>\u001b[1;34m\u001b[0m\n\u001b[1;32m----> 1\u001b[1;33m \u001b[0mux\u001b[0m\u001b[1;33m\u001b[0m\u001b[1;33m\u001b[0m\u001b[0m\n\u001b[0m",
      "\u001b[1;31mNameError\u001b[0m: name 'ux' is not defined"
     ]
    }
   ],
   "source": [
    "ux\n"
   ]
  },
  {
   "cell_type": "code",
   "execution_count": 24,
   "metadata": {},
   "outputs": [],
   "source": [
    "ux=\"\"\"\n",
    "Is Discontinued By Manufacturer ‏ : ‎ No\n",
    "Product Dimensions ‏ : ‎ 9.8 x 9.8 x 6.1 cm; 0.3 Grams\n",
    "Date First Available ‏ : ‎ 1 January 2017\n",
    "Manufacturer ‏ : ‎ Beiersdorf Manufacturing Gujarat\n",
    "ASIN ‏ : ‎ B00E96N6O8\n",
    "Item model number ‏ : ‎ 890630981526\n",
    "Country of Origin ‏ : ‎ India\n",
    "Manufacturer ‏ : ‎ Beiersdorf Manufacturing Gujarat, NIVEA INDIA PVT LTD, SM-9/1, SANAND II,IND. ESTATE,VILL.BOL,SANAND,AHMEDABAD; Phone: 022 6248 7999\n",
    "Packer ‏ : ‎ Nivea India Pvt. Ltd., 4th Floor, A Wing, Art Guild House, Phoenix Market City, Kurla West, Mumbai, Maharashtra 400070; Phone: 022 6248 7999\n",
    "Item Dimensions LxWxH ‏ : ‎ 9.8 x 9.8 x 6.1 Centimeters\n",
    "Net Quantity ‏ : ‎ 300 millilitre\n",
    "Included Components ‏ : ‎ Moisturiser\n",
    "Generic Name ‏ : ‎ NIVEA Soft Light Moisturizer\n",
    "Best Sellers Rank: #48 in Beauty (See Top 100 in Beauty)\n",
    "\n",
    "\"\"\""
   ]
  },
  {
   "cell_type": "code",
   "execution_count": 25,
   "metadata": {},
   "outputs": [
    {
     "ename": "SyntaxError",
     "evalue": "invalid syntax (<ipython-input-25-bef651bea066>, line 1)",
     "output_type": "error",
     "traceback": [
      "\u001b[1;36m  File \u001b[1;32m\"<ipython-input-25-bef651bea066>\"\u001b[1;36m, line \u001b[1;32m1\u001b[0m\n\u001b[1;33m    Netq = line.split(':')[1] for line in  ux.split('\\n') if  \"Net Quantity\" in line\u001b[0m\n\u001b[1;37m                                ^\u001b[0m\n\u001b[1;31mSyntaxError\u001b[0m\u001b[1;31m:\u001b[0m invalid syntax\n"
     ]
    }
   ],
   "source": [
    "Netq = line.split(':')[1] for line in  ux.split('\\n') if  \"Net Quantity\" in line\n"
   ]
  },
  {
   "cell_type": "code",
   "execution_count": 26,
   "metadata": {},
   "outputs": [
    {
     "ename": "SyntaxError",
     "evalue": "invalid syntax (<ipython-input-26-1925340d43c0>, line 1)",
     "output_type": "error",
     "traceback": [
      "\u001b[1;36m  File \u001b[1;32m\"<ipython-input-26-1925340d43c0>\"\u001b[1;36m, line \u001b[1;32m1\u001b[0m\n\u001b[1;33m    Netq = line for line in  ux.split('\\n')\u001b[0m\n\u001b[1;37m                  ^\u001b[0m\n\u001b[1;31mSyntaxError\u001b[0m\u001b[1;31m:\u001b[0m invalid syntax\n"
     ]
    }
   ],
   "source": [
    "Netq = line for line in  ux.split('\\n') \n"
   ]
  },
  {
   "cell_type": "code",
   "execution_count": 27,
   "metadata": {},
   "outputs": [],
   "source": [
    "Netq = [line for line in ux.split('\\n') if \"Net \" in line]\n"
   ]
  },
  {
   "cell_type": "code",
   "execution_count": 28,
   "metadata": {},
   "outputs": [],
   "source": [
    "Netq = next(line for line in ux.split('\\n') if \"Net \" in line)\n"
   ]
  },
  {
   "cell_type": "code",
   "execution_count": 29,
   "metadata": {},
   "outputs": [
    {
     "data": {
      "text/plain": [
       "'Net Quantity \\u200f : \\u200e 300 millilitre'"
      ]
     },
     "execution_count": 29,
     "metadata": {},
     "output_type": "execute_result"
    }
   ],
   "source": [
    "Netq"
   ]
  },
  {
   "cell_type": "code",
   "execution_count": 30,
   "metadata": {},
   "outputs": [],
   "source": [
    "Netq = next(line.split(':')[1] for line in ux.split('\\n') if \"Net \" in line)\n"
   ]
  },
  {
   "cell_type": "code",
   "execution_count": 31,
   "metadata": {},
   "outputs": [
    {
     "data": {
      "text/plain": [
       "' \\u200e 300 millilitre'"
      ]
     },
     "execution_count": 31,
     "metadata": {},
     "output_type": "execute_result"
    }
   ],
   "source": [
    "Netq"
   ]
  },
  {
   "cell_type": "code",
   "execution_count": 32,
   "metadata": {},
   "outputs": [
    {
     "ename": "ValueError",
     "evalue": "too many values to unpack (expected 2)",
     "output_type": "error",
     "traceback": [
      "\u001b[1;31m---------------------------------------------------------------------------\u001b[0m",
      "\u001b[1;31mValueError\u001b[0m                                Traceback (most recent call last)",
      "\u001b[1;32m<ipython-input-32-476a11c14b2e>\u001b[0m in \u001b[0;36m<module>\u001b[1;34m\u001b[0m\n\u001b[0;32m      5\u001b[0m \u001b[0mqty\u001b[0m\u001b[1;33m=\u001b[0m\u001b[1;34m'//*[@id=\"detailBullets_feature_div\"]'\u001b[0m\u001b[1;33m\u001b[0m\u001b[1;33m\u001b[0m\u001b[0m\n\u001b[0;32m      6\u001b[0m \u001b[0mpackz\u001b[0m\u001b[1;33m=\u001b[0m\u001b[1;34m'//*[@id=\"inline-twister-expanded-dimension-text-size_name\"]'\u001b[0m\u001b[1;33m\u001b[0m\u001b[1;33m\u001b[0m\u001b[0m\n\u001b[1;32m----> 7\u001b[1;33m \u001b[1;32mfor\u001b[0m \u001b[0mi\u001b[0m\u001b[1;33m,\u001b[0m\u001b[0mx\u001b[0m \u001b[1;32min\u001b[0m \u001b[0murls\u001b[0m\u001b[1;33m:\u001b[0m\u001b[1;33m\u001b[0m\u001b[1;33m\u001b[0m\u001b[0m\n\u001b[0m\u001b[0;32m      8\u001b[0m     \u001b[0murl\u001b[0m\u001b[1;33m=\u001b[0m\u001b[1;34m'https://amazon.in/dp/'\u001b[0m\u001b[1;33m+\u001b[0m\u001b[0mx\u001b[0m\u001b[1;33m\u001b[0m\u001b[1;33m\u001b[0m\u001b[0m\n\u001b[0;32m      9\u001b[0m     \u001b[0mName\u001b[0m\u001b[1;33m=\u001b[0m\u001b[0mnames\u001b[0m\u001b[1;33m[\u001b[0m\u001b[0mi\u001b[0m\u001b[1;33m]\u001b[0m\u001b[1;33m\u001b[0m\u001b[1;33m\u001b[0m\u001b[0m\n",
      "\u001b[1;31mValueError\u001b[0m: too many values to unpack (expected 2)"
     ]
    }
   ],
   "source": [
    "driver = webdriver.Chrome(options=options1)\n",
    "driver.maximize_window()\n",
    "price1='//*[@id=\"corePriceDisplay_desktop_feature_div\"]/div[2]/span/span[1]/span/span'\n",
    "price2='//*[@id=\"corePriceDisplay_desktop_feature_div\"]/div[1]/span[2]/span[2]/span[2]'\n",
    "qty='//*[@id=\"detailBullets_feature_div\"]'\n",
    "packz='//*[@id=\"inline-twister-expanded-dimension-text-size_name\"]'\n",
    "for i,x in urls:\n",
    "    url='https://amazon.in/dp/'+x\n",
    "    Name=names[i]\n",
    "    driver.get(url)\n",
    "    time.sleep(3);\n",
    "    WebDriverWait(driver, 10).until(EC.visibility_of_all_elements_located((By.XPATH, packz)))\n",
    "\n",
    "    try:\n",
    "        MRP = driver.find_element(By.XPATH, price1).text\n",
    "        Price =driver.find_element(By.XPATH, price2).text\n",
    "    except:\n",
    "        MRP = driver.find_element(By.XPATH, '//*[@id=\"corePrice_desktop\"]/div/table/tbody/tr[1]/td[2]/span[1]/span[1]').text\n",
    "        Price =driver.find_element(By.XPATH, '//*[@id=\"corePrice_desktop\"]/div/table/tbody/tr[2]/td[2]/span[1]/span[1]').text\n",
    "    Netq = next(line.split(':')[1] for line in driver.find_element(By.XPATH, qty).text.split(\"\\n\") if \"Net Q\" in line)\n",
    "    Pack_Size =driver.find_element(By.XPATH, packz).text\n",
    "    print(MRP,Price,Pack_Size,Netq,Name)\n"
   ]
  },
  {
   "cell_type": "code",
   "execution_count": 33,
   "metadata": {},
   "outputs": [
    {
     "ename": "TimeoutException",
     "evalue": "Message: \n",
     "output_type": "error",
     "traceback": [
      "\u001b[1;31m---------------------------------------------------------------------------\u001b[0m",
      "\u001b[1;31mTimeoutException\u001b[0m                          Traceback (most recent call last)",
      "\u001b[1;32m<ipython-input-33-b8fb4233db03>\u001b[0m in \u001b[0;36m<module>\u001b[1;34m\u001b[0m\n\u001b[0;32m     10\u001b[0m     \u001b[0mdriver\u001b[0m\u001b[1;33m.\u001b[0m\u001b[0mget\u001b[0m\u001b[1;33m(\u001b[0m\u001b[0murl\u001b[0m\u001b[1;33m)\u001b[0m\u001b[1;33m\u001b[0m\u001b[1;33m\u001b[0m\u001b[0m\n\u001b[0;32m     11\u001b[0m     \u001b[0mtime\u001b[0m\u001b[1;33m.\u001b[0m\u001b[0msleep\u001b[0m\u001b[1;33m(\u001b[0m\u001b[1;36m3\u001b[0m\u001b[1;33m)\u001b[0m\u001b[1;33m;\u001b[0m\u001b[1;33m\u001b[0m\u001b[1;33m\u001b[0m\u001b[0m\n\u001b[1;32m---> 12\u001b[1;33m     \u001b[0mWebDriverWait\u001b[0m\u001b[1;33m(\u001b[0m\u001b[0mdriver\u001b[0m\u001b[1;33m,\u001b[0m \u001b[1;36m10\u001b[0m\u001b[1;33m)\u001b[0m\u001b[1;33m.\u001b[0m\u001b[0muntil\u001b[0m\u001b[1;33m(\u001b[0m\u001b[0mEC\u001b[0m\u001b[1;33m.\u001b[0m\u001b[0mvisibility_of_all_elements_located\u001b[0m\u001b[1;33m(\u001b[0m\u001b[1;33m(\u001b[0m\u001b[0mBy\u001b[0m\u001b[1;33m.\u001b[0m\u001b[0mXPATH\u001b[0m\u001b[1;33m,\u001b[0m \u001b[0mpackz\u001b[0m\u001b[1;33m)\u001b[0m\u001b[1;33m)\u001b[0m\u001b[1;33m)\u001b[0m\u001b[1;33m\u001b[0m\u001b[1;33m\u001b[0m\u001b[0m\n\u001b[0m\u001b[0;32m     13\u001b[0m \u001b[1;33m\u001b[0m\u001b[0m\n\u001b[0;32m     14\u001b[0m     \u001b[1;32mtry\u001b[0m\u001b[1;33m:\u001b[0m\u001b[1;33m\u001b[0m\u001b[1;33m\u001b[0m\u001b[0m\n",
      "\u001b[1;32mc:\\Users\\SOURJYA\\anaconda3\\lib\\site-packages\\selenium\\webdriver\\support\\wait.py\u001b[0m in \u001b[0;36muntil\u001b[1;34m(self, method, message)\u001b[0m\n\u001b[0;32m     78\u001b[0m             \u001b[1;32mif\u001b[0m \u001b[0mtime\u001b[0m\u001b[1;33m.\u001b[0m\u001b[0mtime\u001b[0m\u001b[1;33m(\u001b[0m\u001b[1;33m)\u001b[0m \u001b[1;33m>\u001b[0m \u001b[0mend_time\u001b[0m\u001b[1;33m:\u001b[0m\u001b[1;33m\u001b[0m\u001b[1;33m\u001b[0m\u001b[0m\n\u001b[0;32m     79\u001b[0m                 \u001b[1;32mbreak\u001b[0m\u001b[1;33m\u001b[0m\u001b[1;33m\u001b[0m\u001b[0m\n\u001b[1;32m---> 80\u001b[1;33m         \u001b[1;32mraise\u001b[0m \u001b[0mTimeoutException\u001b[0m\u001b[1;33m(\u001b[0m\u001b[0mmessage\u001b[0m\u001b[1;33m,\u001b[0m \u001b[0mscreen\u001b[0m\u001b[1;33m,\u001b[0m \u001b[0mstacktrace\u001b[0m\u001b[1;33m)\u001b[0m\u001b[1;33m\u001b[0m\u001b[1;33m\u001b[0m\u001b[0m\n\u001b[0m\u001b[0;32m     81\u001b[0m \u001b[1;33m\u001b[0m\u001b[0m\n\u001b[0;32m     82\u001b[0m     \u001b[1;32mdef\u001b[0m \u001b[0muntil_not\u001b[0m\u001b[1;33m(\u001b[0m\u001b[0mself\u001b[0m\u001b[1;33m,\u001b[0m \u001b[0mmethod\u001b[0m\u001b[1;33m,\u001b[0m \u001b[0mmessage\u001b[0m\u001b[1;33m=\u001b[0m\u001b[1;34m''\u001b[0m\u001b[1;33m)\u001b[0m\u001b[1;33m:\u001b[0m\u001b[1;33m\u001b[0m\u001b[1;33m\u001b[0m\u001b[0m\n",
      "\u001b[1;31mTimeoutException\u001b[0m: Message: \n"
     ]
    }
   ],
   "source": [
    "driver = webdriver.Chrome(options=options1)\n",
    "driver.maximize_window()\n",
    "price1='//*[@id=\"corePriceDisplay_desktop_feature_div\"]/div[2]/span/span[1]/span/span'\n",
    "price2='//*[@id=\"corePriceDisplay_desktop_feature_div\"]/div[1]/span[2]/span[2]/span[2]'\n",
    "qty='//*[@id=\"detailBullets_feature_div\"]'\n",
    "packz='//*[@id=\"inline-twister-expanded-dimension-text-size_name\"]'\n",
    "for i,x in enumerate(urls):\n",
    "    url='https://amazon.in/dp/'+x\n",
    "    Name=names[i]\n",
    "    driver.get(url)\n",
    "    time.sleep(3);\n",
    "    WebDriverWait(driver, 10).until(EC.visibility_of_all_elements_located((By.XPATH, packz)))\n",
    "\n",
    "    try:\n",
    "        MRP = driver.find_element(By.XPATH, price1).text\n",
    "        Price =driver.find_element(By.XPATH, price2).text\n",
    "    except:\n",
    "        MRP = driver.find_element(By.XPATH, '//*[@id=\"corePrice_desktop\"]/div/table/tbody/tr[1]/td[2]/span[1]/span[1]').text\n",
    "        Price =driver.find_element(By.XPATH, '//*[@id=\"corePrice_desktop\"]/div/table/tbody/tr[2]/td[2]/span[1]/span[1]').text\n",
    "    Netq = next(line.split(':')[1] for line in driver.find_element(By.XPATH, qty).text.split(\"\\n\") if \"Net Q\" in line)\n",
    "    Pack_Size =driver.find_element(By.XPATH, packz).text\n",
    "    print(MRP,Price,Pack_Size,Netq,Name)\n"
   ]
  },
  {
   "cell_type": "code",
   "execution_count": 34,
   "metadata": {},
   "outputs": [
    {
     "name": "stdout",
     "output_type": "stream",
     "text": [
      "₹465 272 300 ml (Pack of 1)  300 millilitre NIVEA Soft Light Moisturizer for Face, Hand &amp; Body, Non-Greasy Cream with Vitamin E &amp; Jojoba Oil for Instant Hydration, 300 m\n",
      "  40 g (Pack of 1)  1 count Lotus Herbals Whiteglow Skin Whitening And Brightening Gel Cream, SPF-25, 40g And Lotus Herbals Whiteglow 3-In-1 Deep Cleansi\n",
      "  80 g (Pack of 1)  80.0 gram Cetaphil Moisturising Cream for Face &amp; Body , Dry to Normal skin, 80 gm\n"
     ]
    },
    {
     "ename": "NoSuchElementException",
     "evalue": "Message: no such element: Unable to locate element: {\"method\":\"xpath\",\"selector\":\"//*[@id=\"inline-twister-expanded-dimension-text-size_name\"]\"}\n  (Session info: chrome=114.0.5735.248)\n",
     "output_type": "error",
     "traceback": [
      "\u001b[1;31m---------------------------------------------------------------------------\u001b[0m",
      "\u001b[1;31mNoSuchElementException\u001b[0m                    Traceback (most recent call last)",
      "\u001b[1;32m<ipython-input-34-8d236ca7eb0e>\u001b[0m in \u001b[0;36m<module>\u001b[1;34m\u001b[0m\n\u001b[0;32m     19\u001b[0m         \u001b[0mPrice\u001b[0m \u001b[1;33m=\u001b[0m\u001b[0mdriver\u001b[0m\u001b[1;33m.\u001b[0m\u001b[0mfind_element\u001b[0m\u001b[1;33m(\u001b[0m\u001b[0mBy\u001b[0m\u001b[1;33m.\u001b[0m\u001b[0mXPATH\u001b[0m\u001b[1;33m,\u001b[0m \u001b[1;34m'//*[@id=\"corePrice_desktop\"]/div/table/tbody/tr[2]/td[2]/span[1]/span[1]'\u001b[0m\u001b[1;33m)\u001b[0m\u001b[1;33m.\u001b[0m\u001b[0mtext\u001b[0m\u001b[1;33m\u001b[0m\u001b[1;33m\u001b[0m\u001b[0m\n\u001b[0;32m     20\u001b[0m     \u001b[0mNetq\u001b[0m \u001b[1;33m=\u001b[0m \u001b[0mnext\u001b[0m\u001b[1;33m(\u001b[0m\u001b[0mline\u001b[0m\u001b[1;33m.\u001b[0m\u001b[0msplit\u001b[0m\u001b[1;33m(\u001b[0m\u001b[1;34m':'\u001b[0m\u001b[1;33m)\u001b[0m\u001b[1;33m[\u001b[0m\u001b[1;36m1\u001b[0m\u001b[1;33m]\u001b[0m \u001b[1;32mfor\u001b[0m \u001b[0mline\u001b[0m \u001b[1;32min\u001b[0m \u001b[0mdriver\u001b[0m\u001b[1;33m.\u001b[0m\u001b[0mfind_element\u001b[0m\u001b[1;33m(\u001b[0m\u001b[0mBy\u001b[0m\u001b[1;33m.\u001b[0m\u001b[0mXPATH\u001b[0m\u001b[1;33m,\u001b[0m \u001b[0mqty\u001b[0m\u001b[1;33m)\u001b[0m\u001b[1;33m.\u001b[0m\u001b[0mtext\u001b[0m\u001b[1;33m.\u001b[0m\u001b[0msplit\u001b[0m\u001b[1;33m(\u001b[0m\u001b[1;34m\"\\n\"\u001b[0m\u001b[1;33m)\u001b[0m \u001b[1;32mif\u001b[0m \u001b[1;34m\"Net Q\"\u001b[0m \u001b[1;32min\u001b[0m \u001b[0mline\u001b[0m\u001b[1;33m)\u001b[0m\u001b[1;33m\u001b[0m\u001b[1;33m\u001b[0m\u001b[0m\n\u001b[1;32m---> 21\u001b[1;33m     \u001b[0mPack_Size\u001b[0m \u001b[1;33m=\u001b[0m\u001b[0mdriver\u001b[0m\u001b[1;33m.\u001b[0m\u001b[0mfind_element\u001b[0m\u001b[1;33m(\u001b[0m\u001b[0mBy\u001b[0m\u001b[1;33m.\u001b[0m\u001b[0mXPATH\u001b[0m\u001b[1;33m,\u001b[0m \u001b[0mpackz\u001b[0m\u001b[1;33m)\u001b[0m\u001b[1;33m.\u001b[0m\u001b[0mtext\u001b[0m\u001b[1;33m\u001b[0m\u001b[1;33m\u001b[0m\u001b[0m\n\u001b[0m\u001b[0;32m     22\u001b[0m     \u001b[0mprint\u001b[0m\u001b[1;33m(\u001b[0m\u001b[0mMRP\u001b[0m\u001b[1;33m,\u001b[0m\u001b[0mPrice\u001b[0m\u001b[1;33m,\u001b[0m\u001b[0mPack_Size\u001b[0m\u001b[1;33m,\u001b[0m\u001b[0mNetq\u001b[0m\u001b[1;33m,\u001b[0m\u001b[0mName\u001b[0m\u001b[1;33m)\u001b[0m\u001b[1;33m\u001b[0m\u001b[1;33m\u001b[0m\u001b[0m\n",
      "\u001b[1;32mc:\\Users\\SOURJYA\\anaconda3\\lib\\site-packages\\selenium\\webdriver\\remote\\webdriver.py\u001b[0m in \u001b[0;36mfind_element\u001b[1;34m(self, by, value)\u001b[0m\n\u001b[0;32m    976\u001b[0m         return self.execute(Command.FIND_ELEMENT, {\n\u001b[0;32m    977\u001b[0m             \u001b[1;34m'using'\u001b[0m\u001b[1;33m:\u001b[0m \u001b[0mby\u001b[0m\u001b[1;33m,\u001b[0m\u001b[1;33m\u001b[0m\u001b[1;33m\u001b[0m\u001b[0m\n\u001b[1;32m--> 978\u001b[1;33m             'value': value})['value']\n\u001b[0m\u001b[0;32m    979\u001b[0m \u001b[1;33m\u001b[0m\u001b[0m\n\u001b[0;32m    980\u001b[0m     \u001b[1;32mdef\u001b[0m \u001b[0mfind_elements\u001b[0m\u001b[1;33m(\u001b[0m\u001b[0mself\u001b[0m\u001b[1;33m,\u001b[0m \u001b[0mby\u001b[0m\u001b[1;33m=\u001b[0m\u001b[0mBy\u001b[0m\u001b[1;33m.\u001b[0m\u001b[0mID\u001b[0m\u001b[1;33m,\u001b[0m \u001b[0mvalue\u001b[0m\u001b[1;33m=\u001b[0m\u001b[1;32mNone\u001b[0m\u001b[1;33m)\u001b[0m\u001b[1;33m:\u001b[0m\u001b[1;33m\u001b[0m\u001b[1;33m\u001b[0m\u001b[0m\n",
      "\u001b[1;32mc:\\Users\\SOURJYA\\anaconda3\\lib\\site-packages\\selenium\\webdriver\\remote\\webdriver.py\u001b[0m in \u001b[0;36mexecute\u001b[1;34m(self, driver_command, params)\u001b[0m\n\u001b[0;32m    319\u001b[0m         \u001b[0mresponse\u001b[0m \u001b[1;33m=\u001b[0m \u001b[0mself\u001b[0m\u001b[1;33m.\u001b[0m\u001b[0mcommand_executor\u001b[0m\u001b[1;33m.\u001b[0m\u001b[0mexecute\u001b[0m\u001b[1;33m(\u001b[0m\u001b[0mdriver_command\u001b[0m\u001b[1;33m,\u001b[0m \u001b[0mparams\u001b[0m\u001b[1;33m)\u001b[0m\u001b[1;33m\u001b[0m\u001b[1;33m\u001b[0m\u001b[0m\n\u001b[0;32m    320\u001b[0m         \u001b[1;32mif\u001b[0m \u001b[0mresponse\u001b[0m\u001b[1;33m:\u001b[0m\u001b[1;33m\u001b[0m\u001b[1;33m\u001b[0m\u001b[0m\n\u001b[1;32m--> 321\u001b[1;33m             \u001b[0mself\u001b[0m\u001b[1;33m.\u001b[0m\u001b[0merror_handler\u001b[0m\u001b[1;33m.\u001b[0m\u001b[0mcheck_response\u001b[0m\u001b[1;33m(\u001b[0m\u001b[0mresponse\u001b[0m\u001b[1;33m)\u001b[0m\u001b[1;33m\u001b[0m\u001b[1;33m\u001b[0m\u001b[0m\n\u001b[0m\u001b[0;32m    322\u001b[0m             response['value'] = self._unwrap_value(\n\u001b[0;32m    323\u001b[0m                 response.get('value', None))\n",
      "\u001b[1;32mc:\\Users\\SOURJYA\\anaconda3\\lib\\site-packages\\selenium\\webdriver\\remote\\errorhandler.py\u001b[0m in \u001b[0;36mcheck_response\u001b[1;34m(self, response)\u001b[0m\n\u001b[0;32m    240\u001b[0m                 \u001b[0malert_text\u001b[0m \u001b[1;33m=\u001b[0m \u001b[0mvalue\u001b[0m\u001b[1;33m[\u001b[0m\u001b[1;34m'alert'\u001b[0m\u001b[1;33m]\u001b[0m\u001b[1;33m.\u001b[0m\u001b[0mget\u001b[0m\u001b[1;33m(\u001b[0m\u001b[1;34m'text'\u001b[0m\u001b[1;33m)\u001b[0m\u001b[1;33m\u001b[0m\u001b[1;33m\u001b[0m\u001b[0m\n\u001b[0;32m    241\u001b[0m             \u001b[1;32mraise\u001b[0m \u001b[0mexception_class\u001b[0m\u001b[1;33m(\u001b[0m\u001b[0mmessage\u001b[0m\u001b[1;33m,\u001b[0m \u001b[0mscreen\u001b[0m\u001b[1;33m,\u001b[0m \u001b[0mstacktrace\u001b[0m\u001b[1;33m,\u001b[0m \u001b[0malert_text\u001b[0m\u001b[1;33m)\u001b[0m\u001b[1;33m\u001b[0m\u001b[1;33m\u001b[0m\u001b[0m\n\u001b[1;32m--> 242\u001b[1;33m         \u001b[1;32mraise\u001b[0m \u001b[0mexception_class\u001b[0m\u001b[1;33m(\u001b[0m\u001b[0mmessage\u001b[0m\u001b[1;33m,\u001b[0m \u001b[0mscreen\u001b[0m\u001b[1;33m,\u001b[0m \u001b[0mstacktrace\u001b[0m\u001b[1;33m)\u001b[0m\u001b[1;33m\u001b[0m\u001b[1;33m\u001b[0m\u001b[0m\n\u001b[0m\u001b[0;32m    243\u001b[0m \u001b[1;33m\u001b[0m\u001b[0m\n\u001b[0;32m    244\u001b[0m     \u001b[1;32mdef\u001b[0m \u001b[0m_value_or_default\u001b[0m\u001b[1;33m(\u001b[0m\u001b[0mself\u001b[0m\u001b[1;33m,\u001b[0m \u001b[0mobj\u001b[0m\u001b[1;33m,\u001b[0m \u001b[0mkey\u001b[0m\u001b[1;33m,\u001b[0m \u001b[0mdefault\u001b[0m\u001b[1;33m)\u001b[0m\u001b[1;33m:\u001b[0m\u001b[1;33m\u001b[0m\u001b[1;33m\u001b[0m\u001b[0m\n",
      "\u001b[1;31mNoSuchElementException\u001b[0m: Message: no such element: Unable to locate element: {\"method\":\"xpath\",\"selector\":\"//*[@id=\"inline-twister-expanded-dimension-text-size_name\"]\"}\n  (Session info: chrome=114.0.5735.248)\n"
     ]
    }
   ],
   "source": [
    "driver = webdriver.Chrome(options=options1)\n",
    "driver.maximize_window()\n",
    "price1='//*[@id=\"corePriceDisplay_desktop_feature_div\"]/div[2]/span/span[1]/span/span'\n",
    "price2='//*[@id=\"corePriceDisplay_desktop_feature_div\"]/div[1]/span[2]/span[2]/span[2]'\n",
    "qty='//*[@id=\"detailBullets_feature_div\"]'\n",
    "packz='//*[@id=\"inline-twister-expanded-dimension-text-size_name\"]'\n",
    "for i,x in enumerate(urls):\n",
    "    url='https://amazon.in/dp/'+x\n",
    "    Name=names[i]\n",
    "    driver.get(url)\n",
    "    time.sleep(5);\n",
    "#    WebDriverWait(driver, 10).until(EC.visibility_of_all_elements_located((By.XPATH, packz)))\n",
    "\n",
    "    try:\n",
    "        MRP = driver.find_element(By.XPATH, price1).text\n",
    "        Price =driver.find_element(By.XPATH, price2).text\n",
    "    except:\n",
    "        MRP = driver.find_element(By.XPATH, '//*[@id=\"corePrice_desktop\"]/div/table/tbody/tr[1]/td[2]/span[1]/span[1]').text\n",
    "        Price =driver.find_element(By.XPATH, '//*[@id=\"corePrice_desktop\"]/div/table/tbody/tr[2]/td[2]/span[1]/span[1]').text\n",
    "    Netq = next(line.split(':')[1] for line in driver.find_element(By.XPATH, qty).text.split(\"\\n\") if \"Net Q\" in line)\n",
    "    Pack_Size =driver.find_element(By.XPATH, packz).text\n",
    "    print(MRP,Price,Pack_Size,Netq,Name)\n"
   ]
  },
  {
   "cell_type": "code",
   "execution_count": 35,
   "metadata": {},
   "outputs": [
    {
     "ename": "SyntaxError",
     "evalue": "invalid syntax (<ipython-input-35-4629c73cb04f>, line 22)",
     "output_type": "error",
     "traceback": [
      "\u001b[1;36m  File \u001b[1;32m\"<ipython-input-35-4629c73cb04f>\"\u001b[1;36m, line \u001b[1;32m22\u001b[0m\n\u001b[1;33m    pass:\u001b[0m\n\u001b[1;37m        ^\u001b[0m\n\u001b[1;31mSyntaxError\u001b[0m\u001b[1;31m:\u001b[0m invalid syntax\n"
     ]
    }
   ],
   "source": [
    "driver = webdriver.Chrome(options=options1)\n",
    "driver.maximize_window()\n",
    "price1='//*[@id=\"corePriceDisplay_desktop_feature_div\"]/div[2]/span/span[1]/span/span'\n",
    "price2='//*[@id=\"corePriceDisplay_desktop_feature_div\"]/div[1]/span[2]/span[2]/span[2]'\n",
    "qty='//*[@id=\"detailBullets_feature_div\"]'\n",
    "packz='//*[@id=\"inline-twister-expanded-dimension-text-size_name\"]'\n",
    "for i,x in enumerate(urls):\n",
    "    url='https://amazon.in/dp/'+x\n",
    "    Name=names[i]\n",
    "    driver.get(url)\n",
    "    time.sleep(5);\n",
    "#    WebDriverWait(driver, 10).until(EC.visibility_of_all_elements_located((By.XPATH, packz)))\n",
    "\n",
    "    try:\n",
    "        MRP = driver.find_element(By.XPATH, price1).text\n",
    "        Price =driver.find_element(By.XPATH, price2).text\n",
    "        Pack_Size =driver.find_element(By.XPATH, packz).text\n",
    "    except:\n",
    "        MRP = driver.find_element(By.XPATH, '//*[@id=\"corePrice_desktop\"]/div/table/tbody/tr[1]/td[2]/span[1]/span[1]').text\n",
    "        Price =driver.find_element(By.XPATH, '//*[@id=\"corePrice_desktop\"]/div/table/tbody/tr[2]/td[2]/span[1]/span[1]').text\n",
    "        Pack_Size='1'\n",
    "    pass:\n",
    "    Netq = next(line.split(':')[1] for line in driver.find_element(By.XPATH, qty).text.split(\"\\n\") if \"Net Q\" in line)\n",
    "    \n",
    "    print(MRP,Price,Pack_Size,Netq,Name)\n"
   ]
  },
  {
   "cell_type": "code",
   "execution_count": 36,
   "metadata": {},
   "outputs": [
    {
     "ename": "ProtocolError",
     "evalue": "('Connection aborted.', ConnectionResetError(10054, 'An existing connection was forcibly closed by the remote host', None, 10054, None))",
     "output_type": "error",
     "traceback": [
      "\u001b[1;31m---------------------------------------------------------------------------\u001b[0m",
      "\u001b[1;31mConnectionResetError\u001b[0m                      Traceback (most recent call last)",
      "\u001b[1;32mc:\\Users\\SOURJYA\\anaconda3\\lib\\site-packages\\urllib3\\connectionpool.py\u001b[0m in \u001b[0;36murlopen\u001b[1;34m(self, method, url, body, headers, retries, redirect, assert_same_host, timeout, pool_timeout, release_conn, chunked, body_pos, **response_kw)\u001b[0m\n\u001b[0;32m    709\u001b[0m                 \u001b[0mheaders\u001b[0m\u001b[1;33m=\u001b[0m\u001b[0mheaders\u001b[0m\u001b[1;33m,\u001b[0m\u001b[1;33m\u001b[0m\u001b[1;33m\u001b[0m\u001b[0m\n\u001b[1;32m--> 710\u001b[1;33m                 \u001b[0mchunked\u001b[0m\u001b[1;33m=\u001b[0m\u001b[0mchunked\u001b[0m\u001b[1;33m,\u001b[0m\u001b[1;33m\u001b[0m\u001b[1;33m\u001b[0m\u001b[0m\n\u001b[0m\u001b[0;32m    711\u001b[0m             )\n",
      "\u001b[1;32mc:\\Users\\SOURJYA\\anaconda3\\lib\\site-packages\\urllib3\\connectionpool.py\u001b[0m in \u001b[0;36m_make_request\u001b[1;34m(self, conn, method, url, timeout, chunked, **httplib_request_kw)\u001b[0m\n\u001b[0;32m    448\u001b[0m                     \u001b[1;31m# Otherwise it looks like a bug in the code.\u001b[0m\u001b[1;33m\u001b[0m\u001b[1;33m\u001b[0m\u001b[1;33m\u001b[0m\u001b[0m\n\u001b[1;32m--> 449\u001b[1;33m                     \u001b[0msix\u001b[0m\u001b[1;33m.\u001b[0m\u001b[0mraise_from\u001b[0m\u001b[1;33m(\u001b[0m\u001b[0me\u001b[0m\u001b[1;33m,\u001b[0m \u001b[1;32mNone\u001b[0m\u001b[1;33m)\u001b[0m\u001b[1;33m\u001b[0m\u001b[1;33m\u001b[0m\u001b[0m\n\u001b[0m\u001b[0;32m    450\u001b[0m         \u001b[1;32mexcept\u001b[0m \u001b[1;33m(\u001b[0m\u001b[0mSocketTimeout\u001b[0m\u001b[1;33m,\u001b[0m \u001b[0mBaseSSLError\u001b[0m\u001b[1;33m,\u001b[0m \u001b[0mSocketError\u001b[0m\u001b[1;33m)\u001b[0m \u001b[1;32mas\u001b[0m \u001b[0me\u001b[0m\u001b[1;33m:\u001b[0m\u001b[1;33m\u001b[0m\u001b[1;33m\u001b[0m\u001b[0m\n",
      "\u001b[1;32mc:\\Users\\SOURJYA\\anaconda3\\lib\\site-packages\\urllib3\\packages\\six.py\u001b[0m in \u001b[0;36mraise_from\u001b[1;34m(value, from_value)\u001b[0m\n",
      "\u001b[1;32mc:\\Users\\SOURJYA\\anaconda3\\lib\\site-packages\\urllib3\\connectionpool.py\u001b[0m in \u001b[0;36m_make_request\u001b[1;34m(self, conn, method, url, timeout, chunked, **httplib_request_kw)\u001b[0m\n\u001b[0;32m    443\u001b[0m                 \u001b[1;32mtry\u001b[0m\u001b[1;33m:\u001b[0m\u001b[1;33m\u001b[0m\u001b[1;33m\u001b[0m\u001b[0m\n\u001b[1;32m--> 444\u001b[1;33m                     \u001b[0mhttplib_response\u001b[0m \u001b[1;33m=\u001b[0m \u001b[0mconn\u001b[0m\u001b[1;33m.\u001b[0m\u001b[0mgetresponse\u001b[0m\u001b[1;33m(\u001b[0m\u001b[1;33m)\u001b[0m\u001b[1;33m\u001b[0m\u001b[1;33m\u001b[0m\u001b[0m\n\u001b[0m\u001b[0;32m    445\u001b[0m                 \u001b[1;32mexcept\u001b[0m \u001b[0mBaseException\u001b[0m \u001b[1;32mas\u001b[0m \u001b[0me\u001b[0m\u001b[1;33m:\u001b[0m\u001b[1;33m\u001b[0m\u001b[1;33m\u001b[0m\u001b[0m\n",
      "\u001b[1;32mc:\\Users\\SOURJYA\\anaconda3\\lib\\http\\client.py\u001b[0m in \u001b[0;36mgetresponse\u001b[1;34m(self)\u001b[0m\n\u001b[0;32m   1372\u001b[0m             \u001b[1;32mtry\u001b[0m\u001b[1;33m:\u001b[0m\u001b[1;33m\u001b[0m\u001b[1;33m\u001b[0m\u001b[0m\n\u001b[1;32m-> 1373\u001b[1;33m                 \u001b[0mresponse\u001b[0m\u001b[1;33m.\u001b[0m\u001b[0mbegin\u001b[0m\u001b[1;33m(\u001b[0m\u001b[1;33m)\u001b[0m\u001b[1;33m\u001b[0m\u001b[1;33m\u001b[0m\u001b[0m\n\u001b[0m\u001b[0;32m   1374\u001b[0m             \u001b[1;32mexcept\u001b[0m \u001b[0mConnectionError\u001b[0m\u001b[1;33m:\u001b[0m\u001b[1;33m\u001b[0m\u001b[1;33m\u001b[0m\u001b[0m\n",
      "\u001b[1;32mc:\\Users\\SOURJYA\\anaconda3\\lib\\http\\client.py\u001b[0m in \u001b[0;36mbegin\u001b[1;34m(self)\u001b[0m\n\u001b[0;32m    318\u001b[0m         \u001b[1;32mwhile\u001b[0m \u001b[1;32mTrue\u001b[0m\u001b[1;33m:\u001b[0m\u001b[1;33m\u001b[0m\u001b[1;33m\u001b[0m\u001b[0m\n\u001b[1;32m--> 319\u001b[1;33m             \u001b[0mversion\u001b[0m\u001b[1;33m,\u001b[0m \u001b[0mstatus\u001b[0m\u001b[1;33m,\u001b[0m \u001b[0mreason\u001b[0m \u001b[1;33m=\u001b[0m \u001b[0mself\u001b[0m\u001b[1;33m.\u001b[0m\u001b[0m_read_status\u001b[0m\u001b[1;33m(\u001b[0m\u001b[1;33m)\u001b[0m\u001b[1;33m\u001b[0m\u001b[1;33m\u001b[0m\u001b[0m\n\u001b[0m\u001b[0;32m    320\u001b[0m             \u001b[1;32mif\u001b[0m \u001b[0mstatus\u001b[0m \u001b[1;33m!=\u001b[0m \u001b[0mCONTINUE\u001b[0m\u001b[1;33m:\u001b[0m\u001b[1;33m\u001b[0m\u001b[1;33m\u001b[0m\u001b[0m\n",
      "\u001b[1;32mc:\\Users\\SOURJYA\\anaconda3\\lib\\http\\client.py\u001b[0m in \u001b[0;36m_read_status\u001b[1;34m(self)\u001b[0m\n\u001b[0;32m    279\u001b[0m     \u001b[1;32mdef\u001b[0m \u001b[0m_read_status\u001b[0m\u001b[1;33m(\u001b[0m\u001b[0mself\u001b[0m\u001b[1;33m)\u001b[0m\u001b[1;33m:\u001b[0m\u001b[1;33m\u001b[0m\u001b[1;33m\u001b[0m\u001b[0m\n\u001b[1;32m--> 280\u001b[1;33m         \u001b[0mline\u001b[0m \u001b[1;33m=\u001b[0m \u001b[0mstr\u001b[0m\u001b[1;33m(\u001b[0m\u001b[0mself\u001b[0m\u001b[1;33m.\u001b[0m\u001b[0mfp\u001b[0m\u001b[1;33m.\u001b[0m\u001b[0mreadline\u001b[0m\u001b[1;33m(\u001b[0m\u001b[0m_MAXLINE\u001b[0m \u001b[1;33m+\u001b[0m \u001b[1;36m1\u001b[0m\u001b[1;33m)\u001b[0m\u001b[1;33m,\u001b[0m \u001b[1;34m\"iso-8859-1\"\u001b[0m\u001b[1;33m)\u001b[0m\u001b[1;33m\u001b[0m\u001b[1;33m\u001b[0m\u001b[0m\n\u001b[0m\u001b[0;32m    281\u001b[0m         \u001b[1;32mif\u001b[0m \u001b[0mlen\u001b[0m\u001b[1;33m(\u001b[0m\u001b[0mline\u001b[0m\u001b[1;33m)\u001b[0m \u001b[1;33m>\u001b[0m \u001b[0m_MAXLINE\u001b[0m\u001b[1;33m:\u001b[0m\u001b[1;33m\u001b[0m\u001b[1;33m\u001b[0m\u001b[0m\n",
      "\u001b[1;32mc:\\Users\\SOURJYA\\anaconda3\\lib\\socket.py\u001b[0m in \u001b[0;36mreadinto\u001b[1;34m(self, b)\u001b[0m\n\u001b[0;32m    588\u001b[0m             \u001b[1;32mtry\u001b[0m\u001b[1;33m:\u001b[0m\u001b[1;33m\u001b[0m\u001b[1;33m\u001b[0m\u001b[0m\n\u001b[1;32m--> 589\u001b[1;33m                 \u001b[1;32mreturn\u001b[0m \u001b[0mself\u001b[0m\u001b[1;33m.\u001b[0m\u001b[0m_sock\u001b[0m\u001b[1;33m.\u001b[0m\u001b[0mrecv_into\u001b[0m\u001b[1;33m(\u001b[0m\u001b[0mb\u001b[0m\u001b[1;33m)\u001b[0m\u001b[1;33m\u001b[0m\u001b[1;33m\u001b[0m\u001b[0m\n\u001b[0m\u001b[0;32m    590\u001b[0m             \u001b[1;32mexcept\u001b[0m \u001b[0mtimeout\u001b[0m\u001b[1;33m:\u001b[0m\u001b[1;33m\u001b[0m\u001b[1;33m\u001b[0m\u001b[0m\n",
      "\u001b[1;31mConnectionResetError\u001b[0m: [WinError 10054] An existing connection was forcibly closed by the remote host",
      "\nDuring handling of the above exception, another exception occurred:\n",
      "\u001b[1;31mProtocolError\u001b[0m                             Traceback (most recent call last)",
      "\u001b[1;32m<ipython-input-36-718808d5fe45>\u001b[0m in \u001b[0;36m<module>\u001b[1;34m\u001b[0m\n\u001b[0;32m      8\u001b[0m     \u001b[0murl\u001b[0m\u001b[1;33m=\u001b[0m\u001b[1;34m'https://amazon.in/dp/'\u001b[0m\u001b[1;33m+\u001b[0m\u001b[0mx\u001b[0m\u001b[1;33m\u001b[0m\u001b[1;33m\u001b[0m\u001b[0m\n\u001b[0;32m      9\u001b[0m     \u001b[0mName\u001b[0m\u001b[1;33m=\u001b[0m\u001b[0mnames\u001b[0m\u001b[1;33m[\u001b[0m\u001b[0mi\u001b[0m\u001b[1;33m]\u001b[0m\u001b[1;33m\u001b[0m\u001b[1;33m\u001b[0m\u001b[0m\n\u001b[1;32m---> 10\u001b[1;33m     \u001b[0mdriver\u001b[0m\u001b[1;33m.\u001b[0m\u001b[0mget\u001b[0m\u001b[1;33m(\u001b[0m\u001b[0murl\u001b[0m\u001b[1;33m)\u001b[0m\u001b[1;33m\u001b[0m\u001b[1;33m\u001b[0m\u001b[0m\n\u001b[0m\u001b[0;32m     11\u001b[0m     \u001b[0mtime\u001b[0m\u001b[1;33m.\u001b[0m\u001b[0msleep\u001b[0m\u001b[1;33m(\u001b[0m\u001b[1;36m5\u001b[0m\u001b[1;33m)\u001b[0m\u001b[1;33m;\u001b[0m\u001b[1;33m\u001b[0m\u001b[1;33m\u001b[0m\u001b[0m\n\u001b[0;32m     12\u001b[0m \u001b[1;31m#    WebDriverWait(driver, 10).until(EC.visibility_of_all_elements_located((By.XPATH, packz)))\u001b[0m\u001b[1;33m\u001b[0m\u001b[1;33m\u001b[0m\u001b[1;33m\u001b[0m\u001b[0m\n",
      "\u001b[1;32mc:\\Users\\SOURJYA\\anaconda3\\lib\\site-packages\\selenium\\webdriver\\remote\\webdriver.py\u001b[0m in \u001b[0;36mget\u001b[1;34m(self, url)\u001b[0m\n\u001b[0;32m    331\u001b[0m         \u001b[0mLoads\u001b[0m \u001b[0ma\u001b[0m \u001b[0mweb\u001b[0m \u001b[0mpage\u001b[0m \u001b[1;32min\u001b[0m \u001b[0mthe\u001b[0m \u001b[0mcurrent\u001b[0m \u001b[0mbrowser\u001b[0m \u001b[0msession\u001b[0m\u001b[1;33m.\u001b[0m\u001b[1;33m\u001b[0m\u001b[1;33m\u001b[0m\u001b[0m\n\u001b[0;32m    332\u001b[0m         \"\"\"\n\u001b[1;32m--> 333\u001b[1;33m         \u001b[0mself\u001b[0m\u001b[1;33m.\u001b[0m\u001b[0mexecute\u001b[0m\u001b[1;33m(\u001b[0m\u001b[0mCommand\u001b[0m\u001b[1;33m.\u001b[0m\u001b[0mGET\u001b[0m\u001b[1;33m,\u001b[0m \u001b[1;33m{\u001b[0m\u001b[1;34m'url'\u001b[0m\u001b[1;33m:\u001b[0m \u001b[0murl\u001b[0m\u001b[1;33m}\u001b[0m\u001b[1;33m)\u001b[0m\u001b[1;33m\u001b[0m\u001b[1;33m\u001b[0m\u001b[0m\n\u001b[0m\u001b[0;32m    334\u001b[0m \u001b[1;33m\u001b[0m\u001b[0m\n\u001b[0;32m    335\u001b[0m     \u001b[1;33m@\u001b[0m\u001b[0mproperty\u001b[0m\u001b[1;33m\u001b[0m\u001b[1;33m\u001b[0m\u001b[0m\n",
      "\u001b[1;32mc:\\Users\\SOURJYA\\anaconda3\\lib\\site-packages\\selenium\\webdriver\\remote\\webdriver.py\u001b[0m in \u001b[0;36mexecute\u001b[1;34m(self, driver_command, params)\u001b[0m\n\u001b[0;32m    317\u001b[0m \u001b[1;33m\u001b[0m\u001b[0m\n\u001b[0;32m    318\u001b[0m         \u001b[0mparams\u001b[0m \u001b[1;33m=\u001b[0m \u001b[0mself\u001b[0m\u001b[1;33m.\u001b[0m\u001b[0m_wrap_value\u001b[0m\u001b[1;33m(\u001b[0m\u001b[0mparams\u001b[0m\u001b[1;33m)\u001b[0m\u001b[1;33m\u001b[0m\u001b[1;33m\u001b[0m\u001b[0m\n\u001b[1;32m--> 319\u001b[1;33m         \u001b[0mresponse\u001b[0m \u001b[1;33m=\u001b[0m \u001b[0mself\u001b[0m\u001b[1;33m.\u001b[0m\u001b[0mcommand_executor\u001b[0m\u001b[1;33m.\u001b[0m\u001b[0mexecute\u001b[0m\u001b[1;33m(\u001b[0m\u001b[0mdriver_command\u001b[0m\u001b[1;33m,\u001b[0m \u001b[0mparams\u001b[0m\u001b[1;33m)\u001b[0m\u001b[1;33m\u001b[0m\u001b[1;33m\u001b[0m\u001b[0m\n\u001b[0m\u001b[0;32m    320\u001b[0m         \u001b[1;32mif\u001b[0m \u001b[0mresponse\u001b[0m\u001b[1;33m:\u001b[0m\u001b[1;33m\u001b[0m\u001b[1;33m\u001b[0m\u001b[0m\n\u001b[0;32m    321\u001b[0m             \u001b[0mself\u001b[0m\u001b[1;33m.\u001b[0m\u001b[0merror_handler\u001b[0m\u001b[1;33m.\u001b[0m\u001b[0mcheck_response\u001b[0m\u001b[1;33m(\u001b[0m\u001b[0mresponse\u001b[0m\u001b[1;33m)\u001b[0m\u001b[1;33m\u001b[0m\u001b[1;33m\u001b[0m\u001b[0m\n",
      "\u001b[1;32mc:\\Users\\SOURJYA\\anaconda3\\lib\\site-packages\\selenium\\webdriver\\remote\\remote_connection.py\u001b[0m in \u001b[0;36mexecute\u001b[1;34m(self, command, params)\u001b[0m\n\u001b[0;32m    372\u001b[0m         \u001b[0mdata\u001b[0m \u001b[1;33m=\u001b[0m \u001b[0mutils\u001b[0m\u001b[1;33m.\u001b[0m\u001b[0mdump_json\u001b[0m\u001b[1;33m(\u001b[0m\u001b[0mparams\u001b[0m\u001b[1;33m)\u001b[0m\u001b[1;33m\u001b[0m\u001b[1;33m\u001b[0m\u001b[0m\n\u001b[0;32m    373\u001b[0m         \u001b[0murl\u001b[0m \u001b[1;33m=\u001b[0m \u001b[1;34m'%s%s'\u001b[0m \u001b[1;33m%\u001b[0m \u001b[1;33m(\u001b[0m\u001b[0mself\u001b[0m\u001b[1;33m.\u001b[0m\u001b[0m_url\u001b[0m\u001b[1;33m,\u001b[0m \u001b[0mpath\u001b[0m\u001b[1;33m)\u001b[0m\u001b[1;33m\u001b[0m\u001b[1;33m\u001b[0m\u001b[0m\n\u001b[1;32m--> 374\u001b[1;33m         \u001b[1;32mreturn\u001b[0m \u001b[0mself\u001b[0m\u001b[1;33m.\u001b[0m\u001b[0m_request\u001b[0m\u001b[1;33m(\u001b[0m\u001b[0mcommand_info\u001b[0m\u001b[1;33m[\u001b[0m\u001b[1;36m0\u001b[0m\u001b[1;33m]\u001b[0m\u001b[1;33m,\u001b[0m \u001b[0murl\u001b[0m\u001b[1;33m,\u001b[0m \u001b[0mbody\u001b[0m\u001b[1;33m=\u001b[0m\u001b[0mdata\u001b[0m\u001b[1;33m)\u001b[0m\u001b[1;33m\u001b[0m\u001b[1;33m\u001b[0m\u001b[0m\n\u001b[0m\u001b[0;32m    375\u001b[0m \u001b[1;33m\u001b[0m\u001b[0m\n\u001b[0;32m    376\u001b[0m     \u001b[1;32mdef\u001b[0m \u001b[0m_request\u001b[0m\u001b[1;33m(\u001b[0m\u001b[0mself\u001b[0m\u001b[1;33m,\u001b[0m \u001b[0mmethod\u001b[0m\u001b[1;33m,\u001b[0m \u001b[0murl\u001b[0m\u001b[1;33m,\u001b[0m \u001b[0mbody\u001b[0m\u001b[1;33m=\u001b[0m\u001b[1;32mNone\u001b[0m\u001b[1;33m)\u001b[0m\u001b[1;33m:\u001b[0m\u001b[1;33m\u001b[0m\u001b[1;33m\u001b[0m\u001b[0m\n",
      "\u001b[1;32mc:\\Users\\SOURJYA\\anaconda3\\lib\\site-packages\\selenium\\webdriver\\remote\\remote_connection.py\u001b[0m in \u001b[0;36m_request\u001b[1;34m(self, method, url, body)\u001b[0m\n\u001b[0;32m    395\u001b[0m \u001b[1;33m\u001b[0m\u001b[0m\n\u001b[0;32m    396\u001b[0m         \u001b[1;32mif\u001b[0m \u001b[0mself\u001b[0m\u001b[1;33m.\u001b[0m\u001b[0mkeep_alive\u001b[0m\u001b[1;33m:\u001b[0m\u001b[1;33m\u001b[0m\u001b[1;33m\u001b[0m\u001b[0m\n\u001b[1;32m--> 397\u001b[1;33m             \u001b[0mresp\u001b[0m \u001b[1;33m=\u001b[0m \u001b[0mself\u001b[0m\u001b[1;33m.\u001b[0m\u001b[0m_conn\u001b[0m\u001b[1;33m.\u001b[0m\u001b[0mrequest\u001b[0m\u001b[1;33m(\u001b[0m\u001b[0mmethod\u001b[0m\u001b[1;33m,\u001b[0m \u001b[0murl\u001b[0m\u001b[1;33m,\u001b[0m \u001b[0mbody\u001b[0m\u001b[1;33m=\u001b[0m\u001b[0mbody\u001b[0m\u001b[1;33m,\u001b[0m \u001b[0mheaders\u001b[0m\u001b[1;33m=\u001b[0m\u001b[0mheaders\u001b[0m\u001b[1;33m)\u001b[0m\u001b[1;33m\u001b[0m\u001b[1;33m\u001b[0m\u001b[0m\n\u001b[0m\u001b[0;32m    398\u001b[0m \u001b[1;33m\u001b[0m\u001b[0m\n\u001b[0;32m    399\u001b[0m             \u001b[0mstatuscode\u001b[0m \u001b[1;33m=\u001b[0m \u001b[0mresp\u001b[0m\u001b[1;33m.\u001b[0m\u001b[0mstatus\u001b[0m\u001b[1;33m\u001b[0m\u001b[1;33m\u001b[0m\u001b[0m\n",
      "\u001b[1;32mc:\\Users\\SOURJYA\\anaconda3\\lib\\site-packages\\urllib3\\request.py\u001b[0m in \u001b[0;36mrequest\u001b[1;34m(self, method, url, fields, headers, **urlopen_kw)\u001b[0m\n\u001b[0;32m     77\u001b[0m         \u001b[1;32melse\u001b[0m\u001b[1;33m:\u001b[0m\u001b[1;33m\u001b[0m\u001b[1;33m\u001b[0m\u001b[0m\n\u001b[0;32m     78\u001b[0m             return self.request_encode_body(\n\u001b[1;32m---> 79\u001b[1;33m                 \u001b[0mmethod\u001b[0m\u001b[1;33m,\u001b[0m \u001b[0murl\u001b[0m\u001b[1;33m,\u001b[0m \u001b[0mfields\u001b[0m\u001b[1;33m=\u001b[0m\u001b[0mfields\u001b[0m\u001b[1;33m,\u001b[0m \u001b[0mheaders\u001b[0m\u001b[1;33m=\u001b[0m\u001b[0mheaders\u001b[0m\u001b[1;33m,\u001b[0m \u001b[1;33m**\u001b[0m\u001b[0murlopen_kw\u001b[0m\u001b[1;33m\u001b[0m\u001b[1;33m\u001b[0m\u001b[0m\n\u001b[0m\u001b[0;32m     80\u001b[0m             )\n\u001b[0;32m     81\u001b[0m \u001b[1;33m\u001b[0m\u001b[0m\n",
      "\u001b[1;32mc:\\Users\\SOURJYA\\anaconda3\\lib\\site-packages\\urllib3\\request.py\u001b[0m in \u001b[0;36mrequest_encode_body\u001b[1;34m(self, method, url, fields, headers, encode_multipart, multipart_boundary, **urlopen_kw)\u001b[0m\n\u001b[0;32m    168\u001b[0m         \u001b[0mextra_kw\u001b[0m\u001b[1;33m.\u001b[0m\u001b[0mupdate\u001b[0m\u001b[1;33m(\u001b[0m\u001b[0murlopen_kw\u001b[0m\u001b[1;33m)\u001b[0m\u001b[1;33m\u001b[0m\u001b[1;33m\u001b[0m\u001b[0m\n\u001b[0;32m    169\u001b[0m \u001b[1;33m\u001b[0m\u001b[0m\n\u001b[1;32m--> 170\u001b[1;33m         \u001b[1;32mreturn\u001b[0m \u001b[0mself\u001b[0m\u001b[1;33m.\u001b[0m\u001b[0murlopen\u001b[0m\u001b[1;33m(\u001b[0m\u001b[0mmethod\u001b[0m\u001b[1;33m,\u001b[0m \u001b[0murl\u001b[0m\u001b[1;33m,\u001b[0m \u001b[1;33m**\u001b[0m\u001b[0mextra_kw\u001b[0m\u001b[1;33m)\u001b[0m\u001b[1;33m\u001b[0m\u001b[1;33m\u001b[0m\u001b[0m\n\u001b[0m",
      "\u001b[1;32mc:\\Users\\SOURJYA\\anaconda3\\lib\\site-packages\\urllib3\\poolmanager.py\u001b[0m in \u001b[0;36murlopen\u001b[1;34m(self, method, url, redirect, **kw)\u001b[0m\n\u001b[0;32m    374\u001b[0m             \u001b[0mresponse\u001b[0m \u001b[1;33m=\u001b[0m \u001b[0mconn\u001b[0m\u001b[1;33m.\u001b[0m\u001b[0murlopen\u001b[0m\u001b[1;33m(\u001b[0m\u001b[0mmethod\u001b[0m\u001b[1;33m,\u001b[0m \u001b[0murl\u001b[0m\u001b[1;33m,\u001b[0m \u001b[1;33m**\u001b[0m\u001b[0mkw\u001b[0m\u001b[1;33m)\u001b[0m\u001b[1;33m\u001b[0m\u001b[1;33m\u001b[0m\u001b[0m\n\u001b[0;32m    375\u001b[0m         \u001b[1;32melse\u001b[0m\u001b[1;33m:\u001b[0m\u001b[1;33m\u001b[0m\u001b[1;33m\u001b[0m\u001b[0m\n\u001b[1;32m--> 376\u001b[1;33m             \u001b[0mresponse\u001b[0m \u001b[1;33m=\u001b[0m \u001b[0mconn\u001b[0m\u001b[1;33m.\u001b[0m\u001b[0murlopen\u001b[0m\u001b[1;33m(\u001b[0m\u001b[0mmethod\u001b[0m\u001b[1;33m,\u001b[0m \u001b[0mu\u001b[0m\u001b[1;33m.\u001b[0m\u001b[0mrequest_uri\u001b[0m\u001b[1;33m,\u001b[0m \u001b[1;33m**\u001b[0m\u001b[0mkw\u001b[0m\u001b[1;33m)\u001b[0m\u001b[1;33m\u001b[0m\u001b[1;33m\u001b[0m\u001b[0m\n\u001b[0m\u001b[0;32m    377\u001b[0m \u001b[1;33m\u001b[0m\u001b[0m\n\u001b[0;32m    378\u001b[0m         \u001b[0mredirect_location\u001b[0m \u001b[1;33m=\u001b[0m \u001b[0mredirect\u001b[0m \u001b[1;32mand\u001b[0m \u001b[0mresponse\u001b[0m\u001b[1;33m.\u001b[0m\u001b[0mget_redirect_location\u001b[0m\u001b[1;33m(\u001b[0m\u001b[1;33m)\u001b[0m\u001b[1;33m\u001b[0m\u001b[1;33m\u001b[0m\u001b[0m\n",
      "\u001b[1;32mc:\\Users\\SOURJYA\\anaconda3\\lib\\site-packages\\urllib3\\connectionpool.py\u001b[0m in \u001b[0;36murlopen\u001b[1;34m(self, method, url, body, headers, retries, redirect, assert_same_host, timeout, pool_timeout, release_conn, chunked, body_pos, **response_kw)\u001b[0m\n\u001b[0;32m    786\u001b[0m \u001b[1;33m\u001b[0m\u001b[0m\n\u001b[0;32m    787\u001b[0m             retries = retries.increment(\n\u001b[1;32m--> 788\u001b[1;33m                 \u001b[0mmethod\u001b[0m\u001b[1;33m,\u001b[0m \u001b[0murl\u001b[0m\u001b[1;33m,\u001b[0m \u001b[0merror\u001b[0m\u001b[1;33m=\u001b[0m\u001b[0me\u001b[0m\u001b[1;33m,\u001b[0m \u001b[0m_pool\u001b[0m\u001b[1;33m=\u001b[0m\u001b[0mself\u001b[0m\u001b[1;33m,\u001b[0m \u001b[0m_stacktrace\u001b[0m\u001b[1;33m=\u001b[0m\u001b[0msys\u001b[0m\u001b[1;33m.\u001b[0m\u001b[0mexc_info\u001b[0m\u001b[1;33m(\u001b[0m\u001b[1;33m)\u001b[0m\u001b[1;33m[\u001b[0m\u001b[1;36m2\u001b[0m\u001b[1;33m]\u001b[0m\u001b[1;33m\u001b[0m\u001b[1;33m\u001b[0m\u001b[0m\n\u001b[0m\u001b[0;32m    789\u001b[0m             )\n\u001b[0;32m    790\u001b[0m             \u001b[0mretries\u001b[0m\u001b[1;33m.\u001b[0m\u001b[0msleep\u001b[0m\u001b[1;33m(\u001b[0m\u001b[1;33m)\u001b[0m\u001b[1;33m\u001b[0m\u001b[1;33m\u001b[0m\u001b[0m\n",
      "\u001b[1;32mc:\\Users\\SOURJYA\\anaconda3\\lib\\site-packages\\urllib3\\util\\retry.py\u001b[0m in \u001b[0;36mincrement\u001b[1;34m(self, method, url, response, error, _pool, _stacktrace)\u001b[0m\n\u001b[0;32m    548\u001b[0m             \u001b[1;31m# Read retry?\u001b[0m\u001b[1;33m\u001b[0m\u001b[1;33m\u001b[0m\u001b[1;33m\u001b[0m\u001b[0m\n\u001b[0;32m    549\u001b[0m             \u001b[1;32mif\u001b[0m \u001b[0mread\u001b[0m \u001b[1;32mis\u001b[0m \u001b[1;32mFalse\u001b[0m \u001b[1;32mor\u001b[0m \u001b[1;32mnot\u001b[0m \u001b[0mself\u001b[0m\u001b[1;33m.\u001b[0m\u001b[0m_is_method_retryable\u001b[0m\u001b[1;33m(\u001b[0m\u001b[0mmethod\u001b[0m\u001b[1;33m)\u001b[0m\u001b[1;33m:\u001b[0m\u001b[1;33m\u001b[0m\u001b[1;33m\u001b[0m\u001b[0m\n\u001b[1;32m--> 550\u001b[1;33m                 \u001b[1;32mraise\u001b[0m \u001b[0msix\u001b[0m\u001b[1;33m.\u001b[0m\u001b[0mreraise\u001b[0m\u001b[1;33m(\u001b[0m\u001b[0mtype\u001b[0m\u001b[1;33m(\u001b[0m\u001b[0merror\u001b[0m\u001b[1;33m)\u001b[0m\u001b[1;33m,\u001b[0m \u001b[0merror\u001b[0m\u001b[1;33m,\u001b[0m \u001b[0m_stacktrace\u001b[0m\u001b[1;33m)\u001b[0m\u001b[1;33m\u001b[0m\u001b[1;33m\u001b[0m\u001b[0m\n\u001b[0m\u001b[0;32m    551\u001b[0m             \u001b[1;32melif\u001b[0m \u001b[0mread\u001b[0m \u001b[1;32mis\u001b[0m \u001b[1;32mnot\u001b[0m \u001b[1;32mNone\u001b[0m\u001b[1;33m:\u001b[0m\u001b[1;33m\u001b[0m\u001b[1;33m\u001b[0m\u001b[0m\n\u001b[0;32m    552\u001b[0m                 \u001b[0mread\u001b[0m \u001b[1;33m-=\u001b[0m \u001b[1;36m1\u001b[0m\u001b[1;33m\u001b[0m\u001b[1;33m\u001b[0m\u001b[0m\n",
      "\u001b[1;32mc:\\Users\\SOURJYA\\anaconda3\\lib\\site-packages\\urllib3\\packages\\six.py\u001b[0m in \u001b[0;36mreraise\u001b[1;34m(tp, value, tb)\u001b[0m\n\u001b[0;32m    767\u001b[0m                 \u001b[0mvalue\u001b[0m \u001b[1;33m=\u001b[0m \u001b[0mtp\u001b[0m\u001b[1;33m(\u001b[0m\u001b[1;33m)\u001b[0m\u001b[1;33m\u001b[0m\u001b[1;33m\u001b[0m\u001b[0m\n\u001b[0;32m    768\u001b[0m             \u001b[1;32mif\u001b[0m \u001b[0mvalue\u001b[0m\u001b[1;33m.\u001b[0m\u001b[0m__traceback__\u001b[0m \u001b[1;32mis\u001b[0m \u001b[1;32mnot\u001b[0m \u001b[0mtb\u001b[0m\u001b[1;33m:\u001b[0m\u001b[1;33m\u001b[0m\u001b[1;33m\u001b[0m\u001b[0m\n\u001b[1;32m--> 769\u001b[1;33m                 \u001b[1;32mraise\u001b[0m \u001b[0mvalue\u001b[0m\u001b[1;33m.\u001b[0m\u001b[0mwith_traceback\u001b[0m\u001b[1;33m(\u001b[0m\u001b[0mtb\u001b[0m\u001b[1;33m)\u001b[0m\u001b[1;33m\u001b[0m\u001b[1;33m\u001b[0m\u001b[0m\n\u001b[0m\u001b[0;32m    770\u001b[0m             \u001b[1;32mraise\u001b[0m \u001b[0mvalue\u001b[0m\u001b[1;33m\u001b[0m\u001b[1;33m\u001b[0m\u001b[0m\n\u001b[0;32m    771\u001b[0m         \u001b[1;32mfinally\u001b[0m\u001b[1;33m:\u001b[0m\u001b[1;33m\u001b[0m\u001b[1;33m\u001b[0m\u001b[0m\n",
      "\u001b[1;32mc:\\Users\\SOURJYA\\anaconda3\\lib\\site-packages\\urllib3\\connectionpool.py\u001b[0m in \u001b[0;36murlopen\u001b[1;34m(self, method, url, body, headers, retries, redirect, assert_same_host, timeout, pool_timeout, release_conn, chunked, body_pos, **response_kw)\u001b[0m\n\u001b[0;32m    708\u001b[0m                 \u001b[0mbody\u001b[0m\u001b[1;33m=\u001b[0m\u001b[0mbody\u001b[0m\u001b[1;33m,\u001b[0m\u001b[1;33m\u001b[0m\u001b[1;33m\u001b[0m\u001b[0m\n\u001b[0;32m    709\u001b[0m                 \u001b[0mheaders\u001b[0m\u001b[1;33m=\u001b[0m\u001b[0mheaders\u001b[0m\u001b[1;33m,\u001b[0m\u001b[1;33m\u001b[0m\u001b[1;33m\u001b[0m\u001b[0m\n\u001b[1;32m--> 710\u001b[1;33m                 \u001b[0mchunked\u001b[0m\u001b[1;33m=\u001b[0m\u001b[0mchunked\u001b[0m\u001b[1;33m,\u001b[0m\u001b[1;33m\u001b[0m\u001b[1;33m\u001b[0m\u001b[0m\n\u001b[0m\u001b[0;32m    711\u001b[0m             )\n\u001b[0;32m    712\u001b[0m \u001b[1;33m\u001b[0m\u001b[0m\n",
      "\u001b[1;32mc:\\Users\\SOURJYA\\anaconda3\\lib\\site-packages\\urllib3\\connectionpool.py\u001b[0m in \u001b[0;36m_make_request\u001b[1;34m(self, conn, method, url, timeout, chunked, **httplib_request_kw)\u001b[0m\n\u001b[0;32m    447\u001b[0m                     \u001b[1;31m# Python 3 (including for exceptions like SystemExit).\u001b[0m\u001b[1;33m\u001b[0m\u001b[1;33m\u001b[0m\u001b[1;33m\u001b[0m\u001b[0m\n\u001b[0;32m    448\u001b[0m                     \u001b[1;31m# Otherwise it looks like a bug in the code.\u001b[0m\u001b[1;33m\u001b[0m\u001b[1;33m\u001b[0m\u001b[1;33m\u001b[0m\u001b[0m\n\u001b[1;32m--> 449\u001b[1;33m                     \u001b[0msix\u001b[0m\u001b[1;33m.\u001b[0m\u001b[0mraise_from\u001b[0m\u001b[1;33m(\u001b[0m\u001b[0me\u001b[0m\u001b[1;33m,\u001b[0m \u001b[1;32mNone\u001b[0m\u001b[1;33m)\u001b[0m\u001b[1;33m\u001b[0m\u001b[1;33m\u001b[0m\u001b[0m\n\u001b[0m\u001b[0;32m    450\u001b[0m         \u001b[1;32mexcept\u001b[0m \u001b[1;33m(\u001b[0m\u001b[0mSocketTimeout\u001b[0m\u001b[1;33m,\u001b[0m \u001b[0mBaseSSLError\u001b[0m\u001b[1;33m,\u001b[0m \u001b[0mSocketError\u001b[0m\u001b[1;33m)\u001b[0m \u001b[1;32mas\u001b[0m \u001b[0me\u001b[0m\u001b[1;33m:\u001b[0m\u001b[1;33m\u001b[0m\u001b[1;33m\u001b[0m\u001b[0m\n\u001b[0;32m    451\u001b[0m             \u001b[0mself\u001b[0m\u001b[1;33m.\u001b[0m\u001b[0m_raise_timeout\u001b[0m\u001b[1;33m(\u001b[0m\u001b[0merr\u001b[0m\u001b[1;33m=\u001b[0m\u001b[0me\u001b[0m\u001b[1;33m,\u001b[0m \u001b[0murl\u001b[0m\u001b[1;33m=\u001b[0m\u001b[0murl\u001b[0m\u001b[1;33m,\u001b[0m \u001b[0mtimeout_value\u001b[0m\u001b[1;33m=\u001b[0m\u001b[0mread_timeout\u001b[0m\u001b[1;33m)\u001b[0m\u001b[1;33m\u001b[0m\u001b[1;33m\u001b[0m\u001b[0m\n",
      "\u001b[1;32mc:\\Users\\SOURJYA\\anaconda3\\lib\\site-packages\\urllib3\\packages\\six.py\u001b[0m in \u001b[0;36mraise_from\u001b[1;34m(value, from_value)\u001b[0m\n",
      "\u001b[1;32mc:\\Users\\SOURJYA\\anaconda3\\lib\\site-packages\\urllib3\\connectionpool.py\u001b[0m in \u001b[0;36m_make_request\u001b[1;34m(self, conn, method, url, timeout, chunked, **httplib_request_kw)\u001b[0m\n\u001b[0;32m    442\u001b[0m                 \u001b[1;31m# Python 3\u001b[0m\u001b[1;33m\u001b[0m\u001b[1;33m\u001b[0m\u001b[1;33m\u001b[0m\u001b[0m\n\u001b[0;32m    443\u001b[0m                 \u001b[1;32mtry\u001b[0m\u001b[1;33m:\u001b[0m\u001b[1;33m\u001b[0m\u001b[1;33m\u001b[0m\u001b[0m\n\u001b[1;32m--> 444\u001b[1;33m                     \u001b[0mhttplib_response\u001b[0m \u001b[1;33m=\u001b[0m \u001b[0mconn\u001b[0m\u001b[1;33m.\u001b[0m\u001b[0mgetresponse\u001b[0m\u001b[1;33m(\u001b[0m\u001b[1;33m)\u001b[0m\u001b[1;33m\u001b[0m\u001b[1;33m\u001b[0m\u001b[0m\n\u001b[0m\u001b[0;32m    445\u001b[0m                 \u001b[1;32mexcept\u001b[0m \u001b[0mBaseException\u001b[0m \u001b[1;32mas\u001b[0m \u001b[0me\u001b[0m\u001b[1;33m:\u001b[0m\u001b[1;33m\u001b[0m\u001b[1;33m\u001b[0m\u001b[0m\n\u001b[0;32m    446\u001b[0m                     \u001b[1;31m# Remove the TypeError from the exception chain in\u001b[0m\u001b[1;33m\u001b[0m\u001b[1;33m\u001b[0m\u001b[1;33m\u001b[0m\u001b[0m\n",
      "\u001b[1;32mc:\\Users\\SOURJYA\\anaconda3\\lib\\http\\client.py\u001b[0m in \u001b[0;36mgetresponse\u001b[1;34m(self)\u001b[0m\n\u001b[0;32m   1371\u001b[0m         \u001b[1;32mtry\u001b[0m\u001b[1;33m:\u001b[0m\u001b[1;33m\u001b[0m\u001b[1;33m\u001b[0m\u001b[0m\n\u001b[0;32m   1372\u001b[0m             \u001b[1;32mtry\u001b[0m\u001b[1;33m:\u001b[0m\u001b[1;33m\u001b[0m\u001b[1;33m\u001b[0m\u001b[0m\n\u001b[1;32m-> 1373\u001b[1;33m                 \u001b[0mresponse\u001b[0m\u001b[1;33m.\u001b[0m\u001b[0mbegin\u001b[0m\u001b[1;33m(\u001b[0m\u001b[1;33m)\u001b[0m\u001b[1;33m\u001b[0m\u001b[1;33m\u001b[0m\u001b[0m\n\u001b[0m\u001b[0;32m   1374\u001b[0m             \u001b[1;32mexcept\u001b[0m \u001b[0mConnectionError\u001b[0m\u001b[1;33m:\u001b[0m\u001b[1;33m\u001b[0m\u001b[1;33m\u001b[0m\u001b[0m\n\u001b[0;32m   1375\u001b[0m                 \u001b[0mself\u001b[0m\u001b[1;33m.\u001b[0m\u001b[0mclose\u001b[0m\u001b[1;33m(\u001b[0m\u001b[1;33m)\u001b[0m\u001b[1;33m\u001b[0m\u001b[1;33m\u001b[0m\u001b[0m\n",
      "\u001b[1;32mc:\\Users\\SOURJYA\\anaconda3\\lib\\http\\client.py\u001b[0m in \u001b[0;36mbegin\u001b[1;34m(self)\u001b[0m\n\u001b[0;32m    317\u001b[0m         \u001b[1;31m# read until we get a non-100 response\u001b[0m\u001b[1;33m\u001b[0m\u001b[1;33m\u001b[0m\u001b[1;33m\u001b[0m\u001b[0m\n\u001b[0;32m    318\u001b[0m         \u001b[1;32mwhile\u001b[0m \u001b[1;32mTrue\u001b[0m\u001b[1;33m:\u001b[0m\u001b[1;33m\u001b[0m\u001b[1;33m\u001b[0m\u001b[0m\n\u001b[1;32m--> 319\u001b[1;33m             \u001b[0mversion\u001b[0m\u001b[1;33m,\u001b[0m \u001b[0mstatus\u001b[0m\u001b[1;33m,\u001b[0m \u001b[0mreason\u001b[0m \u001b[1;33m=\u001b[0m \u001b[0mself\u001b[0m\u001b[1;33m.\u001b[0m\u001b[0m_read_status\u001b[0m\u001b[1;33m(\u001b[0m\u001b[1;33m)\u001b[0m\u001b[1;33m\u001b[0m\u001b[1;33m\u001b[0m\u001b[0m\n\u001b[0m\u001b[0;32m    320\u001b[0m             \u001b[1;32mif\u001b[0m \u001b[0mstatus\u001b[0m \u001b[1;33m!=\u001b[0m \u001b[0mCONTINUE\u001b[0m\u001b[1;33m:\u001b[0m\u001b[1;33m\u001b[0m\u001b[1;33m\u001b[0m\u001b[0m\n\u001b[0;32m    321\u001b[0m                 \u001b[1;32mbreak\u001b[0m\u001b[1;33m\u001b[0m\u001b[1;33m\u001b[0m\u001b[0m\n",
      "\u001b[1;32mc:\\Users\\SOURJYA\\anaconda3\\lib\\http\\client.py\u001b[0m in \u001b[0;36m_read_status\u001b[1;34m(self)\u001b[0m\n\u001b[0;32m    278\u001b[0m \u001b[1;33m\u001b[0m\u001b[0m\n\u001b[0;32m    279\u001b[0m     \u001b[1;32mdef\u001b[0m \u001b[0m_read_status\u001b[0m\u001b[1;33m(\u001b[0m\u001b[0mself\u001b[0m\u001b[1;33m)\u001b[0m\u001b[1;33m:\u001b[0m\u001b[1;33m\u001b[0m\u001b[1;33m\u001b[0m\u001b[0m\n\u001b[1;32m--> 280\u001b[1;33m         \u001b[0mline\u001b[0m \u001b[1;33m=\u001b[0m \u001b[0mstr\u001b[0m\u001b[1;33m(\u001b[0m\u001b[0mself\u001b[0m\u001b[1;33m.\u001b[0m\u001b[0mfp\u001b[0m\u001b[1;33m.\u001b[0m\u001b[0mreadline\u001b[0m\u001b[1;33m(\u001b[0m\u001b[0m_MAXLINE\u001b[0m \u001b[1;33m+\u001b[0m \u001b[1;36m1\u001b[0m\u001b[1;33m)\u001b[0m\u001b[1;33m,\u001b[0m \u001b[1;34m\"iso-8859-1\"\u001b[0m\u001b[1;33m)\u001b[0m\u001b[1;33m\u001b[0m\u001b[1;33m\u001b[0m\u001b[0m\n\u001b[0m\u001b[0;32m    281\u001b[0m         \u001b[1;32mif\u001b[0m \u001b[0mlen\u001b[0m\u001b[1;33m(\u001b[0m\u001b[0mline\u001b[0m\u001b[1;33m)\u001b[0m \u001b[1;33m>\u001b[0m \u001b[0m_MAXLINE\u001b[0m\u001b[1;33m:\u001b[0m\u001b[1;33m\u001b[0m\u001b[1;33m\u001b[0m\u001b[0m\n\u001b[0;32m    282\u001b[0m             \u001b[1;32mraise\u001b[0m \u001b[0mLineTooLong\u001b[0m\u001b[1;33m(\u001b[0m\u001b[1;34m\"status line\"\u001b[0m\u001b[1;33m)\u001b[0m\u001b[1;33m\u001b[0m\u001b[1;33m\u001b[0m\u001b[0m\n",
      "\u001b[1;32mc:\\Users\\SOURJYA\\anaconda3\\lib\\socket.py\u001b[0m in \u001b[0;36mreadinto\u001b[1;34m(self, b)\u001b[0m\n\u001b[0;32m    587\u001b[0m         \u001b[1;32mwhile\u001b[0m \u001b[1;32mTrue\u001b[0m\u001b[1;33m:\u001b[0m\u001b[1;33m\u001b[0m\u001b[1;33m\u001b[0m\u001b[0m\n\u001b[0;32m    588\u001b[0m             \u001b[1;32mtry\u001b[0m\u001b[1;33m:\u001b[0m\u001b[1;33m\u001b[0m\u001b[1;33m\u001b[0m\u001b[0m\n\u001b[1;32m--> 589\u001b[1;33m                 \u001b[1;32mreturn\u001b[0m \u001b[0mself\u001b[0m\u001b[1;33m.\u001b[0m\u001b[0m_sock\u001b[0m\u001b[1;33m.\u001b[0m\u001b[0mrecv_into\u001b[0m\u001b[1;33m(\u001b[0m\u001b[0mb\u001b[0m\u001b[1;33m)\u001b[0m\u001b[1;33m\u001b[0m\u001b[1;33m\u001b[0m\u001b[0m\n\u001b[0m\u001b[0;32m    590\u001b[0m             \u001b[1;32mexcept\u001b[0m \u001b[0mtimeout\u001b[0m\u001b[1;33m:\u001b[0m\u001b[1;33m\u001b[0m\u001b[1;33m\u001b[0m\u001b[0m\n\u001b[0;32m    591\u001b[0m                 \u001b[0mself\u001b[0m\u001b[1;33m.\u001b[0m\u001b[0m_timeout_occurred\u001b[0m \u001b[1;33m=\u001b[0m \u001b[1;32mTrue\u001b[0m\u001b[1;33m\u001b[0m\u001b[1;33m\u001b[0m\u001b[0m\n",
      "\u001b[1;31mProtocolError\u001b[0m: ('Connection aborted.', ConnectionResetError(10054, 'An existing connection was forcibly closed by the remote host', None, 10054, None))"
     ]
    }
   ],
   "source": [
    "driver = webdriver.Chrome(options=options1)\n",
    "driver.maximize_window()\n",
    "price1='//*[@id=\"corePriceDisplay_desktop_feature_div\"]/div[2]/span/span[1]/span/span'\n",
    "price2='//*[@id=\"corePriceDisplay_desktop_feature_div\"]/div[1]/span[2]/span[2]/span[2]'\n",
    "qty='//*[@id=\"detailBullets_feature_div\"]'\n",
    "packz='//*[@id=\"inline-twister-expanded-dimension-text-size_name\"]'\n",
    "for i,x in enumerate(urls):\n",
    "    url='https://amazon.in/dp/'+x\n",
    "    Name=names[i]\n",
    "    driver.get(url)\n",
    "    time.sleep(5);\n",
    "#    WebDriverWait(driver, 10).until(EC.visibility_of_all_elements_located((By.XPATH, packz)))\n",
    "\n",
    "    try:\n",
    "        MRP = driver.find_element(By.XPATH, price1).text\n",
    "        Price =driver.find_element(By.XPATH, price2).text\n",
    "        Pack_Size =driver.find_element(By.XPATH, packz).text\n",
    "        Netq = next(line.split(':')[1] for line in driver.find_element(By.XPATH, qty).text.split(\"\\n\") if \"Net Q\" in line)\n",
    "    except:\n",
    "        MRP = driver.find_element(By.XPATH, '//*[@id=\"corePrice_desktop\"]/div/table/tbody/tr[1]/td[2]/span[1]/span[1]').text\n",
    "        Price =driver.find_element(By.XPATH, '//*[@id=\"corePrice_desktop\"]/div/table/tbody/tr[2]/td[2]/span[1]/span[1]').text\n",
    "        Pack_Size='1'\n",
    "        pass\n",
    "\n",
    "    \n",
    "    print(MRP,Price,Pack_Size,Netq,Name)\n"
   ]
  },
  {
   "cell_type": "code",
   "execution_count": 37,
   "metadata": {},
   "outputs": [
    {
     "ename": "AttributeError",
     "evalue": "module 'pandas' has no attribute 'Dataframe'",
     "output_type": "error",
     "traceback": [
      "\u001b[1;31m---------------------------------------------------------------------------\u001b[0m",
      "\u001b[1;31mAttributeError\u001b[0m                            Traceback (most recent call last)",
      "\u001b[1;32m<ipython-input-37-22309053190c>\u001b[0m in \u001b[0;36m<module>\u001b[1;34m\u001b[0m\n\u001b[1;32m----> 1\u001b[1;33m \u001b[0mpd\u001b[0m\u001b[1;33m.\u001b[0m\u001b[0mDataframe\u001b[0m\u001b[1;33m(\u001b[0m\u001b[1;33m[\u001b[0m\u001b[1;34m\"Name\"\u001b[0m\u001b[1;33m,\u001b[0m\u001b[1;34m\"ASIN\"\u001b[0m\u001b[1;33m,\u001b[0m\u001b[1;34m\"Price\"\u001b[0m\u001b[1;33m,\u001b[0m\u001b[1;34m\"MRP\"\u001b[0m\u001b[1;33m,\u001b[0m\u001b[1;34m\"Pack Size\"\u001b[0m\u001b[1;33m,\u001b[0m\u001b[1;34m\"Net Quantity\"\u001b[0m\u001b[1;33m,\u001b[0m\u001b[1;34m\"B.S.R\"\u001b[0m\u001b[1;33m]\u001b[0m\u001b[1;33m)\u001b[0m\u001b[1;33m\u001b[0m\u001b[1;33m\u001b[0m\u001b[0m\n\u001b[0m",
      "\u001b[1;32mc:\\Users\\SOURJYA\\anaconda3\\lib\\site-packages\\pandas\\__init__.py\u001b[0m in \u001b[0;36m__getattr__\u001b[1;34m(name)\u001b[0m\n\u001b[0;32m    242\u001b[0m         \u001b[1;32mreturn\u001b[0m \u001b[0m_SparseArray\u001b[0m\u001b[1;33m\u001b[0m\u001b[1;33m\u001b[0m\u001b[0m\n\u001b[0;32m    243\u001b[0m \u001b[1;33m\u001b[0m\u001b[0m\n\u001b[1;32m--> 244\u001b[1;33m     \u001b[1;32mraise\u001b[0m \u001b[0mAttributeError\u001b[0m\u001b[1;33m(\u001b[0m\u001b[1;34mf\"module 'pandas' has no attribute '{name}'\"\u001b[0m\u001b[1;33m)\u001b[0m\u001b[1;33m\u001b[0m\u001b[1;33m\u001b[0m\u001b[0m\n\u001b[0m\u001b[0;32m    245\u001b[0m \u001b[1;33m\u001b[0m\u001b[0m\n\u001b[0;32m    246\u001b[0m \u001b[1;33m\u001b[0m\u001b[0m\n",
      "\u001b[1;31mAttributeError\u001b[0m: module 'pandas' has no attribute 'Dataframe'"
     ]
    }
   ],
   "source": [
    "pd.Dataframe([\"Name\",\"ASIN\",\"Price\",\"MRP\",\"Pack Size\",\"Net Quantity\",\"B.S.R\"])"
   ]
  },
  {
   "cell_type": "code",
   "execution_count": 38,
   "metadata": {},
   "outputs": [
    {
     "data": {
      "text/html": [
       "<div>\n",
       "<style scoped>\n",
       "    .dataframe tbody tr th:only-of-type {\n",
       "        vertical-align: middle;\n",
       "    }\n",
       "\n",
       "    .dataframe tbody tr th {\n",
       "        vertical-align: top;\n",
       "    }\n",
       "\n",
       "    .dataframe thead th {\n",
       "        text-align: right;\n",
       "    }\n",
       "</style>\n",
       "<table border=\"1\" class=\"dataframe\">\n",
       "  <thead>\n",
       "    <tr style=\"text-align: right;\">\n",
       "      <th></th>\n",
       "      <th>0</th>\n",
       "    </tr>\n",
       "  </thead>\n",
       "  <tbody>\n",
       "    <tr>\n",
       "      <th>0</th>\n",
       "      <td>Name</td>\n",
       "    </tr>\n",
       "    <tr>\n",
       "      <th>1</th>\n",
       "      <td>ASIN</td>\n",
       "    </tr>\n",
       "    <tr>\n",
       "      <th>2</th>\n",
       "      <td>Price</td>\n",
       "    </tr>\n",
       "    <tr>\n",
       "      <th>3</th>\n",
       "      <td>MRP</td>\n",
       "    </tr>\n",
       "    <tr>\n",
       "      <th>4</th>\n",
       "      <td>Pack Size</td>\n",
       "    </tr>\n",
       "    <tr>\n",
       "      <th>5</th>\n",
       "      <td>Net Quantity</td>\n",
       "    </tr>\n",
       "    <tr>\n",
       "      <th>6</th>\n",
       "      <td>B.S.R</td>\n",
       "    </tr>\n",
       "  </tbody>\n",
       "</table>\n",
       "</div>"
      ],
      "text/plain": [
       "              0\n",
       "0          Name\n",
       "1          ASIN\n",
       "2         Price\n",
       "3           MRP\n",
       "4     Pack Size\n",
       "5  Net Quantity\n",
       "6         B.S.R"
      ]
     },
     "execution_count": 38,
     "metadata": {},
     "output_type": "execute_result"
    }
   ],
   "source": [
    "pd.DataFrame([\"Name\",\"ASIN\",\"Price\",\"MRP\",\"Pack Size\",\"Net Quantity\",\"B.S.R\"])"
   ]
  },
  {
   "cell_type": "code",
   "execution_count": 39,
   "metadata": {},
   "outputs": [
    {
     "data": {
      "text/html": [
       "<div>\n",
       "<style scoped>\n",
       "    .dataframe tbody tr th:only-of-type {\n",
       "        vertical-align: middle;\n",
       "    }\n",
       "\n",
       "    .dataframe tbody tr th {\n",
       "        vertical-align: top;\n",
       "    }\n",
       "\n",
       "    .dataframe thead th {\n",
       "        text-align: right;\n",
       "    }\n",
       "</style>\n",
       "<table border=\"1\" class=\"dataframe\">\n",
       "  <thead>\n",
       "    <tr style=\"text-align: right;\">\n",
       "      <th></th>\n",
       "      <th>Name</th>\n",
       "      <th>ASIN</th>\n",
       "      <th>Price</th>\n",
       "      <th>MRP</th>\n",
       "      <th>Pack Size</th>\n",
       "      <th>Net Quantity</th>\n",
       "      <th>B.S.R</th>\n",
       "    </tr>\n",
       "  </thead>\n",
       "  <tbody>\n",
       "  </tbody>\n",
       "</table>\n",
       "</div>"
      ],
      "text/plain": [
       "Empty DataFrame\n",
       "Columns: [Name, ASIN, Price, MRP, Pack Size, Net Quantity, B.S.R]\n",
       "Index: []"
      ]
     },
     "execution_count": 39,
     "metadata": {},
     "output_type": "execute_result"
    }
   ],
   "source": [
    "pd.DataFrame(columns=[\"Name\",\"ASIN\",\"Price\",\"MRP\",\"Pack Size\",\"Net Quantity\",\"B.S.R\"])"
   ]
  },
  {
   "cell_type": "code",
   "execution_count": 40,
   "metadata": {},
   "outputs": [],
   "source": [
    "Data1=pd.DataFrame(columns=[\"Name\",\"ASIN\",\"Price\",\"MRP\",\"Pack Size\",\"Net Quantity\",\"B.S.R\"])"
   ]
  },
  {
   "cell_type": "code",
   "execution_count": 41,
   "metadata": {},
   "outputs": [
    {
     "ename": "TypeError",
     "evalue": "Can only append a dict if ignore_index=True",
     "output_type": "error",
     "traceback": [
      "\u001b[1;31m---------------------------------------------------------------------------\u001b[0m",
      "\u001b[1;31mTypeError\u001b[0m                                 Traceback (most recent call last)",
      "\u001b[1;32m<ipython-input-41-49d955fdef28>\u001b[0m in \u001b[0;36m<module>\u001b[1;34m\u001b[0m\n\u001b[0;32m     23\u001b[0m         \u001b[1;32mpass\u001b[0m\u001b[1;33m\u001b[0m\u001b[1;33m\u001b[0m\u001b[0m\n\u001b[0;32m     24\u001b[0m \u001b[1;33m\u001b[0m\u001b[0m\n\u001b[1;32m---> 25\u001b[1;33m     \u001b[0mData1\u001b[0m\u001b[1;33m.\u001b[0m\u001b[0mappend\u001b[0m\u001b[1;33m(\u001b[0m\u001b[1;33m{\u001b[0m\u001b[1;34m\"Price\"\u001b[0m\u001b[1;33m:\u001b[0m\u001b[0mPrice\u001b[0m\u001b[1;33m,\u001b[0m\u001b[1;34m\"MRP\"\u001b[0m\u001b[1;33m:\u001b[0m\u001b[0mMRP\u001b[0m\u001b[1;33m,\u001b[0m\u001b[1;34m\"Pack Size\"\u001b[0m\u001b[1;33m:\u001b[0m \u001b[0mPack_Size\u001b[0m\u001b[1;33m,\u001b[0m\u001b[1;34m\"Name\"\u001b[0m\u001b[1;33m:\u001b[0m\u001b[0mName\u001b[0m\u001b[1;33m,\u001b[0m\u001b[1;34m\"ASIN\"\u001b[0m\u001b[1;33m:\u001b[0m\u001b[0mx\u001b[0m\u001b[1;33m,\u001b[0m\u001b[1;34m\"Net Quantity\"\u001b[0m\u001b[1;33m:\u001b[0m\u001b[0mNetq\u001b[0m\u001b[1;33m,\u001b[0m\u001b[1;34m\"B.S.R\"\u001b[0m\u001b[1;33m:\u001b[0m\u001b[0mi\u001b[0m\u001b[1;33m}\u001b[0m\u001b[1;33m)\u001b[0m\u001b[1;33m\u001b[0m\u001b[1;33m\u001b[0m\u001b[0m\n\u001b[0m\u001b[0;32m     26\u001b[0m     \u001b[0mprint\u001b[0m\u001b[1;33m(\u001b[0m\u001b[0mMRP\u001b[0m\u001b[1;33m,\u001b[0m\u001b[0mPrice\u001b[0m\u001b[1;33m,\u001b[0m\u001b[0mPack_Size\u001b[0m\u001b[1;33m,\u001b[0m\u001b[0mNetq\u001b[0m\u001b[1;33m,\u001b[0m\u001b[0mName\u001b[0m\u001b[1;33m)\u001b[0m\u001b[1;33m\u001b[0m\u001b[1;33m\u001b[0m\u001b[0m\n",
      "\u001b[1;32mc:\\Users\\SOURJYA\\anaconda3\\lib\\site-packages\\pandas\\core\\frame.py\u001b[0m in \u001b[0;36mappend\u001b[1;34m(self, other, ignore_index, verify_integrity, sort)\u001b[0m\n\u001b[0;32m   8929\u001b[0m             \u001b[1;32mif\u001b[0m \u001b[0misinstance\u001b[0m\u001b[1;33m(\u001b[0m\u001b[0mother\u001b[0m\u001b[1;33m,\u001b[0m \u001b[0mdict\u001b[0m\u001b[1;33m)\u001b[0m\u001b[1;33m:\u001b[0m\u001b[1;33m\u001b[0m\u001b[1;33m\u001b[0m\u001b[0m\n\u001b[0;32m   8930\u001b[0m                 \u001b[1;32mif\u001b[0m \u001b[1;32mnot\u001b[0m \u001b[0mignore_index\u001b[0m\u001b[1;33m:\u001b[0m\u001b[1;33m\u001b[0m\u001b[1;33m\u001b[0m\u001b[0m\n\u001b[1;32m-> 8931\u001b[1;33m                     \u001b[1;32mraise\u001b[0m \u001b[0mTypeError\u001b[0m\u001b[1;33m(\u001b[0m\u001b[1;34m\"Can only append a dict if ignore_index=True\"\u001b[0m\u001b[1;33m)\u001b[0m\u001b[1;33m\u001b[0m\u001b[1;33m\u001b[0m\u001b[0m\n\u001b[0m\u001b[0;32m   8932\u001b[0m                 \u001b[0mother\u001b[0m \u001b[1;33m=\u001b[0m \u001b[0mSeries\u001b[0m\u001b[1;33m(\u001b[0m\u001b[0mother\u001b[0m\u001b[1;33m)\u001b[0m\u001b[1;33m\u001b[0m\u001b[1;33m\u001b[0m\u001b[0m\n\u001b[0;32m   8933\u001b[0m             \u001b[1;32mif\u001b[0m \u001b[0mother\u001b[0m\u001b[1;33m.\u001b[0m\u001b[0mname\u001b[0m \u001b[1;32mis\u001b[0m \u001b[1;32mNone\u001b[0m \u001b[1;32mand\u001b[0m \u001b[1;32mnot\u001b[0m \u001b[0mignore_index\u001b[0m\u001b[1;33m:\u001b[0m\u001b[1;33m\u001b[0m\u001b[1;33m\u001b[0m\u001b[0m\n",
      "\u001b[1;31mTypeError\u001b[0m: Can only append a dict if ignore_index=True"
     ]
    }
   ],
   "source": [
    "driver = webdriver.Chrome(options=options1)\n",
    "driver.maximize_window()\n",
    "price1='//*[@id=\"corePriceDisplay_desktop_feature_div\"]/div[2]/span/span[1]/span/span'\n",
    "price2='//*[@id=\"corePriceDisplay_desktop_feature_div\"]/div[1]/span[2]/span[2]/span[2]'\n",
    "qty='//*[@id=\"detailBullets_feature_div\"]'\n",
    "packz='//*[@id=\"inline-twister-expanded-dimension-text-size_name\"]'\n",
    "for i,x in enumerate(urls):\n",
    "    url='https://amazon.in/dp/'+x\n",
    "    Name=names[i]\n",
    "    driver.get(url)\n",
    "    time.sleep(5);\n",
    "#    WebDriverWait(driver, 10).until(EC.visibility_of_all_elements_located((By.XPATH, packz)))\n",
    "\n",
    "    try:\n",
    "        MRP = driver.find_element(By.XPATH, price1).text\n",
    "        Price =driver.find_element(By.XPATH, price2).text\n",
    "        Pack_Size =driver.find_element(By.XPATH, packz).text\n",
    "        Netq = next(line.split(':')[1] for line in driver.find_element(By.XPATH, qty).text.split(\"\\n\") if \"Net Q\" in line)\n",
    "    except:\n",
    "        MRP = driver.find_element(By.XPATH, '//*[@id=\"corePrice_desktop\"]/div/table/tbody/tr[1]/td[2]/span[1]/span[1]').text\n",
    "        Price =driver.find_element(By.XPATH, '//*[@id=\"corePrice_desktop\"]/div/table/tbody/tr[2]/td[2]/span[1]/span[1]').text\n",
    "        Pack_Size='1'\n",
    "        pass\n",
    "\n",
    "    Data1.append({\"Price\":Price,\"MRP\":MRP,\"Pack Size\": Pack_Size,\"Name\":Name,\"ASIN\":x,\"Net Quantity\":Netq,\"B.S.R\":i})\n",
    "    print(MRP,Price,Pack_Size,Netq,Name)\n"
   ]
  },
  {
   "cell_type": "code",
   "execution_count": 42,
   "metadata": {},
   "outputs": [
    {
     "ename": "NoSuchElementException",
     "evalue": "Message: no such element: Unable to locate element: {\"method\":\"xpath\",\"selector\":\"//*[@id=\"corePrice_desktop\"]/div/table/tbody/tr[1]/td[2]/span[1]/span[1]\"}\n  (Session info: chrome=114.0.5735.248)\n",
     "output_type": "error",
     "traceback": [
      "\u001b[1;31m---------------------------------------------------------------------------\u001b[0m",
      "\u001b[1;31mNoSuchElementException\u001b[0m                    Traceback (most recent call last)",
      "\u001b[1;32m<ipython-input-42-854dd2b213b8>\u001b[0m in \u001b[0;36m<module>\u001b[1;34m\u001b[0m\n\u001b[0;32m     16\u001b[0m         \u001b[0mPrice\u001b[0m \u001b[1;33m=\u001b[0m\u001b[0mdriver\u001b[0m\u001b[1;33m.\u001b[0m\u001b[0mfind_element\u001b[0m\u001b[1;33m(\u001b[0m\u001b[0mBy\u001b[0m\u001b[1;33m.\u001b[0m\u001b[0mXPATH\u001b[0m\u001b[1;33m,\u001b[0m \u001b[0mprice2\u001b[0m\u001b[1;33m)\u001b[0m\u001b[1;33m.\u001b[0m\u001b[0mtext\u001b[0m\u001b[1;33m\u001b[0m\u001b[1;33m\u001b[0m\u001b[0m\n\u001b[1;32m---> 17\u001b[1;33m         \u001b[0mPack_Size\u001b[0m \u001b[1;33m=\u001b[0m\u001b[0mdriver\u001b[0m\u001b[1;33m.\u001b[0m\u001b[0mfind_element\u001b[0m\u001b[1;33m(\u001b[0m\u001b[0mBy\u001b[0m\u001b[1;33m.\u001b[0m\u001b[0mXPATH\u001b[0m\u001b[1;33m,\u001b[0m \u001b[0mpackz\u001b[0m\u001b[1;33m)\u001b[0m\u001b[1;33m.\u001b[0m\u001b[0mtext\u001b[0m\u001b[1;33m\u001b[0m\u001b[1;33m\u001b[0m\u001b[0m\n\u001b[0m\u001b[0;32m     18\u001b[0m         \u001b[0mNetq\u001b[0m \u001b[1;33m=\u001b[0m \u001b[0mnext\u001b[0m\u001b[1;33m(\u001b[0m\u001b[0mline\u001b[0m\u001b[1;33m.\u001b[0m\u001b[0msplit\u001b[0m\u001b[1;33m(\u001b[0m\u001b[1;34m':'\u001b[0m\u001b[1;33m)\u001b[0m\u001b[1;33m[\u001b[0m\u001b[1;36m1\u001b[0m\u001b[1;33m]\u001b[0m \u001b[1;32mfor\u001b[0m \u001b[0mline\u001b[0m \u001b[1;32min\u001b[0m \u001b[0mdriver\u001b[0m\u001b[1;33m.\u001b[0m\u001b[0mfind_element\u001b[0m\u001b[1;33m(\u001b[0m\u001b[0mBy\u001b[0m\u001b[1;33m.\u001b[0m\u001b[0mXPATH\u001b[0m\u001b[1;33m,\u001b[0m \u001b[0mqty\u001b[0m\u001b[1;33m)\u001b[0m\u001b[1;33m.\u001b[0m\u001b[0mtext\u001b[0m\u001b[1;33m.\u001b[0m\u001b[0msplit\u001b[0m\u001b[1;33m(\u001b[0m\u001b[1;34m\"\\n\"\u001b[0m\u001b[1;33m)\u001b[0m \u001b[1;32mif\u001b[0m \u001b[1;34m\"Net Q\"\u001b[0m \u001b[1;32min\u001b[0m \u001b[0mline\u001b[0m\u001b[1;33m)\u001b[0m\u001b[1;33m\u001b[0m\u001b[1;33m\u001b[0m\u001b[0m\n",
      "\u001b[1;32mc:\\Users\\SOURJYA\\anaconda3\\lib\\site-packages\\selenium\\webdriver\\remote\\webdriver.py\u001b[0m in \u001b[0;36mfind_element\u001b[1;34m(self, by, value)\u001b[0m\n\u001b[0;32m    977\u001b[0m             \u001b[1;34m'using'\u001b[0m\u001b[1;33m:\u001b[0m \u001b[0mby\u001b[0m\u001b[1;33m,\u001b[0m\u001b[1;33m\u001b[0m\u001b[1;33m\u001b[0m\u001b[0m\n\u001b[1;32m--> 978\u001b[1;33m             'value': value})['value']\n\u001b[0m\u001b[0;32m    979\u001b[0m \u001b[1;33m\u001b[0m\u001b[0m\n",
      "\u001b[1;32mc:\\Users\\SOURJYA\\anaconda3\\lib\\site-packages\\selenium\\webdriver\\remote\\webdriver.py\u001b[0m in \u001b[0;36mexecute\u001b[1;34m(self, driver_command, params)\u001b[0m\n\u001b[0;32m    320\u001b[0m         \u001b[1;32mif\u001b[0m \u001b[0mresponse\u001b[0m\u001b[1;33m:\u001b[0m\u001b[1;33m\u001b[0m\u001b[1;33m\u001b[0m\u001b[0m\n\u001b[1;32m--> 321\u001b[1;33m             \u001b[0mself\u001b[0m\u001b[1;33m.\u001b[0m\u001b[0merror_handler\u001b[0m\u001b[1;33m.\u001b[0m\u001b[0mcheck_response\u001b[0m\u001b[1;33m(\u001b[0m\u001b[0mresponse\u001b[0m\u001b[1;33m)\u001b[0m\u001b[1;33m\u001b[0m\u001b[1;33m\u001b[0m\u001b[0m\n\u001b[0m\u001b[0;32m    322\u001b[0m             response['value'] = self._unwrap_value(\n",
      "\u001b[1;32mc:\\Users\\SOURJYA\\anaconda3\\lib\\site-packages\\selenium\\webdriver\\remote\\errorhandler.py\u001b[0m in \u001b[0;36mcheck_response\u001b[1;34m(self, response)\u001b[0m\n\u001b[0;32m    241\u001b[0m             \u001b[1;32mraise\u001b[0m \u001b[0mexception_class\u001b[0m\u001b[1;33m(\u001b[0m\u001b[0mmessage\u001b[0m\u001b[1;33m,\u001b[0m \u001b[0mscreen\u001b[0m\u001b[1;33m,\u001b[0m \u001b[0mstacktrace\u001b[0m\u001b[1;33m,\u001b[0m \u001b[0malert_text\u001b[0m\u001b[1;33m)\u001b[0m\u001b[1;33m\u001b[0m\u001b[1;33m\u001b[0m\u001b[0m\n\u001b[1;32m--> 242\u001b[1;33m         \u001b[1;32mraise\u001b[0m \u001b[0mexception_class\u001b[0m\u001b[1;33m(\u001b[0m\u001b[0mmessage\u001b[0m\u001b[1;33m,\u001b[0m \u001b[0mscreen\u001b[0m\u001b[1;33m,\u001b[0m \u001b[0mstacktrace\u001b[0m\u001b[1;33m)\u001b[0m\u001b[1;33m\u001b[0m\u001b[1;33m\u001b[0m\u001b[0m\n\u001b[0m\u001b[0;32m    243\u001b[0m \u001b[1;33m\u001b[0m\u001b[0m\n",
      "\u001b[1;31mNoSuchElementException\u001b[0m: Message: no such element: Unable to locate element: {\"method\":\"xpath\",\"selector\":\"//*[@id=\"inline-twister-expanded-dimension-text-size_name\"]\"}\n  (Session info: chrome=114.0.5735.248)\n",
      "\nDuring handling of the above exception, another exception occurred:\n",
      "\u001b[1;31mNoSuchElementException\u001b[0m                    Traceback (most recent call last)",
      "\u001b[1;32m<ipython-input-42-854dd2b213b8>\u001b[0m in \u001b[0;36m<module>\u001b[1;34m\u001b[0m\n\u001b[0;32m     18\u001b[0m         \u001b[0mNetq\u001b[0m \u001b[1;33m=\u001b[0m \u001b[0mnext\u001b[0m\u001b[1;33m(\u001b[0m\u001b[0mline\u001b[0m\u001b[1;33m.\u001b[0m\u001b[0msplit\u001b[0m\u001b[1;33m(\u001b[0m\u001b[1;34m':'\u001b[0m\u001b[1;33m)\u001b[0m\u001b[1;33m[\u001b[0m\u001b[1;36m1\u001b[0m\u001b[1;33m]\u001b[0m \u001b[1;32mfor\u001b[0m \u001b[0mline\u001b[0m \u001b[1;32min\u001b[0m \u001b[0mdriver\u001b[0m\u001b[1;33m.\u001b[0m\u001b[0mfind_element\u001b[0m\u001b[1;33m(\u001b[0m\u001b[0mBy\u001b[0m\u001b[1;33m.\u001b[0m\u001b[0mXPATH\u001b[0m\u001b[1;33m,\u001b[0m \u001b[0mqty\u001b[0m\u001b[1;33m)\u001b[0m\u001b[1;33m.\u001b[0m\u001b[0mtext\u001b[0m\u001b[1;33m.\u001b[0m\u001b[0msplit\u001b[0m\u001b[1;33m(\u001b[0m\u001b[1;34m\"\\n\"\u001b[0m\u001b[1;33m)\u001b[0m \u001b[1;32mif\u001b[0m \u001b[1;34m\"Net Q\"\u001b[0m \u001b[1;32min\u001b[0m \u001b[0mline\u001b[0m\u001b[1;33m)\u001b[0m\u001b[1;33m\u001b[0m\u001b[1;33m\u001b[0m\u001b[0m\n\u001b[0;32m     19\u001b[0m     \u001b[1;32mexcept\u001b[0m\u001b[1;33m:\u001b[0m\u001b[1;33m\u001b[0m\u001b[1;33m\u001b[0m\u001b[0m\n\u001b[1;32m---> 20\u001b[1;33m         \u001b[0mMRP\u001b[0m \u001b[1;33m=\u001b[0m \u001b[0mdriver\u001b[0m\u001b[1;33m.\u001b[0m\u001b[0mfind_element\u001b[0m\u001b[1;33m(\u001b[0m\u001b[0mBy\u001b[0m\u001b[1;33m.\u001b[0m\u001b[0mXPATH\u001b[0m\u001b[1;33m,\u001b[0m \u001b[1;34m'//*[@id=\"corePrice_desktop\"]/div/table/tbody/tr[1]/td[2]/span[1]/span[1]'\u001b[0m\u001b[1;33m)\u001b[0m\u001b[1;33m.\u001b[0m\u001b[0mtext\u001b[0m\u001b[1;33m\u001b[0m\u001b[1;33m\u001b[0m\u001b[0m\n\u001b[0m\u001b[0;32m     21\u001b[0m         \u001b[0mPrice\u001b[0m \u001b[1;33m=\u001b[0m\u001b[0mdriver\u001b[0m\u001b[1;33m.\u001b[0m\u001b[0mfind_element\u001b[0m\u001b[1;33m(\u001b[0m\u001b[0mBy\u001b[0m\u001b[1;33m.\u001b[0m\u001b[0mXPATH\u001b[0m\u001b[1;33m,\u001b[0m \u001b[1;34m'//*[@id=\"corePrice_desktop\"]/div/table/tbody/tr[2]/td[2]/span[1]/span[1]'\u001b[0m\u001b[1;33m)\u001b[0m\u001b[1;33m.\u001b[0m\u001b[0mtext\u001b[0m\u001b[1;33m\u001b[0m\u001b[1;33m\u001b[0m\u001b[0m\n\u001b[0;32m     22\u001b[0m         \u001b[0mPack_Size\u001b[0m\u001b[1;33m=\u001b[0m\u001b[1;34m'1'\u001b[0m\u001b[1;33m\u001b[0m\u001b[1;33m\u001b[0m\u001b[0m\n",
      "\u001b[1;32mc:\\Users\\SOURJYA\\anaconda3\\lib\\site-packages\\selenium\\webdriver\\remote\\webdriver.py\u001b[0m in \u001b[0;36mfind_element\u001b[1;34m(self, by, value)\u001b[0m\n\u001b[0;32m    976\u001b[0m         return self.execute(Command.FIND_ELEMENT, {\n\u001b[0;32m    977\u001b[0m             \u001b[1;34m'using'\u001b[0m\u001b[1;33m:\u001b[0m \u001b[0mby\u001b[0m\u001b[1;33m,\u001b[0m\u001b[1;33m\u001b[0m\u001b[1;33m\u001b[0m\u001b[0m\n\u001b[1;32m--> 978\u001b[1;33m             'value': value})['value']\n\u001b[0m\u001b[0;32m    979\u001b[0m \u001b[1;33m\u001b[0m\u001b[0m\n\u001b[0;32m    980\u001b[0m     \u001b[1;32mdef\u001b[0m \u001b[0mfind_elements\u001b[0m\u001b[1;33m(\u001b[0m\u001b[0mself\u001b[0m\u001b[1;33m,\u001b[0m \u001b[0mby\u001b[0m\u001b[1;33m=\u001b[0m\u001b[0mBy\u001b[0m\u001b[1;33m.\u001b[0m\u001b[0mID\u001b[0m\u001b[1;33m,\u001b[0m \u001b[0mvalue\u001b[0m\u001b[1;33m=\u001b[0m\u001b[1;32mNone\u001b[0m\u001b[1;33m)\u001b[0m\u001b[1;33m:\u001b[0m\u001b[1;33m\u001b[0m\u001b[1;33m\u001b[0m\u001b[0m\n",
      "\u001b[1;32mc:\\Users\\SOURJYA\\anaconda3\\lib\\site-packages\\selenium\\webdriver\\remote\\webdriver.py\u001b[0m in \u001b[0;36mexecute\u001b[1;34m(self, driver_command, params)\u001b[0m\n\u001b[0;32m    319\u001b[0m         \u001b[0mresponse\u001b[0m \u001b[1;33m=\u001b[0m \u001b[0mself\u001b[0m\u001b[1;33m.\u001b[0m\u001b[0mcommand_executor\u001b[0m\u001b[1;33m.\u001b[0m\u001b[0mexecute\u001b[0m\u001b[1;33m(\u001b[0m\u001b[0mdriver_command\u001b[0m\u001b[1;33m,\u001b[0m \u001b[0mparams\u001b[0m\u001b[1;33m)\u001b[0m\u001b[1;33m\u001b[0m\u001b[1;33m\u001b[0m\u001b[0m\n\u001b[0;32m    320\u001b[0m         \u001b[1;32mif\u001b[0m \u001b[0mresponse\u001b[0m\u001b[1;33m:\u001b[0m\u001b[1;33m\u001b[0m\u001b[1;33m\u001b[0m\u001b[0m\n\u001b[1;32m--> 321\u001b[1;33m             \u001b[0mself\u001b[0m\u001b[1;33m.\u001b[0m\u001b[0merror_handler\u001b[0m\u001b[1;33m.\u001b[0m\u001b[0mcheck_response\u001b[0m\u001b[1;33m(\u001b[0m\u001b[0mresponse\u001b[0m\u001b[1;33m)\u001b[0m\u001b[1;33m\u001b[0m\u001b[1;33m\u001b[0m\u001b[0m\n\u001b[0m\u001b[0;32m    322\u001b[0m             response['value'] = self._unwrap_value(\n\u001b[0;32m    323\u001b[0m                 response.get('value', None))\n",
      "\u001b[1;32mc:\\Users\\SOURJYA\\anaconda3\\lib\\site-packages\\selenium\\webdriver\\remote\\errorhandler.py\u001b[0m in \u001b[0;36mcheck_response\u001b[1;34m(self, response)\u001b[0m\n\u001b[0;32m    240\u001b[0m                 \u001b[0malert_text\u001b[0m \u001b[1;33m=\u001b[0m \u001b[0mvalue\u001b[0m\u001b[1;33m[\u001b[0m\u001b[1;34m'alert'\u001b[0m\u001b[1;33m]\u001b[0m\u001b[1;33m.\u001b[0m\u001b[0mget\u001b[0m\u001b[1;33m(\u001b[0m\u001b[1;34m'text'\u001b[0m\u001b[1;33m)\u001b[0m\u001b[1;33m\u001b[0m\u001b[1;33m\u001b[0m\u001b[0m\n\u001b[0;32m    241\u001b[0m             \u001b[1;32mraise\u001b[0m \u001b[0mexception_class\u001b[0m\u001b[1;33m(\u001b[0m\u001b[0mmessage\u001b[0m\u001b[1;33m,\u001b[0m \u001b[0mscreen\u001b[0m\u001b[1;33m,\u001b[0m \u001b[0mstacktrace\u001b[0m\u001b[1;33m,\u001b[0m \u001b[0malert_text\u001b[0m\u001b[1;33m)\u001b[0m\u001b[1;33m\u001b[0m\u001b[1;33m\u001b[0m\u001b[0m\n\u001b[1;32m--> 242\u001b[1;33m         \u001b[1;32mraise\u001b[0m \u001b[0mexception_class\u001b[0m\u001b[1;33m(\u001b[0m\u001b[0mmessage\u001b[0m\u001b[1;33m,\u001b[0m \u001b[0mscreen\u001b[0m\u001b[1;33m,\u001b[0m \u001b[0mstacktrace\u001b[0m\u001b[1;33m)\u001b[0m\u001b[1;33m\u001b[0m\u001b[1;33m\u001b[0m\u001b[0m\n\u001b[0m\u001b[0;32m    243\u001b[0m \u001b[1;33m\u001b[0m\u001b[0m\n\u001b[0;32m    244\u001b[0m     \u001b[1;32mdef\u001b[0m \u001b[0m_value_or_default\u001b[0m\u001b[1;33m(\u001b[0m\u001b[0mself\u001b[0m\u001b[1;33m,\u001b[0m \u001b[0mobj\u001b[0m\u001b[1;33m,\u001b[0m \u001b[0mkey\u001b[0m\u001b[1;33m,\u001b[0m \u001b[0mdefault\u001b[0m\u001b[1;33m)\u001b[0m\u001b[1;33m:\u001b[0m\u001b[1;33m\u001b[0m\u001b[1;33m\u001b[0m\u001b[0m\n",
      "\u001b[1;31mNoSuchElementException\u001b[0m: Message: no such element: Unable to locate element: {\"method\":\"xpath\",\"selector\":\"//*[@id=\"corePrice_desktop\"]/div/table/tbody/tr[1]/td[2]/span[1]/span[1]\"}\n  (Session info: chrome=114.0.5735.248)\n"
     ]
    }
   ],
   "source": [
    "driver = webdriver.Chrome(options=options1)\n",
    "driver.maximize_window()\n",
    "price1='//*[@id=\"corePriceDisplay_desktop_feature_div\"]/div[2]/span/span[1]/span/span'\n",
    "price2='//*[@id=\"corePriceDisplay_desktop_feature_div\"]/div[1]/span[2]/span[2]/span[2]'\n",
    "qty='//*[@id=\"detailBullets_feature_div\"]'\n",
    "packz='//*[@id=\"inline-twister-expanded-dimension-text-size_name\"]'\n",
    "for i,x in enumerate(urls):\n",
    "    url='https://amazon.in/dp/'+x\n",
    "    Name=names[i]\n",
    "    driver.get(url)\n",
    "    time.sleep(5);\n",
    "#    WebDriverWait(driver, 10).until(EC.visibility_of_all_elements_located((By.XPATH, packz)))\n",
    "\n",
    "    try:\n",
    "        MRP = driver.find_element(By.XPATH, price1).text\n",
    "        Price =driver.find_element(By.XPATH, price2).text\n",
    "        Pack_Size =driver.find_element(By.XPATH, packz).text\n",
    "        Netq = next(line.split(':')[1] for line in driver.find_element(By.XPATH, qty).text.split(\"\\n\") if \"Net Q\" in line)\n",
    "    except:\n",
    "        MRP = driver.find_element(By.XPATH, '//*[@id=\"corePrice_desktop\"]/div/table/tbody/tr[1]/td[2]/span[1]/span[1]').text\n",
    "        Price =driver.find_element(By.XPATH, '//*[@id=\"corePrice_desktop\"]/div/table/tbody/tr[2]/td[2]/span[1]/span[1]').text\n",
    "        Pack_Size='1'\n",
    "        pass\n",
    "\n",
    "    Data1.append({\"Price\":Price,\"MRP\":MRP,\"Pack Size\": Pack_Size,\"Name\":Name,\"ASIN\":x,\"Net Quantity\":Netq,\"B.S.R\":i},ignore_index=True)\n",
    "    print(MRP,Price,Pack_Size,Netq,Name)\n"
   ]
  },
  {
   "cell_type": "code",
   "execution_count": 43,
   "metadata": {},
   "outputs": [
    {
     "data": {
      "text/html": [
       "<div>\n",
       "<style scoped>\n",
       "    .dataframe tbody tr th:only-of-type {\n",
       "        vertical-align: middle;\n",
       "    }\n",
       "\n",
       "    .dataframe tbody tr th {\n",
       "        vertical-align: top;\n",
       "    }\n",
       "\n",
       "    .dataframe thead th {\n",
       "        text-align: right;\n",
       "    }\n",
       "</style>\n",
       "<table border=\"1\" class=\"dataframe\">\n",
       "  <thead>\n",
       "    <tr style=\"text-align: right;\">\n",
       "      <th></th>\n",
       "      <th>Name</th>\n",
       "      <th>ASIN</th>\n",
       "      <th>Price</th>\n",
       "      <th>MRP</th>\n",
       "      <th>Pack Size</th>\n",
       "      <th>Net Quantity</th>\n",
       "      <th>B.S.R</th>\n",
       "    </tr>\n",
       "  </thead>\n",
       "  <tbody>\n",
       "  </tbody>\n",
       "</table>\n",
       "</div>"
      ],
      "text/plain": [
       "Empty DataFrame\n",
       "Columns: [Name, ASIN, Price, MRP, Pack Size, Net Quantity, B.S.R]\n",
       "Index: []"
      ]
     },
     "execution_count": 43,
     "metadata": {},
     "output_type": "execute_result"
    }
   ],
   "source": [
    "Data1\n"
   ]
  },
  {
   "cell_type": "markdown",
   "metadata": {},
   "source": [
    "No kernel connected"
   ]
  },
  {
   "cell_type": "code",
   "execution_count": null,
   "metadata": {},
   "outputs": [
    {
     "ename": "",
     "evalue": "",
     "output_type": "error",
     "traceback": [
      "\u001b[1;31mRunning cells with 'c:\\Users\\SOURJYA\\anaconda3\\python.exe' requires the ipykernel package.\n",
      "\u001b[1;31mRun the following command to install 'ipykernel' into the Python environment. \n",
      "\u001b[1;31mCommand: 'conda install -p c:\\Users\\SOURJYA\\anaconda3 ipykernel --update-deps --force-reinstall'"
     ]
    }
   ],
   "source": [
    "import os\n",
    "import pandas as pd\n",
    "os.chdir('../temp')\n",
    "with open('asin.txt') as user_file:\n",
    "  ufile = user_file.read()\n",
    "urls=ufile.split('\\n')\n",
    "with open('name.txt') as user_file:\n",
    "  ufile = user_file.read()\n",
    "names=ufile.split('\\n')\n",
    "price1='//*[@id=\"corePrice_feature_div\"]/div/span[1]'\n",
    "price2='//*[@id=\"corePriceDisplay_desktop_feature_div\"]/div[1]/span[2]/span[2]/span[2]'\n",
    "packz='//*[@id=\"inline-twister-expanded-dimension-text-size_name\"]'\n",
    "from selenium.webdriver.common.by import By\n",
    "from selenium.webdriver.support.ui import WebDriverWait\n",
    "from selenium.webdriver.support import expected_conditions as EC\n",
    "from selenium import webdriver\n",
    "options1=webdriver.ChromeOptions()\n",
    "Data1=pd.DataFrame(columns=[\"Name\",\"ASIN\",\"Price\",\"MRP\",\"Pack Size\",\"Net Quantity\",\"B.S.R\"])\n"
   ]
  },
  {
   "cell_type": "code",
   "execution_count": null,
   "metadata": {},
   "outputs": [
    {
     "ename": "",
     "evalue": "",
     "output_type": "error",
     "traceback": [
      "\u001b[1;31mRunning cells with 'c:\\Users\\SOURJYA\\anaconda3\\python.exe' requires the ipykernel package.\n",
      "\u001b[1;31mRun the following command to install 'ipykernel' into the Python environment. \n",
      "\u001b[1;31mCommand: 'conda install -p c:\\Users\\SOURJYA\\anaconda3 ipykernel --update-deps --force-reinstall'"
     ]
    }
   ],
   "source": [
    "import os\n",
    "import pandas as pd\n",
    "os.chdir('../temp')\n",
    "with open('asin.txt') as user_file:\n",
    "  ufile = user_file.read()\n",
    "urls=ufile.split('\\n')\n",
    "with open('name.txt') as user_file:\n",
    "  ufile = user_file.read()\n",
    "names=ufile.split('\\n')\n",
    "price1='//*[@id=\"corePrice_feature_div\"]/div/span[1]'\n",
    "price2='//*[@id=\"corePriceDisplay_desktop_feature_div\"]/div[1]/span[2]/span[2]/span[2]'\n",
    "packz='//*[@id=\"inline-twister-expanded-dimension-text-size_name\"]'\n",
    "from selenium.webdriver.common.by import By\n",
    "from selenium.webdriver.support.ui import WebDriverWait\n",
    "from selenium.webdriver.support import expected_conditions as EC\n",
    "from selenium import webdriver\n",
    "options1=webdriver.ChromeOptions()\n",
    "Data1=pd.DataFrame(columns=[\"Name\",\"ASIN\",\"Price\",\"MRP\",\"Pack Size\",\"Net Quantity\",\"B.S.R\"])\n"
   ]
  },
  {
   "cell_type": "code",
   "execution_count": null,
   "metadata": {},
   "outputs": [
    {
     "ename": "",
     "evalue": "",
     "output_type": "error",
     "traceback": [
      "\u001b[1;31mRunning cells with 'c:\\Users\\SOURJYA\\anaconda3\\python.exe' requires the ipykernel package.\n",
      "\u001b[1;31mRun the following command to install 'ipykernel' into the Python environment. \n",
      "\u001b[1;31mCommand: 'conda install -p c:\\Users\\SOURJYA\\anaconda3 ipykernel --update-deps --force-reinstall'"
     ]
    }
   ],
   "source": [
    "import os\n",
    "import pandas as pd\n",
    "os.chdir('../temp')\n",
    "with open('asin.txt') as user_file:\n",
    "  ufile = user_file.read()\n",
    "urls=ufile.split('\\n')\n",
    "with open('name.txt') as user_file:\n",
    "  ufile = user_file.read()\n",
    "names=ufile.split('\\n')\n",
    "price1='//*[@id=\"corePrice_feature_div\"]/div/span[1]'\n",
    "price2='//*[@id=\"corePriceDisplay_desktop_feature_div\"]/div[1]/span[2]/span[2]/span[2]'\n",
    "packz='//*[@id=\"inline-twister-expanded-dimension-text-size_name\"]'\n",
    "from selenium.webdriver.common.by import By\n",
    "from selenium.webdriver.support.ui import WebDriverWait\n",
    "from selenium.webdriver.support import expected_conditions as EC\n",
    "from selenium import webdriver\n",
    "options1=webdriver.ChromeOptions()\n",
    "Data1=pd.DataFrame(columns=[\"Name\",\"ASIN\",\"Price\",\"MRP\",\"Pack Size\",\"Net Quantity\",\"B.S.R\"])\n"
   ]
  },
  {
   "cell_type": "code",
   "execution_count": null,
   "metadata": {},
   "outputs": [
    {
     "ename": "",
     "evalue": "",
     "output_type": "error",
     "traceback": [
      "\u001b[1;31mRunning cells with 'c:\\Users\\SOURJYA\\anaconda3\\python.exe' requires the ipykernel package.\n",
      "\u001b[1;31mRun the following command to install 'ipykernel' into the Python environment. \n",
      "\u001b[1;31mCommand: 'conda install -p c:\\Users\\SOURJYA\\anaconda3 ipykernel --update-deps --force-reinstall'"
     ]
    }
   ],
   "source": [
    "in"
   ]
  },
  {
   "cell_type": "code",
   "execution_count": 1,
   "metadata": {},
   "outputs": [],
   "source": [
    "import os"
   ]
  },
  {
   "cell_type": "code",
   "execution_count": 2,
   "metadata": {},
   "outputs": [],
   "source": [
    "import os\n",
    "import pandas as pd\n",
    "os.chdir('../temp')\n",
    "with open('asin.txt') as user_file:\n",
    "  ufile = user_file.read()\n",
    "urls=ufile.split('\\n')\n",
    "with open('name.txt') as user_file:\n",
    "  ufile = user_file.read()\n",
    "names=ufile.split('\\n')\n",
    "price1='//*[@id=\"corePrice_feature_div\"]/div/span[1]'\n",
    "price2='//*[@id=\"corePriceDisplay_desktop_feature_div\"]/div[1]/span[2]/span[2]/span[2]'\n",
    "packz='//*[@id=\"inline-twister-expanded-dimension-text-size_name\"]'\n",
    "from selenium.webdriver.common.by import By\n",
    "from selenium.webdriver.support.ui import WebDriverWait\n",
    "from selenium.webdriver.support import expected_conditions as EC\n",
    "from selenium import webdriver\n",
    "options1=webdriver.ChromeOptions()\n",
    "Data1=pd.DataFrame(columns=[\"Name\",\"ASIN\",\"Price\",\"MRP\",\"Pack Size\",\"Net Quantity\",\"B.S.R\"])\n"
   ]
  },
  {
   "cell_type": "code",
   "execution_count": 3,
   "metadata": {},
   "outputs": [
    {
     "ename": "NameError",
     "evalue": "name 'driver' is not defined",
     "output_type": "error",
     "traceback": [
      "\u001b[1;31m---------------------------------------------------------------------------\u001b[0m",
      "\u001b[1;31mNameError\u001b[0m                                 Traceback (most recent call last)",
      "\u001b[1;32m<ipython-input-3-efc3226092c4>\u001b[0m in \u001b[0;36m<module>\u001b[1;34m\u001b[0m\n\u001b[0;32m      2\u001b[0m     \u001b[0murl\u001b[0m\u001b[1;33m=\u001b[0m\u001b[1;34m'https://amazon.in/dp/'\u001b[0m\u001b[1;33m+\u001b[0m\u001b[0mx\u001b[0m\u001b[1;33m\u001b[0m\u001b[1;33m\u001b[0m\u001b[0m\n\u001b[0;32m      3\u001b[0m     \u001b[0mName\u001b[0m\u001b[1;33m=\u001b[0m\u001b[0mnames\u001b[0m\u001b[1;33m[\u001b[0m\u001b[0mi\u001b[0m\u001b[1;33m]\u001b[0m\u001b[1;33m\u001b[0m\u001b[1;33m\u001b[0m\u001b[0m\n\u001b[1;32m----> 4\u001b[1;33m     \u001b[0mdriver\u001b[0m\u001b[1;33m.\u001b[0m\u001b[0mget\u001b[0m\u001b[1;33m(\u001b[0m\u001b[0murl\u001b[0m\u001b[1;33m)\u001b[0m\u001b[1;33m\u001b[0m\u001b[1;33m\u001b[0m\u001b[0m\n\u001b[0m\u001b[0;32m      5\u001b[0m     \u001b[0mtime\u001b[0m\u001b[1;33m.\u001b[0m\u001b[0msleep\u001b[0m\u001b[1;33m(\u001b[0m\u001b[1;36m5\u001b[0m\u001b[1;33m)\u001b[0m\u001b[1;33m;\u001b[0m\u001b[1;33m\u001b[0m\u001b[1;33m\u001b[0m\u001b[0m\n\u001b[0;32m      6\u001b[0m \u001b[1;31m#    WebDriverWait(driver, 10).until(EC.visibility_of_all_elements_located((By.XPATH, packz)))\u001b[0m\u001b[1;33m\u001b[0m\u001b[1;33m\u001b[0m\u001b[1;33m\u001b[0m\u001b[0m\n",
      "\u001b[1;31mNameError\u001b[0m: name 'driver' is not defined"
     ]
    }
   ],
   "source": [
    "for i,x in enumerate(urls):\n",
    "    url='https://amazon.in/dp/'+x\n",
    "    Name=names[i]\n",
    "    driver.get(url)\n",
    "    time.sleep(5);\n",
    "#    WebDriverWait(driver, 10).until(EC.visibility_of_all_elements_located((By.XPATH, packz)))\n",
    "    Price=driver.find_element(By.XPATH, price1).text\n",
    "\n",
    "    try:\n",
    "        MRP = driver.find_element(By.XPATH, price2).text\n",
    "    except:\n",
    "        MRP = Price    \n",
    "    try:\n",
    "        Pack_Size =driver.find_element(By.XPATH, packz).text\n",
    "    except:\n",
    "        Pack_Size='1'\n",
    "    try:\n",
    "        Netq = next(line.split(':')[1] for line in driver.find_element(By.XPATH, qty).text.split(\"\\n\") if \"Net Q\" in line)\n",
    "    except:\n",
    "        Netq = '1'\n",
    "        \n",
    "\n",
    "    Data1.append({\"Price\":Price,\"MRP\":MRP,\"Pack Size\": Pack_Size,\"Name\":Name,\"ASIN\":x,\"Net Quantity\":Netq,\"B.S.R\":i},ignore_index=True)\n",
    "    print(MRP,Price,Pack_Size,Netq,Name)\n"
   ]
  },
  {
   "cell_type": "code",
   "execution_count": 4,
   "metadata": {},
   "outputs": [],
   "source": [
    "import os\n",
    "import pandas as pd\n",
    "os.chdir('../temp')\n",
    "with open('asin.txt') as user_file:\n",
    "  ufile = user_file.read()\n",
    "urls=ufile.split('\\n')\n",
    "with open('name.txt') as user_file:\n",
    "  ufile = user_file.read()\n",
    "names=ufile.split('\\n')\n",
    "price1='//*[@id=\"corePrice_feature_div\"]/div/span[1]'\n",
    "price2='//*[@id=\"corePriceDisplay_desktop_feature_div\"]/div[1]/span[2]/span[2]/span[2]'\n",
    "packz='//*[@id=\"inline-twister-expanded-dimension-text-size_name\"]'\n",
    "from selenium.webdriver.common.by import By\n",
    "from selenium.webdriver.support.ui import WebDriverWait\n",
    "from selenium.webdriver.support import expected_conditions as EC\n",
    "from selenium import webdriver\n",
    "options1=webdriver.ChromeOptions()\n",
    "Data1=pd.DataFrame(columns=[\"Name\",\"ASIN\",\"Price\",\"MRP\",\"Pack Size\",\"Net Quantity\",\"B.S.R\"])\n"
   ]
  },
  {
   "cell_type": "code",
   "execution_count": 5,
   "metadata": {},
   "outputs": [
    {
     "ename": "NameError",
     "evalue": "name 'time' is not defined",
     "output_type": "error",
     "traceback": [
      "\u001b[1;31m---------------------------------------------------------------------------\u001b[0m",
      "\u001b[1;31mNameError\u001b[0m                                 Traceback (most recent call last)",
      "\u001b[1;32m<ipython-input-5-3b756efa00ec>\u001b[0m in \u001b[0;36m<module>\u001b[1;34m\u001b[0m\n\u001b[0;32m      5\u001b[0m     \u001b[0mName\u001b[0m\u001b[1;33m=\u001b[0m\u001b[0mnames\u001b[0m\u001b[1;33m[\u001b[0m\u001b[0mi\u001b[0m\u001b[1;33m]\u001b[0m\u001b[1;33m\u001b[0m\u001b[1;33m\u001b[0m\u001b[0m\n\u001b[0;32m      6\u001b[0m     \u001b[0mdriver\u001b[0m\u001b[1;33m.\u001b[0m\u001b[0mget\u001b[0m\u001b[1;33m(\u001b[0m\u001b[0murl\u001b[0m\u001b[1;33m)\u001b[0m\u001b[1;33m\u001b[0m\u001b[1;33m\u001b[0m\u001b[0m\n\u001b[1;32m----> 7\u001b[1;33m     \u001b[0mtime\u001b[0m\u001b[1;33m.\u001b[0m\u001b[0msleep\u001b[0m\u001b[1;33m(\u001b[0m\u001b[1;36m5\u001b[0m\u001b[1;33m)\u001b[0m\u001b[1;33m;\u001b[0m\u001b[1;33m\u001b[0m\u001b[1;33m\u001b[0m\u001b[0m\n\u001b[0m\u001b[0;32m      8\u001b[0m \u001b[1;31m#    WebDriverWait(driver, 10).until(EC.visibility_of_all_elements_located((By.XPATH, packz)))\u001b[0m\u001b[1;33m\u001b[0m\u001b[1;33m\u001b[0m\u001b[1;33m\u001b[0m\u001b[0m\n\u001b[0;32m      9\u001b[0m     \u001b[0mPrice\u001b[0m\u001b[1;33m=\u001b[0m\u001b[0mdriver\u001b[0m\u001b[1;33m.\u001b[0m\u001b[0mfind_element\u001b[0m\u001b[1;33m(\u001b[0m\u001b[0mBy\u001b[0m\u001b[1;33m.\u001b[0m\u001b[0mXPATH\u001b[0m\u001b[1;33m,\u001b[0m \u001b[0mprice1\u001b[0m\u001b[1;33m)\u001b[0m\u001b[1;33m.\u001b[0m\u001b[0mtext\u001b[0m\u001b[1;33m\u001b[0m\u001b[1;33m\u001b[0m\u001b[0m\n",
      "\u001b[1;31mNameError\u001b[0m: name 'time' is not defined"
     ]
    }
   ],
   "source": [
    "driver = webdriver.Chrome(options=options1)\n",
    "driver.maximize_window()\n",
    "for i,x in enumerate(urls):\n",
    "    url='https://amazon.in/dp/'+x\n",
    "    Name=names[i]\n",
    "    driver.get(url)\n",
    "    time.sleep(5);\n",
    "#    WebDriverWait(driver, 10).until(EC.visibility_of_all_elements_located((By.XPATH, packz)))\n",
    "    Price=driver.find_element(By.XPATH, price1).text\n",
    "\n",
    "    try:\n",
    "        MRP = driver.find_element(By.XPATH, price2).text\n",
    "    except:\n",
    "        MRP = Price    \n",
    "    try:\n",
    "        Pack_Size =driver.find_element(By.XPATH, packz).text\n",
    "    except:\n",
    "        Pack_Size='1'\n",
    "    try:\n",
    "        Netq = next(line.split(':')[1] for line in driver.find_element(By.XPATH, qty).text.split(\"\\n\") if \"Net Q\" in line)\n",
    "    except:\n",
    "        Netq = '1'\n",
    "        \n",
    "\n",
    "    Data1.append({\"Price\":Price,\"MRP\":MRP,\"Pack Size\": Pack_Size,\"Name\":Name,\"ASIN\":x,\"Net Quantity\":Netq,\"B.S.R\":i},ignore_index=True)\n",
    "    print(MRP,Price,Pack_Size,Netq,Name)\n"
   ]
  },
  {
   "cell_type": "code",
   "execution_count": 6,
   "metadata": {},
   "outputs": [],
   "source": [
    "import time\n",
    "import os\n",
    "import pandas as pd\n",
    "os.chdir('../temp')\n",
    "with open('asin.txt') as user_file:\n",
    "  ufile = user_file.read()\n",
    "urls=ufile.split('\\n')\n",
    "with open('name.txt') as user_file:\n",
    "  ufile = user_file.read()\n",
    "names=ufile.split('\\n')\n",
    "price1='//*[@id=\"corePrice_feature_div\"]/div/span[1]'\n",
    "price2='//*[@id=\"corePriceDisplay_desktop_feature_div\"]/div[1]/span[2]/span[2]/span[2]'\n",
    "packz='//*[@id=\"inline-twister-expanded-dimension-text-size_name\"]'\n",
    "from selenium.webdriver.common.by import By\n",
    "from selenium.webdriver.support.ui import WebDriverWait\n",
    "from selenium.webdriver.support import expected_conditions as EC\n",
    "from selenium import webdriver\n",
    "options1=webdriver.ChromeOptions()\n",
    "Data1=pd.DataFrame(columns=[\"Name\",\"ASIN\",\"Price\",\"MRP\",\"Pack Size\",\"Net Quantity\",\"B.S.R\"])\n"
   ]
  },
  {
   "cell_type": "code",
   "execution_count": 7,
   "metadata": {},
   "outputs": [
    {
     "name": "stdout",
     "output_type": "stream",
     "text": [
      "369 ₹369\n",
      "00 1 1 NIVEA Soft Light Moisturizer for Face, Hand &amp; Body, Non-Greasy Cream with Vitamin E &amp; Jojoba Oil for Instant Hydration, 300 m\n",
      "₹392.00 ₹392.00 1 1 Lotus Herbals Whiteglow Skin Whitening And Brightening Gel Cream, SPF-25, 40g And Lotus Herbals Whiteglow 3-In-1 Deep Cleansi\n",
      "₹472.44 ₹472.44 1 1 Cetaphil Moisturising Cream for Face &amp; Body , Dry to Normal skin, 80 gm\n",
      "₹100\n",
      "00 ₹100\n",
      "00 1 1 POND&#39;S Super Light Gel Oil Free Face Moisturizer 49g, With Hyaluronic Acid &amp; Vitamin E for Fresh Glowing Skin &amp; 24 hr Hydrati\n",
      "₹264.00 ₹264.00 1 1 Mamaearth Aloe Vera Gel For Face, with Pure Aloe Vera &amp; Vitamin E for Skin and Hair - 300ml\n",
      "₹331.00 ₹331.00 1 1 Minimalist 10% Vitamin B5 Gel Face Moisturizer For Oily &amp; Acne Prone Skin | Oil-Free | Fast Absorbing Lightweight Winter Crea\n",
      "269 ₹269\n",
      "10 1 1 LAKMÉ Lumi Cream ,Moisturizer with highlighter, Enriched with Niacinamide for all skin type,30 gm\n",
      "₹215.00 ₹215.00 1 1 WOW Skin Science 99% Pure Aloe Vera Gel for Face, Skin &amp; Hair - 150ml | Ultimate Gel For Glowing Skin | For Both Men and Wome\n",
      "₹289.00 ₹289.00 1 1 UrbanBotanics® Pure Aloe Vera Skin/Hair Gel With Vitamin E &amp; Natural Emollients (Paraben Free), 200g\n",
      "₹220\n",
      "00 ₹220\n",
      "00 1 1 POND&#39;S Super Light Gel Oil Free Face Moisturizer 100g, With Hyaluronic Acid &amp; Vitamin E for Fresh Glowing Skin &amp; 24 hr Hydrat\n"
     ]
    },
    {
     "ename": "NoSuchElementException",
     "evalue": "Message: no such element: Unable to locate element: {\"method\":\"xpath\",\"selector\":\"//*[@id=\"corePrice_feature_div\"]/div/span[1]\"}\n  (Session info: chrome=114.0.5735.248)\n",
     "output_type": "error",
     "traceback": [
      "\u001b[1;31m---------------------------------------------------------------------------\u001b[0m",
      "\u001b[1;31mNoSuchElementException\u001b[0m                    Traceback (most recent call last)",
      "\u001b[1;32m<ipython-input-7-3b756efa00ec>\u001b[0m in \u001b[0;36m<module>\u001b[1;34m\u001b[0m\n\u001b[0;32m      7\u001b[0m     \u001b[0mtime\u001b[0m\u001b[1;33m.\u001b[0m\u001b[0msleep\u001b[0m\u001b[1;33m(\u001b[0m\u001b[1;36m5\u001b[0m\u001b[1;33m)\u001b[0m\u001b[1;33m;\u001b[0m\u001b[1;33m\u001b[0m\u001b[1;33m\u001b[0m\u001b[0m\n\u001b[0;32m      8\u001b[0m \u001b[1;31m#    WebDriverWait(driver, 10).until(EC.visibility_of_all_elements_located((By.XPATH, packz)))\u001b[0m\u001b[1;33m\u001b[0m\u001b[1;33m\u001b[0m\u001b[1;33m\u001b[0m\u001b[0m\n\u001b[1;32m----> 9\u001b[1;33m     \u001b[0mPrice\u001b[0m\u001b[1;33m=\u001b[0m\u001b[0mdriver\u001b[0m\u001b[1;33m.\u001b[0m\u001b[0mfind_element\u001b[0m\u001b[1;33m(\u001b[0m\u001b[0mBy\u001b[0m\u001b[1;33m.\u001b[0m\u001b[0mXPATH\u001b[0m\u001b[1;33m,\u001b[0m \u001b[0mprice1\u001b[0m\u001b[1;33m)\u001b[0m\u001b[1;33m.\u001b[0m\u001b[0mtext\u001b[0m\u001b[1;33m\u001b[0m\u001b[1;33m\u001b[0m\u001b[0m\n\u001b[0m\u001b[0;32m     10\u001b[0m \u001b[1;33m\u001b[0m\u001b[0m\n\u001b[0;32m     11\u001b[0m     \u001b[1;32mtry\u001b[0m\u001b[1;33m:\u001b[0m\u001b[1;33m\u001b[0m\u001b[1;33m\u001b[0m\u001b[0m\n",
      "\u001b[1;32mc:\\Users\\SOURJYA\\anaconda3\\lib\\site-packages\\selenium\\webdriver\\remote\\webdriver.py\u001b[0m in \u001b[0;36mfind_element\u001b[1;34m(self, by, value)\u001b[0m\n\u001b[0;32m    976\u001b[0m         return self.execute(Command.FIND_ELEMENT, {\n\u001b[0;32m    977\u001b[0m             \u001b[1;34m'using'\u001b[0m\u001b[1;33m:\u001b[0m \u001b[0mby\u001b[0m\u001b[1;33m,\u001b[0m\u001b[1;33m\u001b[0m\u001b[1;33m\u001b[0m\u001b[0m\n\u001b[1;32m--> 978\u001b[1;33m             'value': value})['value']\n\u001b[0m\u001b[0;32m    979\u001b[0m \u001b[1;33m\u001b[0m\u001b[0m\n\u001b[0;32m    980\u001b[0m     \u001b[1;32mdef\u001b[0m \u001b[0mfind_elements\u001b[0m\u001b[1;33m(\u001b[0m\u001b[0mself\u001b[0m\u001b[1;33m,\u001b[0m \u001b[0mby\u001b[0m\u001b[1;33m=\u001b[0m\u001b[0mBy\u001b[0m\u001b[1;33m.\u001b[0m\u001b[0mID\u001b[0m\u001b[1;33m,\u001b[0m \u001b[0mvalue\u001b[0m\u001b[1;33m=\u001b[0m\u001b[1;32mNone\u001b[0m\u001b[1;33m)\u001b[0m\u001b[1;33m:\u001b[0m\u001b[1;33m\u001b[0m\u001b[1;33m\u001b[0m\u001b[0m\n",
      "\u001b[1;32mc:\\Users\\SOURJYA\\anaconda3\\lib\\site-packages\\selenium\\webdriver\\remote\\webdriver.py\u001b[0m in \u001b[0;36mexecute\u001b[1;34m(self, driver_command, params)\u001b[0m\n\u001b[0;32m    319\u001b[0m         \u001b[0mresponse\u001b[0m \u001b[1;33m=\u001b[0m \u001b[0mself\u001b[0m\u001b[1;33m.\u001b[0m\u001b[0mcommand_executor\u001b[0m\u001b[1;33m.\u001b[0m\u001b[0mexecute\u001b[0m\u001b[1;33m(\u001b[0m\u001b[0mdriver_command\u001b[0m\u001b[1;33m,\u001b[0m \u001b[0mparams\u001b[0m\u001b[1;33m)\u001b[0m\u001b[1;33m\u001b[0m\u001b[1;33m\u001b[0m\u001b[0m\n\u001b[0;32m    320\u001b[0m         \u001b[1;32mif\u001b[0m \u001b[0mresponse\u001b[0m\u001b[1;33m:\u001b[0m\u001b[1;33m\u001b[0m\u001b[1;33m\u001b[0m\u001b[0m\n\u001b[1;32m--> 321\u001b[1;33m             \u001b[0mself\u001b[0m\u001b[1;33m.\u001b[0m\u001b[0merror_handler\u001b[0m\u001b[1;33m.\u001b[0m\u001b[0mcheck_response\u001b[0m\u001b[1;33m(\u001b[0m\u001b[0mresponse\u001b[0m\u001b[1;33m)\u001b[0m\u001b[1;33m\u001b[0m\u001b[1;33m\u001b[0m\u001b[0m\n\u001b[0m\u001b[0;32m    322\u001b[0m             response['value'] = self._unwrap_value(\n\u001b[0;32m    323\u001b[0m                 response.get('value', None))\n",
      "\u001b[1;32mc:\\Users\\SOURJYA\\anaconda3\\lib\\site-packages\\selenium\\webdriver\\remote\\errorhandler.py\u001b[0m in \u001b[0;36mcheck_response\u001b[1;34m(self, response)\u001b[0m\n\u001b[0;32m    240\u001b[0m                 \u001b[0malert_text\u001b[0m \u001b[1;33m=\u001b[0m \u001b[0mvalue\u001b[0m\u001b[1;33m[\u001b[0m\u001b[1;34m'alert'\u001b[0m\u001b[1;33m]\u001b[0m\u001b[1;33m.\u001b[0m\u001b[0mget\u001b[0m\u001b[1;33m(\u001b[0m\u001b[1;34m'text'\u001b[0m\u001b[1;33m)\u001b[0m\u001b[1;33m\u001b[0m\u001b[1;33m\u001b[0m\u001b[0m\n\u001b[0;32m    241\u001b[0m             \u001b[1;32mraise\u001b[0m \u001b[0mexception_class\u001b[0m\u001b[1;33m(\u001b[0m\u001b[0mmessage\u001b[0m\u001b[1;33m,\u001b[0m \u001b[0mscreen\u001b[0m\u001b[1;33m,\u001b[0m \u001b[0mstacktrace\u001b[0m\u001b[1;33m,\u001b[0m \u001b[0malert_text\u001b[0m\u001b[1;33m)\u001b[0m\u001b[1;33m\u001b[0m\u001b[1;33m\u001b[0m\u001b[0m\n\u001b[1;32m--> 242\u001b[1;33m         \u001b[1;32mraise\u001b[0m \u001b[0mexception_class\u001b[0m\u001b[1;33m(\u001b[0m\u001b[0mmessage\u001b[0m\u001b[1;33m,\u001b[0m \u001b[0mscreen\u001b[0m\u001b[1;33m,\u001b[0m \u001b[0mstacktrace\u001b[0m\u001b[1;33m)\u001b[0m\u001b[1;33m\u001b[0m\u001b[1;33m\u001b[0m\u001b[0m\n\u001b[0m\u001b[0;32m    243\u001b[0m \u001b[1;33m\u001b[0m\u001b[0m\n\u001b[0;32m    244\u001b[0m     \u001b[1;32mdef\u001b[0m \u001b[0m_value_or_default\u001b[0m\u001b[1;33m(\u001b[0m\u001b[0mself\u001b[0m\u001b[1;33m,\u001b[0m \u001b[0mobj\u001b[0m\u001b[1;33m,\u001b[0m \u001b[0mkey\u001b[0m\u001b[1;33m,\u001b[0m \u001b[0mdefault\u001b[0m\u001b[1;33m)\u001b[0m\u001b[1;33m:\u001b[0m\u001b[1;33m\u001b[0m\u001b[1;33m\u001b[0m\u001b[0m\n",
      "\u001b[1;31mNoSuchElementException\u001b[0m: Message: no such element: Unable to locate element: {\"method\":\"xpath\",\"selector\":\"//*[@id=\"corePrice_feature_div\"]/div/span[1]\"}\n  (Session info: chrome=114.0.5735.248)\n"
     ]
    }
   ],
   "source": [
    "driver = webdriver.Chrome(options=options1)\n",
    "driver.maximize_window()\n",
    "for i,x in enumerate(urls):\n",
    "    url='https://amazon.in/dp/'+x\n",
    "    Name=names[i]\n",
    "    driver.get(url)\n",
    "    time.sleep(5);\n",
    "#    WebDriverWait(driver, 10).until(EC.visibility_of_all_elements_located((By.XPATH, packz)))\n",
    "    Price=driver.find_element(By.XPATH, price1).text\n",
    "\n",
    "    try:\n",
    "        MRP = driver.find_element(By.XPATH, price2).text\n",
    "    except:\n",
    "        MRP = Price    \n",
    "    try:\n",
    "        Pack_Size =driver.find_element(By.XPATH, packz).text\n",
    "    except:\n",
    "        Pack_Size='1'\n",
    "    try:\n",
    "        Netq = next(line.split(':')[1] for line in driver.find_element(By.XPATH, qty).text.split(\"\\n\") if \"Net Q\" in line)\n",
    "    except:\n",
    "        Netq = '1'\n",
    "        \n",
    "\n",
    "    Data1.append({\"Price\":Price,\"MRP\":MRP,\"Pack Size\": Pack_Size,\"Name\":Name,\"ASIN\":x,\"Net Quantity\":Netq,\"B.S.R\":i},ignore_index=True)\n",
    "    print(MRP,Price,Pack_Size,Netq,Name)\n"
   ]
  },
  {
   "cell_type": "code",
   "execution_count": 8,
   "metadata": {},
   "outputs": [],
   "source": [
    "import time\n",
    "import os\n",
    "import pandas as pd\n",
    "os.chdir('../temp')\n",
    "with open('asin.txt') as user_file:\n",
    "  ufile = user_file.read()\n",
    "urls=ufile.split('\\n')\n",
    "with open('name.txt') as user_file:\n",
    "  ufile = user_file.read()\n",
    "names=ufile.split('\\n')\n",
    "price1='//*[@id=\"corePrice_feature_div\"]/div/span[1]'\n",
    "price2='//*[@id=\"corePriceDisplay_desktop_feature_div\"]/div[1]/span[2]/span[2]/span[2]'\n",
    "packz='//*[@id=\"inline-twister-expanded-dimension-text-size_name\"] | //*[@id=\"variation_size_name\"]/div/span'\n",
    "from selenium.webdriver.common.by import By\n",
    "from selenium.webdriver.support.ui import WebDriverWait\n",
    "from selenium.webdriver.support import expected_conditions as EC\n",
    "from selenium import webdriver\n",
    "options1=webdriver.ChromeOptions()\n",
    "Data1=pd.DataFrame(columns=[\"Name\",\"ASIN\",\"Price\",\"MRP\",\"Pack Size\",\"Net Quantity\",\"B.S.R\"])\n"
   ]
  }
 ],
 "metadata": {
  "kernelspec": {
   "display_name": "Python 3 (ipykernel)",
   "language": "python",
   "name": "python3"
  },
  "language_info": {
   "codemirror_mode": {
    "name": "ipython",
    "version": 3
   },
   "file_extension": ".py",
   "mimetype": "text/x-python",
   "name": "python",
   "nbconvert_exporter": "python",
   "pygments_lexer": "ipython3",
   "version": "3.7.16"
  },
  "orig_nbformat": 4
 },
 "nbformat": 4,
 "nbformat_minor": 2
}
