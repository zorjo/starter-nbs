{
 "cells": [
  {
   "cell_type": "markdown",
   "source": [
    ""
   ],
   "metadata": {}
  },
  {
   "cell_type": "markdown",
   "source": [
    "No kernel connected"
   ],
   "metadata": {}
  },
  {
   "cell_type": "markdown",
   "source": [
    "No kernel connected"
   ],
   "metadata": {}
  },
  {
   "cell_type": "code",
   "execution_count": 5,
   "source": [
    "from selenium.webdriver.common.by import By\n",
    "from selenium.webdriver.support.ui import WebDriverWait\n",
    "from selenium.webdriver.support import expected_conditions as EC"
   ],
   "outputs": [],
   "metadata": {}
  },
  {
   "cell_type": "code",
   "execution_count": 10,
   "source": [
    "from selenium import webdriver\n",
    "options1=webdriver.ChromeOptions()\n",
    "driver = webdriver.Chrome(options=options1)\n",
    ""
   ],
   "outputs": [],
   "metadata": {}
  },
  {
   "cell_type": "code",
   "execution_count": 13,
   "source": [
    "import time"
   ],
   "outputs": [],
   "metadata": {}
  },
  {
   "cell_type": "code",
   "execution_count": 14,
   "source": [
    "driver = webdriver.Chrome(options=options1)\n",
    "driver.maximize_window()\n",
    "price1=\"//*[@id='corePriceDisplay_desktop_feature_div']/div[2]/span/span[1]/span/span/span[1]\"\n",
    "price2='//*[@id=\"corePriceDisplay_desktop_feature_div\"]/div[1]/span[2]/span[2]/span[2]'\n",
    "qty='//*[@id=\"productDetails_detailBullets_sections1\"]/tbody/tr[3]/td'\n",
    "packz='//*[@id=\"inline-twister-expanded-dimension-text-size_name\"]'\n",
    "for x in urls:\n",
    "    url='https://amazon.in/dp/'+x\n",
    "    driver.get(url)\n",
    "    time.sleep(3);\n",
    "    MRP = WebDriverWait(driver, 5).until(EC.visibility_of_all_elements_located((By.XPATH, price1))).get_text()\n",
    "    Price =WebDriverWait(driver, 5).until(EC.visibility_of_all_elements_located((By.XPATH, price2))).get_text()\n",
    "    Netq =WebDriverWait(driver, 5).until(EC.visibility_of_all_elements_located((By.XPATH, qty))).get_text()\n",
    "    Pack_Size = WebDriverWait(driver, 5).until(EC.visibility_of_all_elements_located((By.XPATH, packz))).get_text()\n",
    "    print(MRP,Price,Netq,Pack_Size)\n",
    ""
   ],
   "outputs": [
    {
     "output_type": "error",
     "ename": "WebDriverException",
     "evalue": "Message: unknown error: Chrome failed to start: exited normally.\n  (chrome not reachable)\n  (The process started from chrome location C:\\Program Files (x86)\\Google\\Chrome\\Application\\chrome.exe is no longer running, so ChromeDriver is assuming that Chrome has crashed.)\n",
     "traceback": [
      "\u001b[1;31m---------------------------------------------------------------------------\u001b[0m",
      "\u001b[1;31mWebDriverException\u001b[0m                        Traceback (most recent call last)",
      "\u001b[1;32m<ipython-input-14-dfedde6afd2b>\u001b[0m in \u001b[0;36m<module>\u001b[1;34m\u001b[0m\n\u001b[1;32m----> 1\u001b[1;33m \u001b[0mdriver\u001b[0m \u001b[1;33m=\u001b[0m \u001b[0mwebdriver\u001b[0m\u001b[1;33m.\u001b[0m\u001b[0mChrome\u001b[0m\u001b[1;33m(\u001b[0m\u001b[0moptions\u001b[0m\u001b[1;33m=\u001b[0m\u001b[0moptions1\u001b[0m\u001b[1;33m)\u001b[0m\u001b[1;33m\u001b[0m\u001b[1;33m\u001b[0m\u001b[0m\n\u001b[0m\u001b[0;32m      2\u001b[0m \u001b[0mdriver\u001b[0m\u001b[1;33m.\u001b[0m\u001b[0mmaximize_window\u001b[0m\u001b[1;33m(\u001b[0m\u001b[1;33m)\u001b[0m\u001b[1;33m\u001b[0m\u001b[1;33m\u001b[0m\u001b[0m\n\u001b[0;32m      3\u001b[0m \u001b[0mprice1\u001b[0m\u001b[1;33m=\u001b[0m\u001b[1;34m\"//*[@id='corePriceDisplay_desktop_feature_div']/div[2]/span/span[1]/span/span/span[1]\"\u001b[0m\u001b[1;33m\u001b[0m\u001b[1;33m\u001b[0m\u001b[0m\n\u001b[0;32m      4\u001b[0m \u001b[0mprice2\u001b[0m\u001b[1;33m=\u001b[0m\u001b[1;34m'//*[@id=\"corePriceDisplay_desktop_feature_div\"]/div[1]/span[2]/span[2]/span[2]'\u001b[0m\u001b[1;33m\u001b[0m\u001b[1;33m\u001b[0m\u001b[0m\n\u001b[0;32m      5\u001b[0m \u001b[0mqty\u001b[0m\u001b[1;33m=\u001b[0m\u001b[1;34m'//*[@id=\"productDetails_detailBullets_sections1\"]/tbody/tr[3]/td'\u001b[0m\u001b[1;33m\u001b[0m\u001b[1;33m\u001b[0m\u001b[0m\n",
      "\u001b[1;32mc:\\Users\\SOURJYA\\anaconda3\\lib\\site-packages\\selenium\\webdriver\\chrome\\webdriver.py\u001b[0m in \u001b[0;36m__init__\u001b[1;34m(self, executable_path, port, options, service_args, desired_capabilities, service_log_path, chrome_options, keep_alive)\u001b[0m\n\u001b[0;32m     79\u001b[0m                     \u001b[0mremote_server_addr\u001b[0m\u001b[1;33m=\u001b[0m\u001b[0mself\u001b[0m\u001b[1;33m.\u001b[0m\u001b[0mservice\u001b[0m\u001b[1;33m.\u001b[0m\u001b[0mservice_url\u001b[0m\u001b[1;33m,\u001b[0m\u001b[1;33m\u001b[0m\u001b[1;33m\u001b[0m\u001b[0m\n\u001b[0;32m     80\u001b[0m                     keep_alive=keep_alive),\n\u001b[1;32m---> 81\u001b[1;33m                 desired_capabilities=desired_capabilities)\n\u001b[0m\u001b[0;32m     82\u001b[0m         \u001b[1;32mexcept\u001b[0m \u001b[0mException\u001b[0m\u001b[1;33m:\u001b[0m\u001b[1;33m\u001b[0m\u001b[1;33m\u001b[0m\u001b[0m\n\u001b[0;32m     83\u001b[0m             \u001b[0mself\u001b[0m\u001b[1;33m.\u001b[0m\u001b[0mquit\u001b[0m\u001b[1;33m(\u001b[0m\u001b[1;33m)\u001b[0m\u001b[1;33m\u001b[0m\u001b[1;33m\u001b[0m\u001b[0m\n",
      "\u001b[1;32mc:\\Users\\SOURJYA\\anaconda3\\lib\\site-packages\\selenium\\webdriver\\remote\\webdriver.py\u001b[0m in \u001b[0;36m__init__\u001b[1;34m(self, command_executor, desired_capabilities, browser_profile, proxy, keep_alive, file_detector, options)\u001b[0m\n\u001b[0;32m    155\u001b[0m             warnings.warn(\"Please use FirefoxOptions to set browser profile\",\n\u001b[0;32m    156\u001b[0m                           DeprecationWarning, stacklevel=2)\n\u001b[1;32m--> 157\u001b[1;33m         \u001b[0mself\u001b[0m\u001b[1;33m.\u001b[0m\u001b[0mstart_session\u001b[0m\u001b[1;33m(\u001b[0m\u001b[0mcapabilities\u001b[0m\u001b[1;33m,\u001b[0m \u001b[0mbrowser_profile\u001b[0m\u001b[1;33m)\u001b[0m\u001b[1;33m\u001b[0m\u001b[1;33m\u001b[0m\u001b[0m\n\u001b[0m\u001b[0;32m    158\u001b[0m         \u001b[0mself\u001b[0m\u001b[1;33m.\u001b[0m\u001b[0m_switch_to\u001b[0m \u001b[1;33m=\u001b[0m \u001b[0mSwitchTo\u001b[0m\u001b[1;33m(\u001b[0m\u001b[0mself\u001b[0m\u001b[1;33m)\u001b[0m\u001b[1;33m\u001b[0m\u001b[1;33m\u001b[0m\u001b[0m\n\u001b[0;32m    159\u001b[0m         \u001b[0mself\u001b[0m\u001b[1;33m.\u001b[0m\u001b[0m_mobile\u001b[0m \u001b[1;33m=\u001b[0m \u001b[0mMobile\u001b[0m\u001b[1;33m(\u001b[0m\u001b[0mself\u001b[0m\u001b[1;33m)\u001b[0m\u001b[1;33m\u001b[0m\u001b[1;33m\u001b[0m\u001b[0m\n",
      "\u001b[1;32mc:\\Users\\SOURJYA\\anaconda3\\lib\\site-packages\\selenium\\webdriver\\remote\\webdriver.py\u001b[0m in \u001b[0;36mstart_session\u001b[1;34m(self, capabilities, browser_profile)\u001b[0m\n\u001b[0;32m    250\u001b[0m         parameters = {\"capabilities\": w3c_caps,\n\u001b[0;32m    251\u001b[0m                       \"desiredCapabilities\": capabilities}\n\u001b[1;32m--> 252\u001b[1;33m         \u001b[0mresponse\u001b[0m \u001b[1;33m=\u001b[0m \u001b[0mself\u001b[0m\u001b[1;33m.\u001b[0m\u001b[0mexecute\u001b[0m\u001b[1;33m(\u001b[0m\u001b[0mCommand\u001b[0m\u001b[1;33m.\u001b[0m\u001b[0mNEW_SESSION\u001b[0m\u001b[1;33m,\u001b[0m \u001b[0mparameters\u001b[0m\u001b[1;33m)\u001b[0m\u001b[1;33m\u001b[0m\u001b[1;33m\u001b[0m\u001b[0m\n\u001b[0m\u001b[0;32m    253\u001b[0m         \u001b[1;32mif\u001b[0m \u001b[1;34m'sessionId'\u001b[0m \u001b[1;32mnot\u001b[0m \u001b[1;32min\u001b[0m \u001b[0mresponse\u001b[0m\u001b[1;33m:\u001b[0m\u001b[1;33m\u001b[0m\u001b[1;33m\u001b[0m\u001b[0m\n\u001b[0;32m    254\u001b[0m             \u001b[0mresponse\u001b[0m \u001b[1;33m=\u001b[0m \u001b[0mresponse\u001b[0m\u001b[1;33m[\u001b[0m\u001b[1;34m'value'\u001b[0m\u001b[1;33m]\u001b[0m\u001b[1;33m\u001b[0m\u001b[1;33m\u001b[0m\u001b[0m\n",
      "\u001b[1;32mc:\\Users\\SOURJYA\\anaconda3\\lib\\site-packages\\selenium\\webdriver\\remote\\webdriver.py\u001b[0m in \u001b[0;36mexecute\u001b[1;34m(self, driver_command, params)\u001b[0m\n\u001b[0;32m    319\u001b[0m         \u001b[0mresponse\u001b[0m \u001b[1;33m=\u001b[0m \u001b[0mself\u001b[0m\u001b[1;33m.\u001b[0m\u001b[0mcommand_executor\u001b[0m\u001b[1;33m.\u001b[0m\u001b[0mexecute\u001b[0m\u001b[1;33m(\u001b[0m\u001b[0mdriver_command\u001b[0m\u001b[1;33m,\u001b[0m \u001b[0mparams\u001b[0m\u001b[1;33m)\u001b[0m\u001b[1;33m\u001b[0m\u001b[1;33m\u001b[0m\u001b[0m\n\u001b[0;32m    320\u001b[0m         \u001b[1;32mif\u001b[0m \u001b[0mresponse\u001b[0m\u001b[1;33m:\u001b[0m\u001b[1;33m\u001b[0m\u001b[1;33m\u001b[0m\u001b[0m\n\u001b[1;32m--> 321\u001b[1;33m             \u001b[0mself\u001b[0m\u001b[1;33m.\u001b[0m\u001b[0merror_handler\u001b[0m\u001b[1;33m.\u001b[0m\u001b[0mcheck_response\u001b[0m\u001b[1;33m(\u001b[0m\u001b[0mresponse\u001b[0m\u001b[1;33m)\u001b[0m\u001b[1;33m\u001b[0m\u001b[1;33m\u001b[0m\u001b[0m\n\u001b[0m\u001b[0;32m    322\u001b[0m             response['value'] = self._unwrap_value(\n\u001b[0;32m    323\u001b[0m                 response.get('value', None))\n",
      "\u001b[1;32mc:\\Users\\SOURJYA\\anaconda3\\lib\\site-packages\\selenium\\webdriver\\remote\\errorhandler.py\u001b[0m in \u001b[0;36mcheck_response\u001b[1;34m(self, response)\u001b[0m\n\u001b[0;32m    240\u001b[0m                 \u001b[0malert_text\u001b[0m \u001b[1;33m=\u001b[0m \u001b[0mvalue\u001b[0m\u001b[1;33m[\u001b[0m\u001b[1;34m'alert'\u001b[0m\u001b[1;33m]\u001b[0m\u001b[1;33m.\u001b[0m\u001b[0mget\u001b[0m\u001b[1;33m(\u001b[0m\u001b[1;34m'text'\u001b[0m\u001b[1;33m)\u001b[0m\u001b[1;33m\u001b[0m\u001b[1;33m\u001b[0m\u001b[0m\n\u001b[0;32m    241\u001b[0m             \u001b[1;32mraise\u001b[0m \u001b[0mexception_class\u001b[0m\u001b[1;33m(\u001b[0m\u001b[0mmessage\u001b[0m\u001b[1;33m,\u001b[0m \u001b[0mscreen\u001b[0m\u001b[1;33m,\u001b[0m \u001b[0mstacktrace\u001b[0m\u001b[1;33m,\u001b[0m \u001b[0malert_text\u001b[0m\u001b[1;33m)\u001b[0m\u001b[1;33m\u001b[0m\u001b[1;33m\u001b[0m\u001b[0m\n\u001b[1;32m--> 242\u001b[1;33m         \u001b[1;32mraise\u001b[0m \u001b[0mexception_class\u001b[0m\u001b[1;33m(\u001b[0m\u001b[0mmessage\u001b[0m\u001b[1;33m,\u001b[0m \u001b[0mscreen\u001b[0m\u001b[1;33m,\u001b[0m \u001b[0mstacktrace\u001b[0m\u001b[1;33m)\u001b[0m\u001b[1;33m\u001b[0m\u001b[1;33m\u001b[0m\u001b[0m\n\u001b[0m\u001b[0;32m    243\u001b[0m \u001b[1;33m\u001b[0m\u001b[0m\n\u001b[0;32m    244\u001b[0m     \u001b[1;32mdef\u001b[0m \u001b[0m_value_or_default\u001b[0m\u001b[1;33m(\u001b[0m\u001b[0mself\u001b[0m\u001b[1;33m,\u001b[0m \u001b[0mobj\u001b[0m\u001b[1;33m,\u001b[0m \u001b[0mkey\u001b[0m\u001b[1;33m,\u001b[0m \u001b[0mdefault\u001b[0m\u001b[1;33m)\u001b[0m\u001b[1;33m:\u001b[0m\u001b[1;33m\u001b[0m\u001b[1;33m\u001b[0m\u001b[0m\n",
      "\u001b[1;31mWebDriverException\u001b[0m: Message: unknown error: Chrome failed to start: exited normally.\n  (chrome not reachable)\n  (The process started from chrome location C:\\Program Files (x86)\\Google\\Chrome\\Application\\chrome.exe is no longer running, so ChromeDriver is assuming that Chrome has crashed.)\n"
     ]
    }
   ],
   "metadata": {}
  },
  {
   "cell_type": "code",
   "execution_count": 15,
   "source": [
    "driver = webdriver.Chrome(options=options1)\n",
    "driver.maximize_window()\n",
    "price1=\"//*[@id='corePriceDisplay_desktop_feature_div']/div[2]/span/span[1]/span/span/span[1]\"\n",
    "price2='//*[@id=\"corePriceDisplay_desktop_feature_div\"]/div[1]/span[2]/span[2]/span[2]'\n",
    "qty='//*[@id=\"productDetails_detailBullets_sections1\"]/tbody/tr[3]/td'\n",
    "packz='//*[@id=\"inline-twister-expanded-dimension-text-size_name\"]'\n",
    "for x in urls:\n",
    "    url='https://amazon.in/dp/'+x\n",
    "    driver.get(url)\n",
    "    time.sleep(3);\n",
    "    MRP = WebDriverWait(driver, 5).until(EC.visibility_of_all_elements_located((By.XPATH, price1))).get_text()\n",
    "    Price =WebDriverWait(driver, 5).until(EC.visibility_of_all_elements_located((By.XPATH, price2))).get_text()\n",
    "    Netq =WebDriverWait(driver, 5).until(EC.visibility_of_all_elements_located((By.XPATH, qty))).get_text()\n",
    "    Pack_Size = WebDriverWait(driver, 5).until(EC.visibility_of_all_elements_located((By.XPATH, packz))).get_text()\n",
    "    print(MRP,Price,Netq,Pack_Size)\n",
    ""
   ],
   "outputs": [
    {
     "output_type": "error",
     "ename": "TimeoutException",
     "evalue": "Message: \n",
     "traceback": [
      "\u001b[1;31m---------------------------------------------------------------------------\u001b[0m",
      "\u001b[1;31mTimeoutException\u001b[0m                          Traceback (most recent call last)",
      "\u001b[1;32m<ipython-input-15-dfedde6afd2b>\u001b[0m in \u001b[0;36m<module>\u001b[1;34m\u001b[0m\n\u001b[0;32m      9\u001b[0m     \u001b[0mdriver\u001b[0m\u001b[1;33m.\u001b[0m\u001b[0mget\u001b[0m\u001b[1;33m(\u001b[0m\u001b[0murl\u001b[0m\u001b[1;33m)\u001b[0m\u001b[1;33m\u001b[0m\u001b[1;33m\u001b[0m\u001b[0m\n\u001b[0;32m     10\u001b[0m     \u001b[0mtime\u001b[0m\u001b[1;33m.\u001b[0m\u001b[0msleep\u001b[0m\u001b[1;33m(\u001b[0m\u001b[1;36m3\u001b[0m\u001b[1;33m)\u001b[0m\u001b[1;33m;\u001b[0m\u001b[1;33m\u001b[0m\u001b[1;33m\u001b[0m\u001b[0m\n\u001b[1;32m---> 11\u001b[1;33m     \u001b[0mMRP\u001b[0m \u001b[1;33m=\u001b[0m \u001b[0mWebDriverWait\u001b[0m\u001b[1;33m(\u001b[0m\u001b[0mdriver\u001b[0m\u001b[1;33m,\u001b[0m \u001b[1;36m5\u001b[0m\u001b[1;33m)\u001b[0m\u001b[1;33m.\u001b[0m\u001b[0muntil\u001b[0m\u001b[1;33m(\u001b[0m\u001b[0mEC\u001b[0m\u001b[1;33m.\u001b[0m\u001b[0mvisibility_of_all_elements_located\u001b[0m\u001b[1;33m(\u001b[0m\u001b[1;33m(\u001b[0m\u001b[0mBy\u001b[0m\u001b[1;33m.\u001b[0m\u001b[0mXPATH\u001b[0m\u001b[1;33m,\u001b[0m \u001b[0mprice1\u001b[0m\u001b[1;33m)\u001b[0m\u001b[1;33m)\u001b[0m\u001b[1;33m)\u001b[0m\u001b[1;33m.\u001b[0m\u001b[0mget_text\u001b[0m\u001b[1;33m(\u001b[0m\u001b[1;33m)\u001b[0m\u001b[1;33m\u001b[0m\u001b[1;33m\u001b[0m\u001b[0m\n\u001b[0m\u001b[0;32m     12\u001b[0m     \u001b[0mPrice\u001b[0m \u001b[1;33m=\u001b[0m\u001b[0mWebDriverWait\u001b[0m\u001b[1;33m(\u001b[0m\u001b[0mdriver\u001b[0m\u001b[1;33m,\u001b[0m \u001b[1;36m5\u001b[0m\u001b[1;33m)\u001b[0m\u001b[1;33m.\u001b[0m\u001b[0muntil\u001b[0m\u001b[1;33m(\u001b[0m\u001b[0mEC\u001b[0m\u001b[1;33m.\u001b[0m\u001b[0mvisibility_of_all_elements_located\u001b[0m\u001b[1;33m(\u001b[0m\u001b[1;33m(\u001b[0m\u001b[0mBy\u001b[0m\u001b[1;33m.\u001b[0m\u001b[0mXPATH\u001b[0m\u001b[1;33m,\u001b[0m \u001b[0mprice2\u001b[0m\u001b[1;33m)\u001b[0m\u001b[1;33m)\u001b[0m\u001b[1;33m)\u001b[0m\u001b[1;33m.\u001b[0m\u001b[0mget_text\u001b[0m\u001b[1;33m(\u001b[0m\u001b[1;33m)\u001b[0m\u001b[1;33m\u001b[0m\u001b[1;33m\u001b[0m\u001b[0m\n\u001b[0;32m     13\u001b[0m     \u001b[0mNetq\u001b[0m \u001b[1;33m=\u001b[0m\u001b[0mWebDriverWait\u001b[0m\u001b[1;33m(\u001b[0m\u001b[0mdriver\u001b[0m\u001b[1;33m,\u001b[0m \u001b[1;36m5\u001b[0m\u001b[1;33m)\u001b[0m\u001b[1;33m.\u001b[0m\u001b[0muntil\u001b[0m\u001b[1;33m(\u001b[0m\u001b[0mEC\u001b[0m\u001b[1;33m.\u001b[0m\u001b[0mvisibility_of_all_elements_located\u001b[0m\u001b[1;33m(\u001b[0m\u001b[1;33m(\u001b[0m\u001b[0mBy\u001b[0m\u001b[1;33m.\u001b[0m\u001b[0mXPATH\u001b[0m\u001b[1;33m,\u001b[0m \u001b[0mqty\u001b[0m\u001b[1;33m)\u001b[0m\u001b[1;33m)\u001b[0m\u001b[1;33m)\u001b[0m\u001b[1;33m.\u001b[0m\u001b[0mget_text\u001b[0m\u001b[1;33m(\u001b[0m\u001b[1;33m)\u001b[0m\u001b[1;33m\u001b[0m\u001b[1;33m\u001b[0m\u001b[0m\n",
      "\u001b[1;32mc:\\Users\\SOURJYA\\anaconda3\\lib\\site-packages\\selenium\\webdriver\\support\\wait.py\u001b[0m in \u001b[0;36muntil\u001b[1;34m(self, method, message)\u001b[0m\n\u001b[0;32m     78\u001b[0m             \u001b[1;32mif\u001b[0m \u001b[0mtime\u001b[0m\u001b[1;33m.\u001b[0m\u001b[0mtime\u001b[0m\u001b[1;33m(\u001b[0m\u001b[1;33m)\u001b[0m \u001b[1;33m>\u001b[0m \u001b[0mend_time\u001b[0m\u001b[1;33m:\u001b[0m\u001b[1;33m\u001b[0m\u001b[1;33m\u001b[0m\u001b[0m\n\u001b[0;32m     79\u001b[0m                 \u001b[1;32mbreak\u001b[0m\u001b[1;33m\u001b[0m\u001b[1;33m\u001b[0m\u001b[0m\n\u001b[1;32m---> 80\u001b[1;33m         \u001b[1;32mraise\u001b[0m \u001b[0mTimeoutException\u001b[0m\u001b[1;33m(\u001b[0m\u001b[0mmessage\u001b[0m\u001b[1;33m,\u001b[0m \u001b[0mscreen\u001b[0m\u001b[1;33m,\u001b[0m \u001b[0mstacktrace\u001b[0m\u001b[1;33m)\u001b[0m\u001b[1;33m\u001b[0m\u001b[1;33m\u001b[0m\u001b[0m\n\u001b[0m\u001b[0;32m     81\u001b[0m \u001b[1;33m\u001b[0m\u001b[0m\n\u001b[0;32m     82\u001b[0m     \u001b[1;32mdef\u001b[0m \u001b[0muntil_not\u001b[0m\u001b[1;33m(\u001b[0m\u001b[0mself\u001b[0m\u001b[1;33m,\u001b[0m \u001b[0mmethod\u001b[0m\u001b[1;33m,\u001b[0m \u001b[0mmessage\u001b[0m\u001b[1;33m=\u001b[0m\u001b[1;34m''\u001b[0m\u001b[1;33m)\u001b[0m\u001b[1;33m:\u001b[0m\u001b[1;33m\u001b[0m\u001b[1;33m\u001b[0m\u001b[0m\n",
      "\u001b[1;31mTimeoutException\u001b[0m: Message: \n"
     ]
    }
   ],
   "metadata": {}
  },
  {
   "cell_type": "code",
   "execution_count": 16,
   "source": [
    "driver = webdriver.Chrome(options=options1)\n",
    "driver.maximize_window()\n",
    "price1=\"//*[@id='corePriceDisplay_desktop_feature_div']/div[2]/span/span[1]/span/span/span[1]\"\n",
    "price2='//*[@id=\"corePriceDisplay_desktop_feature_div\"]/div[1]/span[2]/span[2]/span[2]'\n",
    "qty='//*[@id=\"productDetails_detailBullets_sections1\"]/tbody/tr[3]/td'\n",
    "packz='//*[@id=\"inline-twister-expanded-dimension-text-size_name\"]'\n",
    "for x in urls:\n",
    "    url='https://amazon.in/dp/'+x\n",
    "    driver.get(url)\n",
    "    time.sleep(3);\n",
    "    MRP = WebDriverWait(driver, 5).until(EC.visibility_of_element_located((By.XPATH, price1))).get_text()\n",
    "    Price =WebDriverWait(driver, 5).until(EC.visibility_of_element_located((By.XPATH, price2))).get_text()\n",
    "    Netq =WebDriverWait(driver, 5).until(EC.visibility_of_element_located((By.XPATH, qty))).get_text()\n",
    "    Pack_Size = WebDriverWait(driver, 5).until(EC.visibility_of_element_located((By.XPATH, packz))).get_text()\n",
    "    print(MRP,Price,Netq,Pack_Size)\n",
    ""
   ],
   "outputs": [
    {
     "output_type": "error",
     "ename": "TimeoutException",
     "evalue": "Message: \n",
     "traceback": [
      "\u001b[1;31m---------------------------------------------------------------------------\u001b[0m",
      "\u001b[1;31mTimeoutException\u001b[0m                          Traceback (most recent call last)",
      "\u001b[1;32m<ipython-input-16-0caf4cad701f>\u001b[0m in \u001b[0;36m<module>\u001b[1;34m\u001b[0m\n\u001b[0;32m      9\u001b[0m     \u001b[0mdriver\u001b[0m\u001b[1;33m.\u001b[0m\u001b[0mget\u001b[0m\u001b[1;33m(\u001b[0m\u001b[0murl\u001b[0m\u001b[1;33m)\u001b[0m\u001b[1;33m\u001b[0m\u001b[1;33m\u001b[0m\u001b[0m\n\u001b[0;32m     10\u001b[0m     \u001b[0mtime\u001b[0m\u001b[1;33m.\u001b[0m\u001b[0msleep\u001b[0m\u001b[1;33m(\u001b[0m\u001b[1;36m3\u001b[0m\u001b[1;33m)\u001b[0m\u001b[1;33m;\u001b[0m\u001b[1;33m\u001b[0m\u001b[1;33m\u001b[0m\u001b[0m\n\u001b[1;32m---> 11\u001b[1;33m     \u001b[0mMRP\u001b[0m \u001b[1;33m=\u001b[0m \u001b[0mWebDriverWait\u001b[0m\u001b[1;33m(\u001b[0m\u001b[0mdriver\u001b[0m\u001b[1;33m,\u001b[0m \u001b[1;36m5\u001b[0m\u001b[1;33m)\u001b[0m\u001b[1;33m.\u001b[0m\u001b[0muntil\u001b[0m\u001b[1;33m(\u001b[0m\u001b[0mEC\u001b[0m\u001b[1;33m.\u001b[0m\u001b[0mvisibility_of_element_located\u001b[0m\u001b[1;33m(\u001b[0m\u001b[1;33m(\u001b[0m\u001b[0mBy\u001b[0m\u001b[1;33m.\u001b[0m\u001b[0mXPATH\u001b[0m\u001b[1;33m,\u001b[0m \u001b[0mprice1\u001b[0m\u001b[1;33m)\u001b[0m\u001b[1;33m)\u001b[0m\u001b[1;33m)\u001b[0m\u001b[1;33m.\u001b[0m\u001b[0mget_text\u001b[0m\u001b[1;33m(\u001b[0m\u001b[1;33m)\u001b[0m\u001b[1;33m\u001b[0m\u001b[1;33m\u001b[0m\u001b[0m\n\u001b[0m\u001b[0;32m     12\u001b[0m     \u001b[0mPrice\u001b[0m \u001b[1;33m=\u001b[0m\u001b[0mWebDriverWait\u001b[0m\u001b[1;33m(\u001b[0m\u001b[0mdriver\u001b[0m\u001b[1;33m,\u001b[0m \u001b[1;36m5\u001b[0m\u001b[1;33m)\u001b[0m\u001b[1;33m.\u001b[0m\u001b[0muntil\u001b[0m\u001b[1;33m(\u001b[0m\u001b[0mEC\u001b[0m\u001b[1;33m.\u001b[0m\u001b[0mvisibility_of_element_located\u001b[0m\u001b[1;33m(\u001b[0m\u001b[1;33m(\u001b[0m\u001b[0mBy\u001b[0m\u001b[1;33m.\u001b[0m\u001b[0mXPATH\u001b[0m\u001b[1;33m,\u001b[0m \u001b[0mprice2\u001b[0m\u001b[1;33m)\u001b[0m\u001b[1;33m)\u001b[0m\u001b[1;33m)\u001b[0m\u001b[1;33m.\u001b[0m\u001b[0mget_text\u001b[0m\u001b[1;33m(\u001b[0m\u001b[1;33m)\u001b[0m\u001b[1;33m\u001b[0m\u001b[1;33m\u001b[0m\u001b[0m\n\u001b[0;32m     13\u001b[0m     \u001b[0mNetq\u001b[0m \u001b[1;33m=\u001b[0m\u001b[0mWebDriverWait\u001b[0m\u001b[1;33m(\u001b[0m\u001b[0mdriver\u001b[0m\u001b[1;33m,\u001b[0m \u001b[1;36m5\u001b[0m\u001b[1;33m)\u001b[0m\u001b[1;33m.\u001b[0m\u001b[0muntil\u001b[0m\u001b[1;33m(\u001b[0m\u001b[0mEC\u001b[0m\u001b[1;33m.\u001b[0m\u001b[0mvisibility_of_element_located\u001b[0m\u001b[1;33m(\u001b[0m\u001b[1;33m(\u001b[0m\u001b[0mBy\u001b[0m\u001b[1;33m.\u001b[0m\u001b[0mXPATH\u001b[0m\u001b[1;33m,\u001b[0m \u001b[0mqty\u001b[0m\u001b[1;33m)\u001b[0m\u001b[1;33m)\u001b[0m\u001b[1;33m)\u001b[0m\u001b[1;33m.\u001b[0m\u001b[0mget_text\u001b[0m\u001b[1;33m(\u001b[0m\u001b[1;33m)\u001b[0m\u001b[1;33m\u001b[0m\u001b[1;33m\u001b[0m\u001b[0m\n",
      "\u001b[1;32mc:\\Users\\SOURJYA\\anaconda3\\lib\\site-packages\\selenium\\webdriver\\support\\wait.py\u001b[0m in \u001b[0;36muntil\u001b[1;34m(self, method, message)\u001b[0m\n\u001b[0;32m     78\u001b[0m             \u001b[1;32mif\u001b[0m \u001b[0mtime\u001b[0m\u001b[1;33m.\u001b[0m\u001b[0mtime\u001b[0m\u001b[1;33m(\u001b[0m\u001b[1;33m)\u001b[0m \u001b[1;33m>\u001b[0m \u001b[0mend_time\u001b[0m\u001b[1;33m:\u001b[0m\u001b[1;33m\u001b[0m\u001b[1;33m\u001b[0m\u001b[0m\n\u001b[0;32m     79\u001b[0m                 \u001b[1;32mbreak\u001b[0m\u001b[1;33m\u001b[0m\u001b[1;33m\u001b[0m\u001b[0m\n\u001b[1;32m---> 80\u001b[1;33m         \u001b[1;32mraise\u001b[0m \u001b[0mTimeoutException\u001b[0m\u001b[1;33m(\u001b[0m\u001b[0mmessage\u001b[0m\u001b[1;33m,\u001b[0m \u001b[0mscreen\u001b[0m\u001b[1;33m,\u001b[0m \u001b[0mstacktrace\u001b[0m\u001b[1;33m)\u001b[0m\u001b[1;33m\u001b[0m\u001b[1;33m\u001b[0m\u001b[0m\n\u001b[0m\u001b[0;32m     81\u001b[0m \u001b[1;33m\u001b[0m\u001b[0m\n\u001b[0;32m     82\u001b[0m     \u001b[1;32mdef\u001b[0m \u001b[0muntil_not\u001b[0m\u001b[1;33m(\u001b[0m\u001b[0mself\u001b[0m\u001b[1;33m,\u001b[0m \u001b[0mmethod\u001b[0m\u001b[1;33m,\u001b[0m \u001b[0mmessage\u001b[0m\u001b[1;33m=\u001b[0m\u001b[1;34m''\u001b[0m\u001b[1;33m)\u001b[0m\u001b[1;33m:\u001b[0m\u001b[1;33m\u001b[0m\u001b[1;33m\u001b[0m\u001b[0m\n",
      "\u001b[1;31mTimeoutException\u001b[0m: Message: \n"
     ]
    }
   ],
   "metadata": {}
  },
  {
   "cell_type": "code",
   "execution_count": 17,
   "source": [
    "driver = webdriver.Chrome(options=options1)\n",
    "driver.maximize_window()\n",
    "price1=\"//*[@id='corePriceDisplay_desktop_feature_div']/div[2]/span/span[1]/span/span/span[1]\"\n",
    "price2='//*[@id=\"corePriceDisplay_desktop_feature_div\"]/div[1]/span[2]/span[2]/span[2]'\n",
    "qty='//*[@id=\"productDetails_detailBullets_sections1\"]/tbody/tr[3]/td'\n",
    "packz='//*[@id=\"inline-twister-expanded-dimension-text-size_name\"]'\n",
    "for x in urls:\n",
    "    url='https://amazon.in/dp/'+x\n",
    "    driver.get(url)\n",
    "    time.sleep(3);\n",
    "    MRP = driver.find_element(By.XPATH, price1).text\n",
    "    Price =driver.find_element(By.XPATH, price2).text\n",
    "    Netq =driver.find_element(By.XPATH, qty).text\n",
    "    Pack_Size =driver.find_element(By.XPATH, packz).text\n",
    "    print(MRP,Price,Netq,Pack_Size)\n",
    ""
   ],
   "outputs": [
    {
     "output_type": "stream",
     "name": "stdout",
     "text": [
      " 272 9.8 x 9.8 x 6.1 Centimeters 300 ml (Pack of 1)\n"
     ]
    },
    {
     "output_type": "error",
     "ename": "NoSuchElementException",
     "evalue": "Message: no such element: Unable to locate element: {\"method\":\"xpath\",\"selector\":\"//*[@id='corePriceDisplay_desktop_feature_div']/div[2]/span/span[1]/span/span/span[1]\"}\n  (Session info: chrome=114.0.5735.248)\n",
     "traceback": [
      "\u001b[1;31m---------------------------------------------------------------------------\u001b[0m",
      "\u001b[1;31mNoSuchElementException\u001b[0m                    Traceback (most recent call last)",
      "\u001b[1;32m<ipython-input-17-7a088e159435>\u001b[0m in \u001b[0;36m<module>\u001b[1;34m\u001b[0m\n\u001b[0;32m      9\u001b[0m     \u001b[0mdriver\u001b[0m\u001b[1;33m.\u001b[0m\u001b[0mget\u001b[0m\u001b[1;33m(\u001b[0m\u001b[0murl\u001b[0m\u001b[1;33m)\u001b[0m\u001b[1;33m\u001b[0m\u001b[1;33m\u001b[0m\u001b[0m\n\u001b[0;32m     10\u001b[0m     \u001b[0mtime\u001b[0m\u001b[1;33m.\u001b[0m\u001b[0msleep\u001b[0m\u001b[1;33m(\u001b[0m\u001b[1;36m3\u001b[0m\u001b[1;33m)\u001b[0m\u001b[1;33m;\u001b[0m\u001b[1;33m\u001b[0m\u001b[1;33m\u001b[0m\u001b[0m\n\u001b[1;32m---> 11\u001b[1;33m     \u001b[0mMRP\u001b[0m \u001b[1;33m=\u001b[0m \u001b[0mdriver\u001b[0m\u001b[1;33m.\u001b[0m\u001b[0mfind_element\u001b[0m\u001b[1;33m(\u001b[0m\u001b[0mBy\u001b[0m\u001b[1;33m.\u001b[0m\u001b[0mXPATH\u001b[0m\u001b[1;33m,\u001b[0m \u001b[0mprice1\u001b[0m\u001b[1;33m)\u001b[0m\u001b[1;33m.\u001b[0m\u001b[0mtext\u001b[0m\u001b[1;33m\u001b[0m\u001b[1;33m\u001b[0m\u001b[0m\n\u001b[0m\u001b[0;32m     12\u001b[0m     \u001b[0mPrice\u001b[0m \u001b[1;33m=\u001b[0m\u001b[0mdriver\u001b[0m\u001b[1;33m.\u001b[0m\u001b[0mfind_element\u001b[0m\u001b[1;33m(\u001b[0m\u001b[0mBy\u001b[0m\u001b[1;33m.\u001b[0m\u001b[0mXPATH\u001b[0m\u001b[1;33m,\u001b[0m \u001b[0mprice2\u001b[0m\u001b[1;33m)\u001b[0m\u001b[1;33m.\u001b[0m\u001b[0mtext\u001b[0m\u001b[1;33m\u001b[0m\u001b[1;33m\u001b[0m\u001b[0m\n\u001b[0;32m     13\u001b[0m     \u001b[0mNetq\u001b[0m \u001b[1;33m=\u001b[0m\u001b[0mdriver\u001b[0m\u001b[1;33m.\u001b[0m\u001b[0mfind_element\u001b[0m\u001b[1;33m(\u001b[0m\u001b[0mBy\u001b[0m\u001b[1;33m.\u001b[0m\u001b[0mXPATH\u001b[0m\u001b[1;33m,\u001b[0m \u001b[0mqty\u001b[0m\u001b[1;33m)\u001b[0m\u001b[1;33m.\u001b[0m\u001b[0mtext\u001b[0m\u001b[1;33m\u001b[0m\u001b[1;33m\u001b[0m\u001b[0m\n",
      "\u001b[1;32mc:\\Users\\SOURJYA\\anaconda3\\lib\\site-packages\\selenium\\webdriver\\remote\\webdriver.py\u001b[0m in \u001b[0;36mfind_element\u001b[1;34m(self, by, value)\u001b[0m\n\u001b[0;32m    976\u001b[0m         return self.execute(Command.FIND_ELEMENT, {\n\u001b[0;32m    977\u001b[0m             \u001b[1;34m'using'\u001b[0m\u001b[1;33m:\u001b[0m \u001b[0mby\u001b[0m\u001b[1;33m,\u001b[0m\u001b[1;33m\u001b[0m\u001b[1;33m\u001b[0m\u001b[0m\n\u001b[1;32m--> 978\u001b[1;33m             'value': value})['value']\n\u001b[0m\u001b[0;32m    979\u001b[0m \u001b[1;33m\u001b[0m\u001b[0m\n\u001b[0;32m    980\u001b[0m     \u001b[1;32mdef\u001b[0m \u001b[0mfind_elements\u001b[0m\u001b[1;33m(\u001b[0m\u001b[0mself\u001b[0m\u001b[1;33m,\u001b[0m \u001b[0mby\u001b[0m\u001b[1;33m=\u001b[0m\u001b[0mBy\u001b[0m\u001b[1;33m.\u001b[0m\u001b[0mID\u001b[0m\u001b[1;33m,\u001b[0m \u001b[0mvalue\u001b[0m\u001b[1;33m=\u001b[0m\u001b[1;32mNone\u001b[0m\u001b[1;33m)\u001b[0m\u001b[1;33m:\u001b[0m\u001b[1;33m\u001b[0m\u001b[1;33m\u001b[0m\u001b[0m\n",
      "\u001b[1;32mc:\\Users\\SOURJYA\\anaconda3\\lib\\site-packages\\selenium\\webdriver\\remote\\webdriver.py\u001b[0m in \u001b[0;36mexecute\u001b[1;34m(self, driver_command, params)\u001b[0m\n\u001b[0;32m    319\u001b[0m         \u001b[0mresponse\u001b[0m \u001b[1;33m=\u001b[0m \u001b[0mself\u001b[0m\u001b[1;33m.\u001b[0m\u001b[0mcommand_executor\u001b[0m\u001b[1;33m.\u001b[0m\u001b[0mexecute\u001b[0m\u001b[1;33m(\u001b[0m\u001b[0mdriver_command\u001b[0m\u001b[1;33m,\u001b[0m \u001b[0mparams\u001b[0m\u001b[1;33m)\u001b[0m\u001b[1;33m\u001b[0m\u001b[1;33m\u001b[0m\u001b[0m\n\u001b[0;32m    320\u001b[0m         \u001b[1;32mif\u001b[0m \u001b[0mresponse\u001b[0m\u001b[1;33m:\u001b[0m\u001b[1;33m\u001b[0m\u001b[1;33m\u001b[0m\u001b[0m\n\u001b[1;32m--> 321\u001b[1;33m             \u001b[0mself\u001b[0m\u001b[1;33m.\u001b[0m\u001b[0merror_handler\u001b[0m\u001b[1;33m.\u001b[0m\u001b[0mcheck_response\u001b[0m\u001b[1;33m(\u001b[0m\u001b[0mresponse\u001b[0m\u001b[1;33m)\u001b[0m\u001b[1;33m\u001b[0m\u001b[1;33m\u001b[0m\u001b[0m\n\u001b[0m\u001b[0;32m    322\u001b[0m             response['value'] = self._unwrap_value(\n\u001b[0;32m    323\u001b[0m                 response.get('value', None))\n",
      "\u001b[1;32mc:\\Users\\SOURJYA\\anaconda3\\lib\\site-packages\\selenium\\webdriver\\remote\\errorhandler.py\u001b[0m in \u001b[0;36mcheck_response\u001b[1;34m(self, response)\u001b[0m\n\u001b[0;32m    240\u001b[0m                 \u001b[0malert_text\u001b[0m \u001b[1;33m=\u001b[0m \u001b[0mvalue\u001b[0m\u001b[1;33m[\u001b[0m\u001b[1;34m'alert'\u001b[0m\u001b[1;33m]\u001b[0m\u001b[1;33m.\u001b[0m\u001b[0mget\u001b[0m\u001b[1;33m(\u001b[0m\u001b[1;34m'text'\u001b[0m\u001b[1;33m)\u001b[0m\u001b[1;33m\u001b[0m\u001b[1;33m\u001b[0m\u001b[0m\n\u001b[0;32m    241\u001b[0m             \u001b[1;32mraise\u001b[0m \u001b[0mexception_class\u001b[0m\u001b[1;33m(\u001b[0m\u001b[0mmessage\u001b[0m\u001b[1;33m,\u001b[0m \u001b[0mscreen\u001b[0m\u001b[1;33m,\u001b[0m \u001b[0mstacktrace\u001b[0m\u001b[1;33m,\u001b[0m \u001b[0malert_text\u001b[0m\u001b[1;33m)\u001b[0m\u001b[1;33m\u001b[0m\u001b[1;33m\u001b[0m\u001b[0m\n\u001b[1;32m--> 242\u001b[1;33m         \u001b[1;32mraise\u001b[0m \u001b[0mexception_class\u001b[0m\u001b[1;33m(\u001b[0m\u001b[0mmessage\u001b[0m\u001b[1;33m,\u001b[0m \u001b[0mscreen\u001b[0m\u001b[1;33m,\u001b[0m \u001b[0mstacktrace\u001b[0m\u001b[1;33m)\u001b[0m\u001b[1;33m\u001b[0m\u001b[1;33m\u001b[0m\u001b[0m\n\u001b[0m\u001b[0;32m    243\u001b[0m \u001b[1;33m\u001b[0m\u001b[0m\n\u001b[0;32m    244\u001b[0m     \u001b[1;32mdef\u001b[0m \u001b[0m_value_or_default\u001b[0m\u001b[1;33m(\u001b[0m\u001b[0mself\u001b[0m\u001b[1;33m,\u001b[0m \u001b[0mobj\u001b[0m\u001b[1;33m,\u001b[0m \u001b[0mkey\u001b[0m\u001b[1;33m,\u001b[0m \u001b[0mdefault\u001b[0m\u001b[1;33m)\u001b[0m\u001b[1;33m:\u001b[0m\u001b[1;33m\u001b[0m\u001b[1;33m\u001b[0m\u001b[0m\n",
      "\u001b[1;31mNoSuchElementException\u001b[0m: Message: no such element: Unable to locate element: {\"method\":\"xpath\",\"selector\":\"//*[@id='corePriceDisplay_desktop_feature_div']/div[2]/span/span[1]/span/span/span[1]\"}\n  (Session info: chrome=114.0.5735.248)\n"
     ]
    }
   ],
   "metadata": {}
  },
  {
   "cell_type": "code",
   "execution_count": 18,
   "source": [
    "driver = webdriver.Chrome(options=options1)\n",
    "driver.maximize_window()\n",
    "price1='//*[@id=\"corePriceDisplay_desktop_feature_div\"]/div[2]/span/span[1]/span/span'\n",
    "price2='//*[@id=\"corePriceDisplay_desktop_feature_div\"]/div[1]/span[2]/span[2]/span[2]'\n",
    "qty='//*[@id=\"productDetails_detailBullets_sections1\"]/tbody/tr[3]/td'\n",
    "packz='//*[@id=\"inline-twister-expanded-dimension-text-size_name\"]'\n",
    "for x in urls:\n",
    "    url='https://amazon.in/dp/'+x\n",
    "    driver.get(url)\n",
    "    #time.sleep(3);\n",
    "    WebDriverWait(driver, 10).until(EC.visibility_of_all_elements_located((By.XPATH, packz)))\n",
    "\n",
    "    MRP = driver.find_element(By.XPATH, price1).text\n",
    "    Price =driver.find_element(By.XPATH, price2).text\n",
    "    Netq =driver.find_element(By.XPATH, qty).text\n",
    "    Pack_Size =driver.find_element(By.XPATH, packz).text\n",
    "    print(MRP,Price,Netq,Pack_Size)\n",
    ""
   ],
   "outputs": [
    {
     "output_type": "stream",
     "name": "stdout",
     "text": [
      "₹465 272 9.8 x 9.8 x 6.1 Centimeters 300 ml (Pack of 1)\n"
     ]
    },
    {
     "output_type": "error",
     "ename": "NoSuchElementException",
     "evalue": "Message: no such element: Unable to locate element: {\"method\":\"xpath\",\"selector\":\"//*[@id=\"corePriceDisplay_desktop_feature_div\"]/div[2]/span/span[1]/span/span\"}\n  (Session info: chrome=114.0.5735.248)\n",
     "traceback": [
      "\u001b[1;31m---------------------------------------------------------------------------\u001b[0m",
      "\u001b[1;31mNoSuchElementException\u001b[0m                    Traceback (most recent call last)",
      "\u001b[1;32m<ipython-input-18-a46749264461>\u001b[0m in \u001b[0;36m<module>\u001b[1;34m\u001b[0m\n\u001b[0;32m     11\u001b[0m     \u001b[0mWebDriverWait\u001b[0m\u001b[1;33m(\u001b[0m\u001b[0mdriver\u001b[0m\u001b[1;33m,\u001b[0m \u001b[1;36m10\u001b[0m\u001b[1;33m)\u001b[0m\u001b[1;33m.\u001b[0m\u001b[0muntil\u001b[0m\u001b[1;33m(\u001b[0m\u001b[0mEC\u001b[0m\u001b[1;33m.\u001b[0m\u001b[0mvisibility_of_all_elements_located\u001b[0m\u001b[1;33m(\u001b[0m\u001b[1;33m(\u001b[0m\u001b[0mBy\u001b[0m\u001b[1;33m.\u001b[0m\u001b[0mXPATH\u001b[0m\u001b[1;33m,\u001b[0m \u001b[0mpackz\u001b[0m\u001b[1;33m)\u001b[0m\u001b[1;33m)\u001b[0m\u001b[1;33m)\u001b[0m\u001b[1;33m\u001b[0m\u001b[1;33m\u001b[0m\u001b[0m\n\u001b[0;32m     12\u001b[0m \u001b[1;33m\u001b[0m\u001b[0m\n\u001b[1;32m---> 13\u001b[1;33m     \u001b[0mMRP\u001b[0m \u001b[1;33m=\u001b[0m \u001b[0mdriver\u001b[0m\u001b[1;33m.\u001b[0m\u001b[0mfind_element\u001b[0m\u001b[1;33m(\u001b[0m\u001b[0mBy\u001b[0m\u001b[1;33m.\u001b[0m\u001b[0mXPATH\u001b[0m\u001b[1;33m,\u001b[0m \u001b[0mprice1\u001b[0m\u001b[1;33m)\u001b[0m\u001b[1;33m.\u001b[0m\u001b[0mtext\u001b[0m\u001b[1;33m\u001b[0m\u001b[1;33m\u001b[0m\u001b[0m\n\u001b[0m\u001b[0;32m     14\u001b[0m     \u001b[0mPrice\u001b[0m \u001b[1;33m=\u001b[0m\u001b[0mdriver\u001b[0m\u001b[1;33m.\u001b[0m\u001b[0mfind_element\u001b[0m\u001b[1;33m(\u001b[0m\u001b[0mBy\u001b[0m\u001b[1;33m.\u001b[0m\u001b[0mXPATH\u001b[0m\u001b[1;33m,\u001b[0m \u001b[0mprice2\u001b[0m\u001b[1;33m)\u001b[0m\u001b[1;33m.\u001b[0m\u001b[0mtext\u001b[0m\u001b[1;33m\u001b[0m\u001b[1;33m\u001b[0m\u001b[0m\n\u001b[0;32m     15\u001b[0m     \u001b[0mNetq\u001b[0m \u001b[1;33m=\u001b[0m\u001b[0mdriver\u001b[0m\u001b[1;33m.\u001b[0m\u001b[0mfind_element\u001b[0m\u001b[1;33m(\u001b[0m\u001b[0mBy\u001b[0m\u001b[1;33m.\u001b[0m\u001b[0mXPATH\u001b[0m\u001b[1;33m,\u001b[0m \u001b[0mqty\u001b[0m\u001b[1;33m)\u001b[0m\u001b[1;33m.\u001b[0m\u001b[0mtext\u001b[0m\u001b[1;33m\u001b[0m\u001b[1;33m\u001b[0m\u001b[0m\n",
      "\u001b[1;32mc:\\Users\\SOURJYA\\anaconda3\\lib\\site-packages\\selenium\\webdriver\\remote\\webdriver.py\u001b[0m in \u001b[0;36mfind_element\u001b[1;34m(self, by, value)\u001b[0m\n\u001b[0;32m    976\u001b[0m         return self.execute(Command.FIND_ELEMENT, {\n\u001b[0;32m    977\u001b[0m             \u001b[1;34m'using'\u001b[0m\u001b[1;33m:\u001b[0m \u001b[0mby\u001b[0m\u001b[1;33m,\u001b[0m\u001b[1;33m\u001b[0m\u001b[1;33m\u001b[0m\u001b[0m\n\u001b[1;32m--> 978\u001b[1;33m             'value': value})['value']\n\u001b[0m\u001b[0;32m    979\u001b[0m \u001b[1;33m\u001b[0m\u001b[0m\n\u001b[0;32m    980\u001b[0m     \u001b[1;32mdef\u001b[0m \u001b[0mfind_elements\u001b[0m\u001b[1;33m(\u001b[0m\u001b[0mself\u001b[0m\u001b[1;33m,\u001b[0m \u001b[0mby\u001b[0m\u001b[1;33m=\u001b[0m\u001b[0mBy\u001b[0m\u001b[1;33m.\u001b[0m\u001b[0mID\u001b[0m\u001b[1;33m,\u001b[0m \u001b[0mvalue\u001b[0m\u001b[1;33m=\u001b[0m\u001b[1;32mNone\u001b[0m\u001b[1;33m)\u001b[0m\u001b[1;33m:\u001b[0m\u001b[1;33m\u001b[0m\u001b[1;33m\u001b[0m\u001b[0m\n",
      "\u001b[1;32mc:\\Users\\SOURJYA\\anaconda3\\lib\\site-packages\\selenium\\webdriver\\remote\\webdriver.py\u001b[0m in \u001b[0;36mexecute\u001b[1;34m(self, driver_command, params)\u001b[0m\n\u001b[0;32m    319\u001b[0m         \u001b[0mresponse\u001b[0m \u001b[1;33m=\u001b[0m \u001b[0mself\u001b[0m\u001b[1;33m.\u001b[0m\u001b[0mcommand_executor\u001b[0m\u001b[1;33m.\u001b[0m\u001b[0mexecute\u001b[0m\u001b[1;33m(\u001b[0m\u001b[0mdriver_command\u001b[0m\u001b[1;33m,\u001b[0m \u001b[0mparams\u001b[0m\u001b[1;33m)\u001b[0m\u001b[1;33m\u001b[0m\u001b[1;33m\u001b[0m\u001b[0m\n\u001b[0;32m    320\u001b[0m         \u001b[1;32mif\u001b[0m \u001b[0mresponse\u001b[0m\u001b[1;33m:\u001b[0m\u001b[1;33m\u001b[0m\u001b[1;33m\u001b[0m\u001b[0m\n\u001b[1;32m--> 321\u001b[1;33m             \u001b[0mself\u001b[0m\u001b[1;33m.\u001b[0m\u001b[0merror_handler\u001b[0m\u001b[1;33m.\u001b[0m\u001b[0mcheck_response\u001b[0m\u001b[1;33m(\u001b[0m\u001b[0mresponse\u001b[0m\u001b[1;33m)\u001b[0m\u001b[1;33m\u001b[0m\u001b[1;33m\u001b[0m\u001b[0m\n\u001b[0m\u001b[0;32m    322\u001b[0m             response['value'] = self._unwrap_value(\n\u001b[0;32m    323\u001b[0m                 response.get('value', None))\n",
      "\u001b[1;32mc:\\Users\\SOURJYA\\anaconda3\\lib\\site-packages\\selenium\\webdriver\\remote\\errorhandler.py\u001b[0m in \u001b[0;36mcheck_response\u001b[1;34m(self, response)\u001b[0m\n\u001b[0;32m    240\u001b[0m                 \u001b[0malert_text\u001b[0m \u001b[1;33m=\u001b[0m \u001b[0mvalue\u001b[0m\u001b[1;33m[\u001b[0m\u001b[1;34m'alert'\u001b[0m\u001b[1;33m]\u001b[0m\u001b[1;33m.\u001b[0m\u001b[0mget\u001b[0m\u001b[1;33m(\u001b[0m\u001b[1;34m'text'\u001b[0m\u001b[1;33m)\u001b[0m\u001b[1;33m\u001b[0m\u001b[1;33m\u001b[0m\u001b[0m\n\u001b[0;32m    241\u001b[0m             \u001b[1;32mraise\u001b[0m \u001b[0mexception_class\u001b[0m\u001b[1;33m(\u001b[0m\u001b[0mmessage\u001b[0m\u001b[1;33m,\u001b[0m \u001b[0mscreen\u001b[0m\u001b[1;33m,\u001b[0m \u001b[0mstacktrace\u001b[0m\u001b[1;33m,\u001b[0m \u001b[0malert_text\u001b[0m\u001b[1;33m)\u001b[0m\u001b[1;33m\u001b[0m\u001b[1;33m\u001b[0m\u001b[0m\n\u001b[1;32m--> 242\u001b[1;33m         \u001b[1;32mraise\u001b[0m \u001b[0mexception_class\u001b[0m\u001b[1;33m(\u001b[0m\u001b[0mmessage\u001b[0m\u001b[1;33m,\u001b[0m \u001b[0mscreen\u001b[0m\u001b[1;33m,\u001b[0m \u001b[0mstacktrace\u001b[0m\u001b[1;33m)\u001b[0m\u001b[1;33m\u001b[0m\u001b[1;33m\u001b[0m\u001b[0m\n\u001b[0m\u001b[0;32m    243\u001b[0m \u001b[1;33m\u001b[0m\u001b[0m\n\u001b[0;32m    244\u001b[0m     \u001b[1;32mdef\u001b[0m \u001b[0m_value_or_default\u001b[0m\u001b[1;33m(\u001b[0m\u001b[0mself\u001b[0m\u001b[1;33m,\u001b[0m \u001b[0mobj\u001b[0m\u001b[1;33m,\u001b[0m \u001b[0mkey\u001b[0m\u001b[1;33m,\u001b[0m \u001b[0mdefault\u001b[0m\u001b[1;33m)\u001b[0m\u001b[1;33m:\u001b[0m\u001b[1;33m\u001b[0m\u001b[1;33m\u001b[0m\u001b[0m\n",
      "\u001b[1;31mNoSuchElementException\u001b[0m: Message: no such element: Unable to locate element: {\"method\":\"xpath\",\"selector\":\"//*[@id=\"corePriceDisplay_desktop_feature_div\"]/div[2]/span/span[1]/span/span\"}\n  (Session info: chrome=114.0.5735.248)\n"
     ]
    }
   ],
   "metadata": {}
  },
  {
   "cell_type": "code",
   "execution_count": 19,
   "source": [
    "driver = webdriver.Chrome(options=options1)\n",
    "driver.maximize_window()\n",
    "price1='//*[@id=\"corePriceDisplay_desktop_feature_div\"]/div[2]/span/span[1]/span/span'\n",
    "price2='//*[@id=\"corePriceDisplay_desktop_feature_div\"]/div[1]/span[2]/span[2]/span[2]'\n",
    "qty='//*[@id=\"detailBullets_feature_div\"]'\n",
    "packz='//*[@id=\"inline-twister-expanded-dimension-text-size_name\"]'\n",
    "for i,x in urls:\n",
    "    url='https://amazon.in/dp/'+x\n",
    "    Name=names[i]\n",
    "    driver.get(url)\n",
    "    time.sleep(3);\n",
    "    WebDriverWait(driver, 10).until(EC.visibility_of_all_elements_located((By.XPATH, packz)))\n",
    "\n",
    "    try:\n",
    "        MRP = driver.find_element(By.XPATH, price1).text\n",
    "        Price =driver.find_element(By.XPATH, price2).text\n",
    "    except:\n",
    "        MRP = driver.find_element(By.XPATH, '//*[@id=\"corePrice_desktop\"]/div/table/tbody/tr[1]/td[2]/span[1]/span[1]').text\n",
    "        Price =driver.find_element(By.XPATH, '//*[@id=\"corePrice_desktop\"]/div/table/tbody/tr[2]/td[2]/span[1]/span[1]').text\n",
    "    Netq =filtered_line.split(':')[1] if \"Net Quantity\" in elem for elem in driver.find_element(By.XPATH, qty).text.split(\"\\n\")\n",
    "    Pack_Size =driver.find_element(By.XPATH, packz).text\n",
    "    print(MRP,Price,Pack_Size,Name)\n",
    ""
   ],
   "outputs": [
    {
     "output_type": "error",
     "ename": "SyntaxError",
     "evalue": "invalid syntax (<ipython-input-19-30e8ae621b39>, line 20)",
     "traceback": [
      "\u001b[1;36m  File \u001b[1;32m\"<ipython-input-19-30e8ae621b39>\"\u001b[1;36m, line \u001b[1;32m20\u001b[0m\n\u001b[1;33m    Netq =filtered_line.split(':')[1] if \"Net Quantity\" in elem for elem in driver.find_element(By.XPATH, qty).text.split(\"\\n\")\u001b[0m\n\u001b[1;37m                                                                  ^\u001b[0m\n\u001b[1;31mSyntaxError\u001b[0m\u001b[1;31m:\u001b[0m invalid syntax\n"
     ]
    }
   ],
   "metadata": {}
  },
  {
   "cell_type": "code",
   "execution_count": 20,
   "source": [
    "driver = webdriver.Chrome(options=options1)\n",
    "driver.maximize_window()\n",
    "price1='//*[@id=\"corePriceDisplay_desktop_feature_div\"]/div[2]/span/span[1]/span/span'\n",
    "price2='//*[@id=\"corePriceDisplay_desktop_feature_div\"]/div[1]/span[2]/span[2]/span[2]'\n",
    "qty='//*[@id=\"detailBullets_feature_div\"]'\n",
    "packz='//*[@id=\"inline-twister-expanded-dimension-text-size_name\"]'\n",
    "for i,x in urls:\n",
    "    url='https://amazon.in/dp/'+x\n",
    "    Name=names[i]\n",
    "    driver.get(url)\n",
    "    time.sleep(3);\n",
    "    WebDriverWait(driver, 10).until(EC.visibility_of_all_elements_located((By.XPATH, packz)))\n",
    "\n",
    "    try:\n",
    "        MRP = driver.find_element(By.XPATH, price1).text\n",
    "        Price =driver.find_element(By.XPATH, price2).text\n",
    "    except:\n",
    "        MRP = driver.find_element(By.XPATH, '//*[@id=\"corePrice_desktop\"]/div/table/tbody/tr[1]/td[2]/span[1]/span[1]').text\n",
    "        Price =driver.find_element(By.XPATH, '//*[@id=\"corePrice_desktop\"]/div/table/tbody/tr[2]/td[2]/span[1]/span[1]').text\n",
    "    Netq =elem.split(':')[1] if \"Net Quantity\" in elem for elem in driver.find_element(By.XPATH, qty).text.split(\"\\n\")\n",
    "    Pack_Size =driver.find_element(By.XPATH, packz).text\n",
    "    print(MRP,Price,Pack_Size,Name)\n",
    ""
   ],
   "outputs": [
    {
     "output_type": "error",
     "ename": "SyntaxError",
     "evalue": "invalid syntax (<ipython-input-20-982991d2e69a>, line 20)",
     "traceback": [
      "\u001b[1;36m  File \u001b[1;32m\"<ipython-input-20-982991d2e69a>\"\u001b[1;36m, line \u001b[1;32m20\u001b[0m\n\u001b[1;33m    Netq =elem.split(':')[1] if \"Net Quantity\" in elem for elem in driver.find_element(By.XPATH, qty).text.split(\"\\n\")\u001b[0m\n\u001b[1;37m                                                         ^\u001b[0m\n\u001b[1;31mSyntaxError\u001b[0m\u001b[1;31m:\u001b[0m invalid syntax\n"
     ]
    }
   ],
   "metadata": {}
  },
  {
   "cell_type": "code",
   "execution_count": 14,
   "source": [
    "asin2=[\"B073VMC9RZ\",\"B073VL49H8\",\"B073VMC9RY\",\"B073VKTK96\",\"B073VKKNN7\",\"B073VMC9S1\",\"B073VJYFNJ\",\"B073VJYH6X\",\"B073VKKNN6\",\"B073VL49H9\"]"
   ],
   "outputs": [],
   "metadata": {}
  },
  {
   "cell_type": "code",
   "execution_count": 3,
   "source": [
    "driver = webdriver.Chrome(options=options1)\n",
    "driver.maximize_window()\n",
    "wait = WebDriverWait(driver, 5)\n",
    "url = \"https://www.amazon.co.uk/s?k=advil\"\n",
    "driver.get(url)\n",
    "wait.until(EC.element_to_be_clickable((By.ID, 'nav-global-location-popover-link'))).click()\n",
    "wait.until(EC.element_to_be_clickable((By.CSS_SELECTOR, \"[data-action='GLUXPostalInputAction']\"))).send_keys(\"PO16 7GZ\")\n",
    "wait.until(EC.element_to_be_clickable((By.CSS_SELECTOR, \"[aria-labelledby='GLUXZipUpdate-announce']\"))).click()\n",
    "wait.until(EC.element_to_be_clickable((By.CSS_SELECTOR, \".a-popover-footer #GLUXConfirmClose\"))).click()\n",
    "time.sleep(1)\n",
    "\n",
    ""
   ],
   "outputs": [],
   "metadata": {}
  },
  {
   "cell_type": "code",
   "execution_count": 2,
   "source": [
    "import datetime"
   ],
   "outputs": [],
   "metadata": {}
  },
  {
   "cell_type": "code",
   "execution_count": 23,
   "source": [
    "os.getcwd()"
   ],
   "outputs": [
    {
     "output_type": "execute_result",
     "data": {
      "text/plain": [
       "'f:\\\\temp'"
      ]
     },
     "metadata": {},
     "execution_count": 23
    }
   ],
   "metadata": {}
  },
  {
   "cell_type": "code",
   "execution_count": 2,
   "source": [
    "os.chdir('../mx18/SOURJYA/Desktop/Hmm/New Folder')"
   ],
   "outputs": [],
   "metadata": {}
  },
  {
   "cell_type": "code",
   "execution_count": 3,
   "source": [
    "path1=\"key_s.json\""
   ],
   "outputs": [],
   "metadata": {}
  },
  {
   "cell_type": "code",
   "execution_count": 4,
   "source": [
    "import pygsheets"
   ],
   "outputs": [],
   "metadata": {}
  },
  {
   "cell_type": "code",
   "execution_count": 5,
   "source": [
    "client=pygsheets.authorize(service_account_file=path1)"
   ],
   "outputs": [],
   "metadata": {}
  },
  {
   "cell_type": "code",
   "execution_count": 7,
   "source": [
    "spreadsht=client.open(\"LS DIGITAL_QUICK HEAL_BUY BOX ALERT REPORT\")"
   ],
   "outputs": [],
   "metadata": {}
  },
  {
   "cell_type": "code",
   "execution_count": 31,
   "source": [
    "spreadsht[0].append_table(values=L2_data[1:],start='B6',dimension=\"ROWS\",overwrite=True,end=None)"
   ],
   "outputs": [
    {
     "output_type": "execute_result",
     "data": {
      "text/plain": [
       "{'tableRange': <GridRange 'Sheet1'!B5:I8>,\n",
       " 'updates': {'updatedRange': <GridRange 'Sheet1'!B9:CC9>,\n",
       "  'updatedCells': 80,\n",
       "  'updatedColumns': 80,\n",
       "  'updatedRows': 1}}"
      ]
     },
     "metadata": {},
     "execution_count": 31
    }
   ],
   "metadata": {}
  },
  {
   "cell_type": "code",
   "execution_count": 39,
   "source": [
    "os.chdir(\"f:/temp\")"
   ],
   "outputs": [],
   "metadata": {}
  },
  {
   "cell_type": "code",
   "execution_count": 40,
   "source": [
    "driver = webdriver.Chrome(options=options1)\n",
    "driver.maximize_window()\n",
    "wait = WebDriverWait(driver, 5)\n",
    "PINCODE=\"700009\"\n",
    "url = \"https://www.amazon.in/dp/B0B25BRTJX\"\n",
    "driver.get(url)\n",
    "wait.until(EC.element_to_be_clickable((By.ID, 'nav-global-location-popover-link'))).click()\n",
    "wait.until(EC.element_to_be_clickable((By.CSS_SELECTOR, \"#GLUXZipUpdateInput\"))).send_keys(PINCODE)\n",
    "wait.until(EC.element_to_be_clickable((By.CSS_SELECTOR, \"#GLUXZipUpdate>span\"))).click()\n",
    "time.sleep(1)\n",
    "L2_data=[[]]\n",
    "for x in asin2:\n",
    "    datz_u=[datetime.date.today().strftime(\"%Y-%m-%d\"),datetime.datetime.now().strftime(\"%H:%M\"),x]\n",
    "    driver.get('https://amazon.in/dp/'+x)\n",
    "    wait.until(EC.element_to_be_clickable((By.CSS_SELECTOR, \"div > span.a-price.aok-align-center > span:nth-child(2) > span.a-price-whole\")))\n",
    "    try:\n",
    "        Price=driver.find_element(By.CSS_SELECTOR,\"#contextualIngressPtLabel_deliveryShortLine > span:nth-child(2)\").text\n",
    "        datz_u+=[Price]\n",
    "    except:\n",
    "        datz_u+=\"Title\"\n",
    "    try:\n",
    "        Price=driver.find_element(By.CSS_SELECTOR,\"#productTitle\").text\n",
    "        datz_u+=[Price]\n",
    "    except:\n",
    "        datz_u+=\"Title\"\n",
    "    try:\n",
    "        Price=driver.find_element(By.CSS_SELECTOR,\"div > span.a-price.aok-align-center > span:nth-child(2) > span.a-price-whole\").text\n",
    "        datz_u+=[Price]\n",
    "    except:\n",
    "        datz_u+=\"N\\A\"\n",
    "    try:\n",
    "        Price=driver.find_element(By.CSS_SELECTOR,\"#availability > span\").text\n",
    "        datz_u+=[Price]\n",
    "    except:\n",
    "        datz_u+=\"OUT\"\n",
    "        #Vendor name \n",
    "    try:\n",
    "        Price=driver.find_element(By.CSS_SELECTOR,\"#merchant-info > a:nth-child(2) > span\").text\n",
    "        datz_u+=[Price]\n",
    "    except:\n",
    "        datz_u+=\"N\\A\"\n",
    "    L2_data.append(datz_u)\n",
    "print(L2_data)"
   ],
   "outputs": [
    {
     "output_type": "stream",
     "name": "stdout",
     "text": [
      "[[], ['2023-08-02', '16:59', 'B073VMC9RZ', 'Kolkata 700009\\u200c', 'Quick Heal | Total Security | 1 User | 3 Years | Email Delivery in 2 hours - no CD', '1,899', 'In stock', 'TechEzy'], ['2023-08-02', '17:00', 'B073VL49H8', 'Kolkata 700009\\u200c', 'Quick Heal | Total Security | 1 User | 1 Year | Email Delivery in 2 hours - no CD', '999', 'In stock', 'TechEzy'], ['2023-08-02', '17:00', 'B073VMC9RY', 'Kolkata 700009\\u200c', 'Quick Heal | Antivirus Pro | 1 user | 1 Year | Email Delivery in 2 hours - no CD', '429', 'In stock', 'TechEzy'], ['2023-08-02', '17:00', 'B073VKTK96', 'Kolkata 700009\\u200c', 'Quick Heal | Total Security | 2 Users | 3 Years | Email Delivery in 2 hours - no CD', '2,699', 'In stock', 'TechEzy'], ['2023-08-02', '17:00', 'B073VKKNN7', 'Kolkata 700009\\u200c', 'Quick Heal | Total Security Renewal Upgrade Gold pack | 1 User | 3 years | Email Delivery in 2 hours - no CD| Existing Quick Heal Single User Subscription Needed', '1,799', 'In stock', 'TechEzy'], ['2023-08-02', '17:00', 'B073VMC9S1', 'Kolkata 700009\\u200c', 'Quick Heal Total Security Latest Version - 2 PCs, 1 Year (Email Delivery in 2 hours- No CD)', '1,399', 'In stock', 'TechEzy'], ['2023-08-02', '17:00', 'B073VJYFNJ', 'Kolkata 700009\\u200c', 'Quick Heal Total Security Renewal Upgrade Silver Pack - 1 User, 1 Year (Email Delivery In 2 hours- No CD) Existing Quick Heal Single User Subscription Needed', '929', 'In stock', 'TechEzy'], ['2023-08-02', '17:00', 'B073VJYH6X', 'Kolkata 700009\\u200c', 'Quick Heal Antivirus Pro Latest Version - 2 PCs, 1 Year (Email Delivery in 2 hours- No CD)', '649', 'In stock', 'TechEzy'], ['2023-08-02', '17:01', 'B073VKKNN6', 'Kolkata 700009\\u200c', 'Quick Heal Antivirus Pro Latest Version - 2 PCs, 3 Years (Email Delivery in 2 hours- No CD)', '1,259', 'In stock', 'TechEzy'], ['2023-08-02', '17:01', 'B073VL49H9', 'Kolkata 700009\\u200c', 'Quick Heal Antivirus Pro - 1 PC, 3 Years (Email Delivery in 2 hours- No CD)', '1,099', 'In stock', 'TechEzy']]\n"
     ]
    }
   ],
   "metadata": {}
  },
  {
   "cell_type": "code",
   "execution_count": 48,
   "source": [
    "L2_data=[]\n",
    "driver = webdriver.Chrome(options=options1)\n",
    "driver.maximize_window()\n",
    "wait = WebDriverWait(driver, 5)\n",
    "url = \"https://www.amazon.in/dp/B0B25BRTJX\"\n",
    "driver.get(url)\n",
    "for pix in pincs:\n",
    "    PINCODE=pix\n",
    "    wait.until(EC.element_to_be_clickable((By.ID, 'nav-global-location-popover-link'))).click()\n",
    "    wait.until(EC.element_to_be_clickable((By.CSS_SELECTOR, \"#GLUXZipUpdateInput\"))).send_keys(PINCODE)\n",
    "    wait.until(EC.element_to_be_clickable((By.CSS_SELECTOR, \"#GLUXZipUpdate>span\"))).click()\n",
    "    time.sleep(1)\n",
    "    L1_data=[]\n",
    "    for x in asin2:\n",
    "        datz_u=[datetime.date.today().strftime(\"%Y-%m-%d\"),datetime.datetime.now().strftime(\"%H:%M\"),x]\n",
    "        driver.get('https://amazon.in/dp/'+x)\n",
    "        wait.until(EC.element_to_be_clickable((By.CSS_SELECTOR, \"div > span.a-price.aok-align-center > span:nth-child(2) > span.a-price-whole\")))\n",
    "        try:\n",
    "            Price=driver.find_element(By.CSS_SELECTOR,\"#contextualIngressPtLabel_deliveryShortLine > span:nth-child(2)\").text\n",
    "            datz_u+=[Price]\n",
    "        except:\n",
    "            datz_u+=\"Title\"\n",
    "        try:\n",
    "            Price=driver.find_element(By.CSS_SELECTOR,\"#productTitle\").text\n",
    "            datz_u+=[Price]\n",
    "        except:\n",
    "            datz_u+=\"Title\"\n",
    "        try:\n",
    "            Price=driver.find_element(By.CSS_SELECTOR,\"div > span.a-price.aok-align-center > span:nth-child(2) > span.a-price-whole\").text\n",
    "            datz_u+=[Price]\n",
    "        except:\n",
    "            datz_u+=\"N\\A\"\n",
    "        try:\n",
    "            Price=driver.find_element(By.CSS_SELECTOR,\"#availability > span\").text\n",
    "            datz_u+=[Price]\n",
    "        except:\n",
    "            datz_u+=\"OUT\"\n",
    "            #Vendor name \n",
    "        try:\n",
    "            Price=driver.find_element(By.CSS_SELECTOR,\"#merchant-info > a:nth-child(2) > span\").text\n",
    "            datz_u+=[Price]\n",
    "        except:\n",
    "            datz_u+=\"N\\A\"\n",
    "        L1_data.append(datz_u)\n",
    "    L2_data.append(L1_data)\n",
    "print(L2_data)"
   ],
   "outputs": [
    {
     "output_type": "error",
     "ename": "NoSuchWindowException",
     "evalue": "Message: no such window: target window already closed\nfrom unknown error: web view not found\n  (Session info: chrome=115.0.5790.110)\n",
     "traceback": [
      "\u001b[1;31m---------------------------------------------------------------------------\u001b[0m",
      "\u001b[1;31mNoSuchWindowException\u001b[0m                     Traceback (most recent call last)",
      "\u001b[1;32m<ipython-input-48-89137467c128>\u001b[0m in \u001b[0;36m<module>\u001b[1;34m\u001b[0m\n\u001b[0;32m     15\u001b[0m         \u001b[0mdatz_u\u001b[0m\u001b[1;33m=\u001b[0m\u001b[1;33m[\u001b[0m\u001b[0mdatetime\u001b[0m\u001b[1;33m.\u001b[0m\u001b[0mdate\u001b[0m\u001b[1;33m.\u001b[0m\u001b[0mtoday\u001b[0m\u001b[1;33m(\u001b[0m\u001b[1;33m)\u001b[0m\u001b[1;33m.\u001b[0m\u001b[0mstrftime\u001b[0m\u001b[1;33m(\u001b[0m\u001b[1;34m\"%Y-%m-%d\"\u001b[0m\u001b[1;33m)\u001b[0m\u001b[1;33m,\u001b[0m\u001b[0mdatetime\u001b[0m\u001b[1;33m.\u001b[0m\u001b[0mdatetime\u001b[0m\u001b[1;33m.\u001b[0m\u001b[0mnow\u001b[0m\u001b[1;33m(\u001b[0m\u001b[1;33m)\u001b[0m\u001b[1;33m.\u001b[0m\u001b[0mstrftime\u001b[0m\u001b[1;33m(\u001b[0m\u001b[1;34m\"%H:%M\"\u001b[0m\u001b[1;33m)\u001b[0m\u001b[1;33m,\u001b[0m\u001b[0mx\u001b[0m\u001b[1;33m]\u001b[0m\u001b[1;33m\u001b[0m\u001b[1;33m\u001b[0m\u001b[0m\n\u001b[0;32m     16\u001b[0m         \u001b[0mdriver\u001b[0m\u001b[1;33m.\u001b[0m\u001b[0mget\u001b[0m\u001b[1;33m(\u001b[0m\u001b[1;34m'https://amazon.in/dp/'\u001b[0m\u001b[1;33m+\u001b[0m\u001b[0mx\u001b[0m\u001b[1;33m)\u001b[0m\u001b[1;33m\u001b[0m\u001b[1;33m\u001b[0m\u001b[0m\n\u001b[1;32m---> 17\u001b[1;33m         \u001b[0mwait\u001b[0m\u001b[1;33m.\u001b[0m\u001b[0muntil\u001b[0m\u001b[1;33m(\u001b[0m\u001b[0mEC\u001b[0m\u001b[1;33m.\u001b[0m\u001b[0melement_to_be_clickable\u001b[0m\u001b[1;33m(\u001b[0m\u001b[1;33m(\u001b[0m\u001b[0mBy\u001b[0m\u001b[1;33m.\u001b[0m\u001b[0mCSS_SELECTOR\u001b[0m\u001b[1;33m,\u001b[0m \u001b[1;34m\"div > span.a-price.aok-align-center > span:nth-child(2) > span.a-price-whole\"\u001b[0m\u001b[1;33m)\u001b[0m\u001b[1;33m)\u001b[0m\u001b[1;33m)\u001b[0m\u001b[1;33m\u001b[0m\u001b[1;33m\u001b[0m\u001b[0m\n\u001b[0m\u001b[0;32m     18\u001b[0m         \u001b[1;32mtry\u001b[0m\u001b[1;33m:\u001b[0m\u001b[1;33m\u001b[0m\u001b[1;33m\u001b[0m\u001b[0m\n\u001b[0;32m     19\u001b[0m             \u001b[0mPrice\u001b[0m\u001b[1;33m=\u001b[0m\u001b[0mdriver\u001b[0m\u001b[1;33m.\u001b[0m\u001b[0mfind_element\u001b[0m\u001b[1;33m(\u001b[0m\u001b[0mBy\u001b[0m\u001b[1;33m.\u001b[0m\u001b[0mCSS_SELECTOR\u001b[0m\u001b[1;33m,\u001b[0m\u001b[1;34m\"#contextualIngressPtLabel_deliveryShortLine > span:nth-child(2)\"\u001b[0m\u001b[1;33m)\u001b[0m\u001b[1;33m.\u001b[0m\u001b[0mtext\u001b[0m\u001b[1;33m\u001b[0m\u001b[1;33m\u001b[0m\u001b[0m\n",
      "\u001b[1;32mc:\\Users\\SOURJYA\\anaconda3\\lib\\site-packages\\selenium\\webdriver\\support\\wait.py\u001b[0m in \u001b[0;36muntil\u001b[1;34m(self, method, message)\u001b[0m\n\u001b[0;32m     69\u001b[0m         \u001b[1;32mwhile\u001b[0m \u001b[1;32mTrue\u001b[0m\u001b[1;33m:\u001b[0m\u001b[1;33m\u001b[0m\u001b[1;33m\u001b[0m\u001b[0m\n\u001b[0;32m     70\u001b[0m             \u001b[1;32mtry\u001b[0m\u001b[1;33m:\u001b[0m\u001b[1;33m\u001b[0m\u001b[1;33m\u001b[0m\u001b[0m\n\u001b[1;32m---> 71\u001b[1;33m                 \u001b[0mvalue\u001b[0m \u001b[1;33m=\u001b[0m \u001b[0mmethod\u001b[0m\u001b[1;33m(\u001b[0m\u001b[0mself\u001b[0m\u001b[1;33m.\u001b[0m\u001b[0m_driver\u001b[0m\u001b[1;33m)\u001b[0m\u001b[1;33m\u001b[0m\u001b[1;33m\u001b[0m\u001b[0m\n\u001b[0m\u001b[0;32m     72\u001b[0m                 \u001b[1;32mif\u001b[0m \u001b[0mvalue\u001b[0m\u001b[1;33m:\u001b[0m\u001b[1;33m\u001b[0m\u001b[1;33m\u001b[0m\u001b[0m\n\u001b[0;32m     73\u001b[0m                     \u001b[1;32mreturn\u001b[0m \u001b[0mvalue\u001b[0m\u001b[1;33m\u001b[0m\u001b[1;33m\u001b[0m\u001b[0m\n",
      "\u001b[1;32mc:\\Users\\SOURJYA\\anaconda3\\lib\\site-packages\\selenium\\webdriver\\support\\expected_conditions.py\u001b[0m in \u001b[0;36m__call__\u001b[1;34m(self, driver)\u001b[0m\n\u001b[0;32m    295\u001b[0m \u001b[1;33m\u001b[0m\u001b[0m\n\u001b[0;32m    296\u001b[0m     \u001b[1;32mdef\u001b[0m \u001b[0m__call__\u001b[0m\u001b[1;33m(\u001b[0m\u001b[0mself\u001b[0m\u001b[1;33m,\u001b[0m \u001b[0mdriver\u001b[0m\u001b[1;33m)\u001b[0m\u001b[1;33m:\u001b[0m\u001b[1;33m\u001b[0m\u001b[1;33m\u001b[0m\u001b[0m\n\u001b[1;32m--> 297\u001b[1;33m         \u001b[0melement\u001b[0m \u001b[1;33m=\u001b[0m \u001b[0mvisibility_of_element_located\u001b[0m\u001b[1;33m(\u001b[0m\u001b[0mself\u001b[0m\u001b[1;33m.\u001b[0m\u001b[0mlocator\u001b[0m\u001b[1;33m)\u001b[0m\u001b[1;33m(\u001b[0m\u001b[0mdriver\u001b[0m\u001b[1;33m)\u001b[0m\u001b[1;33m\u001b[0m\u001b[1;33m\u001b[0m\u001b[0m\n\u001b[0m\u001b[0;32m    298\u001b[0m         \u001b[1;32mif\u001b[0m \u001b[0melement\u001b[0m \u001b[1;32mand\u001b[0m \u001b[0melement\u001b[0m\u001b[1;33m.\u001b[0m\u001b[0mis_enabled\u001b[0m\u001b[1;33m(\u001b[0m\u001b[1;33m)\u001b[0m\u001b[1;33m:\u001b[0m\u001b[1;33m\u001b[0m\u001b[1;33m\u001b[0m\u001b[0m\n\u001b[0;32m    299\u001b[0m             \u001b[1;32mreturn\u001b[0m \u001b[0melement\u001b[0m\u001b[1;33m\u001b[0m\u001b[1;33m\u001b[0m\u001b[0m\n",
      "\u001b[1;32mc:\\Users\\SOURJYA\\anaconda3\\lib\\site-packages\\selenium\\webdriver\\support\\expected_conditions.py\u001b[0m in \u001b[0;36m__call__\u001b[1;34m(self, driver)\u001b[0m\n\u001b[0;32m    126\u001b[0m     \u001b[1;32mdef\u001b[0m \u001b[0m__call__\u001b[0m\u001b[1;33m(\u001b[0m\u001b[0mself\u001b[0m\u001b[1;33m,\u001b[0m \u001b[0mdriver\u001b[0m\u001b[1;33m)\u001b[0m\u001b[1;33m:\u001b[0m\u001b[1;33m\u001b[0m\u001b[1;33m\u001b[0m\u001b[0m\n\u001b[0;32m    127\u001b[0m         \u001b[1;32mtry\u001b[0m\u001b[1;33m:\u001b[0m\u001b[1;33m\u001b[0m\u001b[1;33m\u001b[0m\u001b[0m\n\u001b[1;32m--> 128\u001b[1;33m             \u001b[1;32mreturn\u001b[0m \u001b[0m_element_if_visible\u001b[0m\u001b[1;33m(\u001b[0m\u001b[0m_find_element\u001b[0m\u001b[1;33m(\u001b[0m\u001b[0mdriver\u001b[0m\u001b[1;33m,\u001b[0m \u001b[0mself\u001b[0m\u001b[1;33m.\u001b[0m\u001b[0mlocator\u001b[0m\u001b[1;33m)\u001b[0m\u001b[1;33m)\u001b[0m\u001b[1;33m\u001b[0m\u001b[1;33m\u001b[0m\u001b[0m\n\u001b[0m\u001b[0;32m    129\u001b[0m         \u001b[1;32mexcept\u001b[0m \u001b[0mStaleElementReferenceException\u001b[0m\u001b[1;33m:\u001b[0m\u001b[1;33m\u001b[0m\u001b[1;33m\u001b[0m\u001b[0m\n\u001b[0;32m    130\u001b[0m             \u001b[1;32mreturn\u001b[0m \u001b[1;32mFalse\u001b[0m\u001b[1;33m\u001b[0m\u001b[1;33m\u001b[0m\u001b[0m\n",
      "\u001b[1;32mc:\\Users\\SOURJYA\\anaconda3\\lib\\site-packages\\selenium\\webdriver\\support\\expected_conditions.py\u001b[0m in \u001b[0;36m_find_element\u001b[1;34m(driver, by)\u001b[0m\n\u001b[0;32m    413\u001b[0m         \u001b[1;32mraise\u001b[0m \u001b[0me\u001b[0m\u001b[1;33m\u001b[0m\u001b[1;33m\u001b[0m\u001b[0m\n\u001b[0;32m    414\u001b[0m     \u001b[1;32mexcept\u001b[0m \u001b[0mWebDriverException\u001b[0m \u001b[1;32mas\u001b[0m \u001b[0me\u001b[0m\u001b[1;33m:\u001b[0m\u001b[1;33m\u001b[0m\u001b[1;33m\u001b[0m\u001b[0m\n\u001b[1;32m--> 415\u001b[1;33m         \u001b[1;32mraise\u001b[0m \u001b[0me\u001b[0m\u001b[1;33m\u001b[0m\u001b[1;33m\u001b[0m\u001b[0m\n\u001b[0m\u001b[0;32m    416\u001b[0m \u001b[1;33m\u001b[0m\u001b[0m\n\u001b[0;32m    417\u001b[0m \u001b[1;33m\u001b[0m\u001b[0m\n",
      "\u001b[1;32mc:\\Users\\SOURJYA\\anaconda3\\lib\\site-packages\\selenium\\webdriver\\support\\expected_conditions.py\u001b[0m in \u001b[0;36m_find_element\u001b[1;34m(driver, by)\u001b[0m\n\u001b[0;32m    409\u001b[0m     if thrown.\"\"\"\n\u001b[0;32m    410\u001b[0m     \u001b[1;32mtry\u001b[0m\u001b[1;33m:\u001b[0m\u001b[1;33m\u001b[0m\u001b[1;33m\u001b[0m\u001b[0m\n\u001b[1;32m--> 411\u001b[1;33m         \u001b[1;32mreturn\u001b[0m \u001b[0mdriver\u001b[0m\u001b[1;33m.\u001b[0m\u001b[0mfind_element\u001b[0m\u001b[1;33m(\u001b[0m\u001b[1;33m*\u001b[0m\u001b[0mby\u001b[0m\u001b[1;33m)\u001b[0m\u001b[1;33m\u001b[0m\u001b[1;33m\u001b[0m\u001b[0m\n\u001b[0m\u001b[0;32m    412\u001b[0m     \u001b[1;32mexcept\u001b[0m \u001b[0mNoSuchElementException\u001b[0m \u001b[1;32mas\u001b[0m \u001b[0me\u001b[0m\u001b[1;33m:\u001b[0m\u001b[1;33m\u001b[0m\u001b[1;33m\u001b[0m\u001b[0m\n\u001b[0;32m    413\u001b[0m         \u001b[1;32mraise\u001b[0m \u001b[0me\u001b[0m\u001b[1;33m\u001b[0m\u001b[1;33m\u001b[0m\u001b[0m\n",
      "\u001b[1;32mc:\\Users\\SOURJYA\\anaconda3\\lib\\site-packages\\selenium\\webdriver\\remote\\webdriver.py\u001b[0m in \u001b[0;36mfind_element\u001b[1;34m(self, by, value)\u001b[0m\n\u001b[0;32m    976\u001b[0m         return self.execute(Command.FIND_ELEMENT, {\n\u001b[0;32m    977\u001b[0m             \u001b[1;34m'using'\u001b[0m\u001b[1;33m:\u001b[0m \u001b[0mby\u001b[0m\u001b[1;33m,\u001b[0m\u001b[1;33m\u001b[0m\u001b[1;33m\u001b[0m\u001b[0m\n\u001b[1;32m--> 978\u001b[1;33m             'value': value})['value']\n\u001b[0m\u001b[0;32m    979\u001b[0m \u001b[1;33m\u001b[0m\u001b[0m\n\u001b[0;32m    980\u001b[0m     \u001b[1;32mdef\u001b[0m \u001b[0mfind_elements\u001b[0m\u001b[1;33m(\u001b[0m\u001b[0mself\u001b[0m\u001b[1;33m,\u001b[0m \u001b[0mby\u001b[0m\u001b[1;33m=\u001b[0m\u001b[0mBy\u001b[0m\u001b[1;33m.\u001b[0m\u001b[0mID\u001b[0m\u001b[1;33m,\u001b[0m \u001b[0mvalue\u001b[0m\u001b[1;33m=\u001b[0m\u001b[1;32mNone\u001b[0m\u001b[1;33m)\u001b[0m\u001b[1;33m:\u001b[0m\u001b[1;33m\u001b[0m\u001b[1;33m\u001b[0m\u001b[0m\n",
      "\u001b[1;32mc:\\Users\\SOURJYA\\anaconda3\\lib\\site-packages\\selenium\\webdriver\\remote\\webdriver.py\u001b[0m in \u001b[0;36mexecute\u001b[1;34m(self, driver_command, params)\u001b[0m\n\u001b[0;32m    319\u001b[0m         \u001b[0mresponse\u001b[0m \u001b[1;33m=\u001b[0m \u001b[0mself\u001b[0m\u001b[1;33m.\u001b[0m\u001b[0mcommand_executor\u001b[0m\u001b[1;33m.\u001b[0m\u001b[0mexecute\u001b[0m\u001b[1;33m(\u001b[0m\u001b[0mdriver_command\u001b[0m\u001b[1;33m,\u001b[0m \u001b[0mparams\u001b[0m\u001b[1;33m)\u001b[0m\u001b[1;33m\u001b[0m\u001b[1;33m\u001b[0m\u001b[0m\n\u001b[0;32m    320\u001b[0m         \u001b[1;32mif\u001b[0m \u001b[0mresponse\u001b[0m\u001b[1;33m:\u001b[0m\u001b[1;33m\u001b[0m\u001b[1;33m\u001b[0m\u001b[0m\n\u001b[1;32m--> 321\u001b[1;33m             \u001b[0mself\u001b[0m\u001b[1;33m.\u001b[0m\u001b[0merror_handler\u001b[0m\u001b[1;33m.\u001b[0m\u001b[0mcheck_response\u001b[0m\u001b[1;33m(\u001b[0m\u001b[0mresponse\u001b[0m\u001b[1;33m)\u001b[0m\u001b[1;33m\u001b[0m\u001b[1;33m\u001b[0m\u001b[0m\n\u001b[0m\u001b[0;32m    322\u001b[0m             response['value'] = self._unwrap_value(\n\u001b[0;32m    323\u001b[0m                 response.get('value', None))\n",
      "\u001b[1;32mc:\\Users\\SOURJYA\\anaconda3\\lib\\site-packages\\selenium\\webdriver\\remote\\errorhandler.py\u001b[0m in \u001b[0;36mcheck_response\u001b[1;34m(self, response)\u001b[0m\n\u001b[0;32m    240\u001b[0m                 \u001b[0malert_text\u001b[0m \u001b[1;33m=\u001b[0m \u001b[0mvalue\u001b[0m\u001b[1;33m[\u001b[0m\u001b[1;34m'alert'\u001b[0m\u001b[1;33m]\u001b[0m\u001b[1;33m.\u001b[0m\u001b[0mget\u001b[0m\u001b[1;33m(\u001b[0m\u001b[1;34m'text'\u001b[0m\u001b[1;33m)\u001b[0m\u001b[1;33m\u001b[0m\u001b[1;33m\u001b[0m\u001b[0m\n\u001b[0;32m    241\u001b[0m             \u001b[1;32mraise\u001b[0m \u001b[0mexception_class\u001b[0m\u001b[1;33m(\u001b[0m\u001b[0mmessage\u001b[0m\u001b[1;33m,\u001b[0m \u001b[0mscreen\u001b[0m\u001b[1;33m,\u001b[0m \u001b[0mstacktrace\u001b[0m\u001b[1;33m,\u001b[0m \u001b[0malert_text\u001b[0m\u001b[1;33m)\u001b[0m\u001b[1;33m\u001b[0m\u001b[1;33m\u001b[0m\u001b[0m\n\u001b[1;32m--> 242\u001b[1;33m         \u001b[1;32mraise\u001b[0m \u001b[0mexception_class\u001b[0m\u001b[1;33m(\u001b[0m\u001b[0mmessage\u001b[0m\u001b[1;33m,\u001b[0m \u001b[0mscreen\u001b[0m\u001b[1;33m,\u001b[0m \u001b[0mstacktrace\u001b[0m\u001b[1;33m)\u001b[0m\u001b[1;33m\u001b[0m\u001b[1;33m\u001b[0m\u001b[0m\n\u001b[0m\u001b[0;32m    243\u001b[0m \u001b[1;33m\u001b[0m\u001b[0m\n\u001b[0;32m    244\u001b[0m     \u001b[1;32mdef\u001b[0m \u001b[0m_value_or_default\u001b[0m\u001b[1;33m(\u001b[0m\u001b[0mself\u001b[0m\u001b[1;33m,\u001b[0m \u001b[0mobj\u001b[0m\u001b[1;33m,\u001b[0m \u001b[0mkey\u001b[0m\u001b[1;33m,\u001b[0m \u001b[0mdefault\u001b[0m\u001b[1;33m)\u001b[0m\u001b[1;33m:\u001b[0m\u001b[1;33m\u001b[0m\u001b[1;33m\u001b[0m\u001b[0m\n",
      "\u001b[1;31mNoSuchWindowException\u001b[0m: Message: no such window: target window already closed\nfrom unknown error: web view not found\n  (Session info: chrome=115.0.5790.110)\n"
     ]
    }
   ],
   "metadata": {}
  },
  {
   "cell_type": "code",
   "execution_count": 49,
   "source": [
    "L2_data=[]\n",
    "driver = webdriver.Chrome(options=options1)\n",
    "driver.maximize_window()\n",
    "wait = WebDriverWait(driver, 5)\n",
    "url = \"https://www.amazon.in/dp/B0B25BRTJX\"\n",
    "driver.get(url)\n",
    "for pix in pincs:\n",
    "    PINCODE=pix\n",
    "    wait.until(EC.element_to_be_clickable((By.ID, 'nav-global-location-popover-link'))).click()\n",
    "    wait.until(EC.element_to_be_clickable((By.CSS_SELECTOR, \"#GLUXZipUpdateInput\"))).clear()\n",
    "    wait.until(EC.element_to_be_clickable((By.CSS_SELECTOR, \"#GLUXZipUpdateInput\"))).send_keys(PINCODE)\n",
    "    wait.until(EC.element_to_be_clickable((By.CSS_SELECTOR, \"#GLUXZipUpdate>span\"))).click()\n",
    "    time.sleep(1)\n",
    "    L1_data=[]\n",
    "    for x in asin2:\n",
    "        datz_u=[datetime.date.today().strftime(\"%Y-%m-%d\"),datetime.datetime.now().strftime(\"%H:%M\"),x]\n",
    "        driver.get('https://amazon.in/dp/'+x)\n",
    "        wait.until(EC.element_to_be_clickable((By.CSS_SELECTOR, \"div > span.a-price.aok-align-center > span:nth-child(2) > span.a-price-whole\")))\n",
    "        try:\n",
    "            Price=driver.find_element(By.CSS_SELECTOR,\"#contextualIngressPtLabel_deliveryShortLine > span:nth-child(2)\").text\n",
    "            datz_u+=[Price]\n",
    "        except:\n",
    "            datz_u+=\"Title\"\n",
    "        try:\n",
    "            Price=driver.find_element(By.CSS_SELECTOR,\"#productTitle\").text\n",
    "            datz_u+=[Price]\n",
    "        except:\n",
    "            datz_u+=\"Title\"\n",
    "        try:\n",
    "            Price=driver.find_element(By.CSS_SELECTOR,\"div > span.a-price.aok-align-center > span:nth-child(2) > span.a-price-whole\").text\n",
    "            datz_u+=[Price]\n",
    "        except:\n",
    "            datz_u+=\"N\\A\"\n",
    "        try:\n",
    "            Price=driver.find_element(By.CSS_SELECTOR,\"#availability > span\").text\n",
    "            datz_u+=[Price]\n",
    "        except:\n",
    "            datz_u+=\"OUT\"\n",
    "            #Vendor name \n",
    "        try:\n",
    "            Price=driver.find_element(By.CSS_SELECTOR,\"#merchant-info > a:nth-child(2) > span\").text\n",
    "            datz_u+=[Price]\n",
    "        except:\n",
    "            datz_u+=\"N\\A\"\n",
    "        L1_data.append(datz_u)\n",
    "    L2_data.append(L1_data)\n",
    "print(L2_data)"
   ],
   "outputs": [
    {
     "output_type": "stream",
     "name": "stdout",
     "text": [
      "[[['2023-08-02', '17:23', 'B073VMC9RZ', 'Tamsi 504312\\u200c', 'Quick Heal | Total Security | 1 User | 3 Years | Email Delivery in 2 hours - no CD', '1,899', 'In stock', 'TechEzy'], ['2023-08-02', '17:23', 'B073VL49H8', 'Tamsi 504312\\u200c', 'Quick Heal | Total Security | 1 User | 1 Year | Email Delivery in 2 hours - no CD', '999', 'In stock', 'TechEzy'], ['2023-08-02', '17:23', 'B073VMC9RY', 'Tamsi 504312\\u200c', 'Quick Heal | Antivirus Pro | 1 user | 1 Year | Email Delivery in 2 hours - no CD', '429', 'In stock', 'TechEzy'], ['2023-08-02', '17:23', 'B073VKTK96', 'Tamsi 504312\\u200c', 'Quick Heal | Total Security | 2 Users | 3 Years | Email Delivery in 2 hours - no CD', '2,699', 'In stock', 'TechEzy'], ['2023-08-02', '17:23', 'B073VKKNN7', 'Tamsi 504312\\u200c', 'Quick Heal | Total Security Renewal Upgrade Gold pack | 1 User | 3 years | Email Delivery in 2 hours - no CD| Existing Quick Heal Single User Subscription Needed', '1,799', 'In stock', 'TechEzy'], ['2023-08-02', '17:24', 'B073VMC9S1', 'Tamsi 504312\\u200c', 'Quick Heal Total Security Latest Version - 2 PCs, 1 Year (Email Delivery in 2 hours- No CD)', '1,399', 'In stock', 'TechEzy'], ['2023-08-02', '17:24', 'B073VJYFNJ', 'Tamsi 504312\\u200c', 'Quick Heal Total Security Renewal Upgrade Silver Pack - 1 User, 1 Year (Email Delivery In 2 hours- No CD) Existing Quick Heal Single User Subscription Needed', '929', 'In stock', 'TechEzy'], ['2023-08-02', '17:24', 'B073VJYH6X', 'Tamsi 504312\\u200c', 'Quick Heal Antivirus Pro Latest Version - 2 PCs, 1 Year (Email Delivery in 2 hours- No CD)', '649', 'In stock', 'TechEzy'], ['2023-08-02', '17:24', 'B073VKKNN6', 'Tamsi 504312\\u200c', 'Quick Heal Antivirus Pro Latest Version - 2 PCs, 3 Years (Email Delivery in 2 hours- No CD)', '1,259', 'In stock', 'TechEzy'], ['2023-08-02', '17:24', 'B073VL49H9', 'Tamsi 504312\\u200c', 'Quick Heal Antivirus Pro - 1 PC, 3 Years (Email Delivery in 2 hours- No CD)', '1,099', 'In stock', 'TechEzy']], [['2023-08-02', '17:24', 'B073VMC9RZ', 'Jasdan 360050\\u200c', 'Quick Heal | Total Security | 1 User | 3 Years | Email Delivery in 2 hours - no CD', '1,899', 'In stock', 'TechEzy'], ['2023-08-02', '17:24', 'B073VL49H8', 'Jasdan 360050\\u200c', 'Quick Heal | Total Security | 1 User | 1 Year | Email Delivery in 2 hours - no CD', '999', 'In stock', 'TechEzy'], ['2023-08-02', '17:24', 'B073VMC9RY', 'Jasdan 360050\\u200c', 'Quick Heal | Antivirus Pro | 1 user | 1 Year | Email Delivery in 2 hours - no CD', '429', 'In stock', 'TechEzy'], ['2023-08-02', '17:24', 'B073VKTK96', 'Jasdan 360050\\u200c', 'Quick Heal | Total Security | 2 Users | 3 Years | Email Delivery in 2 hours - no CD', '2,699', 'In stock', 'TechEzy'], ['2023-08-02', '17:24', 'B073VKKNN7', 'Jasdan 360050\\u200c', 'Quick Heal | Total Security Renewal Upgrade Gold pack | 1 User | 3 years | Email Delivery in 2 hours - no CD| Existing Quick Heal Single User Subscription Needed', '1,799', 'In stock', 'TechEzy'], ['2023-08-02', '17:24', 'B073VMC9S1', 'Jasdan 360050\\u200c', 'Quick Heal Total Security Latest Version - 2 PCs, 1 Year (Email Delivery in 2 hours- No CD)', '1,399', 'In stock', 'TechEzy'], ['2023-08-02', '17:24', 'B073VJYFNJ', 'Jasdan 360050\\u200c', 'Quick Heal Total Security Renewal Upgrade Silver Pack - 1 User, 1 Year (Email Delivery In 2 hours- No CD) Existing Quick Heal Single User Subscription Needed', '929', 'In stock', 'TechEzy'], ['2023-08-02', '17:25', 'B073VJYH6X', 'Jasdan 360050\\u200c', 'Quick Heal Antivirus Pro Latest Version - 2 PCs, 1 Year (Email Delivery in 2 hours- No CD)', '649', 'In stock', 'TechEzy'], ['2023-08-02', '17:25', 'B073VKKNN6', 'Jasdan 360050\\u200c', 'Quick Heal Antivirus Pro Latest Version - 2 PCs, 3 Years (Email Delivery in 2 hours- No CD)', '1,259', 'In stock', 'TechEzy'], ['2023-08-02', '17:25', 'B073VL49H9', 'Jasdan 360050\\u200c', 'Quick Heal Antivirus Pro - 1 PC, 3 Years (Email Delivery in 2 hours- No CD)', '1,099', 'In stock', 'TechEzy']], [['2023-08-02', '17:25', 'B073VMC9RZ', 'Sopore 193303\\u200c', 'Quick Heal Antivirus Pro - 1 PC, 3 Years (Email Delivery in 2 hours- No CD)', '1,099', 'In stock', 'TechEzy'], ['2023-08-02', '17:25', 'B073VL49H8', 'Sopore 193303\\u200c', 'Quick Heal | Total Security | 1 User | 1 Year | Email Delivery in 2 hours - no CD', '999', 'In stock', 'TechEzy'], ['2023-08-02', '17:25', 'B073VMC9RY', 'Sopore 193303\\u200c', 'Quick Heal | Antivirus Pro | 1 user | 1 Year | Email Delivery in 2 hours - no CD', '429', 'In stock', 'TechEzy'], ['2023-08-02', '17:25', 'B073VKTK96', 'Sopore 193303\\u200c', 'Quick Heal | Total Security | 2 Users | 3 Years | Email Delivery in 2 hours - no CD', '2,699', 'In stock', 'TechEzy'], ['2023-08-02', '17:25', 'B073VKKNN7', 'Sopore 193303\\u200c', 'Quick Heal | Total Security Renewal Upgrade Gold pack | 1 User | 3 years | Email Delivery in 2 hours - no CD| Existing Quick Heal Single User Subscription Needed', '1,799', 'In stock', 'TechEzy'], ['2023-08-02', '17:25', 'B073VMC9S1', 'Sopore 193303\\u200c', 'Quick Heal Total Security Latest Version - 2 PCs, 1 Year (Email Delivery in 2 hours- No CD)', '1,399', 'In stock', 'TechEzy'], ['2023-08-02', '17:25', 'B073VJYFNJ', 'Sopore 193303\\u200c', 'Quick Heal Total Security Renewal Upgrade Silver Pack - 1 User, 1 Year (Email Delivery In 2 hours- No CD) Existing Quick Heal Single User Subscription Needed', '929', 'In stock', 'TechEzy'], ['2023-08-02', '17:26', 'B073VJYH6X', 'Sopore 193303\\u200c', 'Quick Heal Antivirus Pro Latest Version - 2 PCs, 1 Year (Email Delivery in 2 hours- No CD)', '649', 'In stock', 'TechEzy'], ['2023-08-02', '17:26', 'B073VKKNN6', 'Sopore 193303\\u200c', 'Quick Heal Antivirus Pro Latest Version - 2 PCs, 3 Years (Email Delivery in 2 hours- No CD)', '1,259', 'In stock', 'TechEzy'], ['2023-08-02', '17:26', 'B073VL49H9', 'Sopore 193303\\u200c', 'Quick Heal Antivirus Pro - 1 PC, 3 Years (Email Delivery in 2 hours- No CD)', '1,099', 'In stock', 'TechEzy']]]\n"
     ]
    }
   ],
   "metadata": {}
  },
  {
   "cell_type": "code",
   "execution_count": 53,
   "source": [
    "spreadsht=client.open(\"LS DIGITAL_QUICK HEAL_BUY BOX ALERT REPORT\")"
   ],
   "outputs": [],
   "metadata": {}
  },
  {
   "cell_type": "code",
   "execution_count": 54,
   "source": [
    "spreadsht[0].append_table(values=L2_data[:],start='B6',dimension=\"ROWS\",overwrite=True,end=None)"
   ],
   "outputs": [
    {
     "output_type": "error",
     "ename": "HttpError",
     "evalue": "<HttpError 400 when requesting https://sheets.googleapis.com/v4/spreadsheets/1-fO-2Lo7RVZMFfGnfMca8KQ5fH-8gLS0MpsS-9gvs2A/values/%27Sheet1%27%21B6%3ACC1000:append?valueInputOption=USER_ENTERED&insertDataOption=OVERWRITE&alt=json returned \"Invalid values[15][0]: list_value {\n  values {\n    string_value: \"2023-08-02\"\n  }\n  values {\n    string_value: \"17:23\"\n  }\n  values {\n    string_value: \"B073VMC9RZ\"\n  }\n  values {\n    string_value: \"Tamsi 504312\\342\\200\\214\"\n  }\n  values {\n    string_value: \"Quick Heal | Total Security | 1 User | 3 Years | Email Delivery in 2 hours - no CD\"\n  }\n  values {\n    string_value: \"1,899\"\n  }\n  values {\n    string_value: \"In stock\"\n  }\n  values {\n    string_value: \"TechEzy\"\n  }\n}\". Details: \"Invalid values[15][0]: list_value {\n  values {\n    string_value: \"2023-08-02\"\n  }\n  values {\n    string_value: \"17:23\"\n  }\n  values {\n    string_value: \"B073VMC9RZ\"\n  }\n  values {\n    string_value: \"Tamsi 504312\\342\\200\\214\"\n  }\n  values {\n    string_value: \"Quick Heal | Total Security | 1 User | 3 Years | Email Delivery in 2 hours - no CD\"\n  }\n  values {\n    string_value: \"1,899\"\n  }\n  values {\n    string_value: \"In stock\"\n  }\n  values {\n    string_value: \"TechEzy\"\n  }\n}\n\">",
     "traceback": [
      "\u001b[1;31m---------------------------------------------------------------------------\u001b[0m",
      "\u001b[1;31mHttpError\u001b[0m                                 Traceback (most recent call last)",
      "\u001b[1;32m<ipython-input-54-f32d788f4c1f>\u001b[0m in \u001b[0;36m<module>\u001b[1;34m\u001b[0m\n\u001b[1;32m----> 1\u001b[1;33m \u001b[0mspreadsht\u001b[0m\u001b[1;33m[\u001b[0m\u001b[1;36m0\u001b[0m\u001b[1;33m]\u001b[0m\u001b[1;33m.\u001b[0m\u001b[0mappend_table\u001b[0m\u001b[1;33m(\u001b[0m\u001b[0mvalues\u001b[0m\u001b[1;33m=\u001b[0m\u001b[0mL2_data\u001b[0m\u001b[1;33m[\u001b[0m\u001b[1;33m:\u001b[0m\u001b[1;33m]\u001b[0m\u001b[1;33m,\u001b[0m\u001b[0mstart\u001b[0m\u001b[1;33m=\u001b[0m\u001b[1;34m'B6'\u001b[0m\u001b[1;33m,\u001b[0m\u001b[0mdimension\u001b[0m\u001b[1;33m=\u001b[0m\u001b[1;34m\"ROWS\"\u001b[0m\u001b[1;33m,\u001b[0m\u001b[0moverwrite\u001b[0m\u001b[1;33m=\u001b[0m\u001b[1;32mTrue\u001b[0m\u001b[1;33m,\u001b[0m\u001b[0mend\u001b[0m\u001b[1;33m=\u001b[0m\u001b[1;32mNone\u001b[0m\u001b[1;33m)\u001b[0m\u001b[1;33m\u001b[0m\u001b[1;33m\u001b[0m\u001b[0m\n\u001b[0m",
      "\u001b[1;32mc:\\Users\\SOURJYA\\anaconda3\\lib\\site-packages\\pygsheets\\utils.py\u001b[0m in \u001b[0;36mwrapper\u001b[1;34m(*args, **kwargs)\u001b[0m\n\u001b[0;32m    212\u001b[0m         \u001b[0mobj\u001b[0m \u001b[1;33m=\u001b[0m \u001b[0margs\u001b[0m\u001b[1;33m[\u001b[0m\u001b[1;36m0\u001b[0m\u001b[1;33m]\u001b[0m\u001b[1;33m\u001b[0m\u001b[1;33m\u001b[0m\u001b[0m\n\u001b[0;32m    213\u001b[0m         \u001b[1;32mif\u001b[0m \u001b[0mobj\u001b[0m\u001b[1;33m.\u001b[0m\u001b[0mlinked\u001b[0m\u001b[1;33m:\u001b[0m\u001b[1;33m\u001b[0m\u001b[1;33m\u001b[0m\u001b[0m\n\u001b[1;32m--> 214\u001b[1;33m             \u001b[1;32mreturn\u001b[0m \u001b[0mfunc\u001b[0m\u001b[1;33m(\u001b[0m\u001b[1;33m*\u001b[0m\u001b[0margs\u001b[0m\u001b[1;33m,\u001b[0m \u001b[1;33m**\u001b[0m\u001b[0mkwargs\u001b[0m\u001b[1;33m)\u001b[0m\u001b[1;33m\u001b[0m\u001b[1;33m\u001b[0m\u001b[0m\n\u001b[0m\u001b[0;32m    215\u001b[0m         \u001b[1;32melse\u001b[0m\u001b[1;33m:\u001b[0m\u001b[1;33m\u001b[0m\u001b[1;33m\u001b[0m\u001b[0m\n\u001b[0;32m    216\u001b[0m             \u001b[0mobj\u001b[0m\u001b[1;33m.\u001b[0m\u001b[0m_func_calls\u001b[0m\u001b[1;33m.\u001b[0m\u001b[0mappend\u001b[0m\u001b[1;33m(\u001b[0m\u001b[1;33m(\u001b[0m\u001b[0mfunc\u001b[0m\u001b[1;33m,\u001b[0m \u001b[1;33m(\u001b[0m\u001b[0margs\u001b[0m\u001b[1;33m,\u001b[0m \u001b[0mkwargs\u001b[0m\u001b[1;33m)\u001b[0m\u001b[1;33m)\u001b[0m\u001b[1;33m)\u001b[0m\u001b[1;33m\u001b[0m\u001b[1;33m\u001b[0m\u001b[0m\n",
      "\u001b[1;32mc:\\Users\\SOURJYA\\anaconda3\\lib\\site-packages\\pygsheets\\worksheet.py\u001b[0m in \u001b[0;36mappend_table\u001b[1;34m(self, values, start, end, dimension, overwrite, **kwargs)\u001b[0m\n\u001b[0;32m   1141\u001b[0m             \u001b[0mend\u001b[0m \u001b[1;33m=\u001b[0m \u001b[1;33m(\u001b[0m\u001b[0mself\u001b[0m\u001b[1;33m.\u001b[0m\u001b[0mrows\u001b[0m\u001b[1;33m,\u001b[0m \u001b[0mself\u001b[0m\u001b[1;33m.\u001b[0m\u001b[0mcols\u001b[0m\u001b[1;33m)\u001b[0m\u001b[1;33m\u001b[0m\u001b[1;33m\u001b[0m\u001b[0m\n\u001b[0;32m   1142\u001b[0m         response_json = self.client.sheet.values_append(self.spreadsheet.id, values, dimension, range=self._get_range(start, end),\n\u001b[1;32m-> 1143\u001b[1;33m                                         insertDataOption='OVERWRITE' if overwrite else 'INSERT_ROWS', **kwargs)\n\u001b[0m\u001b[0;32m   1144\u001b[0m         \u001b[0mself\u001b[0m\u001b[1;33m.\u001b[0m\u001b[0mrefresh\u001b[0m\u001b[1;33m(\u001b[0m\u001b[1;32mFalse\u001b[0m\u001b[1;33m)\u001b[0m\u001b[1;33m\u001b[0m\u001b[1;33m\u001b[0m\u001b[0m\n\u001b[0;32m   1145\u001b[0m \u001b[1;33m\u001b[0m\u001b[0m\n",
      "\u001b[1;32mc:\\Users\\SOURJYA\\anaconda3\\lib\\site-packages\\pygsheets\\sheet.py\u001b[0m in \u001b[0;36mvalues_append\u001b[1;34m(self, spreadsheet_id, values, major_dimension, range, **kwargs)\u001b[0m\n\u001b[0;32m    266\u001b[0m                                                               \u001b[0mvalueInputOption\u001b[0m\u001b[1;33m=\u001b[0m\u001b[0mkwargs\u001b[0m\u001b[1;33m.\u001b[0m\u001b[0mget\u001b[0m\u001b[1;33m(\u001b[0m\u001b[1;34m'valueInputOption'\u001b[0m\u001b[1;33m,\u001b[0m \u001b[1;34m'USER_ENTERED'\u001b[0m\u001b[1;33m)\u001b[0m\u001b[1;33m,\u001b[0m\u001b[1;33m\u001b[0m\u001b[1;33m\u001b[0m\u001b[0m\n\u001b[0;32m    267\u001b[0m                                                               **kwargs)\n\u001b[1;32m--> 268\u001b[1;33m         \u001b[1;32mreturn\u001b[0m \u001b[0mself\u001b[0m\u001b[1;33m.\u001b[0m\u001b[0m_execute_requests\u001b[0m\u001b[1;33m(\u001b[0m\u001b[0mrequest\u001b[0m\u001b[1;33m)\u001b[0m\u001b[1;33m\u001b[0m\u001b[1;33m\u001b[0m\u001b[0m\n\u001b[0m\u001b[0;32m    269\u001b[0m \u001b[1;33m\u001b[0m\u001b[0m\n\u001b[0;32m    270\u001b[0m     \u001b[1;32mdef\u001b[0m \u001b[0mvalues_batch_clear\u001b[0m\u001b[1;33m(\u001b[0m\u001b[0mself\u001b[0m\u001b[1;33m,\u001b[0m \u001b[0mspreadsheet_id\u001b[0m\u001b[1;33m,\u001b[0m \u001b[0mranges\u001b[0m\u001b[1;33m)\u001b[0m\u001b[1;33m:\u001b[0m\u001b[1;33m\u001b[0m\u001b[1;33m\u001b[0m\u001b[0m\n",
      "\u001b[1;32mc:\\Users\\SOURJYA\\anaconda3\\lib\\site-packages\\pygsheets\\sheet.py\u001b[0m in \u001b[0;36m_execute_requests\u001b[1;34m(self, request)\u001b[0m\n\u001b[0;32m    494\u001b[0m         \"\"\"\n\u001b[0;32m    495\u001b[0m         \u001b[1;32mtry\u001b[0m\u001b[1;33m:\u001b[0m\u001b[1;33m\u001b[0m\u001b[1;33m\u001b[0m\u001b[0m\n\u001b[1;32m--> 496\u001b[1;33m             \u001b[0mresponse\u001b[0m \u001b[1;33m=\u001b[0m \u001b[0mrequest\u001b[0m\u001b[1;33m.\u001b[0m\u001b[0mexecute\u001b[0m\u001b[1;33m(\u001b[0m\u001b[0mnum_retries\u001b[0m\u001b[1;33m=\u001b[0m\u001b[0mself\u001b[0m\u001b[1;33m.\u001b[0m\u001b[0mretries\u001b[0m\u001b[1;33m)\u001b[0m\u001b[1;33m\u001b[0m\u001b[1;33m\u001b[0m\u001b[0m\n\u001b[0m\u001b[0;32m    497\u001b[0m         \u001b[1;32mexcept\u001b[0m \u001b[0mHttpError\u001b[0m \u001b[1;32mas\u001b[0m \u001b[0merror\u001b[0m\u001b[1;33m:\u001b[0m\u001b[1;33m\u001b[0m\u001b[1;33m\u001b[0m\u001b[0m\n\u001b[0;32m    498\u001b[0m             \u001b[1;32mif\u001b[0m \u001b[0merror\u001b[0m\u001b[1;33m.\u001b[0m\u001b[0mresp\u001b[0m\u001b[1;33m[\u001b[0m\u001b[1;34m'status'\u001b[0m\u001b[1;33m]\u001b[0m \u001b[1;33m==\u001b[0m \u001b[1;34m'429'\u001b[0m \u001b[1;32mand\u001b[0m \u001b[0mself\u001b[0m\u001b[1;33m.\u001b[0m\u001b[0mcheck\u001b[0m\u001b[1;33m:\u001b[0m\u001b[1;33m\u001b[0m\u001b[1;33m\u001b[0m\u001b[0m\n",
      "\u001b[1;32mc:\\Users\\SOURJYA\\anaconda3\\lib\\site-packages\\googleapiclient\\_helpers.py\u001b[0m in \u001b[0;36mpositional_wrapper\u001b[1;34m(*args, **kwargs)\u001b[0m\n\u001b[0;32m    128\u001b[0m                 \u001b[1;32melif\u001b[0m \u001b[0mpositional_parameters_enforcement\u001b[0m \u001b[1;33m==\u001b[0m \u001b[0mPOSITIONAL_WARNING\u001b[0m\u001b[1;33m:\u001b[0m\u001b[1;33m\u001b[0m\u001b[1;33m\u001b[0m\u001b[0m\n\u001b[0;32m    129\u001b[0m                     \u001b[0mlogger\u001b[0m\u001b[1;33m.\u001b[0m\u001b[0mwarning\u001b[0m\u001b[1;33m(\u001b[0m\u001b[0mmessage\u001b[0m\u001b[1;33m)\u001b[0m\u001b[1;33m\u001b[0m\u001b[1;33m\u001b[0m\u001b[0m\n\u001b[1;32m--> 130\u001b[1;33m             \u001b[1;32mreturn\u001b[0m \u001b[0mwrapped\u001b[0m\u001b[1;33m(\u001b[0m\u001b[1;33m*\u001b[0m\u001b[0margs\u001b[0m\u001b[1;33m,\u001b[0m \u001b[1;33m**\u001b[0m\u001b[0mkwargs\u001b[0m\u001b[1;33m)\u001b[0m\u001b[1;33m\u001b[0m\u001b[1;33m\u001b[0m\u001b[0m\n\u001b[0m\u001b[0;32m    131\u001b[0m \u001b[1;33m\u001b[0m\u001b[0m\n\u001b[0;32m    132\u001b[0m         \u001b[1;32mreturn\u001b[0m \u001b[0mpositional_wrapper\u001b[0m\u001b[1;33m\u001b[0m\u001b[1;33m\u001b[0m\u001b[0m\n",
      "\u001b[1;32mc:\\Users\\SOURJYA\\anaconda3\\lib\\site-packages\\googleapiclient\\http.py\u001b[0m in \u001b[0;36mexecute\u001b[1;34m(self, http, num_retries)\u001b[0m\n\u001b[0;32m    936\u001b[0m             \u001b[0mcallback\u001b[0m\u001b[1;33m(\u001b[0m\u001b[0mresp\u001b[0m\u001b[1;33m)\u001b[0m\u001b[1;33m\u001b[0m\u001b[1;33m\u001b[0m\u001b[0m\n\u001b[0;32m    937\u001b[0m         \u001b[1;32mif\u001b[0m \u001b[0mresp\u001b[0m\u001b[1;33m.\u001b[0m\u001b[0mstatus\u001b[0m \u001b[1;33m>=\u001b[0m \u001b[1;36m300\u001b[0m\u001b[1;33m:\u001b[0m\u001b[1;33m\u001b[0m\u001b[1;33m\u001b[0m\u001b[0m\n\u001b[1;32m--> 938\u001b[1;33m             \u001b[1;32mraise\u001b[0m \u001b[0mHttpError\u001b[0m\u001b[1;33m(\u001b[0m\u001b[0mresp\u001b[0m\u001b[1;33m,\u001b[0m \u001b[0mcontent\u001b[0m\u001b[1;33m,\u001b[0m \u001b[0muri\u001b[0m\u001b[1;33m=\u001b[0m\u001b[0mself\u001b[0m\u001b[1;33m.\u001b[0m\u001b[0muri\u001b[0m\u001b[1;33m)\u001b[0m\u001b[1;33m\u001b[0m\u001b[1;33m\u001b[0m\u001b[0m\n\u001b[0m\u001b[0;32m    939\u001b[0m         \u001b[1;32mreturn\u001b[0m \u001b[0mself\u001b[0m\u001b[1;33m.\u001b[0m\u001b[0mpostproc\u001b[0m\u001b[1;33m(\u001b[0m\u001b[0mresp\u001b[0m\u001b[1;33m,\u001b[0m \u001b[0mcontent\u001b[0m\u001b[1;33m)\u001b[0m\u001b[1;33m\u001b[0m\u001b[1;33m\u001b[0m\u001b[0m\n\u001b[0;32m    940\u001b[0m \u001b[1;33m\u001b[0m\u001b[0m\n",
      "\u001b[1;31mHttpError\u001b[0m: <HttpError 400 when requesting https://sheets.googleapis.com/v4/spreadsheets/1-fO-2Lo7RVZMFfGnfMca8KQ5fH-8gLS0MpsS-9gvs2A/values/%27Sheet1%27%21B6%3ACC1000:append?valueInputOption=USER_ENTERED&insertDataOption=OVERWRITE&alt=json returned \"Invalid values[15][0]: list_value {\n  values {\n    string_value: \"2023-08-02\"\n  }\n  values {\n    string_value: \"17:23\"\n  }\n  values {\n    string_value: \"B073VMC9RZ\"\n  }\n  values {\n    string_value: \"Tamsi 504312\\342\\200\\214\"\n  }\n  values {\n    string_value: \"Quick Heal | Total Security | 1 User | 3 Years | Email Delivery in 2 hours - no CD\"\n  }\n  values {\n    string_value: \"1,899\"\n  }\n  values {\n    string_value: \"In stock\"\n  }\n  values {\n    string_value: \"TechEzy\"\n  }\n}\". Details: \"Invalid values[15][0]: list_value {\n  values {\n    string_value: \"2023-08-02\"\n  }\n  values {\n    string_value: \"17:23\"\n  }\n  values {\n    string_value: \"B073VMC9RZ\"\n  }\n  values {\n    string_value: \"Tamsi 504312\\342\\200\\214\"\n  }\n  values {\n    string_value: \"Quick Heal | Total Security | 1 User | 3 Years | Email Delivery in 2 hours - no CD\"\n  }\n  values {\n    string_value: \"1,899\"\n  }\n  values {\n    string_value: \"In stock\"\n  }\n  values {\n    string_value: \"TechEzy\"\n  }\n}\n\">"
     ]
    }
   ],
   "metadata": {}
  },
  {
   "cell_type": "code",
   "execution_count": 55,
   "source": [
    "spreadsht[0].append_table(values=L2_data,start='B6',dimension=\"ROWS\",overwrite=True,end=None)"
   ],
   "outputs": [
    {
     "output_type": "error",
     "ename": "HttpError",
     "evalue": "<HttpError 400 when requesting https://sheets.googleapis.com/v4/spreadsheets/1-fO-2Lo7RVZMFfGnfMca8KQ5fH-8gLS0MpsS-9gvs2A/values/%27Sheet1%27%21B6%3ACC1000:append?valueInputOption=USER_ENTERED&insertDataOption=OVERWRITE&alt=json returned \"Invalid values[15][0]: list_value {\n  values {\n    string_value: \"2023-08-02\"\n  }\n  values {\n    string_value: \"17:23\"\n  }\n  values {\n    string_value: \"B073VMC9RZ\"\n  }\n  values {\n    string_value: \"Tamsi 504312\\342\\200\\214\"\n  }\n  values {\n    string_value: \"Quick Heal | Total Security | 1 User | 3 Years | Email Delivery in 2 hours - no CD\"\n  }\n  values {\n    string_value: \"1,899\"\n  }\n  values {\n    string_value: \"In stock\"\n  }\n  values {\n    string_value: \"TechEzy\"\n  }\n}\". Details: \"Invalid values[15][0]: list_value {\n  values {\n    string_value: \"2023-08-02\"\n  }\n  values {\n    string_value: \"17:23\"\n  }\n  values {\n    string_value: \"B073VMC9RZ\"\n  }\n  values {\n    string_value: \"Tamsi 504312\\342\\200\\214\"\n  }\n  values {\n    string_value: \"Quick Heal | Total Security | 1 User | 3 Years | Email Delivery in 2 hours - no CD\"\n  }\n  values {\n    string_value: \"1,899\"\n  }\n  values {\n    string_value: \"In stock\"\n  }\n  values {\n    string_value: \"TechEzy\"\n  }\n}\n\">",
     "traceback": [
      "\u001b[1;31m---------------------------------------------------------------------------\u001b[0m",
      "\u001b[1;31mHttpError\u001b[0m                                 Traceback (most recent call last)",
      "\u001b[1;32m<ipython-input-55-9f22ad6d768d>\u001b[0m in \u001b[0;36m<module>\u001b[1;34m\u001b[0m\n\u001b[1;32m----> 1\u001b[1;33m \u001b[0mspreadsht\u001b[0m\u001b[1;33m[\u001b[0m\u001b[1;36m0\u001b[0m\u001b[1;33m]\u001b[0m\u001b[1;33m.\u001b[0m\u001b[0mappend_table\u001b[0m\u001b[1;33m(\u001b[0m\u001b[0mvalues\u001b[0m\u001b[1;33m=\u001b[0m\u001b[0mL2_data\u001b[0m\u001b[1;33m,\u001b[0m\u001b[0mstart\u001b[0m\u001b[1;33m=\u001b[0m\u001b[1;34m'B6'\u001b[0m\u001b[1;33m,\u001b[0m\u001b[0mdimension\u001b[0m\u001b[1;33m=\u001b[0m\u001b[1;34m\"ROWS\"\u001b[0m\u001b[1;33m,\u001b[0m\u001b[0moverwrite\u001b[0m\u001b[1;33m=\u001b[0m\u001b[1;32mTrue\u001b[0m\u001b[1;33m,\u001b[0m\u001b[0mend\u001b[0m\u001b[1;33m=\u001b[0m\u001b[1;32mNone\u001b[0m\u001b[1;33m)\u001b[0m\u001b[1;33m\u001b[0m\u001b[1;33m\u001b[0m\u001b[0m\n\u001b[0m",
      "\u001b[1;32mc:\\Users\\SOURJYA\\anaconda3\\lib\\site-packages\\pygsheets\\utils.py\u001b[0m in \u001b[0;36mwrapper\u001b[1;34m(*args, **kwargs)\u001b[0m\n\u001b[0;32m    212\u001b[0m         \u001b[0mobj\u001b[0m \u001b[1;33m=\u001b[0m \u001b[0margs\u001b[0m\u001b[1;33m[\u001b[0m\u001b[1;36m0\u001b[0m\u001b[1;33m]\u001b[0m\u001b[1;33m\u001b[0m\u001b[1;33m\u001b[0m\u001b[0m\n\u001b[0;32m    213\u001b[0m         \u001b[1;32mif\u001b[0m \u001b[0mobj\u001b[0m\u001b[1;33m.\u001b[0m\u001b[0mlinked\u001b[0m\u001b[1;33m:\u001b[0m\u001b[1;33m\u001b[0m\u001b[1;33m\u001b[0m\u001b[0m\n\u001b[1;32m--> 214\u001b[1;33m             \u001b[1;32mreturn\u001b[0m \u001b[0mfunc\u001b[0m\u001b[1;33m(\u001b[0m\u001b[1;33m*\u001b[0m\u001b[0margs\u001b[0m\u001b[1;33m,\u001b[0m \u001b[1;33m**\u001b[0m\u001b[0mkwargs\u001b[0m\u001b[1;33m)\u001b[0m\u001b[1;33m\u001b[0m\u001b[1;33m\u001b[0m\u001b[0m\n\u001b[0m\u001b[0;32m    215\u001b[0m         \u001b[1;32melse\u001b[0m\u001b[1;33m:\u001b[0m\u001b[1;33m\u001b[0m\u001b[1;33m\u001b[0m\u001b[0m\n\u001b[0;32m    216\u001b[0m             \u001b[0mobj\u001b[0m\u001b[1;33m.\u001b[0m\u001b[0m_func_calls\u001b[0m\u001b[1;33m.\u001b[0m\u001b[0mappend\u001b[0m\u001b[1;33m(\u001b[0m\u001b[1;33m(\u001b[0m\u001b[0mfunc\u001b[0m\u001b[1;33m,\u001b[0m \u001b[1;33m(\u001b[0m\u001b[0margs\u001b[0m\u001b[1;33m,\u001b[0m \u001b[0mkwargs\u001b[0m\u001b[1;33m)\u001b[0m\u001b[1;33m)\u001b[0m\u001b[1;33m)\u001b[0m\u001b[1;33m\u001b[0m\u001b[1;33m\u001b[0m\u001b[0m\n",
      "\u001b[1;32mc:\\Users\\SOURJYA\\anaconda3\\lib\\site-packages\\pygsheets\\worksheet.py\u001b[0m in \u001b[0;36mappend_table\u001b[1;34m(self, values, start, end, dimension, overwrite, **kwargs)\u001b[0m\n\u001b[0;32m   1141\u001b[0m             \u001b[0mend\u001b[0m \u001b[1;33m=\u001b[0m \u001b[1;33m(\u001b[0m\u001b[0mself\u001b[0m\u001b[1;33m.\u001b[0m\u001b[0mrows\u001b[0m\u001b[1;33m,\u001b[0m \u001b[0mself\u001b[0m\u001b[1;33m.\u001b[0m\u001b[0mcols\u001b[0m\u001b[1;33m)\u001b[0m\u001b[1;33m\u001b[0m\u001b[1;33m\u001b[0m\u001b[0m\n\u001b[0;32m   1142\u001b[0m         response_json = self.client.sheet.values_append(self.spreadsheet.id, values, dimension, range=self._get_range(start, end),\n\u001b[1;32m-> 1143\u001b[1;33m                                         insertDataOption='OVERWRITE' if overwrite else 'INSERT_ROWS', **kwargs)\n\u001b[0m\u001b[0;32m   1144\u001b[0m         \u001b[0mself\u001b[0m\u001b[1;33m.\u001b[0m\u001b[0mrefresh\u001b[0m\u001b[1;33m(\u001b[0m\u001b[1;32mFalse\u001b[0m\u001b[1;33m)\u001b[0m\u001b[1;33m\u001b[0m\u001b[1;33m\u001b[0m\u001b[0m\n\u001b[0;32m   1145\u001b[0m \u001b[1;33m\u001b[0m\u001b[0m\n",
      "\u001b[1;32mc:\\Users\\SOURJYA\\anaconda3\\lib\\site-packages\\pygsheets\\sheet.py\u001b[0m in \u001b[0;36mvalues_append\u001b[1;34m(self, spreadsheet_id, values, major_dimension, range, **kwargs)\u001b[0m\n\u001b[0;32m    266\u001b[0m                                                               \u001b[0mvalueInputOption\u001b[0m\u001b[1;33m=\u001b[0m\u001b[0mkwargs\u001b[0m\u001b[1;33m.\u001b[0m\u001b[0mget\u001b[0m\u001b[1;33m(\u001b[0m\u001b[1;34m'valueInputOption'\u001b[0m\u001b[1;33m,\u001b[0m \u001b[1;34m'USER_ENTERED'\u001b[0m\u001b[1;33m)\u001b[0m\u001b[1;33m,\u001b[0m\u001b[1;33m\u001b[0m\u001b[1;33m\u001b[0m\u001b[0m\n\u001b[0;32m    267\u001b[0m                                                               **kwargs)\n\u001b[1;32m--> 268\u001b[1;33m         \u001b[1;32mreturn\u001b[0m \u001b[0mself\u001b[0m\u001b[1;33m.\u001b[0m\u001b[0m_execute_requests\u001b[0m\u001b[1;33m(\u001b[0m\u001b[0mrequest\u001b[0m\u001b[1;33m)\u001b[0m\u001b[1;33m\u001b[0m\u001b[1;33m\u001b[0m\u001b[0m\n\u001b[0m\u001b[0;32m    269\u001b[0m \u001b[1;33m\u001b[0m\u001b[0m\n\u001b[0;32m    270\u001b[0m     \u001b[1;32mdef\u001b[0m \u001b[0mvalues_batch_clear\u001b[0m\u001b[1;33m(\u001b[0m\u001b[0mself\u001b[0m\u001b[1;33m,\u001b[0m \u001b[0mspreadsheet_id\u001b[0m\u001b[1;33m,\u001b[0m \u001b[0mranges\u001b[0m\u001b[1;33m)\u001b[0m\u001b[1;33m:\u001b[0m\u001b[1;33m\u001b[0m\u001b[1;33m\u001b[0m\u001b[0m\n",
      "\u001b[1;32mc:\\Users\\SOURJYA\\anaconda3\\lib\\site-packages\\pygsheets\\sheet.py\u001b[0m in \u001b[0;36m_execute_requests\u001b[1;34m(self, request)\u001b[0m\n\u001b[0;32m    494\u001b[0m         \"\"\"\n\u001b[0;32m    495\u001b[0m         \u001b[1;32mtry\u001b[0m\u001b[1;33m:\u001b[0m\u001b[1;33m\u001b[0m\u001b[1;33m\u001b[0m\u001b[0m\n\u001b[1;32m--> 496\u001b[1;33m             \u001b[0mresponse\u001b[0m \u001b[1;33m=\u001b[0m \u001b[0mrequest\u001b[0m\u001b[1;33m.\u001b[0m\u001b[0mexecute\u001b[0m\u001b[1;33m(\u001b[0m\u001b[0mnum_retries\u001b[0m\u001b[1;33m=\u001b[0m\u001b[0mself\u001b[0m\u001b[1;33m.\u001b[0m\u001b[0mretries\u001b[0m\u001b[1;33m)\u001b[0m\u001b[1;33m\u001b[0m\u001b[1;33m\u001b[0m\u001b[0m\n\u001b[0m\u001b[0;32m    497\u001b[0m         \u001b[1;32mexcept\u001b[0m \u001b[0mHttpError\u001b[0m \u001b[1;32mas\u001b[0m \u001b[0merror\u001b[0m\u001b[1;33m:\u001b[0m\u001b[1;33m\u001b[0m\u001b[1;33m\u001b[0m\u001b[0m\n\u001b[0;32m    498\u001b[0m             \u001b[1;32mif\u001b[0m \u001b[0merror\u001b[0m\u001b[1;33m.\u001b[0m\u001b[0mresp\u001b[0m\u001b[1;33m[\u001b[0m\u001b[1;34m'status'\u001b[0m\u001b[1;33m]\u001b[0m \u001b[1;33m==\u001b[0m \u001b[1;34m'429'\u001b[0m \u001b[1;32mand\u001b[0m \u001b[0mself\u001b[0m\u001b[1;33m.\u001b[0m\u001b[0mcheck\u001b[0m\u001b[1;33m:\u001b[0m\u001b[1;33m\u001b[0m\u001b[1;33m\u001b[0m\u001b[0m\n",
      "\u001b[1;32mc:\\Users\\SOURJYA\\anaconda3\\lib\\site-packages\\googleapiclient\\_helpers.py\u001b[0m in \u001b[0;36mpositional_wrapper\u001b[1;34m(*args, **kwargs)\u001b[0m\n\u001b[0;32m    128\u001b[0m                 \u001b[1;32melif\u001b[0m \u001b[0mpositional_parameters_enforcement\u001b[0m \u001b[1;33m==\u001b[0m \u001b[0mPOSITIONAL_WARNING\u001b[0m\u001b[1;33m:\u001b[0m\u001b[1;33m\u001b[0m\u001b[1;33m\u001b[0m\u001b[0m\n\u001b[0;32m    129\u001b[0m                     \u001b[0mlogger\u001b[0m\u001b[1;33m.\u001b[0m\u001b[0mwarning\u001b[0m\u001b[1;33m(\u001b[0m\u001b[0mmessage\u001b[0m\u001b[1;33m)\u001b[0m\u001b[1;33m\u001b[0m\u001b[1;33m\u001b[0m\u001b[0m\n\u001b[1;32m--> 130\u001b[1;33m             \u001b[1;32mreturn\u001b[0m \u001b[0mwrapped\u001b[0m\u001b[1;33m(\u001b[0m\u001b[1;33m*\u001b[0m\u001b[0margs\u001b[0m\u001b[1;33m,\u001b[0m \u001b[1;33m**\u001b[0m\u001b[0mkwargs\u001b[0m\u001b[1;33m)\u001b[0m\u001b[1;33m\u001b[0m\u001b[1;33m\u001b[0m\u001b[0m\n\u001b[0m\u001b[0;32m    131\u001b[0m \u001b[1;33m\u001b[0m\u001b[0m\n\u001b[0;32m    132\u001b[0m         \u001b[1;32mreturn\u001b[0m \u001b[0mpositional_wrapper\u001b[0m\u001b[1;33m\u001b[0m\u001b[1;33m\u001b[0m\u001b[0m\n",
      "\u001b[1;32mc:\\Users\\SOURJYA\\anaconda3\\lib\\site-packages\\googleapiclient\\http.py\u001b[0m in \u001b[0;36mexecute\u001b[1;34m(self, http, num_retries)\u001b[0m\n\u001b[0;32m    936\u001b[0m             \u001b[0mcallback\u001b[0m\u001b[1;33m(\u001b[0m\u001b[0mresp\u001b[0m\u001b[1;33m)\u001b[0m\u001b[1;33m\u001b[0m\u001b[1;33m\u001b[0m\u001b[0m\n\u001b[0;32m    937\u001b[0m         \u001b[1;32mif\u001b[0m \u001b[0mresp\u001b[0m\u001b[1;33m.\u001b[0m\u001b[0mstatus\u001b[0m \u001b[1;33m>=\u001b[0m \u001b[1;36m300\u001b[0m\u001b[1;33m:\u001b[0m\u001b[1;33m\u001b[0m\u001b[1;33m\u001b[0m\u001b[0m\n\u001b[1;32m--> 938\u001b[1;33m             \u001b[1;32mraise\u001b[0m \u001b[0mHttpError\u001b[0m\u001b[1;33m(\u001b[0m\u001b[0mresp\u001b[0m\u001b[1;33m,\u001b[0m \u001b[0mcontent\u001b[0m\u001b[1;33m,\u001b[0m \u001b[0muri\u001b[0m\u001b[1;33m=\u001b[0m\u001b[0mself\u001b[0m\u001b[1;33m.\u001b[0m\u001b[0muri\u001b[0m\u001b[1;33m)\u001b[0m\u001b[1;33m\u001b[0m\u001b[1;33m\u001b[0m\u001b[0m\n\u001b[0m\u001b[0;32m    939\u001b[0m         \u001b[1;32mreturn\u001b[0m \u001b[0mself\u001b[0m\u001b[1;33m.\u001b[0m\u001b[0mpostproc\u001b[0m\u001b[1;33m(\u001b[0m\u001b[0mresp\u001b[0m\u001b[1;33m,\u001b[0m \u001b[0mcontent\u001b[0m\u001b[1;33m)\u001b[0m\u001b[1;33m\u001b[0m\u001b[1;33m\u001b[0m\u001b[0m\n\u001b[0;32m    940\u001b[0m \u001b[1;33m\u001b[0m\u001b[0m\n",
      "\u001b[1;31mHttpError\u001b[0m: <HttpError 400 when requesting https://sheets.googleapis.com/v4/spreadsheets/1-fO-2Lo7RVZMFfGnfMca8KQ5fH-8gLS0MpsS-9gvs2A/values/%27Sheet1%27%21B6%3ACC1000:append?valueInputOption=USER_ENTERED&insertDataOption=OVERWRITE&alt=json returned \"Invalid values[15][0]: list_value {\n  values {\n    string_value: \"2023-08-02\"\n  }\n  values {\n    string_value: \"17:23\"\n  }\n  values {\n    string_value: \"B073VMC9RZ\"\n  }\n  values {\n    string_value: \"Tamsi 504312\\342\\200\\214\"\n  }\n  values {\n    string_value: \"Quick Heal | Total Security | 1 User | 3 Years | Email Delivery in 2 hours - no CD\"\n  }\n  values {\n    string_value: \"1,899\"\n  }\n  values {\n    string_value: \"In stock\"\n  }\n  values {\n    string_value: \"TechEzy\"\n  }\n}\". Details: \"Invalid values[15][0]: list_value {\n  values {\n    string_value: \"2023-08-02\"\n  }\n  values {\n    string_value: \"17:23\"\n  }\n  values {\n    string_value: \"B073VMC9RZ\"\n  }\n  values {\n    string_value: \"Tamsi 504312\\342\\200\\214\"\n  }\n  values {\n    string_value: \"Quick Heal | Total Security | 1 User | 3 Years | Email Delivery in 2 hours - no CD\"\n  }\n  values {\n    string_value: \"1,899\"\n  }\n  values {\n    string_value: \"In stock\"\n  }\n  values {\n    string_value: \"TechEzy\"\n  }\n}\n\">"
     ]
    }
   ],
   "metadata": {}
  },
  {
   "cell_type": "code",
   "execution_count": 56,
   "source": [
    "spreadsht[0].append_table(values=L2_data[1],start='B6',dimension=\"ROWS\",overwrite=True,end=None)"
   ],
   "outputs": [
    {
     "output_type": "execute_result",
     "data": {
      "text/plain": [
       "{'tableRange': <GridRange 'Sheet1'!B5:I15>,\n",
       " 'updates': {'updatedRange': <GridRange 'Sheet1'!B16:I25>,\n",
       "  'updatedCells': 80,\n",
       "  'updatedColumns': 8,\n",
       "  'updatedRows': 10}}"
      ]
     },
     "metadata": {},
     "execution_count": 56
    }
   ],
   "metadata": {}
  },
  {
   "cell_type": "code",
   "execution_count": 57,
   "source": [
    "spreadsht[0].append_table(values=L2_data[0],start='B6',dimension=\"ROWS\",overwrite=True,end=None)"
   ],
   "outputs": [
    {
     "output_type": "execute_result",
     "data": {
      "text/plain": [
       "{'tableRange': <GridRange 'Sheet1'!B5:I25>,\n",
       " 'updates': {'updatedRange': <GridRange 'Sheet1'!B26:I35>,\n",
       "  'updatedCells': 80,\n",
       "  'updatedColumns': 8,\n",
       "  'updatedRows': 10}}"
      ]
     },
     "metadata": {},
     "execution_count": 57
    }
   ],
   "metadata": {}
  },
  {
   "cell_type": "code",
   "execution_count": 58,
   "source": [
    "spreadsht[0].append_table(values=L2_data[3],start='B6',dimension=\"ROWS\",overwrite=True,end=None)"
   ],
   "outputs": [
    {
     "output_type": "error",
     "ename": "IndexError",
     "evalue": "list index out of range",
     "traceback": [
      "\u001b[1;31m---------------------------------------------------------------------------\u001b[0m",
      "\u001b[1;31mIndexError\u001b[0m                                Traceback (most recent call last)",
      "\u001b[1;32m<ipython-input-58-8a632aaf9feb>\u001b[0m in \u001b[0;36m<module>\u001b[1;34m\u001b[0m\n\u001b[1;32m----> 1\u001b[1;33m \u001b[0mspreadsht\u001b[0m\u001b[1;33m[\u001b[0m\u001b[1;36m0\u001b[0m\u001b[1;33m]\u001b[0m\u001b[1;33m.\u001b[0m\u001b[0mappend_table\u001b[0m\u001b[1;33m(\u001b[0m\u001b[0mvalues\u001b[0m\u001b[1;33m=\u001b[0m\u001b[0mL2_data\u001b[0m\u001b[1;33m[\u001b[0m\u001b[1;36m3\u001b[0m\u001b[1;33m]\u001b[0m\u001b[1;33m,\u001b[0m\u001b[0mstart\u001b[0m\u001b[1;33m=\u001b[0m\u001b[1;34m'B6'\u001b[0m\u001b[1;33m,\u001b[0m\u001b[0mdimension\u001b[0m\u001b[1;33m=\u001b[0m\u001b[1;34m\"ROWS\"\u001b[0m\u001b[1;33m,\u001b[0m\u001b[0moverwrite\u001b[0m\u001b[1;33m=\u001b[0m\u001b[1;32mTrue\u001b[0m\u001b[1;33m,\u001b[0m\u001b[0mend\u001b[0m\u001b[1;33m=\u001b[0m\u001b[1;32mNone\u001b[0m\u001b[1;33m)\u001b[0m\u001b[1;33m\u001b[0m\u001b[1;33m\u001b[0m\u001b[0m\n\u001b[0m",
      "\u001b[1;31mIndexError\u001b[0m: list index out of range"
     ]
    }
   ],
   "metadata": {}
  },
  {
   "cell_type": "code",
   "execution_count": 63,
   "source": [
    "L2_data=[]\n",
    "driver = webdriver.Chrome(options=options1)\n",
    "driver.maximize_window()\n",
    "wait = WebDriverWait(driver, 5)\n",
    "url = \"https://www.amazon.in/dp/B0B25BRTJX\"\n",
    "driver.get(url)\n",
    "for pix in pincs:\n",
    "    PINCODE=pix\n",
    "    wait.until(EC.element_to_be_clickable((By.ID, 'nav-global-location-popover-link'))).click()\n",
    "    wait.until(EC.element_to_be_clickable((By.CSS_SELECTOR, \"#GLUXZipUpdateInput\"))).clear()\n",
    "    wait.until(EC.element_to_be_clickable((By.CSS_SELECTOR, \"#GLUXZipUpdateInput\"))).send_keys(PINCODE)\n",
    "    wait.until(EC.element_to_be_clickable((By.CSS_SELECTOR, \"#GLUXZipUpdate>span\"))).click()\n",
    "    time.sleep(1)\n",
    "    L1_data=[]\n",
    "    for x in asin2:\n",
    "        datz_u=[datetime.date.today().strftime(\"%Y-%m-%d\"),datetime.datetime.now().strftime(\"%H:%M\"),x]\n",
    "        driver.get('https://amazon.in/dp/'+x)\n",
    "        wait.until(EC.element_to_be_clickable((By.CSS_SELECTOR, \"div > span.a-price.aok-align-center > span:nth-child(2) > span.a-price-whole\")))\n",
    "        try:\n",
    "            Price=driver.find_element(By.CSS_SELECTOR,\"#contextualIngressPtLabel_deliveryShortLine > span:nth-child(2)\").text\n",
    "            datz_u+=[Price]\n",
    "        except:\n",
    "            datz_u+=\"Title\"\n",
    "        try:\n",
    "            Price=driver.find_element(By.CSS_SELECTOR,\"#productTitle\").text\n",
    "            datz_u+=[Price]\n",
    "        except:\n",
    "            datz_u+=\"Title\"\n",
    "        try:\n",
    "            Price=driver.find_element(By.CSS_SELECTOR,\"div > span.a-price.aok-align-center > span:nth-child(2) > span.a-price-whole\").text\n",
    "            datz_u+=[Price]\n",
    "        except:\n",
    "            datz_u+=\"N\\A\"\n",
    "        try:\n",
    "            Price=driver.find_element(By.CSS_SELECTOR,\"#availability > span\").text\n",
    "            datz_u+=[Price]\n",
    "        except:\n",
    "            datz_u+=\"OUT\"\n",
    "            #Vendor name \n",
    "        try:\n",
    "            Price=driver.find_element(By.CSS_SELECTOR,\"#merchant-info > a:nth-child(2) > span\").text\n",
    "            datz_u+=[Price]\n",
    "        except:\n",
    "            datz_u+=\"N\\A\"\n",
    "        L1_data.append(datz_u)\n",
    "    L2_data+=L1_data\n",
    "print(L2_data)"
   ],
   "outputs": [
    {
     "output_type": "stream",
     "name": "stdout",
     "text": [
      "[['2023-08-02', '18:29', 'B073VMC9RZ', 'Tamsi 504312\\u200c', 'Quick Heal | Total Security | 1 User | 3 Years | Email Delivery in 2 hours - no CD', '1,899', 'In stock', 'TechEzy'], ['2023-08-02', '18:29', 'B073VL49H8', 'Tamsi 504312\\u200c', 'Quick Heal | Total Security | 1 User | 1 Year | Email Delivery in 2 hours - no CD', '999', 'In stock', 'TechEzy'], ['2023-08-02', '18:29', 'B073VMC9RY', 'Tamsi 504312\\u200c', 'Quick Heal | Antivirus Pro | 1 user | 1 Year | Email Delivery in 2 hours - no CD', '429', 'In stock', 'TechEzy'], ['2023-08-02', '18:29', 'B073VKTK96', 'Tamsi 504312\\u200c', 'Quick Heal | Total Security | 2 Users | 3 Years | Email Delivery in 2 hours - no CD', '2,699', 'In stock', 'TechEzy'], ['2023-08-02', '18:30', 'B073VKKNN7', 'Tamsi 504312\\u200c', 'Quick Heal | Total Security Renewal Upgrade Gold pack | 1 User | 3 years | Email Delivery in 2 hours - no CD| Existing Quick Heal Single User Subscription Needed', '1,799', 'In stock', 'TechEzy'], ['2023-08-02', '18:30', 'B073VMC9S1', 'Tamsi 504312\\u200c', 'Quick Heal Total Security Latest Version - 2 PCs, 1 Year (Email Delivery in 2 hours- No CD)', '1,399', 'In stock', 'TechEzy'], ['2023-08-02', '18:30', 'B073VJYFNJ', 'Tamsi 504312\\u200c', 'Quick Heal Total Security Renewal Upgrade Silver Pack - 1 User, 1 Year (Email Delivery In 2 hours- No CD) Existing Quick Heal Single User Subscription Needed', '929', 'In stock', 'TechEzy'], ['2023-08-02', '18:30', 'B073VJYH6X', 'Tamsi 504312\\u200c', 'Quick Heal Antivirus Pro Latest Version - 2 PCs, 1 Year (Email Delivery in 2 hours- No CD)', '649', 'In stock', 'TechEzy'], ['2023-08-02', '18:30', 'B073VKKNN6', 'Tamsi 504312\\u200c', 'Quick Heal Antivirus Pro Latest Version - 2 PCs, 3 Years (Email Delivery in 2 hours- No CD)', '1,259', 'In stock', 'TechEzy'], ['2023-08-02', '18:30', 'B073VL49H9', 'Tamsi 504312\\u200c', 'Quick Heal Antivirus Pro - 1 PC, 3 Years (Email Delivery in 2 hours- No CD)', '1,099', 'In stock', 'TechEzy'], ['2023-08-02', '18:30', 'B073VMC9RZ', 'Jasdan 360050\\u200c', 'Quick Heal | Total Security | 1 User | 3 Years | Email Delivery in 2 hours - no CD', '1,899', 'In stock', 'TechEzy'], ['2023-08-02', '18:31', 'B073VL49H8', 'Jasdan 360050\\u200c', 'Quick Heal | Total Security | 1 User | 1 Year | Email Delivery in 2 hours - no CD', '999', 'In stock', 'TechEzy'], ['2023-08-02', '18:31', 'B073VMC9RY', 'Jasdan 360050\\u200c', 'Quick Heal | Antivirus Pro | 1 user | 1 Year | Email Delivery in 2 hours - no CD', '429', 'In stock', 'TechEzy'], ['2023-08-02', '18:31', 'B073VKTK96', 'Jasdan 360050\\u200c', 'Quick Heal | Total Security | 2 Users | 3 Years | Email Delivery in 2 hours - no CD', '2,699', 'In stock', 'TechEzy'], ['2023-08-02', '18:31', 'B073VKKNN7', 'Jasdan 360050\\u200c', 'Quick Heal | Total Security Renewal Upgrade Gold pack | 1 User | 3 years | Email Delivery in 2 hours - no CD| Existing Quick Heal Single User Subscription Needed', '1,799', 'In stock', 'TechEzy'], ['2023-08-02', '18:31', 'B073VMC9S1', 'Jasdan 360050\\u200c', 'Quick Heal Total Security Latest Version - 2 PCs, 1 Year (Email Delivery in 2 hours- No CD)', '1,399', 'In stock', 'TechEzy'], ['2023-08-02', '18:32', 'B073VJYFNJ', 'Jasdan 360050\\u200c', 'Quick Heal Total Security Renewal Upgrade Silver Pack - 1 User, 1 Year (Email Delivery In 2 hours- No CD) Existing Quick Heal Single User Subscription Needed', '929', 'In stock', 'TechEzy'], ['2023-08-02', '18:32', 'B073VJYH6X', 'Jasdan 360050\\u200c', 'Quick Heal Antivirus Pro Latest Version - 2 PCs, 1 Year (Email Delivery in 2 hours- No CD)', '649', 'In stock', 'TechEzy'], ['2023-08-02', '18:32', 'B073VKKNN6', 'Jasdan 360050\\u200c', 'Quick Heal Antivirus Pro Latest Version - 2 PCs, 3 Years (Email Delivery in 2 hours- No CD)', '1,259', 'In stock', 'TechEzy'], ['2023-08-02', '18:32', 'B073VL49H9', 'Jasdan 360050\\u200c', 'Quick Heal Antivirus Pro - 1 PC, 3 Years (Email Delivery in 2 hours- No CD)', '1,099', 'In stock', 'TechEzy'], ['2023-08-02', '18:32', 'B073VMC9RZ', 'Sopore 193303\\u200c', 'Quick Heal | Total Security | 1 User | 3 Years | Email Delivery in 2 hours - no CD', '1,899', 'In stock', 'TechEzy'], ['2023-08-02', '18:32', 'B073VL49H8', 'Sopore 193303\\u200c', 'Quick Heal | Total Security | 1 User | 1 Year | Email Delivery in 2 hours - no CD', '999', 'In stock', 'TechEzy'], ['2023-08-02', '18:32', 'B073VMC9RY', 'Sopore 193303\\u200c', 'Quick Heal | Antivirus Pro | 1 user | 1 Year | Email Delivery in 2 hours - no CD', '429', 'In stock', 'TechEzy'], ['2023-08-02', '18:32', 'B073VKTK96', 'Sopore 193303\\u200c', 'Quick Heal | Total Security | 2 Users | 3 Years | Email Delivery in 2 hours - no CD', '2,699', 'In stock', 'TechEzy'], ['2023-08-02', '18:32', 'B073VKKNN7', 'Sopore 193303\\u200c', 'Quick Heal | Total Security Renewal Upgrade Gold pack | 1 User | 3 years | Email Delivery in 2 hours - no CD| Existing Quick Heal Single User Subscription Needed', '1,799', 'In stock', 'TechEzy'], ['2023-08-02', '18:33', 'B073VMC9S1', 'Sopore 193303\\u200c', 'Quick Heal Total Security Latest Version - 2 PCs, 1 Year (Email Delivery in 2 hours- No CD)', '1,399', 'In stock', 'TechEzy'], ['2023-08-02', '18:33', 'B073VJYFNJ', 'Sopore 193303\\u200c', 'Quick Heal Total Security Renewal Upgrade Silver Pack - 1 User, 1 Year (Email Delivery In 2 hours- No CD) Existing Quick Heal Single User Subscription Needed', '929', 'In stock', 'TechEzy'], ['2023-08-02', '18:33', 'B073VJYH6X', 'Sopore 193303\\u200c', 'Quick Heal Antivirus Pro Latest Version - 2 PCs, 1 Year (Email Delivery in 2 hours- No CD)', '649', 'In stock', 'TechEzy'], ['2023-08-02', '18:33', 'B073VKKNN6', 'Sopore 193303\\u200c', 'Quick Heal Antivirus Pro Latest Version - 2 PCs, 3 Years (Email Delivery in 2 hours- No CD)', '1,259', 'In stock', 'TechEzy'], ['2023-08-02', '18:33', 'B073VL49H9', 'Sopore 193303\\u200c', 'Quick Heal Antivirus Pro - 1 PC, 3 Years (Email Delivery in 2 hours- No CD)', '1,099', 'In stock', 'TechEzy']]\n"
     ]
    }
   ],
   "metadata": {}
  },
  {
   "cell_type": "code",
   "execution_count": 64,
   "source": [
    "spreadsht[0].append_table(values=L2_data,start='B6',dimension=\"ROWS\",overwrite=True,end=None)"
   ],
   "outputs": [
    {
     "output_type": "execute_result",
     "data": {
      "text/plain": [
       "{'tableRange': <GridRange 'Sheet1'!B5:I45>,\n",
       " 'updates': {'updatedRange': <GridRange 'Sheet1'!B46:I75>,\n",
       "  'updatedCells': 240,\n",
       "  'updatedColumns': 8,\n",
       "  'updatedRows': 30}}"
      ]
     },
     "metadata": {},
     "execution_count": 64
    }
   ],
   "metadata": {}
  },
  {
   "cell_type": "code",
   "execution_count": 1,
   "source": [
    "pincs=['700009','560070','400088','122001']"
   ],
   "outputs": [],
   "metadata": {}
  },
  {
   "cell_type": "code",
   "execution_count": 66,
   "source": [
    "L2_data=[]\n",
    "driver = webdriver.Chrome(options=options1)\n",
    "driver.maximize_window()\n",
    "wait = WebDriverWait(driver, 5)\n",
    "url = \"https://www.amazon.in/dp/B0B25BRTJX\"\n",
    "driver.get(url)\n",
    "for pix in pincs:\n",
    "    PINCODE=pix\n",
    "    wait.until(EC.element_to_be_clickable((By.ID, 'nav-global-location-popover-link'))).click()\n",
    "    wait.until(EC.element_to_be_clickable((By.CSS_SELECTOR, \"#GLUXZipUpdateInput\"))).clear()\n",
    "    wait.until(EC.element_to_be_clickable((By.CSS_SELECTOR, \"#GLUXZipUpdateInput\"))).send_keys(PINCODE)\n",
    "    wait.until(EC.element_to_be_clickable((By.CSS_SELECTOR, \"#GLUXZipUpdate>span\"))).click()\n",
    "    time.sleep(1)\n",
    "    L1_data=[]\n",
    "    for x in asin2:\n",
    "        datz_u=[datetime.date.today().strftime(\"%Y-%m-%d\"),datetime.datetime.now().strftime(\"%H:%M\"),x]\n",
    "        driver.get('https://amazon.in/dp/'+x)\n",
    "        wait.until(EC.element_to_be_clickable((By.CSS_SELECTOR, \"div > span.a-price.aok-align-center > span:nth-child(2) > span.a-price-whole\")))\n",
    "        try:\n",
    "            Price=driver.find_element(By.CSS_SELECTOR,\"#contextualIngressPtLabel_deliveryShortLine > span:nth-child(2)\").text\n",
    "            datz_u+=[Price]\n",
    "        except:\n",
    "            datz_u+=\"Title\"\n",
    "        try:\n",
    "            Price=driver.find_element(By.CSS_SELECTOR,\"#productTitle\").text\n",
    "            datz_u+=[Price]\n",
    "        except:\n",
    "            datz_u+=\"Title\"\n",
    "        try:\n",
    "            Price=driver.find_element(By.CSS_SELECTOR,\"div > span.a-price.aok-align-center > span:nth-child(2) > span.a-price-whole\").text\n",
    "            datz_u+=[Price]\n",
    "        except:\n",
    "            datz_u+=\"N\\A\"\n",
    "        try:\n",
    "            Price=driver.find_element(By.CSS_SELECTOR,\"#availability > span\").text\n",
    "            datz_u+=[Price]\n",
    "        except:\n",
    "            datz_u+=\"OUT\"\n",
    "            #Vendor name \n",
    "        try:\n",
    "            Price=driver.find_element(By.CSS_SELECTOR,\"#merchant-info > a:nth-child(2) > span\").text\n",
    "            datz_u+=[Price]\n",
    "        except:\n",
    "            datz_u+=\"N\\A\"\n",
    "        L1_data.append(datz_u)\n",
    "    L2_data+=L1_data\n",
    "driver.close()\n",
    "spreadsht[0].append_table(values=L2_data,start='B6',dimension=\"ROWS\",overwrite=True,end=None)\n",
    "print(L2_data)"
   ],
   "outputs": [
    {
     "output_type": "error",
     "ename": "WebDriverException",
     "evalue": "Message: disconnected: Unable to receive message from renderer\n  (failed to check if window was closed: disconnected: not connected to DevTools)\n  (Session info: chrome=115.0.5790.110)\n",
     "traceback": [
      "\u001b[1;31m---------------------------------------------------------------------------\u001b[0m",
      "\u001b[1;31mWebDriverException\u001b[0m                        Traceback (most recent call last)",
      "\u001b[1;32m<ipython-input-66-c4c931e89ee2>\u001b[0m in \u001b[0;36m<module>\u001b[1;34m\u001b[0m\n\u001b[0;32m      4\u001b[0m \u001b[0mwait\u001b[0m \u001b[1;33m=\u001b[0m \u001b[0mWebDriverWait\u001b[0m\u001b[1;33m(\u001b[0m\u001b[0mdriver\u001b[0m\u001b[1;33m,\u001b[0m \u001b[1;36m5\u001b[0m\u001b[1;33m)\u001b[0m\u001b[1;33m\u001b[0m\u001b[1;33m\u001b[0m\u001b[0m\n\u001b[0;32m      5\u001b[0m \u001b[0murl\u001b[0m \u001b[1;33m=\u001b[0m \u001b[1;34m\"https://www.amazon.in/dp/B0B25BRTJX\"\u001b[0m\u001b[1;33m\u001b[0m\u001b[1;33m\u001b[0m\u001b[0m\n\u001b[1;32m----> 6\u001b[1;33m \u001b[0mdriver\u001b[0m\u001b[1;33m.\u001b[0m\u001b[0mget\u001b[0m\u001b[1;33m(\u001b[0m\u001b[0murl\u001b[0m\u001b[1;33m)\u001b[0m\u001b[1;33m\u001b[0m\u001b[1;33m\u001b[0m\u001b[0m\n\u001b[0m\u001b[0;32m      7\u001b[0m \u001b[1;32mfor\u001b[0m \u001b[0mpix\u001b[0m \u001b[1;32min\u001b[0m \u001b[0mpincs\u001b[0m\u001b[1;33m:\u001b[0m\u001b[1;33m\u001b[0m\u001b[1;33m\u001b[0m\u001b[0m\n\u001b[0;32m      8\u001b[0m     \u001b[0mPINCODE\u001b[0m\u001b[1;33m=\u001b[0m\u001b[0mpix\u001b[0m\u001b[1;33m\u001b[0m\u001b[1;33m\u001b[0m\u001b[0m\n",
      "\u001b[1;32mc:\\Users\\SOURJYA\\anaconda3\\lib\\site-packages\\selenium\\webdriver\\remote\\webdriver.py\u001b[0m in \u001b[0;36mget\u001b[1;34m(self, url)\u001b[0m\n\u001b[0;32m    331\u001b[0m         \u001b[0mLoads\u001b[0m \u001b[0ma\u001b[0m \u001b[0mweb\u001b[0m \u001b[0mpage\u001b[0m \u001b[1;32min\u001b[0m \u001b[0mthe\u001b[0m \u001b[0mcurrent\u001b[0m \u001b[0mbrowser\u001b[0m \u001b[0msession\u001b[0m\u001b[1;33m.\u001b[0m\u001b[1;33m\u001b[0m\u001b[1;33m\u001b[0m\u001b[0m\n\u001b[0;32m    332\u001b[0m         \"\"\"\n\u001b[1;32m--> 333\u001b[1;33m         \u001b[0mself\u001b[0m\u001b[1;33m.\u001b[0m\u001b[0mexecute\u001b[0m\u001b[1;33m(\u001b[0m\u001b[0mCommand\u001b[0m\u001b[1;33m.\u001b[0m\u001b[0mGET\u001b[0m\u001b[1;33m,\u001b[0m \u001b[1;33m{\u001b[0m\u001b[1;34m'url'\u001b[0m\u001b[1;33m:\u001b[0m \u001b[0murl\u001b[0m\u001b[1;33m}\u001b[0m\u001b[1;33m)\u001b[0m\u001b[1;33m\u001b[0m\u001b[1;33m\u001b[0m\u001b[0m\n\u001b[0m\u001b[0;32m    334\u001b[0m \u001b[1;33m\u001b[0m\u001b[0m\n\u001b[0;32m    335\u001b[0m     \u001b[1;33m@\u001b[0m\u001b[0mproperty\u001b[0m\u001b[1;33m\u001b[0m\u001b[1;33m\u001b[0m\u001b[0m\n",
      "\u001b[1;32mc:\\Users\\SOURJYA\\anaconda3\\lib\\site-packages\\selenium\\webdriver\\remote\\webdriver.py\u001b[0m in \u001b[0;36mexecute\u001b[1;34m(self, driver_command, params)\u001b[0m\n\u001b[0;32m    319\u001b[0m         \u001b[0mresponse\u001b[0m \u001b[1;33m=\u001b[0m \u001b[0mself\u001b[0m\u001b[1;33m.\u001b[0m\u001b[0mcommand_executor\u001b[0m\u001b[1;33m.\u001b[0m\u001b[0mexecute\u001b[0m\u001b[1;33m(\u001b[0m\u001b[0mdriver_command\u001b[0m\u001b[1;33m,\u001b[0m \u001b[0mparams\u001b[0m\u001b[1;33m)\u001b[0m\u001b[1;33m\u001b[0m\u001b[1;33m\u001b[0m\u001b[0m\n\u001b[0;32m    320\u001b[0m         \u001b[1;32mif\u001b[0m \u001b[0mresponse\u001b[0m\u001b[1;33m:\u001b[0m\u001b[1;33m\u001b[0m\u001b[1;33m\u001b[0m\u001b[0m\n\u001b[1;32m--> 321\u001b[1;33m             \u001b[0mself\u001b[0m\u001b[1;33m.\u001b[0m\u001b[0merror_handler\u001b[0m\u001b[1;33m.\u001b[0m\u001b[0mcheck_response\u001b[0m\u001b[1;33m(\u001b[0m\u001b[0mresponse\u001b[0m\u001b[1;33m)\u001b[0m\u001b[1;33m\u001b[0m\u001b[1;33m\u001b[0m\u001b[0m\n\u001b[0m\u001b[0;32m    322\u001b[0m             response['value'] = self._unwrap_value(\n\u001b[0;32m    323\u001b[0m                 response.get('value', None))\n",
      "\u001b[1;32mc:\\Users\\SOURJYA\\anaconda3\\lib\\site-packages\\selenium\\webdriver\\remote\\errorhandler.py\u001b[0m in \u001b[0;36mcheck_response\u001b[1;34m(self, response)\u001b[0m\n\u001b[0;32m    240\u001b[0m                 \u001b[0malert_text\u001b[0m \u001b[1;33m=\u001b[0m \u001b[0mvalue\u001b[0m\u001b[1;33m[\u001b[0m\u001b[1;34m'alert'\u001b[0m\u001b[1;33m]\u001b[0m\u001b[1;33m.\u001b[0m\u001b[0mget\u001b[0m\u001b[1;33m(\u001b[0m\u001b[1;34m'text'\u001b[0m\u001b[1;33m)\u001b[0m\u001b[1;33m\u001b[0m\u001b[1;33m\u001b[0m\u001b[0m\n\u001b[0;32m    241\u001b[0m             \u001b[1;32mraise\u001b[0m \u001b[0mexception_class\u001b[0m\u001b[1;33m(\u001b[0m\u001b[0mmessage\u001b[0m\u001b[1;33m,\u001b[0m \u001b[0mscreen\u001b[0m\u001b[1;33m,\u001b[0m \u001b[0mstacktrace\u001b[0m\u001b[1;33m,\u001b[0m \u001b[0malert_text\u001b[0m\u001b[1;33m)\u001b[0m\u001b[1;33m\u001b[0m\u001b[1;33m\u001b[0m\u001b[0m\n\u001b[1;32m--> 242\u001b[1;33m         \u001b[1;32mraise\u001b[0m \u001b[0mexception_class\u001b[0m\u001b[1;33m(\u001b[0m\u001b[0mmessage\u001b[0m\u001b[1;33m,\u001b[0m \u001b[0mscreen\u001b[0m\u001b[1;33m,\u001b[0m \u001b[0mstacktrace\u001b[0m\u001b[1;33m)\u001b[0m\u001b[1;33m\u001b[0m\u001b[1;33m\u001b[0m\u001b[0m\n\u001b[0m\u001b[0;32m    243\u001b[0m \u001b[1;33m\u001b[0m\u001b[0m\n\u001b[0;32m    244\u001b[0m     \u001b[1;32mdef\u001b[0m \u001b[0m_value_or_default\u001b[0m\u001b[1;33m(\u001b[0m\u001b[0mself\u001b[0m\u001b[1;33m,\u001b[0m \u001b[0mobj\u001b[0m\u001b[1;33m,\u001b[0m \u001b[0mkey\u001b[0m\u001b[1;33m,\u001b[0m \u001b[0mdefault\u001b[0m\u001b[1;33m)\u001b[0m\u001b[1;33m:\u001b[0m\u001b[1;33m\u001b[0m\u001b[1;33m\u001b[0m\u001b[0m\n",
      "\u001b[1;31mWebDriverException\u001b[0m: Message: disconnected: Unable to receive message from renderer\n  (failed to check if window was closed: disconnected: not connected to DevTools)\n  (Session info: chrome=115.0.5790.110)\n"
     ]
    }
   ],
   "metadata": {}
  },
  {
   "cell_type": "code",
   "execution_count": 12,
   "source": [
    "pincs=['700009','560070','400088','122001']"
   ],
   "outputs": [],
   "metadata": {}
  },
  {
   "cell_type": "code",
   "execution_count": 75,
   "source": [
    "import pygsheets"
   ],
   "outputs": [],
   "metadata": {}
  },
  {
   "cell_type": "code",
   "execution_count": 78,
   "source": [
    "spreadsht=client.open(\"LS DIGITAL_QUICK HEAL_BUY BOX ALERT REPORT\")"
   ],
   "outputs": [],
   "metadata": {}
  },
  {
   "cell_type": "code",
   "execution_count": 90,
   "source": [
    "options1=webdriver.ChromeOptions()"
   ],
   "outputs": [],
   "metadata": {}
  },
  {
   "cell_type": "code",
   "execution_count": 108,
   "source": [
    "spreadsht[0].append_table(values=L2_data,start='B6',dimension=\"ROWS\",overwrite=True,end=None)"
   ],
   "outputs": [
    {
     "output_type": "execute_result",
     "data": {
      "text/plain": [
       "{'tableRange': <GridRange 'Sheet1'!B5:I204>,\n",
       " 'updates': {'updatedRange': <GridRange 'Sheet1'!B205:I244>,\n",
       "  'updatedCells': 320,\n",
       "  'updatedColumns': 8,\n",
       "  'updatedRows': 40}}"
      ]
     },
     "metadata": {},
     "execution_count": 108
    }
   ],
   "metadata": {}
  },
  {
   "cell_type": "code",
   "execution_count": 114,
   "source": [
    "options1=webdriver.ChromeOptions()"
   ],
   "outputs": [],
   "metadata": {}
  },
  {
   "cell_type": "code",
   "execution_count": 48,
   "source": [
    "L2_data=[]\n",
    "driver = webdriver.Chrome(options=options1)\n",
    "driver.maximize_window()\n",
    "wait = WebDriverWait(driver, 5)\n",
    "url = \"https://www.amazon.in/dp/B0B25BRTJX\"\n",
    "driver.get(url)\n",
    "for pix in pincs:\n",
    "    PINCODE=pix\n",
    "    wait.until(EC.element_to_be_clickable((By.ID, 'nav-global-location-popover-link'))).click()\n",
    "    try:wait.until(EC.element_to_be_clickable((By.CSS_SELECTOR, \"#GLUXZipUpdateInput\"))).clear()\n",
    "    except:pass\n",
    "    wait.until(EC.element_to_be_clickable((By.CSS_SELECTOR, \"#GLUXZipUpdateInput\"))).send_keys(PINCODE)\n",
    "    wait.until(EC.element_to_be_clickable((By.CSS_SELECTOR, \"#GLUXZipUpdate>span\"))).click()\n",
    "    time.sleep(1)\n",
    "    L1_data=[]\n",
    "    for x in asin2:\n",
    "        datz_u=[datetime.date.today().strftime(\"%Y-%m-%d\"),datetime.datetime.now().strftime(\"%H:%M\"),x]\n",
    "        driver.get('https://amazon.in/dp/'+x)\n",
    "        wait.until(EC.element_to_be_clickable((By.CSS_SELECTOR, \"#contextualIngressPtLabel_deliveryShortLine > span:nth-child(2)\")))\n",
    "        try:\n",
    "            Price=driver.find_element(By.CSS_SELECTOR,\"#contextualIngressPtLabel_deliveryShortLine > span:nth-child(2)\").text\n",
    "            datz_u+=[Price]\n",
    "        except:\n",
    "            datz_u+=\"Title\"\n",
    "        try:\n",
    "            Price=driver.find_element(By.CSS_SELECTOR,\"#productTitle\").text\n",
    "            datz_u+=[Price]\n",
    "        except:\n",
    "            datz_u+=[\"Title\"]\n",
    "        try:\n",
    "            Price=driver.find_element(By.CSS_SELECTOR,\"div > span.a-price.aok-align-center > span:nth-child(2) > span.a-price-whole\").text\n",
    "            datz_u+=[Price]\n",
    "        except:\n",
    "            datz_u+=[\"N\\A\"]\n",
    "        try:\n",
    "            Price=driver.find_element(By.CSS_SELECTOR,\"#availability > span\").text\n",
    "            datz_u+=[Price]\n",
    "        except:\n",
    "            #Price=driver.find_element(By.CSS_SELECTOR,\"#outOfStock > div > div\").text\n",
    "            datz_u+=[\"Out of Stock\"]\n",
    "            #Vendor name \n",
    "        try:\n",
    "            Price=driver.find_element(By.CSS_SELECTOR,\"#merchant-info > a:nth-child(2) > span\").text\n",
    "            datz_u+=[Price]\n",
    "        except:\n",
    "            datz_u+=[\"N\\A\"]\n",
    "        L1_data.append(datz_u)\n",
    "    L2_data+=L1_data\n",
    "print(L2_data)\n",
    "driver.close()"
   ],
   "outputs": [
    {
     "output_type": "stream",
     "name": "stdout",
     "text": [
      "[['2023-08-09', '19:02', 'B073VMC9RZ', 'Kolkata 700009\\u200c', 'COSMIX - No Nonsense Plant Protein | Organic Pea & Brown Rice Isolate | Vegan | 24g Protein/Serving | Easy To Digest | All Essential Amino Acids | No Preservatives | Real Kerala Vanilla Bean - 500g', '1,162', 'In stock', 'Primarc Pecan'], ['2023-08-09', '19:02', 'B073VL49H8', 'Kolkata 700009\\u200c', 'Quick Heal | Total Security | 1 User | 1 Year | Email Delivery in 2 hours - no CD', '899', 'In stock', 'TechEzy'], ['2023-08-09', '19:02', 'B073VMC9RY', 'Kolkata 700009\\u200c', 'Quick Heal | Antivirus Pro | 1 user | 1 Year | Email Delivery in 2 hours - no CD', '386', 'In stock', 'TechEzy'], ['2023-08-09', '19:02', 'B073VKTK96', 'Kolkata 700009\\u200c', 'Quick Heal | Total Security | 2 Users | 3 Years | Email Delivery in 2 hours - no CD', '2,567', 'In stock', 'TechEzy'], ['2023-08-09', '19:02', 'B073VKKNN7', 'Kolkata 700009\\u200c', 'Quick Heal | Total Security Renewal Upgrade Gold pack | 1 User | 3 years | Email Delivery in 2 hours - no CD| Existing Quick Heal Single User Subscription Needed', '1,749', 'In stock', 'TechEzy'], ['2023-08-09', '19:02', 'B073VMC9S1', 'Kolkata 700009\\u200c', 'Quick Heal Total Security Latest Version - 2 PCs, 1 Year (Email Delivery in 2 hours- No CD)', '1,275', 'In stock', 'TechEzy'], ['2023-08-09', '19:02', 'B073VJYFNJ', 'Kolkata 700009\\u200c', 'Quick Heal Total Security Renewal Upgrade Silver Pack - 1 User, 1 Year (Email Delivery In 2 hours- No CD) Existing Quick Heal Single User Subscription Needed', '859', 'In stock', 'TechEzy'], ['2023-08-09', '19:03', 'B073VJYH6X', 'Kolkata 700009\\u200c', 'Quick Heal Antivirus Pro Latest Version - 2 PCs, 1 Year (Email Delivery in 2 hours- No CD)', '588', 'In stock', 'TechEzy'], ['2023-08-09', '19:03', 'B073VKKNN6', 'Kolkata 700009\\u200c', 'Quick Heal Antivirus Pro Latest Version - 2 PCs, 3 Years (Email Delivery in 2 hours- No CD)', '1,164', 'In stock', 'TechEzy'], ['2023-08-09', '19:03', 'B073VL49H9', 'Kolkata 700009\\u200c', 'Quick Heal Antivirus Pro - 1 PC, 3 Years (Email Delivery in 2 hours- No CD)', '999', 'In stock', 'TechEzy'], ['2023-08-09', '19:03', 'B073VMC9RZ', 'Bengaluru 560070\\u200c', 'Quick Heal | Total Security | 1 User | 3 Years | Email Delivery in 2 hours - no CD', '1,785', 'In stock', 'TechEzy'], ['2023-08-09', '19:03', 'B073VL49H8', 'Bengaluru 560070\\u200c', 'Quick Heal | Total Security | 1 User | 1 Year | Email Delivery in 2 hours - no CD', '899', 'In stock', 'TechEzy'], ['2023-08-09', '19:03', 'B073VMC9RY', 'Bengaluru 560070\\u200c', 'Quick Heal | Antivirus Pro | 1 user | 1 Year | Email Delivery in 2 hours - no CD', '386', 'In stock', 'TechEzy'], ['2023-08-09', '19:03', 'B073VKTK96', 'Bengaluru 560070\\u200c', 'Quick Heal | Total Security | 2 Users | 3 Years | Email Delivery in 2 hours - no CD', '2,567', 'In stock', 'TechEzy'], ['2023-08-09', '19:03', 'B073VKKNN7', 'Bengaluru 560070\\u200c', 'Quick Heal | Total Security Renewal Upgrade Gold pack | 1 User | 3 years | Email Delivery in 2 hours - no CD| Existing Quick Heal Single User Subscription Needed', '1,749', 'In stock', 'TechEzy'], ['2023-08-09', '19:03', 'B073VMC9S1', 'Bengaluru 560070\\u200c', 'Quick Heal Total Security Latest Version - 2 PCs, 1 Year (Email Delivery in 2 hours- No CD)', '1,275', 'In stock', 'TechEzy'], ['2023-08-09', '19:03', 'B073VJYFNJ', 'Bengaluru 560070\\u200c', 'Quick Heal Total Security Renewal Upgrade Silver Pack - 1 User, 1 Year (Email Delivery In 2 hours- No CD) Existing Quick Heal Single User Subscription Needed', '859', 'In stock', 'TechEzy'], ['2023-08-09', '19:04', 'B073VJYH6X', 'Bengaluru 560070\\u200c', 'Quick Heal Antivirus Pro Latest Version - 2 PCs, 1 Year (Email Delivery in 2 hours- No CD)', '588', 'In stock', 'TechEzy'], ['2023-08-09', '19:04', 'B073VKKNN6', 'Bengaluru 560070\\u200c', 'Quick Heal Antivirus Pro Latest Version - 2 PCs, 3 Years (Email Delivery in 2 hours- No CD)', '1,164', 'In stock', 'TechEzy'], ['2023-08-09', '19:04', 'B073VL49H9', 'Bengaluru 560070\\u200c', 'Quick Heal Antivirus Pro - 1 PC, 3 Years (Email Delivery in 2 hours- No CD)', '999', 'In stock', 'TechEzy'], ['2023-08-09', '19:04', 'B073VMC9RZ', 'Mumbai 400088\\u200c', 'Quick Heal | Total Security | 1 User | 3 Years | Email Delivery in 2 hours - no CD', '1,785', 'In stock', 'TechEzy'], ['2023-08-09', '19:04', 'B073VL49H8', 'Mumbai 400088\\u200c', 'Quick Heal | Total Security | 1 User | 1 Year | Email Delivery in 2 hours - no CD', '899', 'In stock', 'TechEzy'], ['2023-08-09', '19:04', 'B073VMC9RY', 'Mumbai 400088\\u200c', 'Quick Heal | Antivirus Pro | 1 user | 1 Year | Email Delivery in 2 hours - no CD', '386', 'In stock', 'TechEzy'], ['2023-08-09', '19:04', 'B073VKTK96', 'Mumbai 400088\\u200c', 'Quick Heal | Total Security | 2 Users | 3 Years | Email Delivery in 2 hours - no CD', '2,567', 'In stock', 'TechEzy'], ['2023-08-09', '19:04', 'B073VKKNN7', 'Mumbai 400088\\u200c', 'Quick Heal | Total Security Renewal Upgrade Gold pack | 1 User | 3 years | Email Delivery in 2 hours - no CD| Existing Quick Heal Single User Subscription Needed', '1,749', 'In stock', 'TechEzy'], ['2023-08-09', '19:05', 'B073VMC9S1', 'Mumbai 400088\\u200c', 'Quick Heal Total Security Latest Version - 2 PCs, 1 Year (Email Delivery in 2 hours- No CD)', '1,275', 'In stock', 'TechEzy'], ['2023-08-09', '19:05', 'B073VJYFNJ', 'Mumbai 400088\\u200c', 'Quick Heal Total Security Renewal Upgrade Silver Pack - 1 User, 1 Year (Email Delivery In 2 hours- No CD) Existing Quick Heal Single User Subscription Needed', '859', 'In stock', 'TechEzy'], ['2023-08-09', '19:05', 'B073VJYH6X', 'Mumbai 400088\\u200c', 'Quick Heal Antivirus Pro Latest Version - 2 PCs, 1 Year (Email Delivery in 2 hours- No CD)', '588', 'In stock', 'TechEzy'], ['2023-08-09', '19:05', 'B073VKKNN6', 'Mumbai 400088\\u200c', 'Quick Heal Antivirus Pro Latest Version - 2 PCs, 3 Years (Email Delivery in 2 hours- No CD)', '1,164', 'In stock', 'TechEzy'], ['2023-08-09', '19:05', 'B073VL49H9', 'Mumbai 400088\\u200c', 'Quick Heal Antivirus Pro - 1 PC, 3 Years (Email Delivery in 2 hours- No CD)', '999', 'In stock', 'TechEzy'], ['2023-08-09', '19:05', 'B073VMC9RZ', 'Gurugram 122001\\u200c', 'Quick Heal | Total Security | 1 User | 3 Years | Email Delivery in 2 hours - no CD', '1,785', 'In stock', 'TechEzy'], ['2023-08-09', '19:05', 'B073VL49H8', 'Gurugram 122001\\u200c', 'Quick Heal | Total Security | 1 User | 1 Year | Email Delivery in 2 hours - no CD', '899', 'In stock', 'TechEzy'], ['2023-08-09', '19:05', 'B073VMC9RY', 'Gurugram 122001\\u200c', 'Quick Heal | Antivirus Pro | 1 user | 1 Year | Email Delivery in 2 hours - no CD', '386', 'In stock', 'TechEzy'], ['2023-08-09', '19:05', 'B073VKTK96', 'Gurugram 122001\\u200c', 'Quick Heal | Total Security | 2 Users | 3 Years | Email Delivery in 2 hours - no CD', '2,567', 'In stock', 'TechEzy'], ['2023-08-09', '19:05', 'B073VKKNN7', 'Gurugram 122001\\u200c', 'Quick Heal | Total Security Renewal Upgrade Gold pack | 1 User | 3 years | Email Delivery in 2 hours - no CD| Existing Quick Heal Single User Subscription Needed', '1,749', 'In stock', 'TechEzy'], ['2023-08-09', '19:05', 'B073VMC9S1', 'Gurugram 122001\\u200c', 'Quick Heal Total Security Latest Version - 2 PCs, 1 Year (Email Delivery in 2 hours- No CD)', '1,275', 'In stock', 'TechEzy'], ['2023-08-09', '19:06', 'B073VJYFNJ', 'Gurugram 122001\\u200c', 'Quick Heal Total Security Renewal Upgrade Silver Pack - 1 User, 1 Year (Email Delivery In 2 hours- No CD) Existing Quick Heal Single User Subscription Needed', '859', 'In stock', 'TechEzy'], ['2023-08-09', '19:06', 'B073VJYH6X', 'Gurugram 122001\\u200c', 'Quick Heal Antivirus Pro Latest Version - 2 PCs, 1 Year (Email Delivery in 2 hours- No CD)', '588', 'In stock', 'TechEzy'], ['2023-08-09', '19:06', 'B073VKKNN6', 'Gurugram 122001\\u200c', 'Quick Heal Antivirus Pro Latest Version - 2 PCs, 3 Years (Email Delivery in 2 hours- No CD)', '1,164', 'In stock', 'TechEzy'], ['2023-08-09', '19:06', 'B073VL49H9', 'Gurugram 122001\\u200c', 'Quick Heal Antivirus Pro - 1 PC, 3 Years (Email Delivery in 2 hours- No CD)', '999', 'In stock', 'TechEzy']]\n"
     ]
    }
   ],
   "metadata": {}
  },
  {
   "cell_type": "code",
   "execution_count": 49,
   "source": [
    "spreadsht[0].append_table(values=L2_data,start='B6',dimension=\"ROWS\",overwrite=True,end=None)"
   ],
   "outputs": [
    {
     "output_type": "execute_result",
     "data": {
      "text/plain": [
       "{'tableRange': <GridRange 'Sheet1'!B5:I804>,\n",
       " 'updates': {'updatedRange': <GridRange 'Sheet1'!B805:I844>,\n",
       "  'updatedCells': 320,\n",
       "  'updatedColumns': 8,\n",
       "  'updatedRows': 40}}"
      ]
     },
     "metadata": {},
     "execution_count": 49
    }
   ],
   "metadata": {}
  },
  {
   "cell_type": "code",
   "execution_count": 18,
   "source": [
    "spreadsht[0].append_table(values=L2_data,start='B6',dimension=\"ROWS\",overwrite=True,end=None)"
   ],
   "outputs": [
    {
     "output_type": "execute_result",
     "data": {
      "text/plain": [
       "{'tableRange': <GridRange 'Sheet1'!B5:I484>,\n",
       " 'updates': {'updatedRange': <GridRange 'Sheet1'!B485:I524>,\n",
       "  'updatedCells': 320,\n",
       "  'updatedColumns': 8,\n",
       "  'updatedRows': 40}}"
      ]
     },
     "metadata": {},
     "execution_count": 18
    }
   ],
   "metadata": {}
  },
  {
   "cell_type": "code",
   "execution_count": 42,
   "source": [
    "os.chdir('f:/temp')\n",
    "with open('../mx18/SOURJYA/Desktop/Hmm/New Folder/asin.txt') as user_file:\n",
    "  ufile = user_file.read()\n",
    "urls=ufile.split('\\n')\n",
    "with open('../mx18/SOURJYA/Desktop/Hmm/New Folder/name.txt') as user_file:\n",
    "  ufile = user_file.read()\n",
    "names=ufile.split('\\n')\n",
    "driver = webdriver.Chrome(options=options1)\n",
    "driver.maximize_window()\n",
    "wait = WebDriverWait(driver, 5)\n",
    "url = \"https://www.amazon.in/dp/B0B25BRTJX\"\n",
    "driver.get(url)\n",
    "PINCODE=700009\n",
    "wait.until(EC.element_to_be_clickable((By.ID, 'nav-global-location-popover-link'))).click()\n",
    "try:wait.until(EC.element_to_be_clickable((By.CSS_SELECTOR, \"#GLUXZipUpdateInput\"))).clear()\n",
    "except:pass\n",
    "wait.until(EC.element_to_be_clickable((By.CSS_SELECTOR, \"#GLUXZipUpdateInput\"))).send_keys(PINCODE)\n",
    "wait.until(EC.element_to_be_clickable((By.CSS_SELECTOR, \"#GLUXZipUpdate>span\"))).click()\n",
    "time.sleep(1)\n",
    "for x in urls:\n",
    "    url='https://amazon.in/dp/'+x\n",
    "    driver.get(url)\n",
    "    try:\n",
    "        Price=driver.find_element(By.CSS_SELECTOR,\"#merchant-info > a:nth-child(2) > span\").text\n",
    "        if [Price]!=['Primarc Pecan'] and Price!='':print([Price])\n",
    "    except:\n",
    "        print(\"N\\A\")\n",
    "driver.close()\n",
    "\n",
    ""
   ],
   "outputs": [
    {
     "output_type": "error",
     "ename": "TimeoutException",
     "evalue": "Message: \n",
     "traceback": [
      "\u001b[1;31m---------------------------------------------------------------------------\u001b[0m",
      "\u001b[1;31mTimeoutException\u001b[0m                          Traceback (most recent call last)",
      "\u001b[1;32mundefined\u001b[0m in \u001b[0;36m<module>\u001b[1;34m\u001b[0m\n\u001b[0;32m     15\u001b[0m \u001b[1;32mtry\u001b[0m\u001b[1;33m:\u001b[0m\u001b[0mwait\u001b[0m\u001b[1;33m.\u001b[0m\u001b[0muntil\u001b[0m\u001b[1;33m(\u001b[0m\u001b[0mEC\u001b[0m\u001b[1;33m.\u001b[0m\u001b[0melement_to_be_clickable\u001b[0m\u001b[1;33m(\u001b[0m\u001b[1;33m(\u001b[0m\u001b[0mBy\u001b[0m\u001b[1;33m.\u001b[0m\u001b[0mCSS_SELECTOR\u001b[0m\u001b[1;33m,\u001b[0m \u001b[1;34m\"#GLUXZipUpdateInput\"\u001b[0m\u001b[1;33m)\u001b[0m\u001b[1;33m)\u001b[0m\u001b[1;33m)\u001b[0m\u001b[1;33m.\u001b[0m\u001b[0mclear\u001b[0m\u001b[1;33m(\u001b[0m\u001b[1;33m)\u001b[0m\u001b[1;33m\u001b[0m\u001b[1;33m\u001b[0m\u001b[0m\n\u001b[0;32m     16\u001b[0m \u001b[1;32mexcept\u001b[0m\u001b[1;33m:\u001b[0m\u001b[1;32mpass\u001b[0m\u001b[1;33m\u001b[0m\u001b[1;33m\u001b[0m\u001b[0m\n\u001b[1;32m---> 17\u001b[1;33m \u001b[0mwait\u001b[0m\u001b[1;33m.\u001b[0m\u001b[0muntil\u001b[0m\u001b[1;33m(\u001b[0m\u001b[0mEC\u001b[0m\u001b[1;33m.\u001b[0m\u001b[0melement_to_be_clickable\u001b[0m\u001b[1;33m(\u001b[0m\u001b[1;33m(\u001b[0m\u001b[0mBy\u001b[0m\u001b[1;33m.\u001b[0m\u001b[0mCSS_SELECTOR\u001b[0m\u001b[1;33m,\u001b[0m \u001b[1;34m\"#GLUXZipUpdateInput\"\u001b[0m\u001b[1;33m)\u001b[0m\u001b[1;33m)\u001b[0m\u001b[1;33m)\u001b[0m\u001b[1;33m.\u001b[0m\u001b[0msend_keys\u001b[0m\u001b[1;33m(\u001b[0m\u001b[0mPINCODE\u001b[0m\u001b[1;33m)\u001b[0m\u001b[1;33m\u001b[0m\u001b[1;33m\u001b[0m\u001b[0m\n\u001b[0m\u001b[0;32m     18\u001b[0m \u001b[0mwait\u001b[0m\u001b[1;33m.\u001b[0m\u001b[0muntil\u001b[0m\u001b[1;33m(\u001b[0m\u001b[0mEC\u001b[0m\u001b[1;33m.\u001b[0m\u001b[0melement_to_be_clickable\u001b[0m\u001b[1;33m(\u001b[0m\u001b[1;33m(\u001b[0m\u001b[0mBy\u001b[0m\u001b[1;33m.\u001b[0m\u001b[0mCSS_SELECTOR\u001b[0m\u001b[1;33m,\u001b[0m \u001b[1;34m\"#GLUXZipUpdate>span\"\u001b[0m\u001b[1;33m)\u001b[0m\u001b[1;33m)\u001b[0m\u001b[1;33m)\u001b[0m\u001b[1;33m.\u001b[0m\u001b[0mclick\u001b[0m\u001b[1;33m(\u001b[0m\u001b[1;33m)\u001b[0m\u001b[1;33m\u001b[0m\u001b[1;33m\u001b[0m\u001b[0m\n\u001b[0;32m     19\u001b[0m \u001b[0mtime\u001b[0m\u001b[1;33m.\u001b[0m\u001b[0msleep\u001b[0m\u001b[1;33m(\u001b[0m\u001b[1;36m1\u001b[0m\u001b[1;33m)\u001b[0m\u001b[1;33m\u001b[0m\u001b[1;33m\u001b[0m\u001b[0m\n",
      "\u001b[1;32mc:\\Users\\SOURJYA\\anaconda3\\lib\\site-packages\\selenium\\webdriver\\support\\wait.py\u001b[0m in \u001b[0;36muntil\u001b[1;34m(self, method, message)\u001b[0m\n\u001b[0;32m     78\u001b[0m             \u001b[1;32mif\u001b[0m \u001b[0mtime\u001b[0m\u001b[1;33m.\u001b[0m\u001b[0mtime\u001b[0m\u001b[1;33m(\u001b[0m\u001b[1;33m)\u001b[0m \u001b[1;33m>\u001b[0m \u001b[0mend_time\u001b[0m\u001b[1;33m:\u001b[0m\u001b[1;33m\u001b[0m\u001b[1;33m\u001b[0m\u001b[0m\n\u001b[0;32m     79\u001b[0m                 \u001b[1;32mbreak\u001b[0m\u001b[1;33m\u001b[0m\u001b[1;33m\u001b[0m\u001b[0m\n\u001b[1;32m---> 80\u001b[1;33m         \u001b[1;32mraise\u001b[0m \u001b[0mTimeoutException\u001b[0m\u001b[1;33m(\u001b[0m\u001b[0mmessage\u001b[0m\u001b[1;33m,\u001b[0m \u001b[0mscreen\u001b[0m\u001b[1;33m,\u001b[0m \u001b[0mstacktrace\u001b[0m\u001b[1;33m)\u001b[0m\u001b[1;33m\u001b[0m\u001b[1;33m\u001b[0m\u001b[0m\n\u001b[0m\u001b[0;32m     81\u001b[0m \u001b[1;33m\u001b[0m\u001b[0m\n\u001b[0;32m     82\u001b[0m     \u001b[1;32mdef\u001b[0m \u001b[0muntil_not\u001b[0m\u001b[1;33m(\u001b[0m\u001b[0mself\u001b[0m\u001b[1;33m,\u001b[0m \u001b[0mmethod\u001b[0m\u001b[1;33m,\u001b[0m \u001b[0mmessage\u001b[0m\u001b[1;33m=\u001b[0m\u001b[1;34m''\u001b[0m\u001b[1;33m)\u001b[0m\u001b[1;33m:\u001b[0m\u001b[1;33m\u001b[0m\u001b[1;33m\u001b[0m\u001b[0m\n",
      "\u001b[1;31mTimeoutException\u001b[0m: Message: \n"
     ]
    }
   ],
   "metadata": {}
  },
  {
   "cell_type": "code",
   "execution_count": 9,
   "source": [
    "import time\n",
    "import os\n",
    "os.chdir('f:/temp')\n",
    "from selenium.webdriver.common.by import By\n",
    "from selenium.webdriver.support.ui import WebDriverWait\n",
    "from selenium.webdriver.support import expected_conditions as EC\n",
    "from selenium import webdriver\n",
    "options1=webdriver.ChromeOptions()"
   ],
   "outputs": [],
   "metadata": {}
  },
  {
   "cell_type": "code",
   "execution_count": 20,
   "source": [
    "import datetime"
   ],
   "outputs": [],
   "metadata": {}
  },
  {
   "cell_type": "code",
   "execution_count": 21,
   "source": [
    "import pygsheets"
   ],
   "outputs": [],
   "metadata": {}
  }
 ],
 "nbformat": 4,
 "nbformat_minor": 2,
 "metadata": {
  "language_info": {
   "codemirror_mode": {
    "name": "ipython",
    "version": 3
   },
   "file_extension": ".py",
   "mimetype": "text/x-python",
   "name": "python",
   "nbconvert_exporter": "python",
   "pygments_lexer": "ipython3",
   "version": 3
  },
  "orig_nbformat": 4
 }
}